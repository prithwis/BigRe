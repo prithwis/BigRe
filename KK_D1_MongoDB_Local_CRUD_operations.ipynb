{
  "nbformat": 4,
  "nbformat_minor": 0,
  "metadata": {
    "colab": {
      "name": "KK D1  MongoDB : Local  : CRUD  operations",
      "provenance": [],
      "include_colab_link": true
    },
    "kernelspec": {
      "name": "python3",
      "display_name": "Python 3"
    },
    "language_info": {
      "name": "python"
    }
  },
  "cells": [
    {
      "cell_type": "markdown",
      "metadata": {
        "id": "view-in-github",
        "colab_type": "text"
      },
      "source": [
        "<a href=\"https://colab.research.google.com/github/prithwis/BigRe/blob/master/KK_D1_MongoDB_Local_CRUD_operations.ipynb\" target=\"_parent\"><img src=\"https://colab.research.google.com/assets/colab-badge.svg\" alt=\"Open In Colab\"/></a>"
      ]
    },
    {
      "cell_type": "markdown",
      "metadata": {
        "id": "1SPjiBEzX8xN"
      },
      "source": [
        "![alt text](https://github.com/Praxis-QR/RDWH/raw/main/images/YantraJaalBanner.png)<br>\n",
        "\n",
        "\n",
        "<hr>\n",
        "\n",
        "[Prithwis Mukerjee](http://www.linkedin.com/in/prithwis)<br>"
      ]
    },
    {
      "cell_type": "code",
      "source": [
        "from datetime import datetime\n",
        "import pytz\n",
        "print('Executed on ',datetime.now(pytz.timezone('Asia/Calcutta')))\n",
        "!python --version\n",
        "!lsb_release -a"
      ],
      "metadata": {
        "id": "evTco63oMN4s",
        "outputId": "4dfc53cf-872a-4521-fdb3-34c2dec02f5a",
        "colab": {
          "base_uri": "https://localhost:8080/"
        }
      },
      "execution_count": 1,
      "outputs": [
        {
          "output_type": "stream",
          "name": "stdout",
          "text": [
            "Executed on  2023-11-23 12:09:22.024427+05:30\n",
            "Python 3.10.12\n",
            "No LSB modules are available.\n",
            "Distributor ID:\tUbuntu\n",
            "Description:\tUbuntu 22.04.3 LTS\n",
            "Release:\t22.04\n",
            "Codename:\tjammy\n"
          ]
        }
      ]
    },
    {
      "cell_type": "markdown",
      "metadata": {
        "id": "u7UmFH23YJ9Q"
      },
      "source": [
        "Based on https://github.com/giffy/MongoDB_PyMongo_Tutorial"
      ]
    },
    {
      "cell_type": "markdown",
      "metadata": {
        "id": "u4fPiXfdYevn"
      },
      "source": [
        "#Installs"
      ]
    },
    {
      "cell_type": "code",
      "source": [
        "#check which version of MongoDB / pymongo is available\n",
        "#!apt-cache policy mongodb\n",
        "#!pip show pymongo\n",
        "!pip3 index versions pymongo"
      ],
      "metadata": {
        "id": "g3U7TRI-7J-W",
        "outputId": "331ca203-6dfa-4ed8-b82b-038f5cda0ffe",
        "colab": {
          "base_uri": "https://localhost:8080/"
        }
      },
      "execution_count": 2,
      "outputs": [
        {
          "output_type": "stream",
          "name": "stdout",
          "text": [
            "\u001b[33mWARNING: pip index is currently an experimental command. It may be removed/changed in a future release without prior warning.\u001b[0m\u001b[33m\n",
            "\u001b[0mpymongo (4.6.0)\n",
            "Available versions: 4.6.0, 4.5.0, 4.4.1, 4.4.0, 4.3.3, 4.3.2, 4.2.0, 4.1.1, 4.1.0, 4.0.2, 4.0.1, 4.0, 3.13.0, 3.12.3, 3.12.2, 3.12.1, 3.12.0, 3.11.4, 3.11.3, 3.11.2, 3.11.1, 3.11.0, 3.10.1, 3.10.0, 3.9.0, 3.8.0, 3.7.2, 3.7.1, 3.7.0, 3.6.1, 3.6.0, 3.5.1, 3.5.0, 3.4.0, 3.3.1, 3.3.0, 3.2.2, 3.2.1, 3.2, 3.1.1, 3.1, 3.0.3, 3.0.2, 3.0.1, 3.0, 2.9.5, 2.9.4, 2.9.3, 2.9.2, 2.9.1, 2.9, 2.8.1, 2.8, 2.7.2, 2.7.1, 2.7, 2.6.3, 2.6.2, 2.6.1, 2.6, 2.5.2, 2.5.1, 2.5, 2.4.2, 2.4.1, 2.4, 2.3, 2.2.1, 2.2, 2.1.1, 2.1, 2.0.1, 2.0, 1.11, 1.10.1, 1.10, 1.9, 1.8.1, 1.8, 1.7, 1.6, 1.5.2, 1.5.1, 1.5, 1.4, 1.3, 1.2.1, 1.2, 1.1.2, 1.1.1, 1.1, 1.0, 0.16, 0.15.2, 0.15.1, 0.15, 0.14.2, 0.14.1, 0.14, 0.13, 0.12, 0.11.3, 0.11.2, 0.11.1, 0.11, 0.10.3, 0.10.2, 0.10.1, 0.10, 0.9.7, 0.9.6, 0.9.5, 0.9.4, 0.9.3, 0.9.2, 0.9.1, 0.9, 0.8.1, 0.8, 0.7.2, 0.7.1, 0.7, 0.6\n"
          ]
        }
      ]
    },
    {
      "cell_type": "code",
      "source": [
        "#!curl https://pypi.org/pypi/pymongo/json"
      ],
      "metadata": {
        "id": "LPgVXhvp9rMp"
      },
      "execution_count": null,
      "outputs": []
    },
    {
      "cell_type": "code",
      "metadata": {
        "id": "bv6pDRWUYodX"
      },
      "source": [
        "#!apt install mongodb > /dev/null\n",
        "\n",
        "#Local Server Need Not be started for Remote Operations\n",
        "#!service mongodb start\n",
        "#!mongod --version"
      ],
      "execution_count": 4,
      "outputs": []
    },
    {
      "cell_type": "code",
      "source": [
        "# Updated Install Sequence for MongoDB\n",
        "# https://www.mongodb.com/docs/manual/tutorial/install-mongodb-on-ubuntu/\n",
        "# Note Ubuntu versio 'jammy'\n",
        "!curl -fsSL https://pgp.mongodb.com/server-6.0.asc | \\\n",
        "   sudo gpg -o /usr/share/keyrings/mongodb-server-6.0.gpg \\\n",
        "   --dearmor\n",
        "# -----------------------\n",
        "# Note reference to jammy\n",
        "!echo \"deb [ arch=amd64,arm64 signed-by=/usr/share/keyrings/mongodb-server-6.0.gpg ] https://repo.mongodb.org/apt/ubuntu jammy/mongodb-org/6.0 multiverse\" | sudo tee /etc/apt/sources.list.d/mongodb-org-6.0.list\n",
        "# -----------------------\n",
        "!sudo apt-get update > /dev/null\n",
        "!sudo apt-get install -y mongodb-org > /dev/null              # ignore error and warning messages"
      ],
      "metadata": {
        "id": "H1zMugvHshIQ",
        "outputId": "7b7acf28-aba4-4a7e-91f1-e8d05b870b97",
        "colab": {
          "base_uri": "https://localhost:8080/"
        }
      },
      "execution_count": 5,
      "outputs": [
        {
          "output_type": "stream",
          "name": "stdout",
          "text": [
            "deb [ arch=amd64,arm64 signed-by=/usr/share/keyrings/mongodb-server-6.0.gpg ] https://repo.mongodb.org/apt/ubuntu jammy/mongodb-org/6.0 multiverse\n",
            "debconf: unable to initialize frontend: Dialog\n",
            "debconf: (No usable dialog-like program is installed, so the dialog based frontend cannot be used. at /usr/share/perl5/Debconf/FrontEnd/Dialog.pm line 78, <> line 9.)\n",
            "debconf: falling back to frontend: Readline\n",
            "debconf: unable to initialize frontend: Readline\n",
            "debconf: (This frontend requires a controlling tty.)\n",
            "debconf: falling back to frontend: Teletype\n",
            "dpkg-preconfigure: unable to re-open stdin: \n"
          ]
        }
      ]
    },
    {
      "cell_type": "code",
      "source": [
        "#!sudo service mongodb start --- this should work but does not\n",
        "# -----------------------\n",
        "# https://unix.stackexchange.com/questions/715119/system-v-init-service-cant-recongnise-mongod\n",
        "!sudo mkdir -p /var/log/mongodb /var/lib/mongodb\n",
        "!sudo chown `whoami` /var/lib/mongodb /var/log/mongodb/\n",
        "# -----------------------\n",
        "# Manually start MongoDB in background mode, to free up the terminal\n",
        "!nohup mongod --config /etc/mongod.conf &\n",
        "!mongod --version"
      ],
      "metadata": {
        "id": "Y7P47d9ItwuS",
        "outputId": "b2a3a8ff-8a35-40dc-c006-96a8dfbdbf3b",
        "colab": {
          "base_uri": "https://localhost:8080/"
        }
      },
      "execution_count": 6,
      "outputs": [
        {
          "output_type": "stream",
          "name": "stdout",
          "text": [
            "nohup: appending output to 'nohup.out'\n",
            "db version v6.0.11\n",
            "Build Info: {\n",
            "    \"version\": \"6.0.11\",\n",
            "    \"gitVersion\": \"f797f841eaf1759c770271ae00c88b92b2766eed\",\n",
            "    \"openSSLVersion\": \"OpenSSL 3.0.2 15 Mar 2022\",\n",
            "    \"modules\": [],\n",
            "    \"allocator\": \"tcmalloc\",\n",
            "    \"environment\": {\n",
            "        \"distmod\": \"ubuntu2204\",\n",
            "        \"distarch\": \"x86_64\",\n",
            "        \"target_arch\": \"x86_64\"\n",
            "    }\n",
            "}\n"
          ]
        }
      ]
    },
    {
      "cell_type": "code",
      "source": [
        "!pip -qq install pymongo\n",
        "from pymongo import MongoClient\n",
        "import pandas as pd\n",
        "import dateutil"
      ],
      "metadata": {
        "id": "dxuy5uvAM8y6",
        "outputId": "e7eb2f75-9408-4f82-caa4-b8d2a957a044",
        "colab": {
          "base_uri": "https://localhost:8080/"
        }
      },
      "execution_count": 7,
      "outputs": [
        {
          "output_type": "stream",
          "name": "stdout",
          "text": [
            "\u001b[?25l     \u001b[90m━━━━━━━━━━━━━━━━━━━━━━━━━━━━━━━━━━━━━━━━\u001b[0m \u001b[32m0.0/677.1 kB\u001b[0m \u001b[31m?\u001b[0m eta \u001b[36m-:--:--\u001b[0m\r\u001b[2K     \u001b[91m━━━━━━━━\u001b[0m\u001b[90m╺\u001b[0m\u001b[90m━━━━━━━━━━━━━━━━━━━━━━━━━━━━━━━\u001b[0m \u001b[32m143.4/677.1 kB\u001b[0m \u001b[31m4.5 MB/s\u001b[0m eta \u001b[36m0:00:01\u001b[0m\r\u001b[2K     \u001b[91m━━━━━━━━━━━━━━━━━━━━━━━━━━━\u001b[0m\u001b[91m╸\u001b[0m\u001b[90m━━━━━━━━━━━━\u001b[0m \u001b[32m471.0/677.1 kB\u001b[0m \u001b[31m7.2 MB/s\u001b[0m eta \u001b[36m0:00:01\u001b[0m\r\u001b[2K     \u001b[90m━━━━━━━━━━━━━━━━━━━━━━━━━━━━━━━━━━━━━━━━\u001b[0m \u001b[32m677.1/677.1 kB\u001b[0m \u001b[31m7.1 MB/s\u001b[0m eta \u001b[36m0:00:00\u001b[0m\n",
            "\u001b[?25h\u001b[?25l     \u001b[90m━━━━━━━━━━━━━━━━━━━━━━━━━━━━━━━━━━━━━━━━\u001b[0m \u001b[32m0.0/300.4 kB\u001b[0m \u001b[31m?\u001b[0m eta \u001b[36m-:--:--\u001b[0m\r\u001b[2K     \u001b[90m━━━━━━━━━━━━━━━━━━━━━━━━━━━━━━━━━━━━━━━━\u001b[0m \u001b[32m300.4/300.4 kB\u001b[0m \u001b[31m10.1 MB/s\u001b[0m eta \u001b[36m0:00:00\u001b[0m\n",
            "\u001b[?25h"
          ]
        }
      ]
    },
    {
      "cell_type": "code",
      "metadata": {
        "colab": {
          "base_uri": "https://localhost:8080/"
        },
        "id": "YBZMGZMAY8i8",
        "outputId": "3aa0f9a5-46d1-4474-eff6-b43dbb2a4bd9"
      },
      "source": [
        "mongoURI = \"mongodb://localhost:27017/\"\n",
        "client = MongoClient(mongoURI)\n",
        "client.list_database_names() # ['admin', 'config', 'local']"
      ],
      "execution_count": 8,
      "outputs": [
        {
          "output_type": "execute_result",
          "data": {
            "text/plain": [
              "['admin', 'config', 'local']"
            ]
          },
          "metadata": {},
          "execution_count": 8
        }
      ]
    },
    {
      "cell_type": "markdown",
      "metadata": {
        "id": "MN79GhZSaQCD"
      },
      "source": [
        "# Create Database objects"
      ]
    },
    {
      "cell_type": "code",
      "metadata": {
        "colab": {
          "base_uri": "https://localhost:8080/"
        },
        "id": "cnI-oi8waWju",
        "outputId": "6c0f985d-bdeb-42f3-d61b-c490b754aedb"
      },
      "source": [
        "# Database PraxisDB will be created only when we create collections, or documents in it\n",
        "mongoURI = \"mongodb://localhost:27017/\"\n",
        "client = MongoClient(mongoURI)\n",
        "client.list_database_names()"
      ],
      "execution_count": 9,
      "outputs": [
        {
          "output_type": "execute_result",
          "data": {
            "text/plain": [
              "['admin', 'config', 'local']"
            ]
          },
          "metadata": {},
          "execution_count": 9
        }
      ]
    },
    {
      "cell_type": "code",
      "metadata": {
        "id": "LUAvup4qcabt"
      },
      "source": [
        "# Delete a database\n",
        "client.drop_database('PraxisDB')"
      ],
      "execution_count": 10,
      "outputs": []
    },
    {
      "cell_type": "code",
      "metadata": {
        "colab": {
          "base_uri": "https://localhost:8080/"
        },
        "id": "1PkkdbCXa5_0",
        "outputId": "3737abc1-8e41-471a-ab7b-644cb467da3a"
      },
      "source": [
        "# Create a new collection. We can create the collection or leave to MongoDB to create it as soon as a document is generated.\n",
        "db = client.PraxisDB\n",
        "db.create_collection('addresses')       # Optional collection creation"
      ],
      "execution_count": 11,
      "outputs": [
        {
          "output_type": "execute_result",
          "data": {
            "text/plain": [
              "Collection(Database(MongoClient(host=['localhost:27017'], document_class=dict, tz_aware=False, connect=True), 'PraxisDB'), 'addresses')"
            ]
          },
          "metadata": {},
          "execution_count": 11
        }
      ]
    },
    {
      "cell_type": "code",
      "metadata": {
        "colab": {
          "base_uri": "https://localhost:8080/"
        },
        "id": "aFJuoBcBcvvf",
        "outputId": "70c3ab05-9bdb-4062-d1fb-1e8e2aaad1fa"
      },
      "source": [
        "# Show Collections. Query returns a Cursor [ ] ,  list it to see the content\n",
        "list (db.list_collections())\n",
        "# empty list '[]' means that there are not collections in database"
      ],
      "execution_count": 12,
      "outputs": [
        {
          "output_type": "execute_result",
          "data": {
            "text/plain": [
              "[{'name': 'addresses',\n",
              "  'type': 'collection',\n",
              "  'options': {},\n",
              "  'info': {'readOnly': False,\n",
              "   'uuid': Binary(b'M\\x8f\\xceF:\\xe6@\\x0f\\xa6\\xdc\\x802Q9\\x7f\\x07', 4)},\n",
              "  'idIndex': {'v': 2, 'key': {'_id': 1}, 'name': '_id_'}}]"
            ]
          },
          "metadata": {},
          "execution_count": 12
        }
      ]
    },
    {
      "cell_type": "code",
      "metadata": {
        "colab": {
          "base_uri": "https://localhost:8080/"
        },
        "id": "1ek9pCUwdOAq",
        "outputId": "2060ee52-de6e-48a3-a4c7-b4ffb9258f71"
      },
      "source": [
        "# Set the collection to work with\n",
        "kollection = db.addresses\n",
        "kollection.insert_one({'name' : 'jordi'})     # Insert one item to create the collection\n",
        "list (kollection.find())                  # Show the existing collections"
      ],
      "execution_count": 13,
      "outputs": [
        {
          "output_type": "execute_result",
          "data": {
            "text/plain": [
              "[{'_id': ObjectId('655ef4606e830838d345859b'), 'name': 'jordi'}]"
            ]
          },
          "metadata": {},
          "execution_count": 13
        }
      ]
    },
    {
      "cell_type": "code",
      "metadata": {
        "colab": {
          "base_uri": "https://localhost:8080/"
        },
        "id": "gHnx-GEjdz_l",
        "outputId": "bb1e3bb2-02bc-473e-87a8-1a132958a126"
      },
      "source": [
        "# Rename a collections\n",
        "db.addresses.rename('addressbook')\n",
        "kollection2 = db.addressbook                   # Set the collection to work with\n",
        "list (db.list_collections())                  # Show the existing collections"
      ],
      "execution_count": 14,
      "outputs": [
        {
          "output_type": "execute_result",
          "data": {
            "text/plain": [
              "[{'name': 'addressbook',\n",
              "  'type': 'collection',\n",
              "  'options': {},\n",
              "  'info': {'readOnly': False,\n",
              "   'uuid': Binary(b'M\\x8f\\xceF:\\xe6@\\x0f\\xa6\\xdc\\x802Q9\\x7f\\x07', 4)},\n",
              "  'idIndex': {'v': 2, 'key': {'_id': 1}, 'name': '_id_'}}]"
            ]
          },
          "metadata": {},
          "execution_count": 14
        }
      ]
    },
    {
      "cell_type": "code",
      "metadata": {
        "colab": {
          "base_uri": "https://localhost:8080/"
        },
        "id": "0IG9ZsQleFoF",
        "outputId": "7456bce1-7997-4fc8-fdd4-b56e7a430fcc"
      },
      "source": [
        "# Delete collection\n",
        "db.drop_collection('addressbook')"
      ],
      "execution_count": 15,
      "outputs": [
        {
          "output_type": "execute_result",
          "data": {
            "text/plain": [
              "{'nIndexesWas': 1, 'ns': 'PraxisDB.addressbook', 'ok': 1.0}"
            ]
          },
          "metadata": {},
          "execution_count": 15
        }
      ]
    },
    {
      "cell_type": "code",
      "metadata": {
        "colab": {
          "base_uri": "https://localhost:8080/"
        },
        "id": "WEo7QOCHgPSd",
        "outputId": "e4bd2f00-7574-4d1e-9c01-da8fa55af500"
      },
      "source": [
        "client.list_database_names()"
      ],
      "execution_count": 16,
      "outputs": [
        {
          "output_type": "execute_result",
          "data": {
            "text/plain": [
              "['admin', 'config', 'local']"
            ]
          },
          "metadata": {},
          "execution_count": 16
        }
      ]
    },
    {
      "cell_type": "markdown",
      "metadata": {
        "id": "XYb26s0ben-d"
      },
      "source": [
        "# Operations"
      ]
    },
    {
      "cell_type": "markdown",
      "metadata": {
        "id": "f6fmmd4-mD1Z"
      },
      "source": [
        "## Single Row Insert"
      ]
    },
    {
      "cell_type": "code",
      "metadata": {
        "id": "WWzXPNecesiQ"
      },
      "source": [
        "cDoc1 = {  'name' : 'Prithwis' ,                                     # String\n",
        "          'age' : '59',                                             # Integer\n",
        "          'gender' : 'Male',                                        # String\n",
        "          'likes_code' : True,                                      # Boolean\n",
        "          'address': {\n",
        "              'street' : 'Panditiya Road',                          # String ( special character with escape \\ )\n",
        "              'number' : 36,                                        # Integer\n",
        "              'city' : 'Kolkata',                                   # String\n",
        "              'floor' : None,                                       # Null\n",
        "              'postalcode' : '700029',                              # String containing a number\n",
        "              },\n",
        "          'favouritefruits': ['apple','pineapple','orange']         # Array\n",
        "       }"
      ],
      "execution_count": 17,
      "outputs": []
    },
    {
      "cell_type": "code",
      "metadata": {
        "colab": {
          "base_uri": "https://localhost:8080/"
        },
        "id": "yivR6yuSgYNg",
        "outputId": "14fc563c-2ea0-40bb-b1ba-a1805e163bf0"
      },
      "source": [
        "# Define database, collection etc\n",
        "db = client.PraxisDB\n",
        "# Delete collection\n",
        "db.drop_collection('AddressBook')\n",
        "db.create_collection('AddressBook')       # Optional collection creation\n",
        "kollection3 = db.AddressBook                   # Set the collection to work with\n",
        "insert_result = kollection3.insert_one( cDoc1)\n",
        "insert_result.acknowledged    # Confirms that insert is successful"
      ],
      "execution_count": 18,
      "outputs": [
        {
          "output_type": "execute_result",
          "data": {
            "text/plain": [
              "True"
            ]
          },
          "metadata": {},
          "execution_count": 18
        }
      ]
    },
    {
      "cell_type": "code",
      "metadata": {
        "colab": {
          "base_uri": "https://localhost:8080/"
        },
        "id": "I-HuwnBJhdTp",
        "outputId": "5e4a8c33-c594-4a07-858e-34e05f5a0c47"
      },
      "source": [
        "insert_result.inserted_id     # Shows the document ID"
      ],
      "execution_count": 19,
      "outputs": [
        {
          "output_type": "execute_result",
          "data": {
            "text/plain": [
              "ObjectId('655ef4726e830838d345859c')"
            ]
          },
          "metadata": {},
          "execution_count": 19
        }
      ]
    },
    {
      "cell_type": "code",
      "metadata": {
        "colab": {
          "base_uri": "https://localhost:8080/"
        },
        "id": "aIMKBCARi2aU",
        "outputId": "9669854e-2b1c-4ec6-be0b-4832b856e554"
      },
      "source": [
        "db.AddressBook.find()  # returns a cursor"
      ],
      "execution_count": 20,
      "outputs": [
        {
          "output_type": "execute_result",
          "data": {
            "text/plain": [
              "<pymongo.cursor.Cursor at 0x79a79be20ac0>"
            ]
          },
          "metadata": {},
          "execution_count": 20
        }
      ]
    },
    {
      "cell_type": "code",
      "metadata": {
        "colab": {
          "base_uri": "https://localhost:8080/"
        },
        "id": "lHro1WFEi-JN",
        "outputId": "81af2854-f4b3-4623-bbaa-ee4984d007bc"
      },
      "source": [
        "#c = db.AddressBook.find()\n",
        "c = kollection3.find()\n",
        "for crnt in c:\n",
        "    print(crnt)"
      ],
      "execution_count": 21,
      "outputs": [
        {
          "output_type": "stream",
          "name": "stdout",
          "text": [
            "{'_id': ObjectId('655ef4726e830838d345859c'), 'name': 'Prithwis', 'age': '59', 'gender': 'Male', 'likes_code': True, 'address': {'street': 'Panditiya Road', 'number': 36, 'city': 'Kolkata', 'floor': None, 'postalcode': '700029'}, 'favouritefruits': ['apple', 'pineapple', 'orange']}\n"
          ]
        }
      ]
    },
    {
      "cell_type": "code",
      "metadata": {
        "id": "7FjzfIlgjStF"
      },
      "source": [
        "cDoc2 = {  'name' : 'Charanpreet' ,                                     # String\n",
        "          'age' : '57',                                             # Integer\n",
        "          'gender' : 'Male',                                        # String\n",
        "          'likes_code' : False,                                      # Boolean\n",
        "          'address': {\n",
        "              'street' : None,                          # String ( special character with escape \\ )\n",
        "              'number' : None,                                        # Integer\n",
        "              'city' : 'Kolkata',                                   # String\n",
        "              'floor' : None,                                       # Null\n",
        "              'postalcode' : '700001',                              # String containing a number\n",
        "              },\n",
        "          'favouritefruits': ['apple','guava','mango']         # Array\n",
        "       }"
      ],
      "execution_count": 22,
      "outputs": []
    },
    {
      "cell_type": "code",
      "metadata": {
        "colab": {
          "base_uri": "https://localhost:8080/"
        },
        "id": "TZl2ENI8l1u-",
        "outputId": "9a682bc5-a7e6-44a9-ca09-4062d0685341"
      },
      "source": [
        "insert_result = kollection3.insert_one( cDoc2)\n",
        "insert_result.acknowledged    # Confirms that insert is successful"
      ],
      "execution_count": 23,
      "outputs": [
        {
          "output_type": "execute_result",
          "data": {
            "text/plain": [
              "True"
            ]
          },
          "metadata": {},
          "execution_count": 23
        }
      ]
    },
    {
      "cell_type": "code",
      "metadata": {
        "colab": {
          "base_uri": "https://localhost:8080/"
        },
        "id": "5WYPQluVl6wJ",
        "outputId": "d4e8173b-9761-4cc7-d577-520fadefcad8"
      },
      "source": [
        "#c = db.AddressBook.find()\n",
        "c = kollection3.find()\n",
        "for crnt in c:\n",
        "    print(crnt)"
      ],
      "execution_count": 24,
      "outputs": [
        {
          "output_type": "stream",
          "name": "stdout",
          "text": [
            "{'_id': ObjectId('655ef4726e830838d345859c'), 'name': 'Prithwis', 'age': '59', 'gender': 'Male', 'likes_code': True, 'address': {'street': 'Panditiya Road', 'number': 36, 'city': 'Kolkata', 'floor': None, 'postalcode': '700029'}, 'favouritefruits': ['apple', 'pineapple', 'orange']}\n",
            "{'_id': ObjectId('655ef4826e830838d345859d'), 'name': 'Charanpreet', 'age': '57', 'gender': 'Male', 'likes_code': False, 'address': {'street': None, 'number': None, 'city': 'Kolkata', 'floor': None, 'postalcode': '700001'}, 'favouritefruits': ['apple', 'guava', 'mango']}\n"
          ]
        }
      ]
    },
    {
      "cell_type": "code",
      "metadata": {
        "id": "6orcB9kK-fG4"
      },
      "source": [
        "cDoc3 = {  'name' : 'Narendra' ,                                     # String\n",
        "          'age' : '67',                                             # Integer\n",
        "          'gender' : 'Male',                                        # String\n",
        "          'likes_code' : False,                                      # Boolean\n",
        "          'address': {\n",
        "              'street' : None,                          # String ( special character with escape \\ )\n",
        "              'number' : None,                                        # Integer\n",
        "              'city' : 'Delhi',                                   # String\n",
        "              'floor' : None,                                       # Null\n",
        "              'postalcode' : '700001',                              # String containing a number\n",
        "              },\n",
        "          'favouritefruits': ['apple','guava','mango']         # Array\n",
        "       }\n",
        "\n",
        "cDoc4 = {  'name' : 'Aditya' ,                                     # String\n",
        "          'age' : '47',                                             # Integer\n",
        "          'gender' : 'Male',                                        # String\n",
        "          'likes_code' : False,                                      # Boolean\n",
        "          'address': {\n",
        "              'street' : None,                          # String ( special character with escape \\ )\n",
        "              'number' : None,                                        # Integer\n",
        "              'city' : 'Lucknow',                                   # String\n",
        "              'floor' : None,                                       # Null\n",
        "              'postalcode' : '700001',                              # String containing a number\n",
        "              },\n",
        "          'favouritefruits': ['apple','guava','mango']         # Array\n",
        "       }"
      ],
      "execution_count": 25,
      "outputs": []
    },
    {
      "cell_type": "code",
      "metadata": {
        "id": "E1G_ekmD-0LJ"
      },
      "source": [
        "insert_result = kollection3.insert_many([cDoc3,cDoc4])"
      ],
      "execution_count": null,
      "outputs": []
    },
    {
      "cell_type": "code",
      "metadata": {
        "id": "Iyzy_8Pr_U4V",
        "outputId": "535e78fb-7bd9-4649-9109-949a7e26ee29",
        "colab": {
          "base_uri": "https://localhost:8080/"
        }
      },
      "source": [
        "#c = db.AddressBook.find()\n",
        "c = kollection3.find()\n",
        "for crnt in c:\n",
        "    print(crnt)"
      ],
      "execution_count": 26,
      "outputs": [
        {
          "output_type": "stream",
          "name": "stdout",
          "text": [
            "{'_id': ObjectId('655ef4726e830838d345859c'), 'name': 'Prithwis', 'age': '59', 'gender': 'Male', 'likes_code': True, 'address': {'street': 'Panditiya Road', 'number': 36, 'city': 'Kolkata', 'floor': None, 'postalcode': '700029'}, 'favouritefruits': ['apple', 'pineapple', 'orange']}\n",
            "{'_id': ObjectId('655ef4826e830838d345859d'), 'name': 'Charanpreet', 'age': '57', 'gender': 'Male', 'likes_code': False, 'address': {'street': None, 'number': None, 'city': 'Kolkata', 'floor': None, 'postalcode': '700001'}, 'favouritefruits': ['apple', 'guava', 'mango']}\n"
          ]
        }
      ]
    },
    {
      "cell_type": "markdown",
      "metadata": {
        "id": "GPRzmxx0n_P2"
      },
      "source": [
        "## Read"
      ]
    },
    {
      "cell_type": "code",
      "metadata": {
        "colab": {
          "base_uri": "https://localhost:8080/"
        },
        "id": "T36P4fbYoG4o",
        "outputId": "4e4ae04d-e096-40b1-d23c-971224a4af49"
      },
      "source": [
        "list(kollection3.find())"
      ],
      "execution_count": 27,
      "outputs": [
        {
          "output_type": "execute_result",
          "data": {
            "text/plain": [
              "[{'_id': ObjectId('655ef4726e830838d345859c'),\n",
              "  'name': 'Prithwis',\n",
              "  'age': '59',\n",
              "  'gender': 'Male',\n",
              "  'likes_code': True,\n",
              "  'address': {'street': 'Panditiya Road',\n",
              "   'number': 36,\n",
              "   'city': 'Kolkata',\n",
              "   'floor': None,\n",
              "   'postalcode': '700029'},\n",
              "  'favouritefruits': ['apple', 'pineapple', 'orange']},\n",
              " {'_id': ObjectId('655ef4826e830838d345859d'),\n",
              "  'name': 'Charanpreet',\n",
              "  'age': '57',\n",
              "  'gender': 'Male',\n",
              "  'likes_code': False,\n",
              "  'address': {'street': None,\n",
              "   'number': None,\n",
              "   'city': 'Kolkata',\n",
              "   'floor': None,\n",
              "   'postalcode': '700001'},\n",
              "  'favouritefruits': ['apple', 'guava', 'mango']}]"
            ]
          },
          "metadata": {},
          "execution_count": 27
        }
      ]
    },
    {
      "cell_type": "code",
      "metadata": {
        "colab": {
          "base_uri": "https://localhost:8080/"
        },
        "id": "h_Ud5w3PoR_J",
        "outputId": "3714ce82-9d6e-4d41-e073-e297507fd0a6"
      },
      "source": [
        "#list ( collection.find( {'name' : 'Charanpreet' } ))\n",
        "list ( kollection3.find( {'name' : 'Prithwis' } ))"
      ],
      "execution_count": 28,
      "outputs": [
        {
          "output_type": "execute_result",
          "data": {
            "text/plain": [
              "[{'_id': ObjectId('655ef4726e830838d345859c'),\n",
              "  'name': 'Prithwis',\n",
              "  'age': '59',\n",
              "  'gender': 'Male',\n",
              "  'likes_code': True,\n",
              "  'address': {'street': 'Panditiya Road',\n",
              "   'number': 36,\n",
              "   'city': 'Kolkata',\n",
              "   'floor': None,\n",
              "   'postalcode': '700029'},\n",
              "  'favouritefruits': ['apple', 'pineapple', 'orange']}]"
            ]
          },
          "metadata": {},
          "execution_count": 28
        }
      ]
    },
    {
      "cell_type": "code",
      "metadata": {
        "colab": {
          "base_uri": "https://localhost:8080/"
        },
        "id": "y_id749PomLI",
        "outputId": "77a7a047-f208-46db-ad43-15cf928de04f"
      },
      "source": [
        "list ( kollection3.find( {'address.postalcode' : '700029' } ))             # find, can use one key or more"
      ],
      "execution_count": 29,
      "outputs": [
        {
          "output_type": "execute_result",
          "data": {
            "text/plain": [
              "[{'_id': ObjectId('655ef4726e830838d345859c'),\n",
              "  'name': 'Prithwis',\n",
              "  'age': '59',\n",
              "  'gender': 'Male',\n",
              "  'likes_code': True,\n",
              "  'address': {'street': 'Panditiya Road',\n",
              "   'number': 36,\n",
              "   'city': 'Kolkata',\n",
              "   'floor': None,\n",
              "   'postalcode': '700029'},\n",
              "  'favouritefruits': ['apple', 'pineapple', 'orange']}]"
            ]
          },
          "metadata": {},
          "execution_count": 29
        }
      ]
    },
    {
      "cell_type": "markdown",
      "metadata": {
        "id": "IBXAOYdrq0VY"
      },
      "source": [
        "## Update"
      ]
    },
    {
      "cell_type": "code",
      "metadata": {
        "colab": {
          "base_uri": "https://localhost:8080/"
        },
        "id": "wPzOXNXrq2Zh",
        "outputId": "b718a831-7488-4801-dfe4-5ecf0351657a"
      },
      "source": [
        "## Update an existing document\n",
        "update_result = kollection3.update_one(\n",
        "    {'name' : 'Prithwis'},\n",
        "    {'$set' : { 'age' : 101 }} )\n",
        "\n",
        "list (kollection3.find( {'name' : 'Prithwis' } ))\n",
        "\n",
        "# Alternative : collection.find_one_and_update( {'name' : Name}, {'$set' : { 'age' : 30 }} )"
      ],
      "execution_count": 30,
      "outputs": [
        {
          "output_type": "execute_result",
          "data": {
            "text/plain": [
              "[{'_id': ObjectId('655ef4726e830838d345859c'),\n",
              "  'name': 'Prithwis',\n",
              "  'age': 101,\n",
              "  'gender': 'Male',\n",
              "  'likes_code': True,\n",
              "  'address': {'street': 'Panditiya Road',\n",
              "   'number': 36,\n",
              "   'city': 'Kolkata',\n",
              "   'floor': None,\n",
              "   'postalcode': '700029'},\n",
              "  'favouritefruits': ['apple', 'pineapple', 'orange']}]"
            ]
          },
          "metadata": {},
          "execution_count": 30
        }
      ]
    },
    {
      "cell_type": "code",
      "metadata": {
        "colab": {
          "base_uri": "https://localhost:8080/"
        },
        "id": "-Ne8eOS2rW-Y",
        "outputId": "5a467cbe-0186-4338-d26b-f96cae000e9d"
      },
      "source": [
        "## Update an existing document\n",
        "update_result = kollection3.update_one(\n",
        "    {'name' : 'Prithwis'},\n",
        "    {'$set' : { 'name' : 'Prithwis Mukerjee' }} )\n",
        "\n",
        "list (kollection3.find( {'name' : 'Prithwis Mukerjee' } ))"
      ],
      "execution_count": 31,
      "outputs": [
        {
          "output_type": "execute_result",
          "data": {
            "text/plain": [
              "[{'_id': ObjectId('655ef4726e830838d345859c'),\n",
              "  'name': 'Prithwis Mukerjee',\n",
              "  'age': 101,\n",
              "  'gender': 'Male',\n",
              "  'likes_code': True,\n",
              "  'address': {'street': 'Panditiya Road',\n",
              "   'number': 36,\n",
              "   'city': 'Kolkata',\n",
              "   'floor': None,\n",
              "   'postalcode': '700029'},\n",
              "  'favouritefruits': ['apple', 'pineapple', 'orange']}]"
            ]
          },
          "metadata": {},
          "execution_count": 31
        }
      ]
    },
    {
      "cell_type": "markdown",
      "metadata": {
        "id": "sAd5JaUOZOq1"
      },
      "source": [
        "## Additional stuff\n",
        "https://www.analyticsvidhya.com/blog/2020/02/mongodb-in-python-tutorial-for-beginners-using-pymongo/"
      ]
    },
    {
      "cell_type": "code",
      "source": [
        "print('Executed on ',datetime.now(pytz.timezone('Asia/Calcutta')))"
      ],
      "metadata": {
        "id": "nyb7SE_wyLfZ",
        "outputId": "6f411c86-b048-4d5a-9131-d5de9b0fb6f4",
        "colab": {
          "base_uri": "https://localhost:8080/"
        }
      },
      "execution_count": 32,
      "outputs": [
        {
          "output_type": "stream",
          "name": "stdout",
          "text": [
            "Executed on  2023-11-23 12:14:01.928471+05:30\n"
          ]
        }
      ]
    },
    {
      "cell_type": "markdown",
      "metadata": {
        "id": "izDtEXYmYBwF"
      },
      "source": [
        "#Chronobooks <br>\n",
        "Two science fiction novels by Prithwis Mukerjee. A dystopian Earth. A technocratic society managed by artificial intelligence. Escape and epiphany on Mars. Can man and machine, carbon and silicon explore and escape into other dimensions of existence? An Indic perspective rooted in Advaita Vedanta and the Divine Feminine.  [More information](http://bit.ly/chronobooks) <br>\n",
        "![alt text](https://github.com/Praxis-QR/RDWH/raw/main/images/CTCYFooter-1.png)"
      ]
    }
  ]
}