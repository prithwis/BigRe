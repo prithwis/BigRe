{
  "nbformat": 4,
  "nbformat_minor": 0,
  "metadata": {
    "colab": {
      "provenance": [],
      "toc_visible": true,
      "include_colab_link": true
    },
    "kernelspec": {
      "name": "python3",
      "display_name": "Python 3"
    },
    "language_info": {
      "name": "python"
    }
  },
  "cells": [
    {
      "cell_type": "markdown",
      "metadata": {
        "id": "view-in-github",
        "colab_type": "text"
      },
      "source": [
        "<a href=\"https://colab.research.google.com/github/prithwis/BigRe/blob/master/PG24_2A_SQL42.ipynb\" target=\"_parent\"><img src=\"https://colab.research.google.com/assets/colab-badge.svg\" alt=\"Open In Colab\"/></a>"
      ]
    },
    {
      "cell_type": "markdown",
      "source": [
        "![Yantrajaal Banner](https://github.com/Praxis-QR/RDWH/raw/main/images/YantraJaalBanner.png)<br>\n",
        "\n",
        "\n",
        "<hr>\n",
        "\n",
        "[Prithwis Mukerjee](http://www.linkedin.com/in/prithwis)<br>"
      ],
      "metadata": {
        "id": "DBzz-qaN2tKu"
      }
    },
    {
      "cell_type": "markdown",
      "source": [
        "![PostgreSQL 42](https://raw.githubusercontent.com/Praxis-QR/RDWH/main/images/PostgreSQL_24.01.png)<br>\n",
        "[SlideDeck](https://docs.google.com/presentation/d/1hdkAGbMxLfO1GYe7RzEo3LhGZhsXkyjIfBqkA72B6LM/edit?usp=sharing)"
      ],
      "metadata": {
        "id": "dBJ6X0LiJtZ6"
      }
    },
    {
      "cell_type": "code",
      "source": [
        "from datetime import datetime\n",
        "import pytz\n",
        "print('ॐ श्री सरस्वत्यै नमः',datetime.now(pytz.timezone('Asia/Calcutta')))\n",
        "!python --version\n",
        "!lsb_release -a"
      ],
      "metadata": {
        "colab": {
          "base_uri": "https://localhost:8080/"
        },
        "id": "XZ9dGt-eUikL",
        "outputId": "20685dc8-48a6-406d-a719-2abfba6cd10c"
      },
      "execution_count": 1,
      "outputs": [
        {
          "output_type": "stream",
          "name": "stdout",
          "text": [
            "ॐ श्री सरस्वत्यै नमः 2025-08-14 05:42:01.595181+05:30\n",
            "Python 3.11.13\n",
            "No LSB modules are available.\n",
            "Distributor ID:\tUbuntu\n",
            "Description:\tUbuntu 22.04.4 LTS\n",
            "Release:\t22.04\n",
            "Codename:\tjammy\n"
          ]
        }
      ]
    },
    {
      "cell_type": "markdown",
      "source": [
        "#Install & Configure Postgres"
      ],
      "metadata": {
        "id": "nD-QawLT6kDr"
      }
    },
    {
      "cell_type": "markdown",
      "source": [
        "For Connecting to a Postgres server hosted in the cloud Neon DB, see [this notebook](https://github.com/Praxis-QR/RDWH/blob/main/PG24_1B_SQL_CloudLab.ipynb)"
      ],
      "metadata": {
        "id": "9w29_O07rTPE"
      }
    },
    {
      "cell_type": "code",
      "source": [
        "# Install postgresql server\n",
        "\n",
        "!apt update > /dev/null\n",
        "!apt install postgresql > /dev/null\n",
        "#!pip install psycopg2\n",
        "import psycopg2\n",
        "import pandas as pd\n",
        "#!sudo -u postgres psql -V\n",
        "!psql -V\n",
        "!service postgresql start"
      ],
      "metadata": {
        "colab": {
          "base_uri": "https://localhost:8080/"
        },
        "id": "o_RaqE0OOHP3",
        "outputId": "e5725d54-91a4-4bdc-eeaa-50cb30c34c64"
      },
      "execution_count": 2,
      "outputs": [
        {
          "output_type": "stream",
          "name": "stdout",
          "text": [
            "\n",
            "WARNING: apt does not have a stable CLI interface. Use with caution in scripts.\n",
            "\n",
            "W: Skipping acquire of configured file 'main/source/Sources' as repository 'https://r2u.stat.illinois.edu/ubuntu jammy InRelease' does not seem to provide it (sources.list entry misspelt?)\n",
            "\n",
            "WARNING: apt does not have a stable CLI interface. Use with caution in scripts.\n",
            "\n",
            "psql (PostgreSQL) 14.18 (Ubuntu 14.18-0ubuntu0.22.04.1)\n",
            " * Starting PostgreSQL 14 database server\n",
            "   ...done.\n"
          ]
        }
      ]
    },
    {
      "cell_type": "code",
      "source": [
        "# The installation creates Ubuntu user 'postgres' AND a Postgres database user 'postgres' both of which are superusers\n",
        "#!cat /etc/passwd\n",
        "# Use these users to create a new database user called 'upraxis' and give it a password 'upass'\n",
        "#!sudo -u postgres createuser --superuser upraxis\n",
        "!sudo -u postgres createuser upraxis\n",
        "!sudo -u postgres psql -U postgres -c \"ALTER USER upraxis PASSWORD 'upass';\"\n",
        "#\n",
        "# Change the database superuser 'postgres' to a non-default value 'pass'\n",
        "!sudo -u postgres psql -U postgres -c \"ALTER USER postgres PASSWORD 'pass';\"\n",
        "#\n",
        "# Use ubuntu superuser to create database dbpraxis and set its owner to upraxis\n",
        "!sudo -u postgres createdb -O upraxis dbpraxis\n",
        "#\n",
        "# Create file to store the password. Else will be prompted each time\n",
        "#\n",
        "!echo \"localhost:5432:dbpraxis:upraxis:upass\" > ~/.pgpass\n",
        "!echo \"localhost:5432:dbpraxis:postgres:pass\" >> ~/.pgpass\n",
        "!chmod 0600 ~/.pgpass\n",
        "!cat ~/.pgpass\n"
      ],
      "metadata": {
        "colab": {
          "base_uri": "https://localhost:8080/"
        },
        "id": "xr5kHaY_U4CZ",
        "outputId": "a9b07ce6-00f7-4666-e9f6-c25d11c0f23e"
      },
      "execution_count": 3,
      "outputs": [
        {
          "output_type": "stream",
          "name": "stdout",
          "text": [
            "ALTER ROLE\n",
            "ALTER ROLE\n",
            "localhost:5432:dbpraxis:upraxis:upass\n",
            "localhost:5432:dbpraxis:postgres:pass\n"
          ]
        }
      ]
    },
    {
      "cell_type": "markdown",
      "source": [
        "## Create and Load Tables"
      ],
      "metadata": {
        "id": "pHTdNzrU6qUE"
      }
    },
    {
      "cell_type": "code",
      "source": [
        "# Create Two tables using command line interface\n",
        "#\n",
        "!psql -h localhost -p 5432 -Uupraxis -ddbpraxis -c \\\n",
        "\"drop table if exists Dept;\\\n",
        "create table Dept (\\\n",
        "    DeptID char(2),\\\n",
        "    DeptName varchar(20),\\\n",
        "    ManagerID char(6),\\\n",
        "    Location varchar(10),\\\n",
        "    LocationID char(1)\\\n",
        "    );\\\n",
        "insert into Dept (DeptID, DeptName, ManagerID, Location,LocationID) VALUES \\\n",
        "\t('10', 'Corporate', '299034', 'Calcutta','1'), \\\n",
        "\t('20', 'Sales', '239456', 'Calcutta','1'), \\\n",
        "\t('30', 'Accounts', '822134', 'Calcutta','1'), \\\n",
        "\t('40', 'Production', '349870', 'Bombay','2'),\\\n",
        "    ('60', 'Research', '546224', 'Delhi','3');\\\n",
        "\""
      ],
      "metadata": {
        "colab": {
          "base_uri": "https://localhost:8080/"
        },
        "id": "DsUZ9JlEXIir",
        "outputId": "d5f912f4-6655-4861-ea52-ec095c845d22"
      },
      "execution_count": 4,
      "outputs": [
        {
          "output_type": "stream",
          "name": "stdout",
          "text": [
            "NOTICE:  table \"dept\" does not exist, skipping\n",
            "INSERT 0 5\n"
          ]
        }
      ]
    },
    {
      "cell_type": "code",
      "source": [
        "!psql -h localhost -p 5432 -Uupraxis -ddbpraxis -c \\\n",
        "\"drop table if exists Empl;\\\n",
        "create table Empl \\\n",
        "    (EmpID char(6),\\\n",
        "    LastName varchar(20),\\\n",
        "    FirstName varchar(20),\\\n",
        "    JobDesc varchar(10),\\\n",
        "    JoinDate date,\\\n",
        "    Salary int,\\\n",
        "    Comm decimal(3,2),\\\n",
        "    DeptID char(2),\\\n",
        "    HiredBy char(6)\\\n",
        "    );\\\n",
        "INSERT INTO Empl (EmpID, LastName, FirstName, JobDesc, JoinDate, Salary, Comm, DeptID, HiredBy) \\\n",
        "    VALUES \\\n",
        "\t('742866', 'Bacchan', 'Amitabh', 'Executive', '2003-03-10', 50000, 0.1, '10', NULL), \\\n",
        "\t('349870', 'Mukherjee', 'Rani', 'Manager', '2005-05-04', 25000, 0.06, '40', '742866'), \\\n",
        "\t('865477', 'Dikshit', 'Madhuri', 'Clerk', '2002-04-04', 10000, 0.02, '20', '239456'), \\\n",
        "\t('239456', 'Khan', 'Shahrukh', 'Manager', '2004-01-03', 30000, 0.07, '20', '742866'), \\\n",
        "\t('897889', 'Sehwag', 'Virender', 'Cus_Rep', '2005-01-02', 15000, 0.05, '20', '239456'), \\\n",
        "\t('123980', 'Dhoni', 'Mahender', 'Clerk', '2004-10-09', 9000, 0.02, '40', '349870'), \\\n",
        "\t('822134', 'Dravid', 'Rahul', 'Sr Manager', '2000-06-04', 40000, 0.08, '30', '742866'), \\\n",
        "\t('997445', 'Dalmia', 'Jagmohan', 'Clerk', '2001-07-01', 12000, 0.02, '30', '822134'), \\\n",
        "\t('989007', 'Ganguly', 'Sourav', 'Cus_Rep', '2002-01-01', 20000, 0.03, '40', '299034'), \\\n",
        "\t('299034', 'Ganesan', 'Rekha', 'Director', '2002-10-10', 60000, 0.11, '10', '742866'), \\\n",
        "\t('546223', 'Karthikeyan', 'Narayan', 'Secretary', '2005-12-04', 40000, 0.09, '10', '299034'), \\\n",
        "    ('546224', 'Sunil', 'Chettri', 'Dy Manager', '2006-12-07', 40000, 0.05, '70', '989007'), \\\n",
        "\t('223112', 'Mirza', 'Sania', 'Cus_Rep', '2001-11-19', 25000, 0.04, '30', '822134');\\\n",
        "\""
      ],
      "metadata": {
        "colab": {
          "base_uri": "https://localhost:8080/"
        },
        "id": "5kWs3wyEd9Tm",
        "outputId": "fa767fe7-6007-4aa1-e9c2-8d9c4c104513"
      },
      "execution_count": 5,
      "outputs": [
        {
          "output_type": "stream",
          "name": "stdout",
          "text": [
            "NOTICE:  table \"empl\" does not exist, skipping\n",
            "INSERT 0 13\n"
          ]
        }
      ]
    },
    {
      "cell_type": "code",
      "source": [
        "#!psql -h localhost -p 5432 -Upostgres -dpraxisdb -c \"select * from dept;\"\n",
        "#!psql -h localhost -p 5432 -Uupraxis -ddbpraxis -c \"select * from dept;\""
      ],
      "metadata": {
        "id": "HyBUhbAI2PV1"
      },
      "execution_count": 6,
      "outputs": []
    },
    {
      "cell_type": "code",
      "source": [
        "#!psql -h localhost -p 5432 -U postgres -d praxisdb -c \"select * from empl;\"\n",
        "#!psql -h localhost -p 5432 -U upraxis -d dbpraxis -c \"select * from empl;\""
      ],
      "metadata": {
        "id": "byY2iccO4ctF"
      },
      "execution_count": 7,
      "outputs": []
    },
    {
      "cell_type": "markdown",
      "source": [
        "## Python Access\n",
        "https://www.tutorialspoint.com/python_data_access/python_postgresql_database_connection.htm"
      ],
      "metadata": {
        "id": "faZEj8_7CeZ8"
      }
    },
    {
      "cell_type": "code",
      "source": [
        "# Local Colab server\n",
        "\n",
        "conn = psycopg2.connect(database=\"dbpraxis\", user='upraxis', password='upass', host='127.0.0.1', port= '5432')\n",
        "#Creating a cursor object using the cursor() method\n",
        "cursor = conn.cursor()\n",
        "#Executing an MYSQL function using the execute() method\n",
        "cursor.execute(\"select version()\")\n",
        "# Fetch a single row using fetchone() method.\n",
        "data = cursor.fetchone()\n",
        "print(\"Connection established to: \",data)\n",
        "#Closing the connection\n",
        "conn.close()"
      ],
      "metadata": {
        "id": "wcE-8UBnC4zV",
        "outputId": "5e8fafdf-47d6-4929-c7de-c7c8f4cf2297",
        "colab": {
          "base_uri": "https://localhost:8080/"
        }
      },
      "execution_count": 8,
      "outputs": [
        {
          "output_type": "stream",
          "name": "stdout",
          "text": [
            "Connection established to:  ('PostgreSQL 14.18 (Ubuntu 14.18-0ubuntu0.22.04.1) on x86_64-pc-linux-gnu, compiled by gcc (Ubuntu 11.4.0-1ubuntu1~22.04) 11.4.0, 64-bit',)\n"
          ]
        }
      ]
    },
    {
      "cell_type": "code",
      "source": [
        "# function to execute SQL select statements with Postgres\n",
        "#\n",
        "def runSelect(s):\n",
        "    #Set up connection\n",
        "\n",
        "    conn = psycopg2.connect(database=\"dbpraxis\", user='upraxis', password='upass', host='127.0.0.1', port= '5432')\n",
        "    #Setting auto commit true\n",
        "    conn.autocommit = True\n",
        "    #Creating a cursor object using the cursor() method\n",
        "    cursor = conn.cursor()\n",
        "    #Retrieving data\n",
        "    cursor.execute(s)\n",
        "    #Fetching all rows from the table\n",
        "    result = cursor.fetchall();\n",
        "    #print(len(result))\n",
        "    if (len(result)) > 0:                                       # result contains at least one row\n",
        "        colnames = [desc[0] for desc in cursor.description]     # get column names\n",
        "        #print(colnames)\n",
        "        resultdf = pd.DataFrame(result)                         # convert list to dataframe\n",
        "        resultdf.columns = colnames                             # add column names\n",
        "        #return resultdf\n",
        "        return resultdf.style.hide()                            # hide the index\n",
        "    else:\n",
        "        print('no records found')\n",
        "        return\n",
        "# function to execute SQL select statements with Postgres\n",
        "#\n",
        "def runSelect2(s):\n",
        "    #Set up connection\n",
        "\n",
        "    conn = psycopg2.connect(database=\"dbpraxis\", user='upraxis', password='upass', host='127.0.0.1', port= '5432')\n",
        "    #Setting auto commit true\n",
        "    conn.autocommit = True\n",
        "    #Creating a cursor object using the cursor() method\n",
        "    cursor = conn.cursor()\n",
        "    #Retrieving data\n",
        "    cursor.execute(s)\n",
        "    #Fetching all rows from the table\n",
        "    result = cursor.fetchall();\n",
        "    #print(len(result))\n",
        "    if (len(result)) > 0:                                       # result contains at least one row\n",
        "        colnames = [desc[0] for desc in cursor.description]     # get column names\n",
        "        #print(colnames)\n",
        "        resultdf = pd.DataFrame(result)                         # convert list to dataframe\n",
        "        resultdf.columns = colnames                             # add column names\n",
        "        return resultdf\n",
        "        #return resultdf.style.hide()                            # hide the index\n",
        "    else:\n",
        "        print('no records found')\n",
        "        return\n",
        "# function to execute SQL non-select statements with Postgres\n",
        "#\n",
        "def runCmd(s):\n",
        "    #Create Connection\n",
        "    conn = psycopg2.connect(database=\"dbpraxis\", user='upraxis', password='upass', host='127.0.0.1', port= '5432')\n",
        "    #Creating a cursor object using the cursor() method\n",
        "    cursor = conn.cursor()\n",
        "    try:\n",
        "        cursor.execute(s)\n",
        "        print('Command executed')\n",
        "        conn.commit()\n",
        "    except:\n",
        "        print('Command failed')\n",
        "    #Closing the connection\n",
        "    conn.close()"
      ],
      "metadata": {
        "id": "ht2k7-3iggNd"
      },
      "execution_count": 9,
      "outputs": []
    },
    {
      "cell_type": "markdown",
      "source": [
        "#Select - getting started"
      ],
      "metadata": {
        "id": "k0rXiciVtu7Q"
      }
    },
    {
      "cell_type": "code",
      "source": [
        "#runSelect(\"select * from dept where deptid = '100'\")\n",
        "#runSelect(\"select * from dept where deptid = '10'\")\n",
        "runSelect(\"select * from dept\")"
      ],
      "metadata": {
        "id": "N3NZv0YahSs6",
        "outputId": "94eee423-f248-4ff4-b7fd-3d79fa58a497",
        "colab": {
          "base_uri": "https://localhost:8080/",
          "height": 206
        }
      },
      "execution_count": 10,
      "outputs": [
        {
          "output_type": "execute_result",
          "data": {
            "text/plain": [
              "<pandas.io.formats.style.Styler at 0x79b394a008d0>"
            ],
            "text/html": [
              "<style type=\"text/css\">\n",
              "</style>\n",
              "<table id=\"T_933c6\" class=\"dataframe\">\n",
              "  <thead>\n",
              "    <tr>\n",
              "      <th id=\"T_933c6_level0_col0\" class=\"col_heading level0 col0\" >deptid</th>\n",
              "      <th id=\"T_933c6_level0_col1\" class=\"col_heading level0 col1\" >deptname</th>\n",
              "      <th id=\"T_933c6_level0_col2\" class=\"col_heading level0 col2\" >managerid</th>\n",
              "      <th id=\"T_933c6_level0_col3\" class=\"col_heading level0 col3\" >location</th>\n",
              "      <th id=\"T_933c6_level0_col4\" class=\"col_heading level0 col4\" >locationid</th>\n",
              "    </tr>\n",
              "  </thead>\n",
              "  <tbody>\n",
              "    <tr>\n",
              "      <td id=\"T_933c6_row0_col0\" class=\"data row0 col0\" >10</td>\n",
              "      <td id=\"T_933c6_row0_col1\" class=\"data row0 col1\" >Corporate</td>\n",
              "      <td id=\"T_933c6_row0_col2\" class=\"data row0 col2\" >299034</td>\n",
              "      <td id=\"T_933c6_row0_col3\" class=\"data row0 col3\" >Calcutta</td>\n",
              "      <td id=\"T_933c6_row0_col4\" class=\"data row0 col4\" >1</td>\n",
              "    </tr>\n",
              "    <tr>\n",
              "      <td id=\"T_933c6_row1_col0\" class=\"data row1 col0\" >20</td>\n",
              "      <td id=\"T_933c6_row1_col1\" class=\"data row1 col1\" >Sales</td>\n",
              "      <td id=\"T_933c6_row1_col2\" class=\"data row1 col2\" >239456</td>\n",
              "      <td id=\"T_933c6_row1_col3\" class=\"data row1 col3\" >Calcutta</td>\n",
              "      <td id=\"T_933c6_row1_col4\" class=\"data row1 col4\" >1</td>\n",
              "    </tr>\n",
              "    <tr>\n",
              "      <td id=\"T_933c6_row2_col0\" class=\"data row2 col0\" >30</td>\n",
              "      <td id=\"T_933c6_row2_col1\" class=\"data row2 col1\" >Accounts</td>\n",
              "      <td id=\"T_933c6_row2_col2\" class=\"data row2 col2\" >822134</td>\n",
              "      <td id=\"T_933c6_row2_col3\" class=\"data row2 col3\" >Calcutta</td>\n",
              "      <td id=\"T_933c6_row2_col4\" class=\"data row2 col4\" >1</td>\n",
              "    </tr>\n",
              "    <tr>\n",
              "      <td id=\"T_933c6_row3_col0\" class=\"data row3 col0\" >40</td>\n",
              "      <td id=\"T_933c6_row3_col1\" class=\"data row3 col1\" >Production</td>\n",
              "      <td id=\"T_933c6_row3_col2\" class=\"data row3 col2\" >349870</td>\n",
              "      <td id=\"T_933c6_row3_col3\" class=\"data row3 col3\" >Bombay</td>\n",
              "      <td id=\"T_933c6_row3_col4\" class=\"data row3 col4\" >2</td>\n",
              "    </tr>\n",
              "    <tr>\n",
              "      <td id=\"T_933c6_row4_col0\" class=\"data row4 col0\" >60</td>\n",
              "      <td id=\"T_933c6_row4_col1\" class=\"data row4 col1\" >Research</td>\n",
              "      <td id=\"T_933c6_row4_col2\" class=\"data row4 col2\" >546224</td>\n",
              "      <td id=\"T_933c6_row4_col3\" class=\"data row4 col3\" >Delhi</td>\n",
              "      <td id=\"T_933c6_row4_col4\" class=\"data row4 col4\" >3</td>\n",
              "    </tr>\n",
              "  </tbody>\n",
              "</table>\n"
            ]
          },
          "metadata": {},
          "execution_count": 10
        }
      ]
    },
    {
      "cell_type": "code",
      "source": [
        "runSelect2('select * from empl').style.hide()\n",
        "#runSelect2('select * from empl')"
      ],
      "metadata": {
        "id": "9RARmjHUlGTr",
        "outputId": "6642a508-c601-4a76-939e-7e0b6b21b045",
        "colab": {
          "base_uri": "https://localhost:8080/",
          "height": 457
        }
      },
      "execution_count": 11,
      "outputs": [
        {
          "output_type": "execute_result",
          "data": {
            "text/plain": [
              "<pandas.io.formats.style.Styler at 0x79b372696150>"
            ],
            "text/html": [
              "<style type=\"text/css\">\n",
              "</style>\n",
              "<table id=\"T_bcd0a\" class=\"dataframe\">\n",
              "  <thead>\n",
              "    <tr>\n",
              "      <th id=\"T_bcd0a_level0_col0\" class=\"col_heading level0 col0\" >empid</th>\n",
              "      <th id=\"T_bcd0a_level0_col1\" class=\"col_heading level0 col1\" >lastname</th>\n",
              "      <th id=\"T_bcd0a_level0_col2\" class=\"col_heading level0 col2\" >firstname</th>\n",
              "      <th id=\"T_bcd0a_level0_col3\" class=\"col_heading level0 col3\" >jobdesc</th>\n",
              "      <th id=\"T_bcd0a_level0_col4\" class=\"col_heading level0 col4\" >joindate</th>\n",
              "      <th id=\"T_bcd0a_level0_col5\" class=\"col_heading level0 col5\" >salary</th>\n",
              "      <th id=\"T_bcd0a_level0_col6\" class=\"col_heading level0 col6\" >comm</th>\n",
              "      <th id=\"T_bcd0a_level0_col7\" class=\"col_heading level0 col7\" >deptid</th>\n",
              "      <th id=\"T_bcd0a_level0_col8\" class=\"col_heading level0 col8\" >hiredby</th>\n",
              "    </tr>\n",
              "  </thead>\n",
              "  <tbody>\n",
              "    <tr>\n",
              "      <td id=\"T_bcd0a_row0_col0\" class=\"data row0 col0\" >742866</td>\n",
              "      <td id=\"T_bcd0a_row0_col1\" class=\"data row0 col1\" >Bacchan</td>\n",
              "      <td id=\"T_bcd0a_row0_col2\" class=\"data row0 col2\" >Amitabh</td>\n",
              "      <td id=\"T_bcd0a_row0_col3\" class=\"data row0 col3\" >Executive</td>\n",
              "      <td id=\"T_bcd0a_row0_col4\" class=\"data row0 col4\" >2003-03-10</td>\n",
              "      <td id=\"T_bcd0a_row0_col5\" class=\"data row0 col5\" >50000</td>\n",
              "      <td id=\"T_bcd0a_row0_col6\" class=\"data row0 col6\" >0.10</td>\n",
              "      <td id=\"T_bcd0a_row0_col7\" class=\"data row0 col7\" >10</td>\n",
              "      <td id=\"T_bcd0a_row0_col8\" class=\"data row0 col8\" >None</td>\n",
              "    </tr>\n",
              "    <tr>\n",
              "      <td id=\"T_bcd0a_row1_col0\" class=\"data row1 col0\" >349870</td>\n",
              "      <td id=\"T_bcd0a_row1_col1\" class=\"data row1 col1\" >Mukherjee</td>\n",
              "      <td id=\"T_bcd0a_row1_col2\" class=\"data row1 col2\" >Rani</td>\n",
              "      <td id=\"T_bcd0a_row1_col3\" class=\"data row1 col3\" >Manager</td>\n",
              "      <td id=\"T_bcd0a_row1_col4\" class=\"data row1 col4\" >2005-05-04</td>\n",
              "      <td id=\"T_bcd0a_row1_col5\" class=\"data row1 col5\" >25000</td>\n",
              "      <td id=\"T_bcd0a_row1_col6\" class=\"data row1 col6\" >0.06</td>\n",
              "      <td id=\"T_bcd0a_row1_col7\" class=\"data row1 col7\" >40</td>\n",
              "      <td id=\"T_bcd0a_row1_col8\" class=\"data row1 col8\" >742866</td>\n",
              "    </tr>\n",
              "    <tr>\n",
              "      <td id=\"T_bcd0a_row2_col0\" class=\"data row2 col0\" >865477</td>\n",
              "      <td id=\"T_bcd0a_row2_col1\" class=\"data row2 col1\" >Dikshit</td>\n",
              "      <td id=\"T_bcd0a_row2_col2\" class=\"data row2 col2\" >Madhuri</td>\n",
              "      <td id=\"T_bcd0a_row2_col3\" class=\"data row2 col3\" >Clerk</td>\n",
              "      <td id=\"T_bcd0a_row2_col4\" class=\"data row2 col4\" >2002-04-04</td>\n",
              "      <td id=\"T_bcd0a_row2_col5\" class=\"data row2 col5\" >10000</td>\n",
              "      <td id=\"T_bcd0a_row2_col6\" class=\"data row2 col6\" >0.02</td>\n",
              "      <td id=\"T_bcd0a_row2_col7\" class=\"data row2 col7\" >20</td>\n",
              "      <td id=\"T_bcd0a_row2_col8\" class=\"data row2 col8\" >239456</td>\n",
              "    </tr>\n",
              "    <tr>\n",
              "      <td id=\"T_bcd0a_row3_col0\" class=\"data row3 col0\" >239456</td>\n",
              "      <td id=\"T_bcd0a_row3_col1\" class=\"data row3 col1\" >Khan</td>\n",
              "      <td id=\"T_bcd0a_row3_col2\" class=\"data row3 col2\" >Shahrukh</td>\n",
              "      <td id=\"T_bcd0a_row3_col3\" class=\"data row3 col3\" >Manager</td>\n",
              "      <td id=\"T_bcd0a_row3_col4\" class=\"data row3 col4\" >2004-01-03</td>\n",
              "      <td id=\"T_bcd0a_row3_col5\" class=\"data row3 col5\" >30000</td>\n",
              "      <td id=\"T_bcd0a_row3_col6\" class=\"data row3 col6\" >0.07</td>\n",
              "      <td id=\"T_bcd0a_row3_col7\" class=\"data row3 col7\" >20</td>\n",
              "      <td id=\"T_bcd0a_row3_col8\" class=\"data row3 col8\" >742866</td>\n",
              "    </tr>\n",
              "    <tr>\n",
              "      <td id=\"T_bcd0a_row4_col0\" class=\"data row4 col0\" >897889</td>\n",
              "      <td id=\"T_bcd0a_row4_col1\" class=\"data row4 col1\" >Sehwag</td>\n",
              "      <td id=\"T_bcd0a_row4_col2\" class=\"data row4 col2\" >Virender</td>\n",
              "      <td id=\"T_bcd0a_row4_col3\" class=\"data row4 col3\" >Cus_Rep</td>\n",
              "      <td id=\"T_bcd0a_row4_col4\" class=\"data row4 col4\" >2005-01-02</td>\n",
              "      <td id=\"T_bcd0a_row4_col5\" class=\"data row4 col5\" >15000</td>\n",
              "      <td id=\"T_bcd0a_row4_col6\" class=\"data row4 col6\" >0.05</td>\n",
              "      <td id=\"T_bcd0a_row4_col7\" class=\"data row4 col7\" >20</td>\n",
              "      <td id=\"T_bcd0a_row4_col8\" class=\"data row4 col8\" >239456</td>\n",
              "    </tr>\n",
              "    <tr>\n",
              "      <td id=\"T_bcd0a_row5_col0\" class=\"data row5 col0\" >123980</td>\n",
              "      <td id=\"T_bcd0a_row5_col1\" class=\"data row5 col1\" >Dhoni</td>\n",
              "      <td id=\"T_bcd0a_row5_col2\" class=\"data row5 col2\" >Mahender</td>\n",
              "      <td id=\"T_bcd0a_row5_col3\" class=\"data row5 col3\" >Clerk</td>\n",
              "      <td id=\"T_bcd0a_row5_col4\" class=\"data row5 col4\" >2004-10-09</td>\n",
              "      <td id=\"T_bcd0a_row5_col5\" class=\"data row5 col5\" >9000</td>\n",
              "      <td id=\"T_bcd0a_row5_col6\" class=\"data row5 col6\" >0.02</td>\n",
              "      <td id=\"T_bcd0a_row5_col7\" class=\"data row5 col7\" >40</td>\n",
              "      <td id=\"T_bcd0a_row5_col8\" class=\"data row5 col8\" >349870</td>\n",
              "    </tr>\n",
              "    <tr>\n",
              "      <td id=\"T_bcd0a_row6_col0\" class=\"data row6 col0\" >822134</td>\n",
              "      <td id=\"T_bcd0a_row6_col1\" class=\"data row6 col1\" >Dravid</td>\n",
              "      <td id=\"T_bcd0a_row6_col2\" class=\"data row6 col2\" >Rahul</td>\n",
              "      <td id=\"T_bcd0a_row6_col3\" class=\"data row6 col3\" >Sr Manager</td>\n",
              "      <td id=\"T_bcd0a_row6_col4\" class=\"data row6 col4\" >2000-06-04</td>\n",
              "      <td id=\"T_bcd0a_row6_col5\" class=\"data row6 col5\" >40000</td>\n",
              "      <td id=\"T_bcd0a_row6_col6\" class=\"data row6 col6\" >0.08</td>\n",
              "      <td id=\"T_bcd0a_row6_col7\" class=\"data row6 col7\" >30</td>\n",
              "      <td id=\"T_bcd0a_row6_col8\" class=\"data row6 col8\" >742866</td>\n",
              "    </tr>\n",
              "    <tr>\n",
              "      <td id=\"T_bcd0a_row7_col0\" class=\"data row7 col0\" >997445</td>\n",
              "      <td id=\"T_bcd0a_row7_col1\" class=\"data row7 col1\" >Dalmia</td>\n",
              "      <td id=\"T_bcd0a_row7_col2\" class=\"data row7 col2\" >Jagmohan</td>\n",
              "      <td id=\"T_bcd0a_row7_col3\" class=\"data row7 col3\" >Clerk</td>\n",
              "      <td id=\"T_bcd0a_row7_col4\" class=\"data row7 col4\" >2001-07-01</td>\n",
              "      <td id=\"T_bcd0a_row7_col5\" class=\"data row7 col5\" >12000</td>\n",
              "      <td id=\"T_bcd0a_row7_col6\" class=\"data row7 col6\" >0.02</td>\n",
              "      <td id=\"T_bcd0a_row7_col7\" class=\"data row7 col7\" >30</td>\n",
              "      <td id=\"T_bcd0a_row7_col8\" class=\"data row7 col8\" >822134</td>\n",
              "    </tr>\n",
              "    <tr>\n",
              "      <td id=\"T_bcd0a_row8_col0\" class=\"data row8 col0\" >989007</td>\n",
              "      <td id=\"T_bcd0a_row8_col1\" class=\"data row8 col1\" >Ganguly</td>\n",
              "      <td id=\"T_bcd0a_row8_col2\" class=\"data row8 col2\" >Sourav</td>\n",
              "      <td id=\"T_bcd0a_row8_col3\" class=\"data row8 col3\" >Cus_Rep</td>\n",
              "      <td id=\"T_bcd0a_row8_col4\" class=\"data row8 col4\" >2002-01-01</td>\n",
              "      <td id=\"T_bcd0a_row8_col5\" class=\"data row8 col5\" >20000</td>\n",
              "      <td id=\"T_bcd0a_row8_col6\" class=\"data row8 col6\" >0.03</td>\n",
              "      <td id=\"T_bcd0a_row8_col7\" class=\"data row8 col7\" >40</td>\n",
              "      <td id=\"T_bcd0a_row8_col8\" class=\"data row8 col8\" >299034</td>\n",
              "    </tr>\n",
              "    <tr>\n",
              "      <td id=\"T_bcd0a_row9_col0\" class=\"data row9 col0\" >299034</td>\n",
              "      <td id=\"T_bcd0a_row9_col1\" class=\"data row9 col1\" >Ganesan</td>\n",
              "      <td id=\"T_bcd0a_row9_col2\" class=\"data row9 col2\" >Rekha</td>\n",
              "      <td id=\"T_bcd0a_row9_col3\" class=\"data row9 col3\" >Director</td>\n",
              "      <td id=\"T_bcd0a_row9_col4\" class=\"data row9 col4\" >2002-10-10</td>\n",
              "      <td id=\"T_bcd0a_row9_col5\" class=\"data row9 col5\" >60000</td>\n",
              "      <td id=\"T_bcd0a_row9_col6\" class=\"data row9 col6\" >0.11</td>\n",
              "      <td id=\"T_bcd0a_row9_col7\" class=\"data row9 col7\" >10</td>\n",
              "      <td id=\"T_bcd0a_row9_col8\" class=\"data row9 col8\" >742866</td>\n",
              "    </tr>\n",
              "    <tr>\n",
              "      <td id=\"T_bcd0a_row10_col0\" class=\"data row10 col0\" >546223</td>\n",
              "      <td id=\"T_bcd0a_row10_col1\" class=\"data row10 col1\" >Karthikeyan</td>\n",
              "      <td id=\"T_bcd0a_row10_col2\" class=\"data row10 col2\" >Narayan</td>\n",
              "      <td id=\"T_bcd0a_row10_col3\" class=\"data row10 col3\" >Secretary</td>\n",
              "      <td id=\"T_bcd0a_row10_col4\" class=\"data row10 col4\" >2005-12-04</td>\n",
              "      <td id=\"T_bcd0a_row10_col5\" class=\"data row10 col5\" >40000</td>\n",
              "      <td id=\"T_bcd0a_row10_col6\" class=\"data row10 col6\" >0.09</td>\n",
              "      <td id=\"T_bcd0a_row10_col7\" class=\"data row10 col7\" >10</td>\n",
              "      <td id=\"T_bcd0a_row10_col8\" class=\"data row10 col8\" >299034</td>\n",
              "    </tr>\n",
              "    <tr>\n",
              "      <td id=\"T_bcd0a_row11_col0\" class=\"data row11 col0\" >546224</td>\n",
              "      <td id=\"T_bcd0a_row11_col1\" class=\"data row11 col1\" >Sunil</td>\n",
              "      <td id=\"T_bcd0a_row11_col2\" class=\"data row11 col2\" >Chettri</td>\n",
              "      <td id=\"T_bcd0a_row11_col3\" class=\"data row11 col3\" >Dy Manager</td>\n",
              "      <td id=\"T_bcd0a_row11_col4\" class=\"data row11 col4\" >2006-12-07</td>\n",
              "      <td id=\"T_bcd0a_row11_col5\" class=\"data row11 col5\" >40000</td>\n",
              "      <td id=\"T_bcd0a_row11_col6\" class=\"data row11 col6\" >0.05</td>\n",
              "      <td id=\"T_bcd0a_row11_col7\" class=\"data row11 col7\" >70</td>\n",
              "      <td id=\"T_bcd0a_row11_col8\" class=\"data row11 col8\" >989007</td>\n",
              "    </tr>\n",
              "    <tr>\n",
              "      <td id=\"T_bcd0a_row12_col0\" class=\"data row12 col0\" >223112</td>\n",
              "      <td id=\"T_bcd0a_row12_col1\" class=\"data row12 col1\" >Mirza</td>\n",
              "      <td id=\"T_bcd0a_row12_col2\" class=\"data row12 col2\" >Sania</td>\n",
              "      <td id=\"T_bcd0a_row12_col3\" class=\"data row12 col3\" >Cus_Rep</td>\n",
              "      <td id=\"T_bcd0a_row12_col4\" class=\"data row12 col4\" >2001-11-19</td>\n",
              "      <td id=\"T_bcd0a_row12_col5\" class=\"data row12 col5\" >25000</td>\n",
              "      <td id=\"T_bcd0a_row12_col6\" class=\"data row12 col6\" >0.04</td>\n",
              "      <td id=\"T_bcd0a_row12_col7\" class=\"data row12 col7\" >30</td>\n",
              "      <td id=\"T_bcd0a_row12_col8\" class=\"data row12 col8\" >822134</td>\n",
              "    </tr>\n",
              "  </tbody>\n",
              "</table>\n"
            ]
          },
          "metadata": {},
          "execution_count": 11
        }
      ]
    },
    {
      "cell_type": "code",
      "source": [
        "df= runSelect2('select * from empl')\n",
        "df.head()"
      ],
      "metadata": {
        "id": "Otiv4rjSl5Tg",
        "outputId": "c5109418-a5e8-48e6-ba59-221cff0b2c4c",
        "colab": {
          "base_uri": "https://localhost:8080/",
          "height": 206
        }
      },
      "execution_count": 12,
      "outputs": [
        {
          "output_type": "execute_result",
          "data": {
            "text/plain": [
              "    empid   lastname firstname    jobdesc    joindate  salary  comm deptid  \\\n",
              "0  742866    Bacchan   Amitabh  Executive  2003-03-10   50000  0.10     10   \n",
              "1  349870  Mukherjee      Rani    Manager  2005-05-04   25000  0.06     40   \n",
              "2  865477    Dikshit   Madhuri      Clerk  2002-04-04   10000  0.02     20   \n",
              "3  239456       Khan  Shahrukh    Manager  2004-01-03   30000  0.07     20   \n",
              "4  897889     Sehwag  Virender    Cus_Rep  2005-01-02   15000  0.05     20   \n",
              "\n",
              "  hiredby  \n",
              "0    None  \n",
              "1  742866  \n",
              "2  239456  \n",
              "3  742866  \n",
              "4  239456  "
            ],
            "text/html": [
              "\n",
              "  <div id=\"df-7bf5b6d6-b71f-447f-bf4e-a0dc8e5e4024\" class=\"colab-df-container\">\n",
              "    <div>\n",
              "<style scoped>\n",
              "    .dataframe tbody tr th:only-of-type {\n",
              "        vertical-align: middle;\n",
              "    }\n",
              "\n",
              "    .dataframe tbody tr th {\n",
              "        vertical-align: top;\n",
              "    }\n",
              "\n",
              "    .dataframe thead th {\n",
              "        text-align: right;\n",
              "    }\n",
              "</style>\n",
              "<table border=\"1\" class=\"dataframe\">\n",
              "  <thead>\n",
              "    <tr style=\"text-align: right;\">\n",
              "      <th></th>\n",
              "      <th>empid</th>\n",
              "      <th>lastname</th>\n",
              "      <th>firstname</th>\n",
              "      <th>jobdesc</th>\n",
              "      <th>joindate</th>\n",
              "      <th>salary</th>\n",
              "      <th>comm</th>\n",
              "      <th>deptid</th>\n",
              "      <th>hiredby</th>\n",
              "    </tr>\n",
              "  </thead>\n",
              "  <tbody>\n",
              "    <tr>\n",
              "      <th>0</th>\n",
              "      <td>742866</td>\n",
              "      <td>Bacchan</td>\n",
              "      <td>Amitabh</td>\n",
              "      <td>Executive</td>\n",
              "      <td>2003-03-10</td>\n",
              "      <td>50000</td>\n",
              "      <td>0.10</td>\n",
              "      <td>10</td>\n",
              "      <td>None</td>\n",
              "    </tr>\n",
              "    <tr>\n",
              "      <th>1</th>\n",
              "      <td>349870</td>\n",
              "      <td>Mukherjee</td>\n",
              "      <td>Rani</td>\n",
              "      <td>Manager</td>\n",
              "      <td>2005-05-04</td>\n",
              "      <td>25000</td>\n",
              "      <td>0.06</td>\n",
              "      <td>40</td>\n",
              "      <td>742866</td>\n",
              "    </tr>\n",
              "    <tr>\n",
              "      <th>2</th>\n",
              "      <td>865477</td>\n",
              "      <td>Dikshit</td>\n",
              "      <td>Madhuri</td>\n",
              "      <td>Clerk</td>\n",
              "      <td>2002-04-04</td>\n",
              "      <td>10000</td>\n",
              "      <td>0.02</td>\n",
              "      <td>20</td>\n",
              "      <td>239456</td>\n",
              "    </tr>\n",
              "    <tr>\n",
              "      <th>3</th>\n",
              "      <td>239456</td>\n",
              "      <td>Khan</td>\n",
              "      <td>Shahrukh</td>\n",
              "      <td>Manager</td>\n",
              "      <td>2004-01-03</td>\n",
              "      <td>30000</td>\n",
              "      <td>0.07</td>\n",
              "      <td>20</td>\n",
              "      <td>742866</td>\n",
              "    </tr>\n",
              "    <tr>\n",
              "      <th>4</th>\n",
              "      <td>897889</td>\n",
              "      <td>Sehwag</td>\n",
              "      <td>Virender</td>\n",
              "      <td>Cus_Rep</td>\n",
              "      <td>2005-01-02</td>\n",
              "      <td>15000</td>\n",
              "      <td>0.05</td>\n",
              "      <td>20</td>\n",
              "      <td>239456</td>\n",
              "    </tr>\n",
              "  </tbody>\n",
              "</table>\n",
              "</div>\n",
              "    <div class=\"colab-df-buttons\">\n",
              "\n",
              "  <div class=\"colab-df-container\">\n",
              "    <button class=\"colab-df-convert\" onclick=\"convertToInteractive('df-7bf5b6d6-b71f-447f-bf4e-a0dc8e5e4024')\"\n",
              "            title=\"Convert this dataframe to an interactive table.\"\n",
              "            style=\"display:none;\">\n",
              "\n",
              "  <svg xmlns=\"http://www.w3.org/2000/svg\" height=\"24px\" viewBox=\"0 -960 960 960\">\n",
              "    <path d=\"M120-120v-720h720v720H120Zm60-500h600v-160H180v160Zm220 220h160v-160H400v160Zm0 220h160v-160H400v160ZM180-400h160v-160H180v160Zm440 0h160v-160H620v160ZM180-180h160v-160H180v160Zm440 0h160v-160H620v160Z\"/>\n",
              "  </svg>\n",
              "    </button>\n",
              "\n",
              "  <style>\n",
              "    .colab-df-container {\n",
              "      display:flex;\n",
              "      gap: 12px;\n",
              "    }\n",
              "\n",
              "    .colab-df-convert {\n",
              "      background-color: #E8F0FE;\n",
              "      border: none;\n",
              "      border-radius: 50%;\n",
              "      cursor: pointer;\n",
              "      display: none;\n",
              "      fill: #1967D2;\n",
              "      height: 32px;\n",
              "      padding: 0 0 0 0;\n",
              "      width: 32px;\n",
              "    }\n",
              "\n",
              "    .colab-df-convert:hover {\n",
              "      background-color: #E2EBFA;\n",
              "      box-shadow: 0px 1px 2px rgba(60, 64, 67, 0.3), 0px 1px 3px 1px rgba(60, 64, 67, 0.15);\n",
              "      fill: #174EA6;\n",
              "    }\n",
              "\n",
              "    .colab-df-buttons div {\n",
              "      margin-bottom: 4px;\n",
              "    }\n",
              "\n",
              "    [theme=dark] .colab-df-convert {\n",
              "      background-color: #3B4455;\n",
              "      fill: #D2E3FC;\n",
              "    }\n",
              "\n",
              "    [theme=dark] .colab-df-convert:hover {\n",
              "      background-color: #434B5C;\n",
              "      box-shadow: 0px 1px 3px 1px rgba(0, 0, 0, 0.15);\n",
              "      filter: drop-shadow(0px 1px 2px rgba(0, 0, 0, 0.3));\n",
              "      fill: #FFFFFF;\n",
              "    }\n",
              "  </style>\n",
              "\n",
              "    <script>\n",
              "      const buttonEl =\n",
              "        document.querySelector('#df-7bf5b6d6-b71f-447f-bf4e-a0dc8e5e4024 button.colab-df-convert');\n",
              "      buttonEl.style.display =\n",
              "        google.colab.kernel.accessAllowed ? 'block' : 'none';\n",
              "\n",
              "      async function convertToInteractive(key) {\n",
              "        const element = document.querySelector('#df-7bf5b6d6-b71f-447f-bf4e-a0dc8e5e4024');\n",
              "        const dataTable =\n",
              "          await google.colab.kernel.invokeFunction('convertToInteractive',\n",
              "                                                    [key], {});\n",
              "        if (!dataTable) return;\n",
              "\n",
              "        const docLinkHtml = 'Like what you see? Visit the ' +\n",
              "          '<a target=\"_blank\" href=https://colab.research.google.com/notebooks/data_table.ipynb>data table notebook</a>'\n",
              "          + ' to learn more about interactive tables.';\n",
              "        element.innerHTML = '';\n",
              "        dataTable['output_type'] = 'display_data';\n",
              "        await google.colab.output.renderOutput(dataTable, element);\n",
              "        const docLink = document.createElement('div');\n",
              "        docLink.innerHTML = docLinkHtml;\n",
              "        element.appendChild(docLink);\n",
              "      }\n",
              "    </script>\n",
              "  </div>\n",
              "\n",
              "\n",
              "    <div id=\"df-2da8d183-8b13-4b86-8530-7004992d385f\">\n",
              "      <button class=\"colab-df-quickchart\" onclick=\"quickchart('df-2da8d183-8b13-4b86-8530-7004992d385f')\"\n",
              "                title=\"Suggest charts\"\n",
              "                style=\"display:none;\">\n",
              "\n",
              "<svg xmlns=\"http://www.w3.org/2000/svg\" height=\"24px\"viewBox=\"0 0 24 24\"\n",
              "     width=\"24px\">\n",
              "    <g>\n",
              "        <path d=\"M19 3H5c-1.1 0-2 .9-2 2v14c0 1.1.9 2 2 2h14c1.1 0 2-.9 2-2V5c0-1.1-.9-2-2-2zM9 17H7v-7h2v7zm4 0h-2V7h2v10zm4 0h-2v-4h2v4z\"/>\n",
              "    </g>\n",
              "</svg>\n",
              "      </button>\n",
              "\n",
              "<style>\n",
              "  .colab-df-quickchart {\n",
              "      --bg-color: #E8F0FE;\n",
              "      --fill-color: #1967D2;\n",
              "      --hover-bg-color: #E2EBFA;\n",
              "      --hover-fill-color: #174EA6;\n",
              "      --disabled-fill-color: #AAA;\n",
              "      --disabled-bg-color: #DDD;\n",
              "  }\n",
              "\n",
              "  [theme=dark] .colab-df-quickchart {\n",
              "      --bg-color: #3B4455;\n",
              "      --fill-color: #D2E3FC;\n",
              "      --hover-bg-color: #434B5C;\n",
              "      --hover-fill-color: #FFFFFF;\n",
              "      --disabled-bg-color: #3B4455;\n",
              "      --disabled-fill-color: #666;\n",
              "  }\n",
              "\n",
              "  .colab-df-quickchart {\n",
              "    background-color: var(--bg-color);\n",
              "    border: none;\n",
              "    border-radius: 50%;\n",
              "    cursor: pointer;\n",
              "    display: none;\n",
              "    fill: var(--fill-color);\n",
              "    height: 32px;\n",
              "    padding: 0;\n",
              "    width: 32px;\n",
              "  }\n",
              "\n",
              "  .colab-df-quickchart:hover {\n",
              "    background-color: var(--hover-bg-color);\n",
              "    box-shadow: 0 1px 2px rgba(60, 64, 67, 0.3), 0 1px 3px 1px rgba(60, 64, 67, 0.15);\n",
              "    fill: var(--button-hover-fill-color);\n",
              "  }\n",
              "\n",
              "  .colab-df-quickchart-complete:disabled,\n",
              "  .colab-df-quickchart-complete:disabled:hover {\n",
              "    background-color: var(--disabled-bg-color);\n",
              "    fill: var(--disabled-fill-color);\n",
              "    box-shadow: none;\n",
              "  }\n",
              "\n",
              "  .colab-df-spinner {\n",
              "    border: 2px solid var(--fill-color);\n",
              "    border-color: transparent;\n",
              "    border-bottom-color: var(--fill-color);\n",
              "    animation:\n",
              "      spin 1s steps(1) infinite;\n",
              "  }\n",
              "\n",
              "  @keyframes spin {\n",
              "    0% {\n",
              "      border-color: transparent;\n",
              "      border-bottom-color: var(--fill-color);\n",
              "      border-left-color: var(--fill-color);\n",
              "    }\n",
              "    20% {\n",
              "      border-color: transparent;\n",
              "      border-left-color: var(--fill-color);\n",
              "      border-top-color: var(--fill-color);\n",
              "    }\n",
              "    30% {\n",
              "      border-color: transparent;\n",
              "      border-left-color: var(--fill-color);\n",
              "      border-top-color: var(--fill-color);\n",
              "      border-right-color: var(--fill-color);\n",
              "    }\n",
              "    40% {\n",
              "      border-color: transparent;\n",
              "      border-right-color: var(--fill-color);\n",
              "      border-top-color: var(--fill-color);\n",
              "    }\n",
              "    60% {\n",
              "      border-color: transparent;\n",
              "      border-right-color: var(--fill-color);\n",
              "    }\n",
              "    80% {\n",
              "      border-color: transparent;\n",
              "      border-right-color: var(--fill-color);\n",
              "      border-bottom-color: var(--fill-color);\n",
              "    }\n",
              "    90% {\n",
              "      border-color: transparent;\n",
              "      border-bottom-color: var(--fill-color);\n",
              "    }\n",
              "  }\n",
              "</style>\n",
              "\n",
              "      <script>\n",
              "        async function quickchart(key) {\n",
              "          const quickchartButtonEl =\n",
              "            document.querySelector('#' + key + ' button');\n",
              "          quickchartButtonEl.disabled = true;  // To prevent multiple clicks.\n",
              "          quickchartButtonEl.classList.add('colab-df-spinner');\n",
              "          try {\n",
              "            const charts = await google.colab.kernel.invokeFunction(\n",
              "                'suggestCharts', [key], {});\n",
              "          } catch (error) {\n",
              "            console.error('Error during call to suggestCharts:', error);\n",
              "          }\n",
              "          quickchartButtonEl.classList.remove('colab-df-spinner');\n",
              "          quickchartButtonEl.classList.add('colab-df-quickchart-complete');\n",
              "        }\n",
              "        (() => {\n",
              "          let quickchartButtonEl =\n",
              "            document.querySelector('#df-2da8d183-8b13-4b86-8530-7004992d385f button');\n",
              "          quickchartButtonEl.style.display =\n",
              "            google.colab.kernel.accessAllowed ? 'block' : 'none';\n",
              "        })();\n",
              "      </script>\n",
              "    </div>\n",
              "\n",
              "    </div>\n",
              "  </div>\n"
            ],
            "application/vnd.google.colaboratory.intrinsic+json": {
              "type": "dataframe",
              "variable_name": "df",
              "summary": "{\n  \"name\": \"df\",\n  \"rows\": 13,\n  \"fields\": [\n    {\n      \"column\": \"empid\",\n      \"properties\": {\n        \"dtype\": \"string\",\n        \"num_unique_values\": 13,\n        \"samples\": [\n          \"546224\",\n          \"299034\",\n          \"742866\"\n        ],\n        \"semantic_type\": \"\",\n        \"description\": \"\"\n      }\n    },\n    {\n      \"column\": \"lastname\",\n      \"properties\": {\n        \"dtype\": \"string\",\n        \"num_unique_values\": 13,\n        \"samples\": [\n          \"Sunil\",\n          \"Ganesan\",\n          \"Bacchan\"\n        ],\n        \"semantic_type\": \"\",\n        \"description\": \"\"\n      }\n    },\n    {\n      \"column\": \"firstname\",\n      \"properties\": {\n        \"dtype\": \"string\",\n        \"num_unique_values\": 13,\n        \"samples\": [\n          \"Chettri\",\n          \"Rekha\",\n          \"Amitabh\"\n        ],\n        \"semantic_type\": \"\",\n        \"description\": \"\"\n      }\n    },\n    {\n      \"column\": \"jobdesc\",\n      \"properties\": {\n        \"dtype\": \"string\",\n        \"num_unique_values\": 8,\n        \"samples\": [\n          \"Manager\",\n          \"Director\",\n          \"Executive\"\n        ],\n        \"semantic_type\": \"\",\n        \"description\": \"\"\n      }\n    },\n    {\n      \"column\": \"joindate\",\n      \"properties\": {\n        \"dtype\": \"date\",\n        \"min\": \"2000-06-04\",\n        \"max\": \"2006-12-07\",\n        \"num_unique_values\": 13,\n        \"samples\": [\n          \"2006-12-07\",\n          \"2002-10-10\",\n          \"2003-03-10\"\n        ],\n        \"semantic_type\": \"\",\n        \"description\": \"\"\n      }\n    },\n    {\n      \"column\": \"salary\",\n      \"properties\": {\n        \"dtype\": \"number\",\n        \"std\": 16137,\n        \"min\": 9000,\n        \"max\": 60000,\n        \"num_unique_values\": 10,\n        \"samples\": [\n          20000,\n          25000,\n          9000\n        ],\n        \"semantic_type\": \"\",\n        \"description\": \"\"\n      }\n    },\n    {\n      \"column\": \"comm\",\n      \"properties\": {\n        \"dtype\": \"string\",\n        \"num_unique_values\": 10,\n        \"samples\": [\n          \"0.09\",\n          \"0.06\",\n          \"0.08\"\n        ],\n        \"semantic_type\": \"\",\n        \"description\": \"\"\n      }\n    },\n    {\n      \"column\": \"deptid\",\n      \"properties\": {\n        \"dtype\": \"category\",\n        \"num_unique_values\": 5,\n        \"samples\": [\n          \"40\",\n          \"70\",\n          \"20\"\n        ],\n        \"semantic_type\": \"\",\n        \"description\": \"\"\n      }\n    },\n    {\n      \"column\": \"hiredby\",\n      \"properties\": {\n        \"dtype\": \"category\",\n        \"num_unique_values\": 6,\n        \"samples\": [\n          \"742866\",\n          \"239456\",\n          \"989007\"\n        ],\n        \"semantic_type\": \"\",\n        \"description\": \"\"\n      }\n    }\n  ]\n}"
            }
          },
          "metadata": {},
          "execution_count": 12
        }
      ]
    },
    {
      "cell_type": "code",
      "source": [
        "runSelect('select lastname, jobdesc, salary from empl')"
      ],
      "metadata": {
        "id": "z-mxVMPuuxu6",
        "outputId": "d3d4b7a5-4a04-4ae0-8755-4b7ee36ef186",
        "colab": {
          "base_uri": "https://localhost:8080/",
          "height": 457
        }
      },
      "execution_count": 13,
      "outputs": [
        {
          "output_type": "execute_result",
          "data": {
            "text/plain": [
              "<pandas.io.formats.style.Styler at 0x79b37256c650>"
            ],
            "text/html": [
              "<style type=\"text/css\">\n",
              "</style>\n",
              "<table id=\"T_51ddf\" class=\"dataframe\">\n",
              "  <thead>\n",
              "    <tr>\n",
              "      <th id=\"T_51ddf_level0_col0\" class=\"col_heading level0 col0\" >lastname</th>\n",
              "      <th id=\"T_51ddf_level0_col1\" class=\"col_heading level0 col1\" >jobdesc</th>\n",
              "      <th id=\"T_51ddf_level0_col2\" class=\"col_heading level0 col2\" >salary</th>\n",
              "    </tr>\n",
              "  </thead>\n",
              "  <tbody>\n",
              "    <tr>\n",
              "      <td id=\"T_51ddf_row0_col0\" class=\"data row0 col0\" >Bacchan</td>\n",
              "      <td id=\"T_51ddf_row0_col1\" class=\"data row0 col1\" >Executive</td>\n",
              "      <td id=\"T_51ddf_row0_col2\" class=\"data row0 col2\" >50000</td>\n",
              "    </tr>\n",
              "    <tr>\n",
              "      <td id=\"T_51ddf_row1_col0\" class=\"data row1 col0\" >Mukherjee</td>\n",
              "      <td id=\"T_51ddf_row1_col1\" class=\"data row1 col1\" >Manager</td>\n",
              "      <td id=\"T_51ddf_row1_col2\" class=\"data row1 col2\" >25000</td>\n",
              "    </tr>\n",
              "    <tr>\n",
              "      <td id=\"T_51ddf_row2_col0\" class=\"data row2 col0\" >Dikshit</td>\n",
              "      <td id=\"T_51ddf_row2_col1\" class=\"data row2 col1\" >Clerk</td>\n",
              "      <td id=\"T_51ddf_row2_col2\" class=\"data row2 col2\" >10000</td>\n",
              "    </tr>\n",
              "    <tr>\n",
              "      <td id=\"T_51ddf_row3_col0\" class=\"data row3 col0\" >Khan</td>\n",
              "      <td id=\"T_51ddf_row3_col1\" class=\"data row3 col1\" >Manager</td>\n",
              "      <td id=\"T_51ddf_row3_col2\" class=\"data row3 col2\" >30000</td>\n",
              "    </tr>\n",
              "    <tr>\n",
              "      <td id=\"T_51ddf_row4_col0\" class=\"data row4 col0\" >Sehwag</td>\n",
              "      <td id=\"T_51ddf_row4_col1\" class=\"data row4 col1\" >Cus_Rep</td>\n",
              "      <td id=\"T_51ddf_row4_col2\" class=\"data row4 col2\" >15000</td>\n",
              "    </tr>\n",
              "    <tr>\n",
              "      <td id=\"T_51ddf_row5_col0\" class=\"data row5 col0\" >Dhoni</td>\n",
              "      <td id=\"T_51ddf_row5_col1\" class=\"data row5 col1\" >Clerk</td>\n",
              "      <td id=\"T_51ddf_row5_col2\" class=\"data row5 col2\" >9000</td>\n",
              "    </tr>\n",
              "    <tr>\n",
              "      <td id=\"T_51ddf_row6_col0\" class=\"data row6 col0\" >Dravid</td>\n",
              "      <td id=\"T_51ddf_row6_col1\" class=\"data row6 col1\" >Sr Manager</td>\n",
              "      <td id=\"T_51ddf_row6_col2\" class=\"data row6 col2\" >40000</td>\n",
              "    </tr>\n",
              "    <tr>\n",
              "      <td id=\"T_51ddf_row7_col0\" class=\"data row7 col0\" >Dalmia</td>\n",
              "      <td id=\"T_51ddf_row7_col1\" class=\"data row7 col1\" >Clerk</td>\n",
              "      <td id=\"T_51ddf_row7_col2\" class=\"data row7 col2\" >12000</td>\n",
              "    </tr>\n",
              "    <tr>\n",
              "      <td id=\"T_51ddf_row8_col0\" class=\"data row8 col0\" >Ganguly</td>\n",
              "      <td id=\"T_51ddf_row8_col1\" class=\"data row8 col1\" >Cus_Rep</td>\n",
              "      <td id=\"T_51ddf_row8_col2\" class=\"data row8 col2\" >20000</td>\n",
              "    </tr>\n",
              "    <tr>\n",
              "      <td id=\"T_51ddf_row9_col0\" class=\"data row9 col0\" >Ganesan</td>\n",
              "      <td id=\"T_51ddf_row9_col1\" class=\"data row9 col1\" >Director</td>\n",
              "      <td id=\"T_51ddf_row9_col2\" class=\"data row9 col2\" >60000</td>\n",
              "    </tr>\n",
              "    <tr>\n",
              "      <td id=\"T_51ddf_row10_col0\" class=\"data row10 col0\" >Karthikeyan</td>\n",
              "      <td id=\"T_51ddf_row10_col1\" class=\"data row10 col1\" >Secretary</td>\n",
              "      <td id=\"T_51ddf_row10_col2\" class=\"data row10 col2\" >40000</td>\n",
              "    </tr>\n",
              "    <tr>\n",
              "      <td id=\"T_51ddf_row11_col0\" class=\"data row11 col0\" >Sunil</td>\n",
              "      <td id=\"T_51ddf_row11_col1\" class=\"data row11 col1\" >Dy Manager</td>\n",
              "      <td id=\"T_51ddf_row11_col2\" class=\"data row11 col2\" >40000</td>\n",
              "    </tr>\n",
              "    <tr>\n",
              "      <td id=\"T_51ddf_row12_col0\" class=\"data row12 col0\" >Mirza</td>\n",
              "      <td id=\"T_51ddf_row12_col1\" class=\"data row12 col1\" >Cus_Rep</td>\n",
              "      <td id=\"T_51ddf_row12_col2\" class=\"data row12 col2\" >25000</td>\n",
              "    </tr>\n",
              "  </tbody>\n",
              "</table>\n"
            ]
          },
          "metadata": {},
          "execution_count": 13
        }
      ]
    },
    {
      "cell_type": "code",
      "source": [
        "runSelect('select distinct(jobdesc) from empl')"
      ],
      "metadata": {
        "id": "7uvcAdlCvg-p",
        "outputId": "581b1056-56e1-4da5-db20-222ef994d850",
        "colab": {
          "base_uri": "https://localhost:8080/",
          "height": 300
        }
      },
      "execution_count": 14,
      "outputs": [
        {
          "output_type": "execute_result",
          "data": {
            "text/plain": [
              "<pandas.io.formats.style.Styler at 0x79b37264de50>"
            ],
            "text/html": [
              "<style type=\"text/css\">\n",
              "</style>\n",
              "<table id=\"T_067bf\" class=\"dataframe\">\n",
              "  <thead>\n",
              "    <tr>\n",
              "      <th id=\"T_067bf_level0_col0\" class=\"col_heading level0 col0\" >jobdesc</th>\n",
              "    </tr>\n",
              "  </thead>\n",
              "  <tbody>\n",
              "    <tr>\n",
              "      <td id=\"T_067bf_row0_col0\" class=\"data row0 col0\" >Director</td>\n",
              "    </tr>\n",
              "    <tr>\n",
              "      <td id=\"T_067bf_row1_col0\" class=\"data row1 col0\" >Manager</td>\n",
              "    </tr>\n",
              "    <tr>\n",
              "      <td id=\"T_067bf_row2_col0\" class=\"data row2 col0\" >Dy Manager</td>\n",
              "    </tr>\n",
              "    <tr>\n",
              "      <td id=\"T_067bf_row3_col0\" class=\"data row3 col0\" >Executive</td>\n",
              "    </tr>\n",
              "    <tr>\n",
              "      <td id=\"T_067bf_row4_col0\" class=\"data row4 col0\" >Secretary</td>\n",
              "    </tr>\n",
              "    <tr>\n",
              "      <td id=\"T_067bf_row5_col0\" class=\"data row5 col0\" >Cus_Rep</td>\n",
              "    </tr>\n",
              "    <tr>\n",
              "      <td id=\"T_067bf_row6_col0\" class=\"data row6 col0\" >Clerk</td>\n",
              "    </tr>\n",
              "    <tr>\n",
              "      <td id=\"T_067bf_row7_col0\" class=\"data row7 col0\" >Sr Manager</td>\n",
              "    </tr>\n",
              "  </tbody>\n",
              "</table>\n"
            ]
          },
          "metadata": {},
          "execution_count": 14
        }
      ]
    },
    {
      "cell_type": "markdown",
      "source": [
        "#Where"
      ],
      "metadata": {
        "id": "LFbNG59OxVzF"
      }
    },
    {
      "cell_type": "markdown",
      "source": [
        "## Equal, Not Equal, Greater, Less"
      ],
      "metadata": {
        "id": "JM2k29awVQHc"
      }
    },
    {
      "cell_type": "code",
      "source": [
        "runSelect(\"select firstname, lastname, jobdesc from empl where jobdesc = 'Clerk'\")"
      ],
      "metadata": {
        "id": "rRZz9OpLxdEY",
        "outputId": "11e891ff-3119-4451-abd0-a8b512a49bbd",
        "colab": {
          "base_uri": "https://localhost:8080/",
          "height": 143
        }
      },
      "execution_count": 15,
      "outputs": [
        {
          "output_type": "execute_result",
          "data": {
            "text/plain": [
              "<pandas.io.formats.style.Styler at 0x79b37264e610>"
            ],
            "text/html": [
              "<style type=\"text/css\">\n",
              "</style>\n",
              "<table id=\"T_b136c\" class=\"dataframe\">\n",
              "  <thead>\n",
              "    <tr>\n",
              "      <th id=\"T_b136c_level0_col0\" class=\"col_heading level0 col0\" >firstname</th>\n",
              "      <th id=\"T_b136c_level0_col1\" class=\"col_heading level0 col1\" >lastname</th>\n",
              "      <th id=\"T_b136c_level0_col2\" class=\"col_heading level0 col2\" >jobdesc</th>\n",
              "    </tr>\n",
              "  </thead>\n",
              "  <tbody>\n",
              "    <tr>\n",
              "      <td id=\"T_b136c_row0_col0\" class=\"data row0 col0\" >Madhuri</td>\n",
              "      <td id=\"T_b136c_row0_col1\" class=\"data row0 col1\" >Dikshit</td>\n",
              "      <td id=\"T_b136c_row0_col2\" class=\"data row0 col2\" >Clerk</td>\n",
              "    </tr>\n",
              "    <tr>\n",
              "      <td id=\"T_b136c_row1_col0\" class=\"data row1 col0\" >Mahender</td>\n",
              "      <td id=\"T_b136c_row1_col1\" class=\"data row1 col1\" >Dhoni</td>\n",
              "      <td id=\"T_b136c_row1_col2\" class=\"data row1 col2\" >Clerk</td>\n",
              "    </tr>\n",
              "    <tr>\n",
              "      <td id=\"T_b136c_row2_col0\" class=\"data row2 col0\" >Jagmohan</td>\n",
              "      <td id=\"T_b136c_row2_col1\" class=\"data row2 col1\" >Dalmia</td>\n",
              "      <td id=\"T_b136c_row2_col2\" class=\"data row2 col2\" >Clerk</td>\n",
              "    </tr>\n",
              "  </tbody>\n",
              "</table>\n"
            ]
          },
          "metadata": {},
          "execution_count": 15
        }
      ]
    },
    {
      "cell_type": "code",
      "source": [
        "runSelect(\"select firstname, lastname, jobdesc from empl where jobdesc != 'Clerk'\")"
      ],
      "metadata": {
        "id": "3cl0ISR9yG-I",
        "outputId": "994bcc58-94d5-447d-9622-46f9185d1153",
        "colab": {
          "base_uri": "https://localhost:8080/",
          "height": 363
        }
      },
      "execution_count": 16,
      "outputs": [
        {
          "output_type": "execute_result",
          "data": {
            "text/plain": [
              "<pandas.io.formats.style.Styler at 0x79b37264f7d0>"
            ],
            "text/html": [
              "<style type=\"text/css\">\n",
              "</style>\n",
              "<table id=\"T_db162\" class=\"dataframe\">\n",
              "  <thead>\n",
              "    <tr>\n",
              "      <th id=\"T_db162_level0_col0\" class=\"col_heading level0 col0\" >firstname</th>\n",
              "      <th id=\"T_db162_level0_col1\" class=\"col_heading level0 col1\" >lastname</th>\n",
              "      <th id=\"T_db162_level0_col2\" class=\"col_heading level0 col2\" >jobdesc</th>\n",
              "    </tr>\n",
              "  </thead>\n",
              "  <tbody>\n",
              "    <tr>\n",
              "      <td id=\"T_db162_row0_col0\" class=\"data row0 col0\" >Amitabh</td>\n",
              "      <td id=\"T_db162_row0_col1\" class=\"data row0 col1\" >Bacchan</td>\n",
              "      <td id=\"T_db162_row0_col2\" class=\"data row0 col2\" >Executive</td>\n",
              "    </tr>\n",
              "    <tr>\n",
              "      <td id=\"T_db162_row1_col0\" class=\"data row1 col0\" >Rani</td>\n",
              "      <td id=\"T_db162_row1_col1\" class=\"data row1 col1\" >Mukherjee</td>\n",
              "      <td id=\"T_db162_row1_col2\" class=\"data row1 col2\" >Manager</td>\n",
              "    </tr>\n",
              "    <tr>\n",
              "      <td id=\"T_db162_row2_col0\" class=\"data row2 col0\" >Shahrukh</td>\n",
              "      <td id=\"T_db162_row2_col1\" class=\"data row2 col1\" >Khan</td>\n",
              "      <td id=\"T_db162_row2_col2\" class=\"data row2 col2\" >Manager</td>\n",
              "    </tr>\n",
              "    <tr>\n",
              "      <td id=\"T_db162_row3_col0\" class=\"data row3 col0\" >Virender</td>\n",
              "      <td id=\"T_db162_row3_col1\" class=\"data row3 col1\" >Sehwag</td>\n",
              "      <td id=\"T_db162_row3_col2\" class=\"data row3 col2\" >Cus_Rep</td>\n",
              "    </tr>\n",
              "    <tr>\n",
              "      <td id=\"T_db162_row4_col0\" class=\"data row4 col0\" >Rahul</td>\n",
              "      <td id=\"T_db162_row4_col1\" class=\"data row4 col1\" >Dravid</td>\n",
              "      <td id=\"T_db162_row4_col2\" class=\"data row4 col2\" >Sr Manager</td>\n",
              "    </tr>\n",
              "    <tr>\n",
              "      <td id=\"T_db162_row5_col0\" class=\"data row5 col0\" >Sourav</td>\n",
              "      <td id=\"T_db162_row5_col1\" class=\"data row5 col1\" >Ganguly</td>\n",
              "      <td id=\"T_db162_row5_col2\" class=\"data row5 col2\" >Cus_Rep</td>\n",
              "    </tr>\n",
              "    <tr>\n",
              "      <td id=\"T_db162_row6_col0\" class=\"data row6 col0\" >Rekha</td>\n",
              "      <td id=\"T_db162_row6_col1\" class=\"data row6 col1\" >Ganesan</td>\n",
              "      <td id=\"T_db162_row6_col2\" class=\"data row6 col2\" >Director</td>\n",
              "    </tr>\n",
              "    <tr>\n",
              "      <td id=\"T_db162_row7_col0\" class=\"data row7 col0\" >Narayan</td>\n",
              "      <td id=\"T_db162_row7_col1\" class=\"data row7 col1\" >Karthikeyan</td>\n",
              "      <td id=\"T_db162_row7_col2\" class=\"data row7 col2\" >Secretary</td>\n",
              "    </tr>\n",
              "    <tr>\n",
              "      <td id=\"T_db162_row8_col0\" class=\"data row8 col0\" >Chettri</td>\n",
              "      <td id=\"T_db162_row8_col1\" class=\"data row8 col1\" >Sunil</td>\n",
              "      <td id=\"T_db162_row8_col2\" class=\"data row8 col2\" >Dy Manager</td>\n",
              "    </tr>\n",
              "    <tr>\n",
              "      <td id=\"T_db162_row9_col0\" class=\"data row9 col0\" >Sania</td>\n",
              "      <td id=\"T_db162_row9_col1\" class=\"data row9 col1\" >Mirza</td>\n",
              "      <td id=\"T_db162_row9_col2\" class=\"data row9 col2\" >Cus_Rep</td>\n",
              "    </tr>\n",
              "  </tbody>\n",
              "</table>\n"
            ]
          },
          "metadata": {},
          "execution_count": 16
        }
      ]
    },
    {
      "cell_type": "code",
      "source": [
        "runSelect(\"select firstname, lastname, salary from empl where salary > 35000\")"
      ],
      "metadata": {
        "id": "obIPpNbDyT4S",
        "outputId": "ef93ef7a-254f-4440-b364-bfe3f15a3026",
        "colab": {
          "base_uri": "https://localhost:8080/",
          "height": 206
        }
      },
      "execution_count": 17,
      "outputs": [
        {
          "output_type": "execute_result",
          "data": {
            "text/plain": [
              "<pandas.io.formats.style.Styler at 0x79b37264f590>"
            ],
            "text/html": [
              "<style type=\"text/css\">\n",
              "</style>\n",
              "<table id=\"T_6703f\" class=\"dataframe\">\n",
              "  <thead>\n",
              "    <tr>\n",
              "      <th id=\"T_6703f_level0_col0\" class=\"col_heading level0 col0\" >firstname</th>\n",
              "      <th id=\"T_6703f_level0_col1\" class=\"col_heading level0 col1\" >lastname</th>\n",
              "      <th id=\"T_6703f_level0_col2\" class=\"col_heading level0 col2\" >salary</th>\n",
              "    </tr>\n",
              "  </thead>\n",
              "  <tbody>\n",
              "    <tr>\n",
              "      <td id=\"T_6703f_row0_col0\" class=\"data row0 col0\" >Amitabh</td>\n",
              "      <td id=\"T_6703f_row0_col1\" class=\"data row0 col1\" >Bacchan</td>\n",
              "      <td id=\"T_6703f_row0_col2\" class=\"data row0 col2\" >50000</td>\n",
              "    </tr>\n",
              "    <tr>\n",
              "      <td id=\"T_6703f_row1_col0\" class=\"data row1 col0\" >Rahul</td>\n",
              "      <td id=\"T_6703f_row1_col1\" class=\"data row1 col1\" >Dravid</td>\n",
              "      <td id=\"T_6703f_row1_col2\" class=\"data row1 col2\" >40000</td>\n",
              "    </tr>\n",
              "    <tr>\n",
              "      <td id=\"T_6703f_row2_col0\" class=\"data row2 col0\" >Rekha</td>\n",
              "      <td id=\"T_6703f_row2_col1\" class=\"data row2 col1\" >Ganesan</td>\n",
              "      <td id=\"T_6703f_row2_col2\" class=\"data row2 col2\" >60000</td>\n",
              "    </tr>\n",
              "    <tr>\n",
              "      <td id=\"T_6703f_row3_col0\" class=\"data row3 col0\" >Narayan</td>\n",
              "      <td id=\"T_6703f_row3_col1\" class=\"data row3 col1\" >Karthikeyan</td>\n",
              "      <td id=\"T_6703f_row3_col2\" class=\"data row3 col2\" >40000</td>\n",
              "    </tr>\n",
              "    <tr>\n",
              "      <td id=\"T_6703f_row4_col0\" class=\"data row4 col0\" >Chettri</td>\n",
              "      <td id=\"T_6703f_row4_col1\" class=\"data row4 col1\" >Sunil</td>\n",
              "      <td id=\"T_6703f_row4_col2\" class=\"data row4 col2\" >40000</td>\n",
              "    </tr>\n",
              "  </tbody>\n",
              "</table>\n"
            ]
          },
          "metadata": {},
          "execution_count": 17
        }
      ]
    },
    {
      "cell_type": "code",
      "source": [
        "runSelect(\"select firstname, lastname, salary, joindate from empl where joindate < '2002-01-01'\")"
      ],
      "metadata": {
        "colab": {
          "base_uri": "https://localhost:8080/",
          "height": 143
        },
        "id": "hnIvgy_dMvQl",
        "outputId": "35c4b84e-8b71-4e7d-ab2b-289930f0ac59"
      },
      "execution_count": 18,
      "outputs": [
        {
          "output_type": "execute_result",
          "data": {
            "text/plain": [
              "<pandas.io.formats.style.Styler at 0x79b3725e60d0>"
            ],
            "text/html": [
              "<style type=\"text/css\">\n",
              "</style>\n",
              "<table id=\"T_fe251\" class=\"dataframe\">\n",
              "  <thead>\n",
              "    <tr>\n",
              "      <th id=\"T_fe251_level0_col0\" class=\"col_heading level0 col0\" >firstname</th>\n",
              "      <th id=\"T_fe251_level0_col1\" class=\"col_heading level0 col1\" >lastname</th>\n",
              "      <th id=\"T_fe251_level0_col2\" class=\"col_heading level0 col2\" >salary</th>\n",
              "      <th id=\"T_fe251_level0_col3\" class=\"col_heading level0 col3\" >joindate</th>\n",
              "    </tr>\n",
              "  </thead>\n",
              "  <tbody>\n",
              "    <tr>\n",
              "      <td id=\"T_fe251_row0_col0\" class=\"data row0 col0\" >Rahul</td>\n",
              "      <td id=\"T_fe251_row0_col1\" class=\"data row0 col1\" >Dravid</td>\n",
              "      <td id=\"T_fe251_row0_col2\" class=\"data row0 col2\" >40000</td>\n",
              "      <td id=\"T_fe251_row0_col3\" class=\"data row0 col3\" >2000-06-04</td>\n",
              "    </tr>\n",
              "    <tr>\n",
              "      <td id=\"T_fe251_row1_col0\" class=\"data row1 col0\" >Jagmohan</td>\n",
              "      <td id=\"T_fe251_row1_col1\" class=\"data row1 col1\" >Dalmia</td>\n",
              "      <td id=\"T_fe251_row1_col2\" class=\"data row1 col2\" >12000</td>\n",
              "      <td id=\"T_fe251_row1_col3\" class=\"data row1 col3\" >2001-07-01</td>\n",
              "    </tr>\n",
              "    <tr>\n",
              "      <td id=\"T_fe251_row2_col0\" class=\"data row2 col0\" >Sania</td>\n",
              "      <td id=\"T_fe251_row2_col1\" class=\"data row2 col1\" >Mirza</td>\n",
              "      <td id=\"T_fe251_row2_col2\" class=\"data row2 col2\" >25000</td>\n",
              "      <td id=\"T_fe251_row2_col3\" class=\"data row2 col3\" >2001-11-19</td>\n",
              "    </tr>\n",
              "  </tbody>\n",
              "</table>\n"
            ]
          },
          "metadata": {},
          "execution_count": 18
        }
      ]
    },
    {
      "cell_type": "markdown",
      "source": [
        "## Like"
      ],
      "metadata": {
        "id": "77DkYhfhU1lJ"
      }
    },
    {
      "cell_type": "code",
      "source": [
        "runSelect(\"select firstname, lastname, salary from empl where lastname like 'D%'\")"
      ],
      "metadata": {
        "colab": {
          "base_uri": "https://localhost:8080/",
          "height": 175
        },
        "id": "PBsdla2eVv1K",
        "outputId": "4a88f417-ebad-4db2-8ea1-541693638614"
      },
      "execution_count": 19,
      "outputs": [
        {
          "output_type": "execute_result",
          "data": {
            "text/plain": [
              "<pandas.io.formats.style.Styler at 0x79b3725e41d0>"
            ],
            "text/html": [
              "<style type=\"text/css\">\n",
              "</style>\n",
              "<table id=\"T_35ac1\" class=\"dataframe\">\n",
              "  <thead>\n",
              "    <tr>\n",
              "      <th id=\"T_35ac1_level0_col0\" class=\"col_heading level0 col0\" >firstname</th>\n",
              "      <th id=\"T_35ac1_level0_col1\" class=\"col_heading level0 col1\" >lastname</th>\n",
              "      <th id=\"T_35ac1_level0_col2\" class=\"col_heading level0 col2\" >salary</th>\n",
              "    </tr>\n",
              "  </thead>\n",
              "  <tbody>\n",
              "    <tr>\n",
              "      <td id=\"T_35ac1_row0_col0\" class=\"data row0 col0\" >Madhuri</td>\n",
              "      <td id=\"T_35ac1_row0_col1\" class=\"data row0 col1\" >Dikshit</td>\n",
              "      <td id=\"T_35ac1_row0_col2\" class=\"data row0 col2\" >10000</td>\n",
              "    </tr>\n",
              "    <tr>\n",
              "      <td id=\"T_35ac1_row1_col0\" class=\"data row1 col0\" >Mahender</td>\n",
              "      <td id=\"T_35ac1_row1_col1\" class=\"data row1 col1\" >Dhoni</td>\n",
              "      <td id=\"T_35ac1_row1_col2\" class=\"data row1 col2\" >9000</td>\n",
              "    </tr>\n",
              "    <tr>\n",
              "      <td id=\"T_35ac1_row2_col0\" class=\"data row2 col0\" >Rahul</td>\n",
              "      <td id=\"T_35ac1_row2_col1\" class=\"data row2 col1\" >Dravid</td>\n",
              "      <td id=\"T_35ac1_row2_col2\" class=\"data row2 col2\" >40000</td>\n",
              "    </tr>\n",
              "    <tr>\n",
              "      <td id=\"T_35ac1_row3_col0\" class=\"data row3 col0\" >Jagmohan</td>\n",
              "      <td id=\"T_35ac1_row3_col1\" class=\"data row3 col1\" >Dalmia</td>\n",
              "      <td id=\"T_35ac1_row3_col2\" class=\"data row3 col2\" >12000</td>\n",
              "    </tr>\n",
              "  </tbody>\n",
              "</table>\n"
            ]
          },
          "metadata": {},
          "execution_count": 19
        }
      ]
    },
    {
      "cell_type": "code",
      "source": [
        "runSelect(\"select firstname, lastname, joindate from empl where lastname like '____i_'\")"
      ],
      "metadata": {
        "colab": {
          "base_uri": "https://localhost:8080/",
          "height": 112
        },
        "id": "xxImEDlKbm4U",
        "outputId": "73f04452-7547-4c66-8ad0-4b1e6804b712"
      },
      "execution_count": 20,
      "outputs": [
        {
          "output_type": "execute_result",
          "data": {
            "text/plain": [
              "<pandas.io.formats.style.Styler at 0x79b3725dd0d0>"
            ],
            "text/html": [
              "<style type=\"text/css\">\n",
              "</style>\n",
              "<table id=\"T_02028\" class=\"dataframe\">\n",
              "  <thead>\n",
              "    <tr>\n",
              "      <th id=\"T_02028_level0_col0\" class=\"col_heading level0 col0\" >firstname</th>\n",
              "      <th id=\"T_02028_level0_col1\" class=\"col_heading level0 col1\" >lastname</th>\n",
              "      <th id=\"T_02028_level0_col2\" class=\"col_heading level0 col2\" >joindate</th>\n",
              "    </tr>\n",
              "  </thead>\n",
              "  <tbody>\n",
              "    <tr>\n",
              "      <td id=\"T_02028_row0_col0\" class=\"data row0 col0\" >Rahul</td>\n",
              "      <td id=\"T_02028_row0_col1\" class=\"data row0 col1\" >Dravid</td>\n",
              "      <td id=\"T_02028_row0_col2\" class=\"data row0 col2\" >2000-06-04</td>\n",
              "    </tr>\n",
              "    <tr>\n",
              "      <td id=\"T_02028_row1_col0\" class=\"data row1 col0\" >Jagmohan</td>\n",
              "      <td id=\"T_02028_row1_col1\" class=\"data row1 col1\" >Dalmia</td>\n",
              "      <td id=\"T_02028_row1_col2\" class=\"data row1 col2\" >2001-07-01</td>\n",
              "    </tr>\n",
              "  </tbody>\n",
              "</table>\n"
            ]
          },
          "metadata": {},
          "execution_count": 20
        }
      ]
    },
    {
      "cell_type": "code",
      "source": [
        "runSelect(\"select firstname, lastname, jobdesc from empl where lastname like '____i%'\")"
      ],
      "metadata": {
        "colab": {
          "base_uri": "https://localhost:8080/",
          "height": 143
        },
        "id": "pL7VPLo4b2g3",
        "outputId": "e46c2f94-1aff-4d1d-c819-ece0a987dd3e"
      },
      "execution_count": 21,
      "outputs": [
        {
          "output_type": "execute_result",
          "data": {
            "text/plain": [
              "<pandas.io.formats.style.Styler at 0x79b3725dced0>"
            ],
            "text/html": [
              "<style type=\"text/css\">\n",
              "</style>\n",
              "<table id=\"T_7c883\" class=\"dataframe\">\n",
              "  <thead>\n",
              "    <tr>\n",
              "      <th id=\"T_7c883_level0_col0\" class=\"col_heading level0 col0\" >firstname</th>\n",
              "      <th id=\"T_7c883_level0_col1\" class=\"col_heading level0 col1\" >lastname</th>\n",
              "      <th id=\"T_7c883_level0_col2\" class=\"col_heading level0 col2\" >jobdesc</th>\n",
              "    </tr>\n",
              "  </thead>\n",
              "  <tbody>\n",
              "    <tr>\n",
              "      <td id=\"T_7c883_row0_col0\" class=\"data row0 col0\" >Mahender</td>\n",
              "      <td id=\"T_7c883_row0_col1\" class=\"data row0 col1\" >Dhoni</td>\n",
              "      <td id=\"T_7c883_row0_col2\" class=\"data row0 col2\" >Clerk</td>\n",
              "    </tr>\n",
              "    <tr>\n",
              "      <td id=\"T_7c883_row1_col0\" class=\"data row1 col0\" >Rahul</td>\n",
              "      <td id=\"T_7c883_row1_col1\" class=\"data row1 col1\" >Dravid</td>\n",
              "      <td id=\"T_7c883_row1_col2\" class=\"data row1 col2\" >Sr Manager</td>\n",
              "    </tr>\n",
              "    <tr>\n",
              "      <td id=\"T_7c883_row2_col0\" class=\"data row2 col0\" >Jagmohan</td>\n",
              "      <td id=\"T_7c883_row2_col1\" class=\"data row2 col1\" >Dalmia</td>\n",
              "      <td id=\"T_7c883_row2_col2\" class=\"data row2 col2\" >Clerk</td>\n",
              "    </tr>\n",
              "  </tbody>\n",
              "</table>\n"
            ]
          },
          "metadata": {},
          "execution_count": 21
        }
      ]
    },
    {
      "cell_type": "markdown",
      "source": [
        "## Between"
      ],
      "metadata": {
        "id": "qw2h8Vtvey2R"
      }
    },
    {
      "cell_type": "code",
      "source": [
        "runSelect(\"select firstname, lastname, salary from empl where salary between 10000 and 20000\")"
      ],
      "metadata": {
        "colab": {
          "base_uri": "https://localhost:8080/",
          "height": 175
        },
        "id": "sI_qlRdXe7S8",
        "outputId": "a6b5069f-7275-430f-ab57-23c341563820"
      },
      "execution_count": 22,
      "outputs": [
        {
          "output_type": "execute_result",
          "data": {
            "text/plain": [
              "<pandas.io.formats.style.Styler at 0x79b3725df5d0>"
            ],
            "text/html": [
              "<style type=\"text/css\">\n",
              "</style>\n",
              "<table id=\"T_207b8\" class=\"dataframe\">\n",
              "  <thead>\n",
              "    <tr>\n",
              "      <th id=\"T_207b8_level0_col0\" class=\"col_heading level0 col0\" >firstname</th>\n",
              "      <th id=\"T_207b8_level0_col1\" class=\"col_heading level0 col1\" >lastname</th>\n",
              "      <th id=\"T_207b8_level0_col2\" class=\"col_heading level0 col2\" >salary</th>\n",
              "    </tr>\n",
              "  </thead>\n",
              "  <tbody>\n",
              "    <tr>\n",
              "      <td id=\"T_207b8_row0_col0\" class=\"data row0 col0\" >Madhuri</td>\n",
              "      <td id=\"T_207b8_row0_col1\" class=\"data row0 col1\" >Dikshit</td>\n",
              "      <td id=\"T_207b8_row0_col2\" class=\"data row0 col2\" >10000</td>\n",
              "    </tr>\n",
              "    <tr>\n",
              "      <td id=\"T_207b8_row1_col0\" class=\"data row1 col0\" >Virender</td>\n",
              "      <td id=\"T_207b8_row1_col1\" class=\"data row1 col1\" >Sehwag</td>\n",
              "      <td id=\"T_207b8_row1_col2\" class=\"data row1 col2\" >15000</td>\n",
              "    </tr>\n",
              "    <tr>\n",
              "      <td id=\"T_207b8_row2_col0\" class=\"data row2 col0\" >Jagmohan</td>\n",
              "      <td id=\"T_207b8_row2_col1\" class=\"data row2 col1\" >Dalmia</td>\n",
              "      <td id=\"T_207b8_row2_col2\" class=\"data row2 col2\" >12000</td>\n",
              "    </tr>\n",
              "    <tr>\n",
              "      <td id=\"T_207b8_row3_col0\" class=\"data row3 col0\" >Sourav</td>\n",
              "      <td id=\"T_207b8_row3_col1\" class=\"data row3 col1\" >Ganguly</td>\n",
              "      <td id=\"T_207b8_row3_col2\" class=\"data row3 col2\" >20000</td>\n",
              "    </tr>\n",
              "  </tbody>\n",
              "</table>\n"
            ]
          },
          "metadata": {},
          "execution_count": 22
        }
      ]
    },
    {
      "cell_type": "code",
      "source": [
        "runSelect(\"select firstname, lastname, joindate from empl where joindate between '2004-01-01' and '2005-01-01'\")"
      ],
      "metadata": {
        "colab": {
          "base_uri": "https://localhost:8080/",
          "height": 112
        },
        "id": "b_mWyFTnfIEy",
        "outputId": "205a777e-8865-4d80-c4ec-572d94d92074"
      },
      "execution_count": 23,
      "outputs": [
        {
          "output_type": "execute_result",
          "data": {
            "text/plain": [
              "<pandas.io.formats.style.Styler at 0x79b372455a50>"
            ],
            "text/html": [
              "<style type=\"text/css\">\n",
              "</style>\n",
              "<table id=\"T_637a5\" class=\"dataframe\">\n",
              "  <thead>\n",
              "    <tr>\n",
              "      <th id=\"T_637a5_level0_col0\" class=\"col_heading level0 col0\" >firstname</th>\n",
              "      <th id=\"T_637a5_level0_col1\" class=\"col_heading level0 col1\" >lastname</th>\n",
              "      <th id=\"T_637a5_level0_col2\" class=\"col_heading level0 col2\" >joindate</th>\n",
              "    </tr>\n",
              "  </thead>\n",
              "  <tbody>\n",
              "    <tr>\n",
              "      <td id=\"T_637a5_row0_col0\" class=\"data row0 col0\" >Shahrukh</td>\n",
              "      <td id=\"T_637a5_row0_col1\" class=\"data row0 col1\" >Khan</td>\n",
              "      <td id=\"T_637a5_row0_col2\" class=\"data row0 col2\" >2004-01-03</td>\n",
              "    </tr>\n",
              "    <tr>\n",
              "      <td id=\"T_637a5_row1_col0\" class=\"data row1 col0\" >Mahender</td>\n",
              "      <td id=\"T_637a5_row1_col1\" class=\"data row1 col1\" >Dhoni</td>\n",
              "      <td id=\"T_637a5_row1_col2\" class=\"data row1 col2\" >2004-10-09</td>\n",
              "    </tr>\n",
              "  </tbody>\n",
              "</table>\n"
            ]
          },
          "metadata": {},
          "execution_count": 23
        }
      ]
    },
    {
      "cell_type": "code",
      "source": [
        "runSelect(\"select firstname, lastname, joindate from empl where lastname between 'Dho' and 'Kha'\")"
      ],
      "metadata": {
        "colab": {
          "base_uri": "https://localhost:8080/",
          "height": 238
        },
        "id": "qXs9AeS2fwCS",
        "outputId": "43b60ea9-3c91-434f-900c-0b465c14aa09"
      },
      "execution_count": 24,
      "outputs": [
        {
          "output_type": "execute_result",
          "data": {
            "text/plain": [
              "<pandas.io.formats.style.Styler at 0x79b372454650>"
            ],
            "text/html": [
              "<style type=\"text/css\">\n",
              "</style>\n",
              "<table id=\"T_e52e2\" class=\"dataframe\">\n",
              "  <thead>\n",
              "    <tr>\n",
              "      <th id=\"T_e52e2_level0_col0\" class=\"col_heading level0 col0\" >firstname</th>\n",
              "      <th id=\"T_e52e2_level0_col1\" class=\"col_heading level0 col1\" >lastname</th>\n",
              "      <th id=\"T_e52e2_level0_col2\" class=\"col_heading level0 col2\" >joindate</th>\n",
              "    </tr>\n",
              "  </thead>\n",
              "  <tbody>\n",
              "    <tr>\n",
              "      <td id=\"T_e52e2_row0_col0\" class=\"data row0 col0\" >Madhuri</td>\n",
              "      <td id=\"T_e52e2_row0_col1\" class=\"data row0 col1\" >Dikshit</td>\n",
              "      <td id=\"T_e52e2_row0_col2\" class=\"data row0 col2\" >2002-04-04</td>\n",
              "    </tr>\n",
              "    <tr>\n",
              "      <td id=\"T_e52e2_row1_col0\" class=\"data row1 col0\" >Mahender</td>\n",
              "      <td id=\"T_e52e2_row1_col1\" class=\"data row1 col1\" >Dhoni</td>\n",
              "      <td id=\"T_e52e2_row1_col2\" class=\"data row1 col2\" >2004-10-09</td>\n",
              "    </tr>\n",
              "    <tr>\n",
              "      <td id=\"T_e52e2_row2_col0\" class=\"data row2 col0\" >Rahul</td>\n",
              "      <td id=\"T_e52e2_row2_col1\" class=\"data row2 col1\" >Dravid</td>\n",
              "      <td id=\"T_e52e2_row2_col2\" class=\"data row2 col2\" >2000-06-04</td>\n",
              "    </tr>\n",
              "    <tr>\n",
              "      <td id=\"T_e52e2_row3_col0\" class=\"data row3 col0\" >Sourav</td>\n",
              "      <td id=\"T_e52e2_row3_col1\" class=\"data row3 col1\" >Ganguly</td>\n",
              "      <td id=\"T_e52e2_row3_col2\" class=\"data row3 col2\" >2002-01-01</td>\n",
              "    </tr>\n",
              "    <tr>\n",
              "      <td id=\"T_e52e2_row4_col0\" class=\"data row4 col0\" >Rekha</td>\n",
              "      <td id=\"T_e52e2_row4_col1\" class=\"data row4 col1\" >Ganesan</td>\n",
              "      <td id=\"T_e52e2_row4_col2\" class=\"data row4 col2\" >2002-10-10</td>\n",
              "    </tr>\n",
              "    <tr>\n",
              "      <td id=\"T_e52e2_row5_col0\" class=\"data row5 col0\" >Narayan</td>\n",
              "      <td id=\"T_e52e2_row5_col1\" class=\"data row5 col1\" >Karthikeyan</td>\n",
              "      <td id=\"T_e52e2_row5_col2\" class=\"data row5 col2\" >2005-12-04</td>\n",
              "    </tr>\n",
              "  </tbody>\n",
              "</table>\n"
            ]
          },
          "metadata": {},
          "execution_count": 24
        }
      ]
    },
    {
      "cell_type": "markdown",
      "source": [
        "## IN"
      ],
      "metadata": {
        "id": "azhy0TQLiLy-"
      }
    },
    {
      "cell_type": "code",
      "source": [
        "runSelect(\"select firstname, lastname, deptid from empl where deptid in ('30','20','70')\")"
      ],
      "metadata": {
        "colab": {
          "base_uri": "https://localhost:8080/",
          "height": 269
        },
        "id": "UyBE-FuoibSZ",
        "outputId": "0083e6d3-b0d4-42eb-a64c-8ef3f1db87ee"
      },
      "execution_count": 25,
      "outputs": [
        {
          "output_type": "execute_result",
          "data": {
            "text/plain": [
              "<pandas.io.formats.style.Styler at 0x79b372457450>"
            ],
            "text/html": [
              "<style type=\"text/css\">\n",
              "</style>\n",
              "<table id=\"T_9b1a5\" class=\"dataframe\">\n",
              "  <thead>\n",
              "    <tr>\n",
              "      <th id=\"T_9b1a5_level0_col0\" class=\"col_heading level0 col0\" >firstname</th>\n",
              "      <th id=\"T_9b1a5_level0_col1\" class=\"col_heading level0 col1\" >lastname</th>\n",
              "      <th id=\"T_9b1a5_level0_col2\" class=\"col_heading level0 col2\" >deptid</th>\n",
              "    </tr>\n",
              "  </thead>\n",
              "  <tbody>\n",
              "    <tr>\n",
              "      <td id=\"T_9b1a5_row0_col0\" class=\"data row0 col0\" >Madhuri</td>\n",
              "      <td id=\"T_9b1a5_row0_col1\" class=\"data row0 col1\" >Dikshit</td>\n",
              "      <td id=\"T_9b1a5_row0_col2\" class=\"data row0 col2\" >20</td>\n",
              "    </tr>\n",
              "    <tr>\n",
              "      <td id=\"T_9b1a5_row1_col0\" class=\"data row1 col0\" >Shahrukh</td>\n",
              "      <td id=\"T_9b1a5_row1_col1\" class=\"data row1 col1\" >Khan</td>\n",
              "      <td id=\"T_9b1a5_row1_col2\" class=\"data row1 col2\" >20</td>\n",
              "    </tr>\n",
              "    <tr>\n",
              "      <td id=\"T_9b1a5_row2_col0\" class=\"data row2 col0\" >Virender</td>\n",
              "      <td id=\"T_9b1a5_row2_col1\" class=\"data row2 col1\" >Sehwag</td>\n",
              "      <td id=\"T_9b1a5_row2_col2\" class=\"data row2 col2\" >20</td>\n",
              "    </tr>\n",
              "    <tr>\n",
              "      <td id=\"T_9b1a5_row3_col0\" class=\"data row3 col0\" >Rahul</td>\n",
              "      <td id=\"T_9b1a5_row3_col1\" class=\"data row3 col1\" >Dravid</td>\n",
              "      <td id=\"T_9b1a5_row3_col2\" class=\"data row3 col2\" >30</td>\n",
              "    </tr>\n",
              "    <tr>\n",
              "      <td id=\"T_9b1a5_row4_col0\" class=\"data row4 col0\" >Jagmohan</td>\n",
              "      <td id=\"T_9b1a5_row4_col1\" class=\"data row4 col1\" >Dalmia</td>\n",
              "      <td id=\"T_9b1a5_row4_col2\" class=\"data row4 col2\" >30</td>\n",
              "    </tr>\n",
              "    <tr>\n",
              "      <td id=\"T_9b1a5_row5_col0\" class=\"data row5 col0\" >Chettri</td>\n",
              "      <td id=\"T_9b1a5_row5_col1\" class=\"data row5 col1\" >Sunil</td>\n",
              "      <td id=\"T_9b1a5_row5_col2\" class=\"data row5 col2\" >70</td>\n",
              "    </tr>\n",
              "    <tr>\n",
              "      <td id=\"T_9b1a5_row6_col0\" class=\"data row6 col0\" >Sania</td>\n",
              "      <td id=\"T_9b1a5_row6_col1\" class=\"data row6 col1\" >Mirza</td>\n",
              "      <td id=\"T_9b1a5_row6_col2\" class=\"data row6 col2\" >30</td>\n",
              "    </tr>\n",
              "  </tbody>\n",
              "</table>\n"
            ]
          },
          "metadata": {},
          "execution_count": 25
        }
      ]
    },
    {
      "cell_type": "code",
      "source": [
        "runSelect(\"select firstname, lastname, salary from empl where firstname in ('Madhuri','Shahrukh','Virender')\")"
      ],
      "metadata": {
        "colab": {
          "base_uri": "https://localhost:8080/",
          "height": 143
        },
        "id": "9qTEO-OuiN3A",
        "outputId": "23dd968d-5918-4108-fb3b-bb0bcb6e3280"
      },
      "execution_count": 26,
      "outputs": [
        {
          "output_type": "execute_result",
          "data": {
            "text/plain": [
              "<pandas.io.formats.style.Styler at 0x79b3725dc650>"
            ],
            "text/html": [
              "<style type=\"text/css\">\n",
              "</style>\n",
              "<table id=\"T_b3053\" class=\"dataframe\">\n",
              "  <thead>\n",
              "    <tr>\n",
              "      <th id=\"T_b3053_level0_col0\" class=\"col_heading level0 col0\" >firstname</th>\n",
              "      <th id=\"T_b3053_level0_col1\" class=\"col_heading level0 col1\" >lastname</th>\n",
              "      <th id=\"T_b3053_level0_col2\" class=\"col_heading level0 col2\" >salary</th>\n",
              "    </tr>\n",
              "  </thead>\n",
              "  <tbody>\n",
              "    <tr>\n",
              "      <td id=\"T_b3053_row0_col0\" class=\"data row0 col0\" >Madhuri</td>\n",
              "      <td id=\"T_b3053_row0_col1\" class=\"data row0 col1\" >Dikshit</td>\n",
              "      <td id=\"T_b3053_row0_col2\" class=\"data row0 col2\" >10000</td>\n",
              "    </tr>\n",
              "    <tr>\n",
              "      <td id=\"T_b3053_row1_col0\" class=\"data row1 col0\" >Shahrukh</td>\n",
              "      <td id=\"T_b3053_row1_col1\" class=\"data row1 col1\" >Khan</td>\n",
              "      <td id=\"T_b3053_row1_col2\" class=\"data row1 col2\" >30000</td>\n",
              "    </tr>\n",
              "    <tr>\n",
              "      <td id=\"T_b3053_row2_col0\" class=\"data row2 col0\" >Virender</td>\n",
              "      <td id=\"T_b3053_row2_col1\" class=\"data row2 col1\" >Sehwag</td>\n",
              "      <td id=\"T_b3053_row2_col2\" class=\"data row2 col2\" >15000</td>\n",
              "    </tr>\n",
              "  </tbody>\n",
              "</table>\n"
            ]
          },
          "metadata": {},
          "execution_count": 26
        }
      ]
    },
    {
      "cell_type": "markdown",
      "source": [
        "## Order by"
      ],
      "metadata": {
        "id": "vlOCT_zAkzMb"
      }
    },
    {
      "cell_type": "code",
      "source": [
        "runSelect(\"select firstname, lastname, joindate from empl where firstname in ('Madhuri','Shahrukh','Virender') order by joindate\")"
      ],
      "metadata": {
        "colab": {
          "base_uri": "https://localhost:8080/",
          "height": 143
        },
        "id": "WidoGzLVk1in",
        "outputId": "0c1b0625-d520-431d-88a3-1928ab914d9c"
      },
      "execution_count": 27,
      "outputs": [
        {
          "output_type": "execute_result",
          "data": {
            "text/plain": [
              "<pandas.io.formats.style.Styler at 0x79b3724be810>"
            ],
            "text/html": [
              "<style type=\"text/css\">\n",
              "</style>\n",
              "<table id=\"T_50159\" class=\"dataframe\">\n",
              "  <thead>\n",
              "    <tr>\n",
              "      <th id=\"T_50159_level0_col0\" class=\"col_heading level0 col0\" >firstname</th>\n",
              "      <th id=\"T_50159_level0_col1\" class=\"col_heading level0 col1\" >lastname</th>\n",
              "      <th id=\"T_50159_level0_col2\" class=\"col_heading level0 col2\" >joindate</th>\n",
              "    </tr>\n",
              "  </thead>\n",
              "  <tbody>\n",
              "    <tr>\n",
              "      <td id=\"T_50159_row0_col0\" class=\"data row0 col0\" >Madhuri</td>\n",
              "      <td id=\"T_50159_row0_col1\" class=\"data row0 col1\" >Dikshit</td>\n",
              "      <td id=\"T_50159_row0_col2\" class=\"data row0 col2\" >2002-04-04</td>\n",
              "    </tr>\n",
              "    <tr>\n",
              "      <td id=\"T_50159_row1_col0\" class=\"data row1 col0\" >Shahrukh</td>\n",
              "      <td id=\"T_50159_row1_col1\" class=\"data row1 col1\" >Khan</td>\n",
              "      <td id=\"T_50159_row1_col2\" class=\"data row1 col2\" >2004-01-03</td>\n",
              "    </tr>\n",
              "    <tr>\n",
              "      <td id=\"T_50159_row2_col0\" class=\"data row2 col0\" >Virender</td>\n",
              "      <td id=\"T_50159_row2_col1\" class=\"data row2 col1\" >Sehwag</td>\n",
              "      <td id=\"T_50159_row2_col2\" class=\"data row2 col2\" >2005-01-02</td>\n",
              "    </tr>\n",
              "  </tbody>\n",
              "</table>\n"
            ]
          },
          "metadata": {},
          "execution_count": 27
        }
      ]
    },
    {
      "cell_type": "code",
      "source": [
        "runSelect(\"select firstname, lastname, jobdesc, salary, deptid from empl where deptid = '10' order by salary desc\")"
      ],
      "metadata": {
        "colab": {
          "base_uri": "https://localhost:8080/",
          "height": 143
        },
        "id": "Iq_7jWr-lRlO",
        "outputId": "f86a1f53-d483-4997-a53c-145049455b0b"
      },
      "execution_count": 28,
      "outputs": [
        {
          "output_type": "execute_result",
          "data": {
            "text/plain": [
              "<pandas.io.formats.style.Styler at 0x79b394aec650>"
            ],
            "text/html": [
              "<style type=\"text/css\">\n",
              "</style>\n",
              "<table id=\"T_54605\" class=\"dataframe\">\n",
              "  <thead>\n",
              "    <tr>\n",
              "      <th id=\"T_54605_level0_col0\" class=\"col_heading level0 col0\" >firstname</th>\n",
              "      <th id=\"T_54605_level0_col1\" class=\"col_heading level0 col1\" >lastname</th>\n",
              "      <th id=\"T_54605_level0_col2\" class=\"col_heading level0 col2\" >jobdesc</th>\n",
              "      <th id=\"T_54605_level0_col3\" class=\"col_heading level0 col3\" >salary</th>\n",
              "      <th id=\"T_54605_level0_col4\" class=\"col_heading level0 col4\" >deptid</th>\n",
              "    </tr>\n",
              "  </thead>\n",
              "  <tbody>\n",
              "    <tr>\n",
              "      <td id=\"T_54605_row0_col0\" class=\"data row0 col0\" >Rekha</td>\n",
              "      <td id=\"T_54605_row0_col1\" class=\"data row0 col1\" >Ganesan</td>\n",
              "      <td id=\"T_54605_row0_col2\" class=\"data row0 col2\" >Director</td>\n",
              "      <td id=\"T_54605_row0_col3\" class=\"data row0 col3\" >60000</td>\n",
              "      <td id=\"T_54605_row0_col4\" class=\"data row0 col4\" >10</td>\n",
              "    </tr>\n",
              "    <tr>\n",
              "      <td id=\"T_54605_row1_col0\" class=\"data row1 col0\" >Amitabh</td>\n",
              "      <td id=\"T_54605_row1_col1\" class=\"data row1 col1\" >Bacchan</td>\n",
              "      <td id=\"T_54605_row1_col2\" class=\"data row1 col2\" >Executive</td>\n",
              "      <td id=\"T_54605_row1_col3\" class=\"data row1 col3\" >50000</td>\n",
              "      <td id=\"T_54605_row1_col4\" class=\"data row1 col4\" >10</td>\n",
              "    </tr>\n",
              "    <tr>\n",
              "      <td id=\"T_54605_row2_col0\" class=\"data row2 col0\" >Narayan</td>\n",
              "      <td id=\"T_54605_row2_col1\" class=\"data row2 col1\" >Karthikeyan</td>\n",
              "      <td id=\"T_54605_row2_col2\" class=\"data row2 col2\" >Secretary</td>\n",
              "      <td id=\"T_54605_row2_col3\" class=\"data row2 col3\" >40000</td>\n",
              "      <td id=\"T_54605_row2_col4\" class=\"data row2 col4\" >10</td>\n",
              "    </tr>\n",
              "  </tbody>\n",
              "</table>\n"
            ]
          },
          "metadata": {},
          "execution_count": 28
        }
      ]
    },
    {
      "cell_type": "markdown",
      "source": [
        "## Logical AND | OR"
      ],
      "metadata": {
        "id": "-JDEmZtsm0o1"
      }
    },
    {
      "cell_type": "code",
      "source": [
        "runSelect(\"select lastname, jobdesc, salary, deptid from empl where deptid = '20'\")"
      ],
      "metadata": {
        "colab": {
          "base_uri": "https://localhost:8080/",
          "height": 143
        },
        "id": "rli0DBhIm54M",
        "outputId": "fb5e57f6-27d6-4cbb-ca11-41643e5f3fbe"
      },
      "execution_count": 29,
      "outputs": [
        {
          "output_type": "execute_result",
          "data": {
            "text/plain": [
              "<pandas.io.formats.style.Styler at 0x79b3724b1fd0>"
            ],
            "text/html": [
              "<style type=\"text/css\">\n",
              "</style>\n",
              "<table id=\"T_81dc2\" class=\"dataframe\">\n",
              "  <thead>\n",
              "    <tr>\n",
              "      <th id=\"T_81dc2_level0_col0\" class=\"col_heading level0 col0\" >lastname</th>\n",
              "      <th id=\"T_81dc2_level0_col1\" class=\"col_heading level0 col1\" >jobdesc</th>\n",
              "      <th id=\"T_81dc2_level0_col2\" class=\"col_heading level0 col2\" >salary</th>\n",
              "      <th id=\"T_81dc2_level0_col3\" class=\"col_heading level0 col3\" >deptid</th>\n",
              "    </tr>\n",
              "  </thead>\n",
              "  <tbody>\n",
              "    <tr>\n",
              "      <td id=\"T_81dc2_row0_col0\" class=\"data row0 col0\" >Dikshit</td>\n",
              "      <td id=\"T_81dc2_row0_col1\" class=\"data row0 col1\" >Clerk</td>\n",
              "      <td id=\"T_81dc2_row0_col2\" class=\"data row0 col2\" >10000</td>\n",
              "      <td id=\"T_81dc2_row0_col3\" class=\"data row0 col3\" >20</td>\n",
              "    </tr>\n",
              "    <tr>\n",
              "      <td id=\"T_81dc2_row1_col0\" class=\"data row1 col0\" >Khan</td>\n",
              "      <td id=\"T_81dc2_row1_col1\" class=\"data row1 col1\" >Manager</td>\n",
              "      <td id=\"T_81dc2_row1_col2\" class=\"data row1 col2\" >30000</td>\n",
              "      <td id=\"T_81dc2_row1_col3\" class=\"data row1 col3\" >20</td>\n",
              "    </tr>\n",
              "    <tr>\n",
              "      <td id=\"T_81dc2_row2_col0\" class=\"data row2 col0\" >Sehwag</td>\n",
              "      <td id=\"T_81dc2_row2_col1\" class=\"data row2 col1\" >Cus_Rep</td>\n",
              "      <td id=\"T_81dc2_row2_col2\" class=\"data row2 col2\" >15000</td>\n",
              "      <td id=\"T_81dc2_row2_col3\" class=\"data row2 col3\" >20</td>\n",
              "    </tr>\n",
              "  </tbody>\n",
              "</table>\n"
            ]
          },
          "metadata": {},
          "execution_count": 29
        }
      ]
    },
    {
      "cell_type": "code",
      "source": [
        "runSelect(\"select lastname, jobdesc, salary, deptid from empl where deptid = '20' and salary > 10000\")"
      ],
      "metadata": {
        "colab": {
          "base_uri": "https://localhost:8080/",
          "height": 112
        },
        "id": "wHIJoUGqnuwa",
        "outputId": "da774d74-1345-433e-fb27-622bbd1e903b"
      },
      "execution_count": 30,
      "outputs": [
        {
          "output_type": "execute_result",
          "data": {
            "text/plain": [
              "<pandas.io.formats.style.Styler at 0x79b3724b1810>"
            ],
            "text/html": [
              "<style type=\"text/css\">\n",
              "</style>\n",
              "<table id=\"T_b8f57\" class=\"dataframe\">\n",
              "  <thead>\n",
              "    <tr>\n",
              "      <th id=\"T_b8f57_level0_col0\" class=\"col_heading level0 col0\" >lastname</th>\n",
              "      <th id=\"T_b8f57_level0_col1\" class=\"col_heading level0 col1\" >jobdesc</th>\n",
              "      <th id=\"T_b8f57_level0_col2\" class=\"col_heading level0 col2\" >salary</th>\n",
              "      <th id=\"T_b8f57_level0_col3\" class=\"col_heading level0 col3\" >deptid</th>\n",
              "    </tr>\n",
              "  </thead>\n",
              "  <tbody>\n",
              "    <tr>\n",
              "      <td id=\"T_b8f57_row0_col0\" class=\"data row0 col0\" >Khan</td>\n",
              "      <td id=\"T_b8f57_row0_col1\" class=\"data row0 col1\" >Manager</td>\n",
              "      <td id=\"T_b8f57_row0_col2\" class=\"data row0 col2\" >30000</td>\n",
              "      <td id=\"T_b8f57_row0_col3\" class=\"data row0 col3\" >20</td>\n",
              "    </tr>\n",
              "    <tr>\n",
              "      <td id=\"T_b8f57_row1_col0\" class=\"data row1 col0\" >Sehwag</td>\n",
              "      <td id=\"T_b8f57_row1_col1\" class=\"data row1 col1\" >Cus_Rep</td>\n",
              "      <td id=\"T_b8f57_row1_col2\" class=\"data row1 col2\" >15000</td>\n",
              "      <td id=\"T_b8f57_row1_col3\" class=\"data row1 col3\" >20</td>\n",
              "    </tr>\n",
              "  </tbody>\n",
              "</table>\n"
            ]
          },
          "metadata": {},
          "execution_count": 30
        }
      ]
    },
    {
      "cell_type": "code",
      "source": [
        "runSelect(\"select lastname, jobdesc, salary, deptid from empl where deptid = '20' and salary > 10000 and jobdesc = 'Clerk'\")"
      ],
      "metadata": {
        "colab": {
          "base_uri": "https://localhost:8080/"
        },
        "id": "fnB8p8-EnzH2",
        "outputId": "f9ea3848-9a6a-4581-a6b3-e0a6a806e024"
      },
      "execution_count": 31,
      "outputs": [
        {
          "output_type": "stream",
          "name": "stdout",
          "text": [
            "no records found\n"
          ]
        }
      ]
    },
    {
      "cell_type": "code",
      "source": [
        "runSelect(\"select lastname, jobdesc, deptid from empl where deptid = '70'\")"
      ],
      "metadata": {
        "colab": {
          "base_uri": "https://localhost:8080/",
          "height": 81
        },
        "id": "uEKUIgOMqtLw",
        "outputId": "6ce9629b-d5d5-4759-fa45-960ab084da33"
      },
      "execution_count": 32,
      "outputs": [
        {
          "output_type": "execute_result",
          "data": {
            "text/plain": [
              "<pandas.io.formats.style.Styler at 0x79b3724bf590>"
            ],
            "text/html": [
              "<style type=\"text/css\">\n",
              "</style>\n",
              "<table id=\"T_7b2a8\" class=\"dataframe\">\n",
              "  <thead>\n",
              "    <tr>\n",
              "      <th id=\"T_7b2a8_level0_col0\" class=\"col_heading level0 col0\" >lastname</th>\n",
              "      <th id=\"T_7b2a8_level0_col1\" class=\"col_heading level0 col1\" >jobdesc</th>\n",
              "      <th id=\"T_7b2a8_level0_col2\" class=\"col_heading level0 col2\" >deptid</th>\n",
              "    </tr>\n",
              "  </thead>\n",
              "  <tbody>\n",
              "    <tr>\n",
              "      <td id=\"T_7b2a8_row0_col0\" class=\"data row0 col0\" >Sunil</td>\n",
              "      <td id=\"T_7b2a8_row0_col1\" class=\"data row0 col1\" >Dy Manager</td>\n",
              "      <td id=\"T_7b2a8_row0_col2\" class=\"data row0 col2\" >70</td>\n",
              "    </tr>\n",
              "  </tbody>\n",
              "</table>\n"
            ]
          },
          "metadata": {},
          "execution_count": 32
        }
      ]
    },
    {
      "cell_type": "code",
      "source": [
        "runSelect(\"select lastname, jobdesc, deptid from empl where deptid = '70' or jobdesc like '%Manager'\")"
      ],
      "metadata": {
        "colab": {
          "base_uri": "https://localhost:8080/",
          "height": 175
        },
        "id": "Ne0eLRV3qyTn",
        "outputId": "eea57e5c-7809-484c-f826-7dd6a22976ef"
      },
      "execution_count": 33,
      "outputs": [
        {
          "output_type": "execute_result",
          "data": {
            "text/plain": [
              "<pandas.io.formats.style.Styler at 0x79b3724a33d0>"
            ],
            "text/html": [
              "<style type=\"text/css\">\n",
              "</style>\n",
              "<table id=\"T_d9b8e\" class=\"dataframe\">\n",
              "  <thead>\n",
              "    <tr>\n",
              "      <th id=\"T_d9b8e_level0_col0\" class=\"col_heading level0 col0\" >lastname</th>\n",
              "      <th id=\"T_d9b8e_level0_col1\" class=\"col_heading level0 col1\" >jobdesc</th>\n",
              "      <th id=\"T_d9b8e_level0_col2\" class=\"col_heading level0 col2\" >deptid</th>\n",
              "    </tr>\n",
              "  </thead>\n",
              "  <tbody>\n",
              "    <tr>\n",
              "      <td id=\"T_d9b8e_row0_col0\" class=\"data row0 col0\" >Mukherjee</td>\n",
              "      <td id=\"T_d9b8e_row0_col1\" class=\"data row0 col1\" >Manager</td>\n",
              "      <td id=\"T_d9b8e_row0_col2\" class=\"data row0 col2\" >40</td>\n",
              "    </tr>\n",
              "    <tr>\n",
              "      <td id=\"T_d9b8e_row1_col0\" class=\"data row1 col0\" >Khan</td>\n",
              "      <td id=\"T_d9b8e_row1_col1\" class=\"data row1 col1\" >Manager</td>\n",
              "      <td id=\"T_d9b8e_row1_col2\" class=\"data row1 col2\" >20</td>\n",
              "    </tr>\n",
              "    <tr>\n",
              "      <td id=\"T_d9b8e_row2_col0\" class=\"data row2 col0\" >Dravid</td>\n",
              "      <td id=\"T_d9b8e_row2_col1\" class=\"data row2 col1\" >Sr Manager</td>\n",
              "      <td id=\"T_d9b8e_row2_col2\" class=\"data row2 col2\" >30</td>\n",
              "    </tr>\n",
              "    <tr>\n",
              "      <td id=\"T_d9b8e_row3_col0\" class=\"data row3 col0\" >Sunil</td>\n",
              "      <td id=\"T_d9b8e_row3_col1\" class=\"data row3 col1\" >Dy Manager</td>\n",
              "      <td id=\"T_d9b8e_row3_col2\" class=\"data row3 col2\" >70</td>\n",
              "    </tr>\n",
              "  </tbody>\n",
              "</table>\n"
            ]
          },
          "metadata": {},
          "execution_count": 33
        }
      ]
    },
    {
      "cell_type": "code",
      "source": [
        "runSelect(\"select lastname, jobdesc, deptid from empl where deptid = '70' or jobdesc like '%Manager' or lastname = 'Dikshit'\")"
      ],
      "metadata": {
        "colab": {
          "base_uri": "https://localhost:8080/",
          "height": 206
        },
        "id": "aR3eNz7xq8Xo",
        "outputId": "d3959e9f-bdad-4ae6-8f81-b866629d436b"
      },
      "execution_count": 34,
      "outputs": [
        {
          "output_type": "execute_result",
          "data": {
            "text/plain": [
              "<pandas.io.formats.style.Styler at 0x79b3724a3010>"
            ],
            "text/html": [
              "<style type=\"text/css\">\n",
              "</style>\n",
              "<table id=\"T_019ad\" class=\"dataframe\">\n",
              "  <thead>\n",
              "    <tr>\n",
              "      <th id=\"T_019ad_level0_col0\" class=\"col_heading level0 col0\" >lastname</th>\n",
              "      <th id=\"T_019ad_level0_col1\" class=\"col_heading level0 col1\" >jobdesc</th>\n",
              "      <th id=\"T_019ad_level0_col2\" class=\"col_heading level0 col2\" >deptid</th>\n",
              "    </tr>\n",
              "  </thead>\n",
              "  <tbody>\n",
              "    <tr>\n",
              "      <td id=\"T_019ad_row0_col0\" class=\"data row0 col0\" >Mukherjee</td>\n",
              "      <td id=\"T_019ad_row0_col1\" class=\"data row0 col1\" >Manager</td>\n",
              "      <td id=\"T_019ad_row0_col2\" class=\"data row0 col2\" >40</td>\n",
              "    </tr>\n",
              "    <tr>\n",
              "      <td id=\"T_019ad_row1_col0\" class=\"data row1 col0\" >Dikshit</td>\n",
              "      <td id=\"T_019ad_row1_col1\" class=\"data row1 col1\" >Clerk</td>\n",
              "      <td id=\"T_019ad_row1_col2\" class=\"data row1 col2\" >20</td>\n",
              "    </tr>\n",
              "    <tr>\n",
              "      <td id=\"T_019ad_row2_col0\" class=\"data row2 col0\" >Khan</td>\n",
              "      <td id=\"T_019ad_row2_col1\" class=\"data row2 col1\" >Manager</td>\n",
              "      <td id=\"T_019ad_row2_col2\" class=\"data row2 col2\" >20</td>\n",
              "    </tr>\n",
              "    <tr>\n",
              "      <td id=\"T_019ad_row3_col0\" class=\"data row3 col0\" >Dravid</td>\n",
              "      <td id=\"T_019ad_row3_col1\" class=\"data row3 col1\" >Sr Manager</td>\n",
              "      <td id=\"T_019ad_row3_col2\" class=\"data row3 col2\" >30</td>\n",
              "    </tr>\n",
              "    <tr>\n",
              "      <td id=\"T_019ad_row4_col0\" class=\"data row4 col0\" >Sunil</td>\n",
              "      <td id=\"T_019ad_row4_col1\" class=\"data row4 col1\" >Dy Manager</td>\n",
              "      <td id=\"T_019ad_row4_col2\" class=\"data row4 col2\" >70</td>\n",
              "    </tr>\n",
              "  </tbody>\n",
              "</table>\n"
            ]
          },
          "metadata": {},
          "execution_count": 34
        }
      ]
    },
    {
      "cell_type": "code",
      "source": [
        "runSelect(\"select lastname, jobdesc, salary from empl where jobdesc = 'Cus_Rep' or jobdesc = 'Clerk' and salary < 16000\")"
      ],
      "metadata": {
        "colab": {
          "base_uri": "https://localhost:8080/",
          "height": 238
        },
        "id": "Ov0HErC0txm4",
        "outputId": "d15eab16-0f4b-4674-8415-a9e717c0203d"
      },
      "execution_count": 35,
      "outputs": [
        {
          "output_type": "execute_result",
          "data": {
            "text/plain": [
              "<pandas.io.formats.style.Styler at 0x79b3724bf7d0>"
            ],
            "text/html": [
              "<style type=\"text/css\">\n",
              "</style>\n",
              "<table id=\"T_64857\" class=\"dataframe\">\n",
              "  <thead>\n",
              "    <tr>\n",
              "      <th id=\"T_64857_level0_col0\" class=\"col_heading level0 col0\" >lastname</th>\n",
              "      <th id=\"T_64857_level0_col1\" class=\"col_heading level0 col1\" >jobdesc</th>\n",
              "      <th id=\"T_64857_level0_col2\" class=\"col_heading level0 col2\" >salary</th>\n",
              "    </tr>\n",
              "  </thead>\n",
              "  <tbody>\n",
              "    <tr>\n",
              "      <td id=\"T_64857_row0_col0\" class=\"data row0 col0\" >Dikshit</td>\n",
              "      <td id=\"T_64857_row0_col1\" class=\"data row0 col1\" >Clerk</td>\n",
              "      <td id=\"T_64857_row0_col2\" class=\"data row0 col2\" >10000</td>\n",
              "    </tr>\n",
              "    <tr>\n",
              "      <td id=\"T_64857_row1_col0\" class=\"data row1 col0\" >Sehwag</td>\n",
              "      <td id=\"T_64857_row1_col1\" class=\"data row1 col1\" >Cus_Rep</td>\n",
              "      <td id=\"T_64857_row1_col2\" class=\"data row1 col2\" >15000</td>\n",
              "    </tr>\n",
              "    <tr>\n",
              "      <td id=\"T_64857_row2_col0\" class=\"data row2 col0\" >Dhoni</td>\n",
              "      <td id=\"T_64857_row2_col1\" class=\"data row2 col1\" >Clerk</td>\n",
              "      <td id=\"T_64857_row2_col2\" class=\"data row2 col2\" >9000</td>\n",
              "    </tr>\n",
              "    <tr>\n",
              "      <td id=\"T_64857_row3_col0\" class=\"data row3 col0\" >Dalmia</td>\n",
              "      <td id=\"T_64857_row3_col1\" class=\"data row3 col1\" >Clerk</td>\n",
              "      <td id=\"T_64857_row3_col2\" class=\"data row3 col2\" >12000</td>\n",
              "    </tr>\n",
              "    <tr>\n",
              "      <td id=\"T_64857_row4_col0\" class=\"data row4 col0\" >Ganguly</td>\n",
              "      <td id=\"T_64857_row4_col1\" class=\"data row4 col1\" >Cus_Rep</td>\n",
              "      <td id=\"T_64857_row4_col2\" class=\"data row4 col2\" >20000</td>\n",
              "    </tr>\n",
              "    <tr>\n",
              "      <td id=\"T_64857_row5_col0\" class=\"data row5 col0\" >Mirza</td>\n",
              "      <td id=\"T_64857_row5_col1\" class=\"data row5 col1\" >Cus_Rep</td>\n",
              "      <td id=\"T_64857_row5_col2\" class=\"data row5 col2\" >25000</td>\n",
              "    </tr>\n",
              "  </tbody>\n",
              "</table>\n"
            ]
          },
          "metadata": {},
          "execution_count": 35
        }
      ]
    },
    {
      "cell_type": "code",
      "source": [
        "runSelect(\"select lastname, jobdesc, salary from empl where (jobdesc = 'Cus_Rep' or jobdesc = 'Clerk') and salary < 16000\")"
      ],
      "metadata": {
        "colab": {
          "base_uri": "https://localhost:8080/",
          "height": 175
        },
        "id": "g7hbzjdxuOt6",
        "outputId": "8a7fb5db-0609-4de9-b09b-2936fafedba7"
      },
      "execution_count": 36,
      "outputs": [
        {
          "output_type": "execute_result",
          "data": {
            "text/plain": [
              "<pandas.io.formats.style.Styler at 0x79b372494ad0>"
            ],
            "text/html": [
              "<style type=\"text/css\">\n",
              "</style>\n",
              "<table id=\"T_49e79\" class=\"dataframe\">\n",
              "  <thead>\n",
              "    <tr>\n",
              "      <th id=\"T_49e79_level0_col0\" class=\"col_heading level0 col0\" >lastname</th>\n",
              "      <th id=\"T_49e79_level0_col1\" class=\"col_heading level0 col1\" >jobdesc</th>\n",
              "      <th id=\"T_49e79_level0_col2\" class=\"col_heading level0 col2\" >salary</th>\n",
              "    </tr>\n",
              "  </thead>\n",
              "  <tbody>\n",
              "    <tr>\n",
              "      <td id=\"T_49e79_row0_col0\" class=\"data row0 col0\" >Dikshit</td>\n",
              "      <td id=\"T_49e79_row0_col1\" class=\"data row0 col1\" >Clerk</td>\n",
              "      <td id=\"T_49e79_row0_col2\" class=\"data row0 col2\" >10000</td>\n",
              "    </tr>\n",
              "    <tr>\n",
              "      <td id=\"T_49e79_row1_col0\" class=\"data row1 col0\" >Sehwag</td>\n",
              "      <td id=\"T_49e79_row1_col1\" class=\"data row1 col1\" >Cus_Rep</td>\n",
              "      <td id=\"T_49e79_row1_col2\" class=\"data row1 col2\" >15000</td>\n",
              "    </tr>\n",
              "    <tr>\n",
              "      <td id=\"T_49e79_row2_col0\" class=\"data row2 col0\" >Dhoni</td>\n",
              "      <td id=\"T_49e79_row2_col1\" class=\"data row2 col1\" >Clerk</td>\n",
              "      <td id=\"T_49e79_row2_col2\" class=\"data row2 col2\" >9000</td>\n",
              "    </tr>\n",
              "    <tr>\n",
              "      <td id=\"T_49e79_row3_col0\" class=\"data row3 col0\" >Dalmia</td>\n",
              "      <td id=\"T_49e79_row3_col1\" class=\"data row3 col1\" >Clerk</td>\n",
              "      <td id=\"T_49e79_row3_col2\" class=\"data row3 col2\" >12000</td>\n",
              "    </tr>\n",
              "  </tbody>\n",
              "</table>\n"
            ]
          },
          "metadata": {},
          "execution_count": 36
        }
      ]
    },
    {
      "cell_type": "markdown",
      "source": [
        "# Single Row Functions"
      ],
      "metadata": {
        "id": "ND-8LYQcxsG2"
      }
    },
    {
      "cell_type": "code",
      "source": [
        "runSelect(\"select lastname, deptid, salary, comm, salary+salary*comm payout from empl where deptid = '20'\")"
      ],
      "metadata": {
        "colab": {
          "base_uri": "https://localhost:8080/",
          "height": 143
        },
        "id": "s71weE_hyDwf",
        "outputId": "46d4d26e-00c9-4461-bc08-0390f761b80d"
      },
      "execution_count": 37,
      "outputs": [
        {
          "output_type": "execute_result",
          "data": {
            "text/plain": [
              "<pandas.io.formats.style.Styler at 0x79b372495390>"
            ],
            "text/html": [
              "<style type=\"text/css\">\n",
              "</style>\n",
              "<table id=\"T_34ca6\" class=\"dataframe\">\n",
              "  <thead>\n",
              "    <tr>\n",
              "      <th id=\"T_34ca6_level0_col0\" class=\"col_heading level0 col0\" >lastname</th>\n",
              "      <th id=\"T_34ca6_level0_col1\" class=\"col_heading level0 col1\" >deptid</th>\n",
              "      <th id=\"T_34ca6_level0_col2\" class=\"col_heading level0 col2\" >salary</th>\n",
              "      <th id=\"T_34ca6_level0_col3\" class=\"col_heading level0 col3\" >comm</th>\n",
              "      <th id=\"T_34ca6_level0_col4\" class=\"col_heading level0 col4\" >payout</th>\n",
              "    </tr>\n",
              "  </thead>\n",
              "  <tbody>\n",
              "    <tr>\n",
              "      <td id=\"T_34ca6_row0_col0\" class=\"data row0 col0\" >Dikshit</td>\n",
              "      <td id=\"T_34ca6_row0_col1\" class=\"data row0 col1\" >20</td>\n",
              "      <td id=\"T_34ca6_row0_col2\" class=\"data row0 col2\" >10000</td>\n",
              "      <td id=\"T_34ca6_row0_col3\" class=\"data row0 col3\" >0.02</td>\n",
              "      <td id=\"T_34ca6_row0_col4\" class=\"data row0 col4\" >10200.00</td>\n",
              "    </tr>\n",
              "    <tr>\n",
              "      <td id=\"T_34ca6_row1_col0\" class=\"data row1 col0\" >Khan</td>\n",
              "      <td id=\"T_34ca6_row1_col1\" class=\"data row1 col1\" >20</td>\n",
              "      <td id=\"T_34ca6_row1_col2\" class=\"data row1 col2\" >30000</td>\n",
              "      <td id=\"T_34ca6_row1_col3\" class=\"data row1 col3\" >0.07</td>\n",
              "      <td id=\"T_34ca6_row1_col4\" class=\"data row1 col4\" >32100.00</td>\n",
              "    </tr>\n",
              "    <tr>\n",
              "      <td id=\"T_34ca6_row2_col0\" class=\"data row2 col0\" >Sehwag</td>\n",
              "      <td id=\"T_34ca6_row2_col1\" class=\"data row2 col1\" >20</td>\n",
              "      <td id=\"T_34ca6_row2_col2\" class=\"data row2 col2\" >15000</td>\n",
              "      <td id=\"T_34ca6_row2_col3\" class=\"data row2 col3\" >0.05</td>\n",
              "      <td id=\"T_34ca6_row2_col4\" class=\"data row2 col4\" >15750.00</td>\n",
              "    </tr>\n",
              "  </tbody>\n",
              "</table>\n"
            ]
          },
          "metadata": {},
          "execution_count": 37
        }
      ]
    },
    {
      "cell_type": "code",
      "source": [
        "runSelect(\"select lastname, firstname, deptid, substring(firstname,1,3) nick from empl where deptid = '20'\")"
      ],
      "metadata": {
        "colab": {
          "base_uri": "https://localhost:8080/",
          "height": 143
        },
        "id": "I3rkoZrYyb_P",
        "outputId": "5ef68d6b-5296-4050-8bc8-b961b0a32796"
      },
      "execution_count": 38,
      "outputs": [
        {
          "output_type": "execute_result",
          "data": {
            "text/plain": [
              "<pandas.io.formats.style.Styler at 0x79b37248c510>"
            ],
            "text/html": [
              "<style type=\"text/css\">\n",
              "</style>\n",
              "<table id=\"T_2f9d0\" class=\"dataframe\">\n",
              "  <thead>\n",
              "    <tr>\n",
              "      <th id=\"T_2f9d0_level0_col0\" class=\"col_heading level0 col0\" >lastname</th>\n",
              "      <th id=\"T_2f9d0_level0_col1\" class=\"col_heading level0 col1\" >firstname</th>\n",
              "      <th id=\"T_2f9d0_level0_col2\" class=\"col_heading level0 col2\" >deptid</th>\n",
              "      <th id=\"T_2f9d0_level0_col3\" class=\"col_heading level0 col3\" >nick</th>\n",
              "    </tr>\n",
              "  </thead>\n",
              "  <tbody>\n",
              "    <tr>\n",
              "      <td id=\"T_2f9d0_row0_col0\" class=\"data row0 col0\" >Dikshit</td>\n",
              "      <td id=\"T_2f9d0_row0_col1\" class=\"data row0 col1\" >Madhuri</td>\n",
              "      <td id=\"T_2f9d0_row0_col2\" class=\"data row0 col2\" >20</td>\n",
              "      <td id=\"T_2f9d0_row0_col3\" class=\"data row0 col3\" >Mad</td>\n",
              "    </tr>\n",
              "    <tr>\n",
              "      <td id=\"T_2f9d0_row1_col0\" class=\"data row1 col0\" >Khan</td>\n",
              "      <td id=\"T_2f9d0_row1_col1\" class=\"data row1 col1\" >Shahrukh</td>\n",
              "      <td id=\"T_2f9d0_row1_col2\" class=\"data row1 col2\" >20</td>\n",
              "      <td id=\"T_2f9d0_row1_col3\" class=\"data row1 col3\" >Sha</td>\n",
              "    </tr>\n",
              "    <tr>\n",
              "      <td id=\"T_2f9d0_row2_col0\" class=\"data row2 col0\" >Sehwag</td>\n",
              "      <td id=\"T_2f9d0_row2_col1\" class=\"data row2 col1\" >Virender</td>\n",
              "      <td id=\"T_2f9d0_row2_col2\" class=\"data row2 col2\" >20</td>\n",
              "      <td id=\"T_2f9d0_row2_col3\" class=\"data row2 col3\" >Vir</td>\n",
              "    </tr>\n",
              "  </tbody>\n",
              "</table>\n"
            ]
          },
          "metadata": {},
          "execution_count": 38
        }
      ]
    },
    {
      "cell_type": "code",
      "source": [
        "runSelect(\"select lastname, firstname, deptid, concat('\\\"',substring(firstname,2,3),'\\\" ',lastname) nick from empl where deptid = '20'\")"
      ],
      "metadata": {
        "colab": {
          "base_uri": "https://localhost:8080/",
          "height": 143
        },
        "id": "xNQl1KpSzIQc",
        "outputId": "a978b8bf-3ec1-4cba-dc13-169a31130430"
      },
      "execution_count": 39,
      "outputs": [
        {
          "output_type": "execute_result",
          "data": {
            "text/plain": [
              "<pandas.io.formats.style.Styler at 0x79b37248d190>"
            ],
            "text/html": [
              "<style type=\"text/css\">\n",
              "</style>\n",
              "<table id=\"T_2ea6f\" class=\"dataframe\">\n",
              "  <thead>\n",
              "    <tr>\n",
              "      <th id=\"T_2ea6f_level0_col0\" class=\"col_heading level0 col0\" >lastname</th>\n",
              "      <th id=\"T_2ea6f_level0_col1\" class=\"col_heading level0 col1\" >firstname</th>\n",
              "      <th id=\"T_2ea6f_level0_col2\" class=\"col_heading level0 col2\" >deptid</th>\n",
              "      <th id=\"T_2ea6f_level0_col3\" class=\"col_heading level0 col3\" >nick</th>\n",
              "    </tr>\n",
              "  </thead>\n",
              "  <tbody>\n",
              "    <tr>\n",
              "      <td id=\"T_2ea6f_row0_col0\" class=\"data row0 col0\" >Dikshit</td>\n",
              "      <td id=\"T_2ea6f_row0_col1\" class=\"data row0 col1\" >Madhuri</td>\n",
              "      <td id=\"T_2ea6f_row0_col2\" class=\"data row0 col2\" >20</td>\n",
              "      <td id=\"T_2ea6f_row0_col3\" class=\"data row0 col3\" >\"adh\" Dikshit</td>\n",
              "    </tr>\n",
              "    <tr>\n",
              "      <td id=\"T_2ea6f_row1_col0\" class=\"data row1 col0\" >Khan</td>\n",
              "      <td id=\"T_2ea6f_row1_col1\" class=\"data row1 col1\" >Shahrukh</td>\n",
              "      <td id=\"T_2ea6f_row1_col2\" class=\"data row1 col2\" >20</td>\n",
              "      <td id=\"T_2ea6f_row1_col3\" class=\"data row1 col3\" >\"hah\" Khan</td>\n",
              "    </tr>\n",
              "    <tr>\n",
              "      <td id=\"T_2ea6f_row2_col0\" class=\"data row2 col0\" >Sehwag</td>\n",
              "      <td id=\"T_2ea6f_row2_col1\" class=\"data row2 col1\" >Virender</td>\n",
              "      <td id=\"T_2ea6f_row2_col2\" class=\"data row2 col2\" >20</td>\n",
              "      <td id=\"T_2ea6f_row2_col3\" class=\"data row2 col3\" >\"ire\" Sehwag</td>\n",
              "    </tr>\n",
              "  </tbody>\n",
              "</table>\n"
            ]
          },
          "metadata": {},
          "execution_count": 39
        }
      ]
    },
    {
      "cell_type": "code",
      "source": [
        "runSelect(\"select LastName, Current_Date,JoinDate, to_char(JoinDate,'Day') JoinDay, to_char(JoinDate,'DD-mon-YY') JoinDate2, \\\n",
        "Current_Date-JoinDate DaysSince from Empl\")\n",
        "\n",
        "#https://blog.quest.com/exploring-postgres-date-formats-and-their-different-functions/\n"
      ],
      "metadata": {
        "id": "37Rjgkxz-BP0",
        "outputId": "a7f51a8a-8554-49c0-ceec-d719fc3eb3d9",
        "colab": {
          "base_uri": "https://localhost:8080/",
          "height": 457
        }
      },
      "execution_count": 40,
      "outputs": [
        {
          "output_type": "execute_result",
          "data": {
            "text/plain": [
              "<pandas.io.formats.style.Styler at 0x79b37248fd10>"
            ],
            "text/html": [
              "<style type=\"text/css\">\n",
              "</style>\n",
              "<table id=\"T_681a2\" class=\"dataframe\">\n",
              "  <thead>\n",
              "    <tr>\n",
              "      <th id=\"T_681a2_level0_col0\" class=\"col_heading level0 col0\" >lastname</th>\n",
              "      <th id=\"T_681a2_level0_col1\" class=\"col_heading level0 col1\" >current_date</th>\n",
              "      <th id=\"T_681a2_level0_col2\" class=\"col_heading level0 col2\" >joindate</th>\n",
              "      <th id=\"T_681a2_level0_col3\" class=\"col_heading level0 col3\" >joinday</th>\n",
              "      <th id=\"T_681a2_level0_col4\" class=\"col_heading level0 col4\" >joindate2</th>\n",
              "      <th id=\"T_681a2_level0_col5\" class=\"col_heading level0 col5\" >dayssince</th>\n",
              "    </tr>\n",
              "  </thead>\n",
              "  <tbody>\n",
              "    <tr>\n",
              "      <td id=\"T_681a2_row0_col0\" class=\"data row0 col0\" >Bacchan</td>\n",
              "      <td id=\"T_681a2_row0_col1\" class=\"data row0 col1\" >2025-08-14</td>\n",
              "      <td id=\"T_681a2_row0_col2\" class=\"data row0 col2\" >2003-03-10</td>\n",
              "      <td id=\"T_681a2_row0_col3\" class=\"data row0 col3\" >Monday   </td>\n",
              "      <td id=\"T_681a2_row0_col4\" class=\"data row0 col4\" >10-mar-03</td>\n",
              "      <td id=\"T_681a2_row0_col5\" class=\"data row0 col5\" >8193</td>\n",
              "    </tr>\n",
              "    <tr>\n",
              "      <td id=\"T_681a2_row1_col0\" class=\"data row1 col0\" >Mukherjee</td>\n",
              "      <td id=\"T_681a2_row1_col1\" class=\"data row1 col1\" >2025-08-14</td>\n",
              "      <td id=\"T_681a2_row1_col2\" class=\"data row1 col2\" >2005-05-04</td>\n",
              "      <td id=\"T_681a2_row1_col3\" class=\"data row1 col3\" >Wednesday</td>\n",
              "      <td id=\"T_681a2_row1_col4\" class=\"data row1 col4\" >04-may-05</td>\n",
              "      <td id=\"T_681a2_row1_col5\" class=\"data row1 col5\" >7407</td>\n",
              "    </tr>\n",
              "    <tr>\n",
              "      <td id=\"T_681a2_row2_col0\" class=\"data row2 col0\" >Dikshit</td>\n",
              "      <td id=\"T_681a2_row2_col1\" class=\"data row2 col1\" >2025-08-14</td>\n",
              "      <td id=\"T_681a2_row2_col2\" class=\"data row2 col2\" >2002-04-04</td>\n",
              "      <td id=\"T_681a2_row2_col3\" class=\"data row2 col3\" >Thursday </td>\n",
              "      <td id=\"T_681a2_row2_col4\" class=\"data row2 col4\" >04-apr-02</td>\n",
              "      <td id=\"T_681a2_row2_col5\" class=\"data row2 col5\" >8533</td>\n",
              "    </tr>\n",
              "    <tr>\n",
              "      <td id=\"T_681a2_row3_col0\" class=\"data row3 col0\" >Khan</td>\n",
              "      <td id=\"T_681a2_row3_col1\" class=\"data row3 col1\" >2025-08-14</td>\n",
              "      <td id=\"T_681a2_row3_col2\" class=\"data row3 col2\" >2004-01-03</td>\n",
              "      <td id=\"T_681a2_row3_col3\" class=\"data row3 col3\" >Saturday </td>\n",
              "      <td id=\"T_681a2_row3_col4\" class=\"data row3 col4\" >03-jan-04</td>\n",
              "      <td id=\"T_681a2_row3_col5\" class=\"data row3 col5\" >7894</td>\n",
              "    </tr>\n",
              "    <tr>\n",
              "      <td id=\"T_681a2_row4_col0\" class=\"data row4 col0\" >Sehwag</td>\n",
              "      <td id=\"T_681a2_row4_col1\" class=\"data row4 col1\" >2025-08-14</td>\n",
              "      <td id=\"T_681a2_row4_col2\" class=\"data row4 col2\" >2005-01-02</td>\n",
              "      <td id=\"T_681a2_row4_col3\" class=\"data row4 col3\" >Sunday   </td>\n",
              "      <td id=\"T_681a2_row4_col4\" class=\"data row4 col4\" >02-jan-05</td>\n",
              "      <td id=\"T_681a2_row4_col5\" class=\"data row4 col5\" >7529</td>\n",
              "    </tr>\n",
              "    <tr>\n",
              "      <td id=\"T_681a2_row5_col0\" class=\"data row5 col0\" >Dhoni</td>\n",
              "      <td id=\"T_681a2_row5_col1\" class=\"data row5 col1\" >2025-08-14</td>\n",
              "      <td id=\"T_681a2_row5_col2\" class=\"data row5 col2\" >2004-10-09</td>\n",
              "      <td id=\"T_681a2_row5_col3\" class=\"data row5 col3\" >Saturday </td>\n",
              "      <td id=\"T_681a2_row5_col4\" class=\"data row5 col4\" >09-oct-04</td>\n",
              "      <td id=\"T_681a2_row5_col5\" class=\"data row5 col5\" >7614</td>\n",
              "    </tr>\n",
              "    <tr>\n",
              "      <td id=\"T_681a2_row6_col0\" class=\"data row6 col0\" >Dravid</td>\n",
              "      <td id=\"T_681a2_row6_col1\" class=\"data row6 col1\" >2025-08-14</td>\n",
              "      <td id=\"T_681a2_row6_col2\" class=\"data row6 col2\" >2000-06-04</td>\n",
              "      <td id=\"T_681a2_row6_col3\" class=\"data row6 col3\" >Sunday   </td>\n",
              "      <td id=\"T_681a2_row6_col4\" class=\"data row6 col4\" >04-jun-00</td>\n",
              "      <td id=\"T_681a2_row6_col5\" class=\"data row6 col5\" >9202</td>\n",
              "    </tr>\n",
              "    <tr>\n",
              "      <td id=\"T_681a2_row7_col0\" class=\"data row7 col0\" >Dalmia</td>\n",
              "      <td id=\"T_681a2_row7_col1\" class=\"data row7 col1\" >2025-08-14</td>\n",
              "      <td id=\"T_681a2_row7_col2\" class=\"data row7 col2\" >2001-07-01</td>\n",
              "      <td id=\"T_681a2_row7_col3\" class=\"data row7 col3\" >Sunday   </td>\n",
              "      <td id=\"T_681a2_row7_col4\" class=\"data row7 col4\" >01-jul-01</td>\n",
              "      <td id=\"T_681a2_row7_col5\" class=\"data row7 col5\" >8810</td>\n",
              "    </tr>\n",
              "    <tr>\n",
              "      <td id=\"T_681a2_row8_col0\" class=\"data row8 col0\" >Ganguly</td>\n",
              "      <td id=\"T_681a2_row8_col1\" class=\"data row8 col1\" >2025-08-14</td>\n",
              "      <td id=\"T_681a2_row8_col2\" class=\"data row8 col2\" >2002-01-01</td>\n",
              "      <td id=\"T_681a2_row8_col3\" class=\"data row8 col3\" >Tuesday  </td>\n",
              "      <td id=\"T_681a2_row8_col4\" class=\"data row8 col4\" >01-jan-02</td>\n",
              "      <td id=\"T_681a2_row8_col5\" class=\"data row8 col5\" >8626</td>\n",
              "    </tr>\n",
              "    <tr>\n",
              "      <td id=\"T_681a2_row9_col0\" class=\"data row9 col0\" >Ganesan</td>\n",
              "      <td id=\"T_681a2_row9_col1\" class=\"data row9 col1\" >2025-08-14</td>\n",
              "      <td id=\"T_681a2_row9_col2\" class=\"data row9 col2\" >2002-10-10</td>\n",
              "      <td id=\"T_681a2_row9_col3\" class=\"data row9 col3\" >Thursday </td>\n",
              "      <td id=\"T_681a2_row9_col4\" class=\"data row9 col4\" >10-oct-02</td>\n",
              "      <td id=\"T_681a2_row9_col5\" class=\"data row9 col5\" >8344</td>\n",
              "    </tr>\n",
              "    <tr>\n",
              "      <td id=\"T_681a2_row10_col0\" class=\"data row10 col0\" >Karthikeyan</td>\n",
              "      <td id=\"T_681a2_row10_col1\" class=\"data row10 col1\" >2025-08-14</td>\n",
              "      <td id=\"T_681a2_row10_col2\" class=\"data row10 col2\" >2005-12-04</td>\n",
              "      <td id=\"T_681a2_row10_col3\" class=\"data row10 col3\" >Sunday   </td>\n",
              "      <td id=\"T_681a2_row10_col4\" class=\"data row10 col4\" >04-dec-05</td>\n",
              "      <td id=\"T_681a2_row10_col5\" class=\"data row10 col5\" >7193</td>\n",
              "    </tr>\n",
              "    <tr>\n",
              "      <td id=\"T_681a2_row11_col0\" class=\"data row11 col0\" >Sunil</td>\n",
              "      <td id=\"T_681a2_row11_col1\" class=\"data row11 col1\" >2025-08-14</td>\n",
              "      <td id=\"T_681a2_row11_col2\" class=\"data row11 col2\" >2006-12-07</td>\n",
              "      <td id=\"T_681a2_row11_col3\" class=\"data row11 col3\" >Thursday </td>\n",
              "      <td id=\"T_681a2_row11_col4\" class=\"data row11 col4\" >07-dec-06</td>\n",
              "      <td id=\"T_681a2_row11_col5\" class=\"data row11 col5\" >6825</td>\n",
              "    </tr>\n",
              "    <tr>\n",
              "      <td id=\"T_681a2_row12_col0\" class=\"data row12 col0\" >Mirza</td>\n",
              "      <td id=\"T_681a2_row12_col1\" class=\"data row12 col1\" >2025-08-14</td>\n",
              "      <td id=\"T_681a2_row12_col2\" class=\"data row12 col2\" >2001-11-19</td>\n",
              "      <td id=\"T_681a2_row12_col3\" class=\"data row12 col3\" >Monday   </td>\n",
              "      <td id=\"T_681a2_row12_col4\" class=\"data row12 col4\" >19-nov-01</td>\n",
              "      <td id=\"T_681a2_row12_col5\" class=\"data row12 col5\" >8669</td>\n",
              "    </tr>\n",
              "  </tbody>\n",
              "</table>\n"
            ]
          },
          "metadata": {},
          "execution_count": 40
        }
      ]
    },
    {
      "cell_type": "markdown",
      "source": [
        "# MultiRow Function | Group By | Having\n",
        "for more complex examples that demonstrate Grouping Sets, Cubes, Roll UP, Crosstabs and other OLAP related SQL see [this notebook](https://github.com/Praxis-QR/RDWH/blob/main/PostgreSQL_03B_SQL_Level2.ipynb)"
      ],
      "metadata": {
        "id": "ONgFWUTC2IPK"
      }
    },
    {
      "cell_type": "code",
      "source": [
        "runSelect(\"select sum(salary) Total_Salary from empl\")"
      ],
      "metadata": {
        "colab": {
          "base_uri": "https://localhost:8080/",
          "height": 81
        },
        "id": "7MnnzfJx2PSc",
        "outputId": "d8beb54a-3400-4b1f-cd75-6df1407eb828"
      },
      "execution_count": 41,
      "outputs": [
        {
          "output_type": "execute_result",
          "data": {
            "text/plain": [
              "<pandas.io.formats.style.Styler at 0x79b3724969d0>"
            ],
            "text/html": [
              "<style type=\"text/css\">\n",
              "</style>\n",
              "<table id=\"T_ef3d3\" class=\"dataframe\">\n",
              "  <thead>\n",
              "    <tr>\n",
              "      <th id=\"T_ef3d3_level0_col0\" class=\"col_heading level0 col0\" >total_salary</th>\n",
              "    </tr>\n",
              "  </thead>\n",
              "  <tbody>\n",
              "    <tr>\n",
              "      <td id=\"T_ef3d3_row0_col0\" class=\"data row0 col0\" >376000</td>\n",
              "    </tr>\n",
              "  </tbody>\n",
              "</table>\n"
            ]
          },
          "metadata": {},
          "execution_count": 41
        }
      ]
    },
    {
      "cell_type": "code",
      "source": [
        "runSelect(\"select round(avg(salary),2) Average_Salary from empl\")"
      ],
      "metadata": {
        "colab": {
          "base_uri": "https://localhost:8080/",
          "height": 81
        },
        "id": "e3Avb-HL4QPD",
        "outputId": "6cab6b9c-9d39-4315-dd5a-68252a34d643"
      },
      "execution_count": 42,
      "outputs": [
        {
          "output_type": "execute_result",
          "data": {
            "text/plain": [
              "<pandas.io.formats.style.Styler at 0x79b3725dee50>"
            ],
            "text/html": [
              "<style type=\"text/css\">\n",
              "</style>\n",
              "<table id=\"T_de350\" class=\"dataframe\">\n",
              "  <thead>\n",
              "    <tr>\n",
              "      <th id=\"T_de350_level0_col0\" class=\"col_heading level0 col0\" >average_salary</th>\n",
              "    </tr>\n",
              "  </thead>\n",
              "  <tbody>\n",
              "    <tr>\n",
              "      <td id=\"T_de350_row0_col0\" class=\"data row0 col0\" >28923.08</td>\n",
              "    </tr>\n",
              "  </tbody>\n",
              "</table>\n"
            ]
          },
          "metadata": {},
          "execution_count": 42
        }
      ]
    },
    {
      "cell_type": "code",
      "source": [
        "runSelect(\"select max(salary) Max_Salary from empl\")"
      ],
      "metadata": {
        "colab": {
          "base_uri": "https://localhost:8080/",
          "height": 81
        },
        "id": "Oe1qRQbI4gtY",
        "outputId": "ed2d4138-0de7-4f73-c4b2-8a61708338a0"
      },
      "execution_count": 43,
      "outputs": [
        {
          "output_type": "execute_result",
          "data": {
            "text/plain": [
              "<pandas.io.formats.style.Styler at 0x79b372635090>"
            ],
            "text/html": [
              "<style type=\"text/css\">\n",
              "</style>\n",
              "<table id=\"T_a40ab\" class=\"dataframe\">\n",
              "  <thead>\n",
              "    <tr>\n",
              "      <th id=\"T_a40ab_level0_col0\" class=\"col_heading level0 col0\" >max_salary</th>\n",
              "    </tr>\n",
              "  </thead>\n",
              "  <tbody>\n",
              "    <tr>\n",
              "      <td id=\"T_a40ab_row0_col0\" class=\"data row0 col0\" >60000</td>\n",
              "    </tr>\n",
              "  </tbody>\n",
              "</table>\n"
            ]
          },
          "metadata": {},
          "execution_count": 43
        }
      ]
    },
    {
      "cell_type": "code",
      "source": [
        "runSelect(\"select deptid, sum(salary) Total, max(salary) Max from empl group by deptid\")"
      ],
      "metadata": {
        "colab": {
          "base_uri": "https://localhost:8080/",
          "height": 206
        },
        "id": "xpmGXSAX69iU",
        "outputId": "edc2ca35-33c2-490e-87e8-9fe9ee3d3bca"
      },
      "execution_count": 44,
      "outputs": [
        {
          "output_type": "execute_result",
          "data": {
            "text/plain": [
              "<pandas.io.formats.style.Styler at 0x79b372486850>"
            ],
            "text/html": [
              "<style type=\"text/css\">\n",
              "</style>\n",
              "<table id=\"T_6cc6f\" class=\"dataframe\">\n",
              "  <thead>\n",
              "    <tr>\n",
              "      <th id=\"T_6cc6f_level0_col0\" class=\"col_heading level0 col0\" >deptid</th>\n",
              "      <th id=\"T_6cc6f_level0_col1\" class=\"col_heading level0 col1\" >total</th>\n",
              "      <th id=\"T_6cc6f_level0_col2\" class=\"col_heading level0 col2\" >max</th>\n",
              "    </tr>\n",
              "  </thead>\n",
              "  <tbody>\n",
              "    <tr>\n",
              "      <td id=\"T_6cc6f_row0_col0\" class=\"data row0 col0\" >10</td>\n",
              "      <td id=\"T_6cc6f_row0_col1\" class=\"data row0 col1\" >150000</td>\n",
              "      <td id=\"T_6cc6f_row0_col2\" class=\"data row0 col2\" >60000</td>\n",
              "    </tr>\n",
              "    <tr>\n",
              "      <td id=\"T_6cc6f_row1_col0\" class=\"data row1 col0\" >40</td>\n",
              "      <td id=\"T_6cc6f_row1_col1\" class=\"data row1 col1\" >54000</td>\n",
              "      <td id=\"T_6cc6f_row1_col2\" class=\"data row1 col2\" >25000</td>\n",
              "    </tr>\n",
              "    <tr>\n",
              "      <td id=\"T_6cc6f_row2_col0\" class=\"data row2 col0\" >70</td>\n",
              "      <td id=\"T_6cc6f_row2_col1\" class=\"data row2 col1\" >40000</td>\n",
              "      <td id=\"T_6cc6f_row2_col2\" class=\"data row2 col2\" >40000</td>\n",
              "    </tr>\n",
              "    <tr>\n",
              "      <td id=\"T_6cc6f_row3_col0\" class=\"data row3 col0\" >20</td>\n",
              "      <td id=\"T_6cc6f_row3_col1\" class=\"data row3 col1\" >55000</td>\n",
              "      <td id=\"T_6cc6f_row3_col2\" class=\"data row3 col2\" >30000</td>\n",
              "    </tr>\n",
              "    <tr>\n",
              "      <td id=\"T_6cc6f_row4_col0\" class=\"data row4 col0\" >30</td>\n",
              "      <td id=\"T_6cc6f_row4_col1\" class=\"data row4 col1\" >77000</td>\n",
              "      <td id=\"T_6cc6f_row4_col2\" class=\"data row4 col2\" >40000</td>\n",
              "    </tr>\n",
              "  </tbody>\n",
              "</table>\n"
            ]
          },
          "metadata": {},
          "execution_count": 44
        }
      ]
    },
    {
      "cell_type": "code",
      "source": [
        "runSelect(\"select deptid, sum(salary) Total, max(salary) Max from empl group by deptid having sum(salary) > 50000\")"
      ],
      "metadata": {
        "colab": {
          "base_uri": "https://localhost:8080/",
          "height": 175
        },
        "id": "AdNDutZl7LCF",
        "outputId": "8a2ff4d8-3f1e-4435-82bd-e719966980f4"
      },
      "execution_count": 45,
      "outputs": [
        {
          "output_type": "execute_result",
          "data": {
            "text/plain": [
              "<pandas.io.formats.style.Styler at 0x79b372484510>"
            ],
            "text/html": [
              "<style type=\"text/css\">\n",
              "</style>\n",
              "<table id=\"T_87b66\" class=\"dataframe\">\n",
              "  <thead>\n",
              "    <tr>\n",
              "      <th id=\"T_87b66_level0_col0\" class=\"col_heading level0 col0\" >deptid</th>\n",
              "      <th id=\"T_87b66_level0_col1\" class=\"col_heading level0 col1\" >total</th>\n",
              "      <th id=\"T_87b66_level0_col2\" class=\"col_heading level0 col2\" >max</th>\n",
              "    </tr>\n",
              "  </thead>\n",
              "  <tbody>\n",
              "    <tr>\n",
              "      <td id=\"T_87b66_row0_col0\" class=\"data row0 col0\" >10</td>\n",
              "      <td id=\"T_87b66_row0_col1\" class=\"data row0 col1\" >150000</td>\n",
              "      <td id=\"T_87b66_row0_col2\" class=\"data row0 col2\" >60000</td>\n",
              "    </tr>\n",
              "    <tr>\n",
              "      <td id=\"T_87b66_row1_col0\" class=\"data row1 col0\" >40</td>\n",
              "      <td id=\"T_87b66_row1_col1\" class=\"data row1 col1\" >54000</td>\n",
              "      <td id=\"T_87b66_row1_col2\" class=\"data row1 col2\" >25000</td>\n",
              "    </tr>\n",
              "    <tr>\n",
              "      <td id=\"T_87b66_row2_col0\" class=\"data row2 col0\" >20</td>\n",
              "      <td id=\"T_87b66_row2_col1\" class=\"data row2 col1\" >55000</td>\n",
              "      <td id=\"T_87b66_row2_col2\" class=\"data row2 col2\" >30000</td>\n",
              "    </tr>\n",
              "    <tr>\n",
              "      <td id=\"T_87b66_row3_col0\" class=\"data row3 col0\" >30</td>\n",
              "      <td id=\"T_87b66_row3_col1\" class=\"data row3 col1\" >77000</td>\n",
              "      <td id=\"T_87b66_row3_col2\" class=\"data row3 col2\" >40000</td>\n",
              "    </tr>\n",
              "  </tbody>\n",
              "</table>\n"
            ]
          },
          "metadata": {},
          "execution_count": 45
        }
      ]
    },
    {
      "cell_type": "code",
      "source": [
        "runSelect(\"select deptid, sum(salary) Total, max(salary) Max from empl group by deptid having sum(salary) > 50000 and max(salary) < 35000\")"
      ],
      "metadata": {
        "colab": {
          "base_uri": "https://localhost:8080/",
          "height": 112
        },
        "id": "4VFmL5JF7bYo",
        "outputId": "6e9958dd-aac1-4f17-8f3c-ad242507b4d0"
      },
      "execution_count": 46,
      "outputs": [
        {
          "output_type": "execute_result",
          "data": {
            "text/plain": [
              "<pandas.io.formats.style.Styler at 0x79b372487950>"
            ],
            "text/html": [
              "<style type=\"text/css\">\n",
              "</style>\n",
              "<table id=\"T_8a109\" class=\"dataframe\">\n",
              "  <thead>\n",
              "    <tr>\n",
              "      <th id=\"T_8a109_level0_col0\" class=\"col_heading level0 col0\" >deptid</th>\n",
              "      <th id=\"T_8a109_level0_col1\" class=\"col_heading level0 col1\" >total</th>\n",
              "      <th id=\"T_8a109_level0_col2\" class=\"col_heading level0 col2\" >max</th>\n",
              "    </tr>\n",
              "  </thead>\n",
              "  <tbody>\n",
              "    <tr>\n",
              "      <td id=\"T_8a109_row0_col0\" class=\"data row0 col0\" >40</td>\n",
              "      <td id=\"T_8a109_row0_col1\" class=\"data row0 col1\" >54000</td>\n",
              "      <td id=\"T_8a109_row0_col2\" class=\"data row0 col2\" >25000</td>\n",
              "    </tr>\n",
              "    <tr>\n",
              "      <td id=\"T_8a109_row1_col0\" class=\"data row1 col0\" >20</td>\n",
              "      <td id=\"T_8a109_row1_col1\" class=\"data row1 col1\" >55000</td>\n",
              "      <td id=\"T_8a109_row1_col2\" class=\"data row1 col2\" >30000</td>\n",
              "    </tr>\n",
              "  </tbody>\n",
              "</table>\n"
            ]
          },
          "metadata": {},
          "execution_count": 46
        }
      ]
    },
    {
      "cell_type": "markdown",
      "source": [
        "#Conditionals | CASE"
      ],
      "metadata": {
        "id": "xDsapsK8Afpj"
      }
    },
    {
      "cell_type": "code",
      "source": [
        "runSelect(\"select lastname, jobdesc, salary, comm, salary+salary*comm Payout,\\\n",
        "case when jobdesc like '%Manager' then 2000 else 0 end bonus from empl\")"
      ],
      "metadata": {
        "colab": {
          "base_uri": "https://localhost:8080/",
          "height": 457
        },
        "id": "bYRWDlVNAxKx",
        "outputId": "f2e2b8ab-302a-4316-dd37-4ceed8d71451"
      },
      "execution_count": 47,
      "outputs": [
        {
          "output_type": "execute_result",
          "data": {
            "text/plain": [
              "<pandas.io.formats.style.Styler at 0x79b3724811d0>"
            ],
            "text/html": [
              "<style type=\"text/css\">\n",
              "</style>\n",
              "<table id=\"T_5073e\" class=\"dataframe\">\n",
              "  <thead>\n",
              "    <tr>\n",
              "      <th id=\"T_5073e_level0_col0\" class=\"col_heading level0 col0\" >lastname</th>\n",
              "      <th id=\"T_5073e_level0_col1\" class=\"col_heading level0 col1\" >jobdesc</th>\n",
              "      <th id=\"T_5073e_level0_col2\" class=\"col_heading level0 col2\" >salary</th>\n",
              "      <th id=\"T_5073e_level0_col3\" class=\"col_heading level0 col3\" >comm</th>\n",
              "      <th id=\"T_5073e_level0_col4\" class=\"col_heading level0 col4\" >payout</th>\n",
              "      <th id=\"T_5073e_level0_col5\" class=\"col_heading level0 col5\" >bonus</th>\n",
              "    </tr>\n",
              "  </thead>\n",
              "  <tbody>\n",
              "    <tr>\n",
              "      <td id=\"T_5073e_row0_col0\" class=\"data row0 col0\" >Bacchan</td>\n",
              "      <td id=\"T_5073e_row0_col1\" class=\"data row0 col1\" >Executive</td>\n",
              "      <td id=\"T_5073e_row0_col2\" class=\"data row0 col2\" >50000</td>\n",
              "      <td id=\"T_5073e_row0_col3\" class=\"data row0 col3\" >0.10</td>\n",
              "      <td id=\"T_5073e_row0_col4\" class=\"data row0 col4\" >55000.00</td>\n",
              "      <td id=\"T_5073e_row0_col5\" class=\"data row0 col5\" >0</td>\n",
              "    </tr>\n",
              "    <tr>\n",
              "      <td id=\"T_5073e_row1_col0\" class=\"data row1 col0\" >Mukherjee</td>\n",
              "      <td id=\"T_5073e_row1_col1\" class=\"data row1 col1\" >Manager</td>\n",
              "      <td id=\"T_5073e_row1_col2\" class=\"data row1 col2\" >25000</td>\n",
              "      <td id=\"T_5073e_row1_col3\" class=\"data row1 col3\" >0.06</td>\n",
              "      <td id=\"T_5073e_row1_col4\" class=\"data row1 col4\" >26500.00</td>\n",
              "      <td id=\"T_5073e_row1_col5\" class=\"data row1 col5\" >2000</td>\n",
              "    </tr>\n",
              "    <tr>\n",
              "      <td id=\"T_5073e_row2_col0\" class=\"data row2 col0\" >Dikshit</td>\n",
              "      <td id=\"T_5073e_row2_col1\" class=\"data row2 col1\" >Clerk</td>\n",
              "      <td id=\"T_5073e_row2_col2\" class=\"data row2 col2\" >10000</td>\n",
              "      <td id=\"T_5073e_row2_col3\" class=\"data row2 col3\" >0.02</td>\n",
              "      <td id=\"T_5073e_row2_col4\" class=\"data row2 col4\" >10200.00</td>\n",
              "      <td id=\"T_5073e_row2_col5\" class=\"data row2 col5\" >0</td>\n",
              "    </tr>\n",
              "    <tr>\n",
              "      <td id=\"T_5073e_row3_col0\" class=\"data row3 col0\" >Khan</td>\n",
              "      <td id=\"T_5073e_row3_col1\" class=\"data row3 col1\" >Manager</td>\n",
              "      <td id=\"T_5073e_row3_col2\" class=\"data row3 col2\" >30000</td>\n",
              "      <td id=\"T_5073e_row3_col3\" class=\"data row3 col3\" >0.07</td>\n",
              "      <td id=\"T_5073e_row3_col4\" class=\"data row3 col4\" >32100.00</td>\n",
              "      <td id=\"T_5073e_row3_col5\" class=\"data row3 col5\" >2000</td>\n",
              "    </tr>\n",
              "    <tr>\n",
              "      <td id=\"T_5073e_row4_col0\" class=\"data row4 col0\" >Sehwag</td>\n",
              "      <td id=\"T_5073e_row4_col1\" class=\"data row4 col1\" >Cus_Rep</td>\n",
              "      <td id=\"T_5073e_row4_col2\" class=\"data row4 col2\" >15000</td>\n",
              "      <td id=\"T_5073e_row4_col3\" class=\"data row4 col3\" >0.05</td>\n",
              "      <td id=\"T_5073e_row4_col4\" class=\"data row4 col4\" >15750.00</td>\n",
              "      <td id=\"T_5073e_row4_col5\" class=\"data row4 col5\" >0</td>\n",
              "    </tr>\n",
              "    <tr>\n",
              "      <td id=\"T_5073e_row5_col0\" class=\"data row5 col0\" >Dhoni</td>\n",
              "      <td id=\"T_5073e_row5_col1\" class=\"data row5 col1\" >Clerk</td>\n",
              "      <td id=\"T_5073e_row5_col2\" class=\"data row5 col2\" >9000</td>\n",
              "      <td id=\"T_5073e_row5_col3\" class=\"data row5 col3\" >0.02</td>\n",
              "      <td id=\"T_5073e_row5_col4\" class=\"data row5 col4\" >9180.00</td>\n",
              "      <td id=\"T_5073e_row5_col5\" class=\"data row5 col5\" >0</td>\n",
              "    </tr>\n",
              "    <tr>\n",
              "      <td id=\"T_5073e_row6_col0\" class=\"data row6 col0\" >Dravid</td>\n",
              "      <td id=\"T_5073e_row6_col1\" class=\"data row6 col1\" >Sr Manager</td>\n",
              "      <td id=\"T_5073e_row6_col2\" class=\"data row6 col2\" >40000</td>\n",
              "      <td id=\"T_5073e_row6_col3\" class=\"data row6 col3\" >0.08</td>\n",
              "      <td id=\"T_5073e_row6_col4\" class=\"data row6 col4\" >43200.00</td>\n",
              "      <td id=\"T_5073e_row6_col5\" class=\"data row6 col5\" >2000</td>\n",
              "    </tr>\n",
              "    <tr>\n",
              "      <td id=\"T_5073e_row7_col0\" class=\"data row7 col0\" >Dalmia</td>\n",
              "      <td id=\"T_5073e_row7_col1\" class=\"data row7 col1\" >Clerk</td>\n",
              "      <td id=\"T_5073e_row7_col2\" class=\"data row7 col2\" >12000</td>\n",
              "      <td id=\"T_5073e_row7_col3\" class=\"data row7 col3\" >0.02</td>\n",
              "      <td id=\"T_5073e_row7_col4\" class=\"data row7 col4\" >12240.00</td>\n",
              "      <td id=\"T_5073e_row7_col5\" class=\"data row7 col5\" >0</td>\n",
              "    </tr>\n",
              "    <tr>\n",
              "      <td id=\"T_5073e_row8_col0\" class=\"data row8 col0\" >Ganguly</td>\n",
              "      <td id=\"T_5073e_row8_col1\" class=\"data row8 col1\" >Cus_Rep</td>\n",
              "      <td id=\"T_5073e_row8_col2\" class=\"data row8 col2\" >20000</td>\n",
              "      <td id=\"T_5073e_row8_col3\" class=\"data row8 col3\" >0.03</td>\n",
              "      <td id=\"T_5073e_row8_col4\" class=\"data row8 col4\" >20600.00</td>\n",
              "      <td id=\"T_5073e_row8_col5\" class=\"data row8 col5\" >0</td>\n",
              "    </tr>\n",
              "    <tr>\n",
              "      <td id=\"T_5073e_row9_col0\" class=\"data row9 col0\" >Ganesan</td>\n",
              "      <td id=\"T_5073e_row9_col1\" class=\"data row9 col1\" >Director</td>\n",
              "      <td id=\"T_5073e_row9_col2\" class=\"data row9 col2\" >60000</td>\n",
              "      <td id=\"T_5073e_row9_col3\" class=\"data row9 col3\" >0.11</td>\n",
              "      <td id=\"T_5073e_row9_col4\" class=\"data row9 col4\" >66600.00</td>\n",
              "      <td id=\"T_5073e_row9_col5\" class=\"data row9 col5\" >0</td>\n",
              "    </tr>\n",
              "    <tr>\n",
              "      <td id=\"T_5073e_row10_col0\" class=\"data row10 col0\" >Karthikeyan</td>\n",
              "      <td id=\"T_5073e_row10_col1\" class=\"data row10 col1\" >Secretary</td>\n",
              "      <td id=\"T_5073e_row10_col2\" class=\"data row10 col2\" >40000</td>\n",
              "      <td id=\"T_5073e_row10_col3\" class=\"data row10 col3\" >0.09</td>\n",
              "      <td id=\"T_5073e_row10_col4\" class=\"data row10 col4\" >43600.00</td>\n",
              "      <td id=\"T_5073e_row10_col5\" class=\"data row10 col5\" >0</td>\n",
              "    </tr>\n",
              "    <tr>\n",
              "      <td id=\"T_5073e_row11_col0\" class=\"data row11 col0\" >Sunil</td>\n",
              "      <td id=\"T_5073e_row11_col1\" class=\"data row11 col1\" >Dy Manager</td>\n",
              "      <td id=\"T_5073e_row11_col2\" class=\"data row11 col2\" >40000</td>\n",
              "      <td id=\"T_5073e_row11_col3\" class=\"data row11 col3\" >0.05</td>\n",
              "      <td id=\"T_5073e_row11_col4\" class=\"data row11 col4\" >42000.00</td>\n",
              "      <td id=\"T_5073e_row11_col5\" class=\"data row11 col5\" >2000</td>\n",
              "    </tr>\n",
              "    <tr>\n",
              "      <td id=\"T_5073e_row12_col0\" class=\"data row12 col0\" >Mirza</td>\n",
              "      <td id=\"T_5073e_row12_col1\" class=\"data row12 col1\" >Cus_Rep</td>\n",
              "      <td id=\"T_5073e_row12_col2\" class=\"data row12 col2\" >25000</td>\n",
              "      <td id=\"T_5073e_row12_col3\" class=\"data row12 col3\" >0.04</td>\n",
              "      <td id=\"T_5073e_row12_col4\" class=\"data row12 col4\" >26000.00</td>\n",
              "      <td id=\"T_5073e_row12_col5\" class=\"data row12 col5\" >0</td>\n",
              "    </tr>\n",
              "  </tbody>\n",
              "</table>\n"
            ]
          },
          "metadata": {},
          "execution_count": 47
        }
      ]
    },
    {
      "cell_type": "code",
      "source": [
        "runSelect(\"select lastname, deptid,\\\n",
        "case \\\n",
        "when deptid in ('10','20') then 'Head' \\\n",
        "when deptid = '30' then 'Regional'\\\n",
        "else 'Branch' \\\n",
        "end \\\n",
        " office from empl\")"
      ],
      "metadata": {
        "colab": {
          "base_uri": "https://localhost:8080/",
          "height": 457
        },
        "id": "jbpKn1y0DwYG",
        "outputId": "00d1255f-6ab4-49e0-8903-088a73de8b75"
      },
      "execution_count": 48,
      "outputs": [
        {
          "output_type": "execute_result",
          "data": {
            "text/plain": [
              "<pandas.io.formats.style.Styler at 0x79b372478190>"
            ],
            "text/html": [
              "<style type=\"text/css\">\n",
              "</style>\n",
              "<table id=\"T_bda2c\" class=\"dataframe\">\n",
              "  <thead>\n",
              "    <tr>\n",
              "      <th id=\"T_bda2c_level0_col0\" class=\"col_heading level0 col0\" >lastname</th>\n",
              "      <th id=\"T_bda2c_level0_col1\" class=\"col_heading level0 col1\" >deptid</th>\n",
              "      <th id=\"T_bda2c_level0_col2\" class=\"col_heading level0 col2\" >office</th>\n",
              "    </tr>\n",
              "  </thead>\n",
              "  <tbody>\n",
              "    <tr>\n",
              "      <td id=\"T_bda2c_row0_col0\" class=\"data row0 col0\" >Bacchan</td>\n",
              "      <td id=\"T_bda2c_row0_col1\" class=\"data row0 col1\" >10</td>\n",
              "      <td id=\"T_bda2c_row0_col2\" class=\"data row0 col2\" >Head</td>\n",
              "    </tr>\n",
              "    <tr>\n",
              "      <td id=\"T_bda2c_row1_col0\" class=\"data row1 col0\" >Mukherjee</td>\n",
              "      <td id=\"T_bda2c_row1_col1\" class=\"data row1 col1\" >40</td>\n",
              "      <td id=\"T_bda2c_row1_col2\" class=\"data row1 col2\" >Branch</td>\n",
              "    </tr>\n",
              "    <tr>\n",
              "      <td id=\"T_bda2c_row2_col0\" class=\"data row2 col0\" >Dikshit</td>\n",
              "      <td id=\"T_bda2c_row2_col1\" class=\"data row2 col1\" >20</td>\n",
              "      <td id=\"T_bda2c_row2_col2\" class=\"data row2 col2\" >Head</td>\n",
              "    </tr>\n",
              "    <tr>\n",
              "      <td id=\"T_bda2c_row3_col0\" class=\"data row3 col0\" >Khan</td>\n",
              "      <td id=\"T_bda2c_row3_col1\" class=\"data row3 col1\" >20</td>\n",
              "      <td id=\"T_bda2c_row3_col2\" class=\"data row3 col2\" >Head</td>\n",
              "    </tr>\n",
              "    <tr>\n",
              "      <td id=\"T_bda2c_row4_col0\" class=\"data row4 col0\" >Sehwag</td>\n",
              "      <td id=\"T_bda2c_row4_col1\" class=\"data row4 col1\" >20</td>\n",
              "      <td id=\"T_bda2c_row4_col2\" class=\"data row4 col2\" >Head</td>\n",
              "    </tr>\n",
              "    <tr>\n",
              "      <td id=\"T_bda2c_row5_col0\" class=\"data row5 col0\" >Dhoni</td>\n",
              "      <td id=\"T_bda2c_row5_col1\" class=\"data row5 col1\" >40</td>\n",
              "      <td id=\"T_bda2c_row5_col2\" class=\"data row5 col2\" >Branch</td>\n",
              "    </tr>\n",
              "    <tr>\n",
              "      <td id=\"T_bda2c_row6_col0\" class=\"data row6 col0\" >Dravid</td>\n",
              "      <td id=\"T_bda2c_row6_col1\" class=\"data row6 col1\" >30</td>\n",
              "      <td id=\"T_bda2c_row6_col2\" class=\"data row6 col2\" >Regional</td>\n",
              "    </tr>\n",
              "    <tr>\n",
              "      <td id=\"T_bda2c_row7_col0\" class=\"data row7 col0\" >Dalmia</td>\n",
              "      <td id=\"T_bda2c_row7_col1\" class=\"data row7 col1\" >30</td>\n",
              "      <td id=\"T_bda2c_row7_col2\" class=\"data row7 col2\" >Regional</td>\n",
              "    </tr>\n",
              "    <tr>\n",
              "      <td id=\"T_bda2c_row8_col0\" class=\"data row8 col0\" >Ganguly</td>\n",
              "      <td id=\"T_bda2c_row8_col1\" class=\"data row8 col1\" >40</td>\n",
              "      <td id=\"T_bda2c_row8_col2\" class=\"data row8 col2\" >Branch</td>\n",
              "    </tr>\n",
              "    <tr>\n",
              "      <td id=\"T_bda2c_row9_col0\" class=\"data row9 col0\" >Ganesan</td>\n",
              "      <td id=\"T_bda2c_row9_col1\" class=\"data row9 col1\" >10</td>\n",
              "      <td id=\"T_bda2c_row9_col2\" class=\"data row9 col2\" >Head</td>\n",
              "    </tr>\n",
              "    <tr>\n",
              "      <td id=\"T_bda2c_row10_col0\" class=\"data row10 col0\" >Karthikeyan</td>\n",
              "      <td id=\"T_bda2c_row10_col1\" class=\"data row10 col1\" >10</td>\n",
              "      <td id=\"T_bda2c_row10_col2\" class=\"data row10 col2\" >Head</td>\n",
              "    </tr>\n",
              "    <tr>\n",
              "      <td id=\"T_bda2c_row11_col0\" class=\"data row11 col0\" >Sunil</td>\n",
              "      <td id=\"T_bda2c_row11_col1\" class=\"data row11 col1\" >70</td>\n",
              "      <td id=\"T_bda2c_row11_col2\" class=\"data row11 col2\" >Branch</td>\n",
              "    </tr>\n",
              "    <tr>\n",
              "      <td id=\"T_bda2c_row12_col0\" class=\"data row12 col0\" >Mirza</td>\n",
              "      <td id=\"T_bda2c_row12_col1\" class=\"data row12 col1\" >30</td>\n",
              "      <td id=\"T_bda2c_row12_col2\" class=\"data row12 col2\" >Regional</td>\n",
              "    </tr>\n",
              "  </tbody>\n",
              "</table>\n"
            ]
          },
          "metadata": {},
          "execution_count": 48
        }
      ]
    },
    {
      "cell_type": "markdown",
      "source": [
        "#Join"
      ],
      "metadata": {
        "id": "Rs10ezIPpP0C"
      }
    },
    {
      "cell_type": "markdown",
      "source": [
        "## Basic Inner Join"
      ],
      "metadata": {
        "id": "XMfZP6HUpT4B"
      }
    },
    {
      "cell_type": "code",
      "source": [
        "sql = 'select firstname, lastname, salary, deptname, location, managerid from empl, dept where empl.deptid = dept.deptid'\n",
        "runSelect(sql)"
      ],
      "metadata": {
        "colab": {
          "base_uri": "https://localhost:8080/",
          "height": 426
        },
        "id": "ISiD-VP6pbUz",
        "outputId": "ef3e984d-cdb4-47cb-df72-4d3c3332adaa"
      },
      "execution_count": 49,
      "outputs": [
        {
          "output_type": "execute_result",
          "data": {
            "text/plain": [
              "<pandas.io.formats.style.Styler at 0x79b379064650>"
            ],
            "text/html": [
              "<style type=\"text/css\">\n",
              "</style>\n",
              "<table id=\"T_0b612\" class=\"dataframe\">\n",
              "  <thead>\n",
              "    <tr>\n",
              "      <th id=\"T_0b612_level0_col0\" class=\"col_heading level0 col0\" >firstname</th>\n",
              "      <th id=\"T_0b612_level0_col1\" class=\"col_heading level0 col1\" >lastname</th>\n",
              "      <th id=\"T_0b612_level0_col2\" class=\"col_heading level0 col2\" >salary</th>\n",
              "      <th id=\"T_0b612_level0_col3\" class=\"col_heading level0 col3\" >deptname</th>\n",
              "      <th id=\"T_0b612_level0_col4\" class=\"col_heading level0 col4\" >location</th>\n",
              "      <th id=\"T_0b612_level0_col5\" class=\"col_heading level0 col5\" >managerid</th>\n",
              "    </tr>\n",
              "  </thead>\n",
              "  <tbody>\n",
              "    <tr>\n",
              "      <td id=\"T_0b612_row0_col0\" class=\"data row0 col0\" >Narayan</td>\n",
              "      <td id=\"T_0b612_row0_col1\" class=\"data row0 col1\" >Karthikeyan</td>\n",
              "      <td id=\"T_0b612_row0_col2\" class=\"data row0 col2\" >40000</td>\n",
              "      <td id=\"T_0b612_row0_col3\" class=\"data row0 col3\" >Corporate</td>\n",
              "      <td id=\"T_0b612_row0_col4\" class=\"data row0 col4\" >Calcutta</td>\n",
              "      <td id=\"T_0b612_row0_col5\" class=\"data row0 col5\" >299034</td>\n",
              "    </tr>\n",
              "    <tr>\n",
              "      <td id=\"T_0b612_row1_col0\" class=\"data row1 col0\" >Rekha</td>\n",
              "      <td id=\"T_0b612_row1_col1\" class=\"data row1 col1\" >Ganesan</td>\n",
              "      <td id=\"T_0b612_row1_col2\" class=\"data row1 col2\" >60000</td>\n",
              "      <td id=\"T_0b612_row1_col3\" class=\"data row1 col3\" >Corporate</td>\n",
              "      <td id=\"T_0b612_row1_col4\" class=\"data row1 col4\" >Calcutta</td>\n",
              "      <td id=\"T_0b612_row1_col5\" class=\"data row1 col5\" >299034</td>\n",
              "    </tr>\n",
              "    <tr>\n",
              "      <td id=\"T_0b612_row2_col0\" class=\"data row2 col0\" >Amitabh</td>\n",
              "      <td id=\"T_0b612_row2_col1\" class=\"data row2 col1\" >Bacchan</td>\n",
              "      <td id=\"T_0b612_row2_col2\" class=\"data row2 col2\" >50000</td>\n",
              "      <td id=\"T_0b612_row2_col3\" class=\"data row2 col3\" >Corporate</td>\n",
              "      <td id=\"T_0b612_row2_col4\" class=\"data row2 col4\" >Calcutta</td>\n",
              "      <td id=\"T_0b612_row2_col5\" class=\"data row2 col5\" >299034</td>\n",
              "    </tr>\n",
              "    <tr>\n",
              "      <td id=\"T_0b612_row3_col0\" class=\"data row3 col0\" >Virender</td>\n",
              "      <td id=\"T_0b612_row3_col1\" class=\"data row3 col1\" >Sehwag</td>\n",
              "      <td id=\"T_0b612_row3_col2\" class=\"data row3 col2\" >15000</td>\n",
              "      <td id=\"T_0b612_row3_col3\" class=\"data row3 col3\" >Sales</td>\n",
              "      <td id=\"T_0b612_row3_col4\" class=\"data row3 col4\" >Calcutta</td>\n",
              "      <td id=\"T_0b612_row3_col5\" class=\"data row3 col5\" >239456</td>\n",
              "    </tr>\n",
              "    <tr>\n",
              "      <td id=\"T_0b612_row4_col0\" class=\"data row4 col0\" >Shahrukh</td>\n",
              "      <td id=\"T_0b612_row4_col1\" class=\"data row4 col1\" >Khan</td>\n",
              "      <td id=\"T_0b612_row4_col2\" class=\"data row4 col2\" >30000</td>\n",
              "      <td id=\"T_0b612_row4_col3\" class=\"data row4 col3\" >Sales</td>\n",
              "      <td id=\"T_0b612_row4_col4\" class=\"data row4 col4\" >Calcutta</td>\n",
              "      <td id=\"T_0b612_row4_col5\" class=\"data row4 col5\" >239456</td>\n",
              "    </tr>\n",
              "    <tr>\n",
              "      <td id=\"T_0b612_row5_col0\" class=\"data row5 col0\" >Madhuri</td>\n",
              "      <td id=\"T_0b612_row5_col1\" class=\"data row5 col1\" >Dikshit</td>\n",
              "      <td id=\"T_0b612_row5_col2\" class=\"data row5 col2\" >10000</td>\n",
              "      <td id=\"T_0b612_row5_col3\" class=\"data row5 col3\" >Sales</td>\n",
              "      <td id=\"T_0b612_row5_col4\" class=\"data row5 col4\" >Calcutta</td>\n",
              "      <td id=\"T_0b612_row5_col5\" class=\"data row5 col5\" >239456</td>\n",
              "    </tr>\n",
              "    <tr>\n",
              "      <td id=\"T_0b612_row6_col0\" class=\"data row6 col0\" >Sania</td>\n",
              "      <td id=\"T_0b612_row6_col1\" class=\"data row6 col1\" >Mirza</td>\n",
              "      <td id=\"T_0b612_row6_col2\" class=\"data row6 col2\" >25000</td>\n",
              "      <td id=\"T_0b612_row6_col3\" class=\"data row6 col3\" >Accounts</td>\n",
              "      <td id=\"T_0b612_row6_col4\" class=\"data row6 col4\" >Calcutta</td>\n",
              "      <td id=\"T_0b612_row6_col5\" class=\"data row6 col5\" >822134</td>\n",
              "    </tr>\n",
              "    <tr>\n",
              "      <td id=\"T_0b612_row7_col0\" class=\"data row7 col0\" >Jagmohan</td>\n",
              "      <td id=\"T_0b612_row7_col1\" class=\"data row7 col1\" >Dalmia</td>\n",
              "      <td id=\"T_0b612_row7_col2\" class=\"data row7 col2\" >12000</td>\n",
              "      <td id=\"T_0b612_row7_col3\" class=\"data row7 col3\" >Accounts</td>\n",
              "      <td id=\"T_0b612_row7_col4\" class=\"data row7 col4\" >Calcutta</td>\n",
              "      <td id=\"T_0b612_row7_col5\" class=\"data row7 col5\" >822134</td>\n",
              "    </tr>\n",
              "    <tr>\n",
              "      <td id=\"T_0b612_row8_col0\" class=\"data row8 col0\" >Rahul</td>\n",
              "      <td id=\"T_0b612_row8_col1\" class=\"data row8 col1\" >Dravid</td>\n",
              "      <td id=\"T_0b612_row8_col2\" class=\"data row8 col2\" >40000</td>\n",
              "      <td id=\"T_0b612_row8_col3\" class=\"data row8 col3\" >Accounts</td>\n",
              "      <td id=\"T_0b612_row8_col4\" class=\"data row8 col4\" >Calcutta</td>\n",
              "      <td id=\"T_0b612_row8_col5\" class=\"data row8 col5\" >822134</td>\n",
              "    </tr>\n",
              "    <tr>\n",
              "      <td id=\"T_0b612_row9_col0\" class=\"data row9 col0\" >Sourav</td>\n",
              "      <td id=\"T_0b612_row9_col1\" class=\"data row9 col1\" >Ganguly</td>\n",
              "      <td id=\"T_0b612_row9_col2\" class=\"data row9 col2\" >20000</td>\n",
              "      <td id=\"T_0b612_row9_col3\" class=\"data row9 col3\" >Production</td>\n",
              "      <td id=\"T_0b612_row9_col4\" class=\"data row9 col4\" >Bombay</td>\n",
              "      <td id=\"T_0b612_row9_col5\" class=\"data row9 col5\" >349870</td>\n",
              "    </tr>\n",
              "    <tr>\n",
              "      <td id=\"T_0b612_row10_col0\" class=\"data row10 col0\" >Mahender</td>\n",
              "      <td id=\"T_0b612_row10_col1\" class=\"data row10 col1\" >Dhoni</td>\n",
              "      <td id=\"T_0b612_row10_col2\" class=\"data row10 col2\" >9000</td>\n",
              "      <td id=\"T_0b612_row10_col3\" class=\"data row10 col3\" >Production</td>\n",
              "      <td id=\"T_0b612_row10_col4\" class=\"data row10 col4\" >Bombay</td>\n",
              "      <td id=\"T_0b612_row10_col5\" class=\"data row10 col5\" >349870</td>\n",
              "    </tr>\n",
              "    <tr>\n",
              "      <td id=\"T_0b612_row11_col0\" class=\"data row11 col0\" >Rani</td>\n",
              "      <td id=\"T_0b612_row11_col1\" class=\"data row11 col1\" >Mukherjee</td>\n",
              "      <td id=\"T_0b612_row11_col2\" class=\"data row11 col2\" >25000</td>\n",
              "      <td id=\"T_0b612_row11_col3\" class=\"data row11 col3\" >Production</td>\n",
              "      <td id=\"T_0b612_row11_col4\" class=\"data row11 col4\" >Bombay</td>\n",
              "      <td id=\"T_0b612_row11_col5\" class=\"data row11 col5\" >349870</td>\n",
              "    </tr>\n",
              "  </tbody>\n",
              "</table>\n"
            ]
          },
          "metadata": {},
          "execution_count": 49
        }
      ]
    },
    {
      "cell_type": "code",
      "source": [
        "sql = 'select empid, firstname, deptname, location from empl INNER JOIN dept ON empl.deptid = dept.deptid'\n",
        "runSelect(sql)"
      ],
      "metadata": {
        "colab": {
          "base_uri": "https://localhost:8080/",
          "height": 426
        },
        "id": "LVrEArEc1VcF",
        "outputId": "fdb70a9c-54e8-4a0d-869d-5dd0a10c8d3c"
      },
      "execution_count": 50,
      "outputs": [
        {
          "output_type": "execute_result",
          "data": {
            "text/plain": [
              "<pandas.io.formats.style.Styler at 0x79b37246bcd0>"
            ],
            "text/html": [
              "<style type=\"text/css\">\n",
              "</style>\n",
              "<table id=\"T_ae659\" class=\"dataframe\">\n",
              "  <thead>\n",
              "    <tr>\n",
              "      <th id=\"T_ae659_level0_col0\" class=\"col_heading level0 col0\" >empid</th>\n",
              "      <th id=\"T_ae659_level0_col1\" class=\"col_heading level0 col1\" >firstname</th>\n",
              "      <th id=\"T_ae659_level0_col2\" class=\"col_heading level0 col2\" >deptname</th>\n",
              "      <th id=\"T_ae659_level0_col3\" class=\"col_heading level0 col3\" >location</th>\n",
              "    </tr>\n",
              "  </thead>\n",
              "  <tbody>\n",
              "    <tr>\n",
              "      <td id=\"T_ae659_row0_col0\" class=\"data row0 col0\" >546223</td>\n",
              "      <td id=\"T_ae659_row0_col1\" class=\"data row0 col1\" >Narayan</td>\n",
              "      <td id=\"T_ae659_row0_col2\" class=\"data row0 col2\" >Corporate</td>\n",
              "      <td id=\"T_ae659_row0_col3\" class=\"data row0 col3\" >Calcutta</td>\n",
              "    </tr>\n",
              "    <tr>\n",
              "      <td id=\"T_ae659_row1_col0\" class=\"data row1 col0\" >299034</td>\n",
              "      <td id=\"T_ae659_row1_col1\" class=\"data row1 col1\" >Rekha</td>\n",
              "      <td id=\"T_ae659_row1_col2\" class=\"data row1 col2\" >Corporate</td>\n",
              "      <td id=\"T_ae659_row1_col3\" class=\"data row1 col3\" >Calcutta</td>\n",
              "    </tr>\n",
              "    <tr>\n",
              "      <td id=\"T_ae659_row2_col0\" class=\"data row2 col0\" >742866</td>\n",
              "      <td id=\"T_ae659_row2_col1\" class=\"data row2 col1\" >Amitabh</td>\n",
              "      <td id=\"T_ae659_row2_col2\" class=\"data row2 col2\" >Corporate</td>\n",
              "      <td id=\"T_ae659_row2_col3\" class=\"data row2 col3\" >Calcutta</td>\n",
              "    </tr>\n",
              "    <tr>\n",
              "      <td id=\"T_ae659_row3_col0\" class=\"data row3 col0\" >897889</td>\n",
              "      <td id=\"T_ae659_row3_col1\" class=\"data row3 col1\" >Virender</td>\n",
              "      <td id=\"T_ae659_row3_col2\" class=\"data row3 col2\" >Sales</td>\n",
              "      <td id=\"T_ae659_row3_col3\" class=\"data row3 col3\" >Calcutta</td>\n",
              "    </tr>\n",
              "    <tr>\n",
              "      <td id=\"T_ae659_row4_col0\" class=\"data row4 col0\" >239456</td>\n",
              "      <td id=\"T_ae659_row4_col1\" class=\"data row4 col1\" >Shahrukh</td>\n",
              "      <td id=\"T_ae659_row4_col2\" class=\"data row4 col2\" >Sales</td>\n",
              "      <td id=\"T_ae659_row4_col3\" class=\"data row4 col3\" >Calcutta</td>\n",
              "    </tr>\n",
              "    <tr>\n",
              "      <td id=\"T_ae659_row5_col0\" class=\"data row5 col0\" >865477</td>\n",
              "      <td id=\"T_ae659_row5_col1\" class=\"data row5 col1\" >Madhuri</td>\n",
              "      <td id=\"T_ae659_row5_col2\" class=\"data row5 col2\" >Sales</td>\n",
              "      <td id=\"T_ae659_row5_col3\" class=\"data row5 col3\" >Calcutta</td>\n",
              "    </tr>\n",
              "    <tr>\n",
              "      <td id=\"T_ae659_row6_col0\" class=\"data row6 col0\" >223112</td>\n",
              "      <td id=\"T_ae659_row6_col1\" class=\"data row6 col1\" >Sania</td>\n",
              "      <td id=\"T_ae659_row6_col2\" class=\"data row6 col2\" >Accounts</td>\n",
              "      <td id=\"T_ae659_row6_col3\" class=\"data row6 col3\" >Calcutta</td>\n",
              "    </tr>\n",
              "    <tr>\n",
              "      <td id=\"T_ae659_row7_col0\" class=\"data row7 col0\" >997445</td>\n",
              "      <td id=\"T_ae659_row7_col1\" class=\"data row7 col1\" >Jagmohan</td>\n",
              "      <td id=\"T_ae659_row7_col2\" class=\"data row7 col2\" >Accounts</td>\n",
              "      <td id=\"T_ae659_row7_col3\" class=\"data row7 col3\" >Calcutta</td>\n",
              "    </tr>\n",
              "    <tr>\n",
              "      <td id=\"T_ae659_row8_col0\" class=\"data row8 col0\" >822134</td>\n",
              "      <td id=\"T_ae659_row8_col1\" class=\"data row8 col1\" >Rahul</td>\n",
              "      <td id=\"T_ae659_row8_col2\" class=\"data row8 col2\" >Accounts</td>\n",
              "      <td id=\"T_ae659_row8_col3\" class=\"data row8 col3\" >Calcutta</td>\n",
              "    </tr>\n",
              "    <tr>\n",
              "      <td id=\"T_ae659_row9_col0\" class=\"data row9 col0\" >989007</td>\n",
              "      <td id=\"T_ae659_row9_col1\" class=\"data row9 col1\" >Sourav</td>\n",
              "      <td id=\"T_ae659_row9_col2\" class=\"data row9 col2\" >Production</td>\n",
              "      <td id=\"T_ae659_row9_col3\" class=\"data row9 col3\" >Bombay</td>\n",
              "    </tr>\n",
              "    <tr>\n",
              "      <td id=\"T_ae659_row10_col0\" class=\"data row10 col0\" >123980</td>\n",
              "      <td id=\"T_ae659_row10_col1\" class=\"data row10 col1\" >Mahender</td>\n",
              "      <td id=\"T_ae659_row10_col2\" class=\"data row10 col2\" >Production</td>\n",
              "      <td id=\"T_ae659_row10_col3\" class=\"data row10 col3\" >Bombay</td>\n",
              "    </tr>\n",
              "    <tr>\n",
              "      <td id=\"T_ae659_row11_col0\" class=\"data row11 col0\" >349870</td>\n",
              "      <td id=\"T_ae659_row11_col1\" class=\"data row11 col1\" >Rani</td>\n",
              "      <td id=\"T_ae659_row11_col2\" class=\"data row11 col2\" >Production</td>\n",
              "      <td id=\"T_ae659_row11_col3\" class=\"data row11 col3\" >Bombay</td>\n",
              "    </tr>\n",
              "  </tbody>\n",
              "</table>\n"
            ]
          },
          "metadata": {},
          "execution_count": 50
        }
      ]
    },
    {
      "cell_type": "code",
      "source": [
        "sql = 'select deptname,round(sum(salary),0) payroll from empl INNER JOIN dept ON empl.deptid = dept.deptid \\\n",
        "group by deptname'\n",
        "runSelect(sql)"
      ],
      "metadata": {
        "id": "pKk82QRi28DP",
        "outputId": "764d7fa5-7e41-426b-d2f8-9c2f4aa01e76",
        "colab": {
          "base_uri": "https://localhost:8080/",
          "height": 175
        }
      },
      "execution_count": 51,
      "outputs": [
        {
          "output_type": "execute_result",
          "data": {
            "text/plain": [
              "<pandas.io.formats.style.Styler at 0x79b372478250>"
            ],
            "text/html": [
              "<style type=\"text/css\">\n",
              "</style>\n",
              "<table id=\"T_7befc\" class=\"dataframe\">\n",
              "  <thead>\n",
              "    <tr>\n",
              "      <th id=\"T_7befc_level0_col0\" class=\"col_heading level0 col0\" >deptname</th>\n",
              "      <th id=\"T_7befc_level0_col1\" class=\"col_heading level0 col1\" >payroll</th>\n",
              "    </tr>\n",
              "  </thead>\n",
              "  <tbody>\n",
              "    <tr>\n",
              "      <td id=\"T_7befc_row0_col0\" class=\"data row0 col0\" >Corporate</td>\n",
              "      <td id=\"T_7befc_row0_col1\" class=\"data row0 col1\" >150000</td>\n",
              "    </tr>\n",
              "    <tr>\n",
              "      <td id=\"T_7befc_row1_col0\" class=\"data row1 col0\" >Accounts</td>\n",
              "      <td id=\"T_7befc_row1_col1\" class=\"data row1 col1\" >77000</td>\n",
              "    </tr>\n",
              "    <tr>\n",
              "      <td id=\"T_7befc_row2_col0\" class=\"data row2 col0\" >Sales</td>\n",
              "      <td id=\"T_7befc_row2_col1\" class=\"data row2 col1\" >55000</td>\n",
              "    </tr>\n",
              "    <tr>\n",
              "      <td id=\"T_7befc_row3_col0\" class=\"data row3 col0\" >Production</td>\n",
              "      <td id=\"T_7befc_row3_col1\" class=\"data row3 col1\" >54000</td>\n",
              "    </tr>\n",
              "  </tbody>\n",
              "</table>\n"
            ]
          },
          "metadata": {},
          "execution_count": 51
        }
      ]
    },
    {
      "cell_type": "markdown",
      "source": [
        "## Outer Join"
      ],
      "metadata": {
        "id": "tK9uJHAL1u6x"
      }
    },
    {
      "cell_type": "markdown",
      "source": [
        "### Left Outer"
      ],
      "metadata": {
        "id": "5wGFVhyJ2x8S"
      }
    },
    {
      "cell_type": "code",
      "source": [
        "sql = 'select empid, firstname, deptname, location from empl LEFT JOIN dept ON empl.deptid = dept.deptid'\n",
        "runSelect(sql)"
      ],
      "metadata": {
        "colab": {
          "base_uri": "https://localhost:8080/",
          "height": 457
        },
        "id": "Ls6VfOXt1zTq",
        "outputId": "7f6bc842-757d-46a5-9acf-9a8e88077396"
      },
      "execution_count": 52,
      "outputs": [
        {
          "output_type": "execute_result",
          "data": {
            "text/plain": [
              "<pandas.io.formats.style.Styler at 0x79b372469f90>"
            ],
            "text/html": [
              "<style type=\"text/css\">\n",
              "</style>\n",
              "<table id=\"T_2495c\" class=\"dataframe\">\n",
              "  <thead>\n",
              "    <tr>\n",
              "      <th id=\"T_2495c_level0_col0\" class=\"col_heading level0 col0\" >empid</th>\n",
              "      <th id=\"T_2495c_level0_col1\" class=\"col_heading level0 col1\" >firstname</th>\n",
              "      <th id=\"T_2495c_level0_col2\" class=\"col_heading level0 col2\" >deptname</th>\n",
              "      <th id=\"T_2495c_level0_col3\" class=\"col_heading level0 col3\" >location</th>\n",
              "    </tr>\n",
              "  </thead>\n",
              "  <tbody>\n",
              "    <tr>\n",
              "      <td id=\"T_2495c_row0_col0\" class=\"data row0 col0\" >546223</td>\n",
              "      <td id=\"T_2495c_row0_col1\" class=\"data row0 col1\" >Narayan</td>\n",
              "      <td id=\"T_2495c_row0_col2\" class=\"data row0 col2\" >Corporate</td>\n",
              "      <td id=\"T_2495c_row0_col3\" class=\"data row0 col3\" >Calcutta</td>\n",
              "    </tr>\n",
              "    <tr>\n",
              "      <td id=\"T_2495c_row1_col0\" class=\"data row1 col0\" >299034</td>\n",
              "      <td id=\"T_2495c_row1_col1\" class=\"data row1 col1\" >Rekha</td>\n",
              "      <td id=\"T_2495c_row1_col2\" class=\"data row1 col2\" >Corporate</td>\n",
              "      <td id=\"T_2495c_row1_col3\" class=\"data row1 col3\" >Calcutta</td>\n",
              "    </tr>\n",
              "    <tr>\n",
              "      <td id=\"T_2495c_row2_col0\" class=\"data row2 col0\" >742866</td>\n",
              "      <td id=\"T_2495c_row2_col1\" class=\"data row2 col1\" >Amitabh</td>\n",
              "      <td id=\"T_2495c_row2_col2\" class=\"data row2 col2\" >Corporate</td>\n",
              "      <td id=\"T_2495c_row2_col3\" class=\"data row2 col3\" >Calcutta</td>\n",
              "    </tr>\n",
              "    <tr>\n",
              "      <td id=\"T_2495c_row3_col0\" class=\"data row3 col0\" >897889</td>\n",
              "      <td id=\"T_2495c_row3_col1\" class=\"data row3 col1\" >Virender</td>\n",
              "      <td id=\"T_2495c_row3_col2\" class=\"data row3 col2\" >Sales</td>\n",
              "      <td id=\"T_2495c_row3_col3\" class=\"data row3 col3\" >Calcutta</td>\n",
              "    </tr>\n",
              "    <tr>\n",
              "      <td id=\"T_2495c_row4_col0\" class=\"data row4 col0\" >239456</td>\n",
              "      <td id=\"T_2495c_row4_col1\" class=\"data row4 col1\" >Shahrukh</td>\n",
              "      <td id=\"T_2495c_row4_col2\" class=\"data row4 col2\" >Sales</td>\n",
              "      <td id=\"T_2495c_row4_col3\" class=\"data row4 col3\" >Calcutta</td>\n",
              "    </tr>\n",
              "    <tr>\n",
              "      <td id=\"T_2495c_row5_col0\" class=\"data row5 col0\" >865477</td>\n",
              "      <td id=\"T_2495c_row5_col1\" class=\"data row5 col1\" >Madhuri</td>\n",
              "      <td id=\"T_2495c_row5_col2\" class=\"data row5 col2\" >Sales</td>\n",
              "      <td id=\"T_2495c_row5_col3\" class=\"data row5 col3\" >Calcutta</td>\n",
              "    </tr>\n",
              "    <tr>\n",
              "      <td id=\"T_2495c_row6_col0\" class=\"data row6 col0\" >223112</td>\n",
              "      <td id=\"T_2495c_row6_col1\" class=\"data row6 col1\" >Sania</td>\n",
              "      <td id=\"T_2495c_row6_col2\" class=\"data row6 col2\" >Accounts</td>\n",
              "      <td id=\"T_2495c_row6_col3\" class=\"data row6 col3\" >Calcutta</td>\n",
              "    </tr>\n",
              "    <tr>\n",
              "      <td id=\"T_2495c_row7_col0\" class=\"data row7 col0\" >997445</td>\n",
              "      <td id=\"T_2495c_row7_col1\" class=\"data row7 col1\" >Jagmohan</td>\n",
              "      <td id=\"T_2495c_row7_col2\" class=\"data row7 col2\" >Accounts</td>\n",
              "      <td id=\"T_2495c_row7_col3\" class=\"data row7 col3\" >Calcutta</td>\n",
              "    </tr>\n",
              "    <tr>\n",
              "      <td id=\"T_2495c_row8_col0\" class=\"data row8 col0\" >822134</td>\n",
              "      <td id=\"T_2495c_row8_col1\" class=\"data row8 col1\" >Rahul</td>\n",
              "      <td id=\"T_2495c_row8_col2\" class=\"data row8 col2\" >Accounts</td>\n",
              "      <td id=\"T_2495c_row8_col3\" class=\"data row8 col3\" >Calcutta</td>\n",
              "    </tr>\n",
              "    <tr>\n",
              "      <td id=\"T_2495c_row9_col0\" class=\"data row9 col0\" >989007</td>\n",
              "      <td id=\"T_2495c_row9_col1\" class=\"data row9 col1\" >Sourav</td>\n",
              "      <td id=\"T_2495c_row9_col2\" class=\"data row9 col2\" >Production</td>\n",
              "      <td id=\"T_2495c_row9_col3\" class=\"data row9 col3\" >Bombay</td>\n",
              "    </tr>\n",
              "    <tr>\n",
              "      <td id=\"T_2495c_row10_col0\" class=\"data row10 col0\" >123980</td>\n",
              "      <td id=\"T_2495c_row10_col1\" class=\"data row10 col1\" >Mahender</td>\n",
              "      <td id=\"T_2495c_row10_col2\" class=\"data row10 col2\" >Production</td>\n",
              "      <td id=\"T_2495c_row10_col3\" class=\"data row10 col3\" >Bombay</td>\n",
              "    </tr>\n",
              "    <tr>\n",
              "      <td id=\"T_2495c_row11_col0\" class=\"data row11 col0\" >349870</td>\n",
              "      <td id=\"T_2495c_row11_col1\" class=\"data row11 col1\" >Rani</td>\n",
              "      <td id=\"T_2495c_row11_col2\" class=\"data row11 col2\" >Production</td>\n",
              "      <td id=\"T_2495c_row11_col3\" class=\"data row11 col3\" >Bombay</td>\n",
              "    </tr>\n",
              "    <tr>\n",
              "      <td id=\"T_2495c_row12_col0\" class=\"data row12 col0\" >546224</td>\n",
              "      <td id=\"T_2495c_row12_col1\" class=\"data row12 col1\" >Chettri</td>\n",
              "      <td id=\"T_2495c_row12_col2\" class=\"data row12 col2\" >None</td>\n",
              "      <td id=\"T_2495c_row12_col3\" class=\"data row12 col3\" >None</td>\n",
              "    </tr>\n",
              "  </tbody>\n",
              "</table>\n"
            ]
          },
          "metadata": {},
          "execution_count": 52
        }
      ]
    },
    {
      "cell_type": "markdown",
      "source": [
        "### Right Outer"
      ],
      "metadata": {
        "id": "iJ6DASb121Og"
      }
    },
    {
      "cell_type": "code",
      "source": [
        "sql = 'select empid, firstname, deptname, location from empl RIGHT JOIN dept ON empl.deptid = dept.deptid'\n",
        "runSelect(sql)"
      ],
      "metadata": {
        "colab": {
          "base_uri": "https://localhost:8080/",
          "height": 457
        },
        "id": "khvQpQ4E2XND",
        "outputId": "056f2d4b-b471-4691-ba20-3ee26bf222aa"
      },
      "execution_count": 53,
      "outputs": [
        {
          "output_type": "execute_result",
          "data": {
            "text/plain": [
              "<pandas.io.formats.style.Styler at 0x79b3724cec50>"
            ],
            "text/html": [
              "<style type=\"text/css\">\n",
              "</style>\n",
              "<table id=\"T_52867\" class=\"dataframe\">\n",
              "  <thead>\n",
              "    <tr>\n",
              "      <th id=\"T_52867_level0_col0\" class=\"col_heading level0 col0\" >empid</th>\n",
              "      <th id=\"T_52867_level0_col1\" class=\"col_heading level0 col1\" >firstname</th>\n",
              "      <th id=\"T_52867_level0_col2\" class=\"col_heading level0 col2\" >deptname</th>\n",
              "      <th id=\"T_52867_level0_col3\" class=\"col_heading level0 col3\" >location</th>\n",
              "    </tr>\n",
              "  </thead>\n",
              "  <tbody>\n",
              "    <tr>\n",
              "      <td id=\"T_52867_row0_col0\" class=\"data row0 col0\" >546223</td>\n",
              "      <td id=\"T_52867_row0_col1\" class=\"data row0 col1\" >Narayan</td>\n",
              "      <td id=\"T_52867_row0_col2\" class=\"data row0 col2\" >Corporate</td>\n",
              "      <td id=\"T_52867_row0_col3\" class=\"data row0 col3\" >Calcutta</td>\n",
              "    </tr>\n",
              "    <tr>\n",
              "      <td id=\"T_52867_row1_col0\" class=\"data row1 col0\" >299034</td>\n",
              "      <td id=\"T_52867_row1_col1\" class=\"data row1 col1\" >Rekha</td>\n",
              "      <td id=\"T_52867_row1_col2\" class=\"data row1 col2\" >Corporate</td>\n",
              "      <td id=\"T_52867_row1_col3\" class=\"data row1 col3\" >Calcutta</td>\n",
              "    </tr>\n",
              "    <tr>\n",
              "      <td id=\"T_52867_row2_col0\" class=\"data row2 col0\" >742866</td>\n",
              "      <td id=\"T_52867_row2_col1\" class=\"data row2 col1\" >Amitabh</td>\n",
              "      <td id=\"T_52867_row2_col2\" class=\"data row2 col2\" >Corporate</td>\n",
              "      <td id=\"T_52867_row2_col3\" class=\"data row2 col3\" >Calcutta</td>\n",
              "    </tr>\n",
              "    <tr>\n",
              "      <td id=\"T_52867_row3_col0\" class=\"data row3 col0\" >897889</td>\n",
              "      <td id=\"T_52867_row3_col1\" class=\"data row3 col1\" >Virender</td>\n",
              "      <td id=\"T_52867_row3_col2\" class=\"data row3 col2\" >Sales</td>\n",
              "      <td id=\"T_52867_row3_col3\" class=\"data row3 col3\" >Calcutta</td>\n",
              "    </tr>\n",
              "    <tr>\n",
              "      <td id=\"T_52867_row4_col0\" class=\"data row4 col0\" >239456</td>\n",
              "      <td id=\"T_52867_row4_col1\" class=\"data row4 col1\" >Shahrukh</td>\n",
              "      <td id=\"T_52867_row4_col2\" class=\"data row4 col2\" >Sales</td>\n",
              "      <td id=\"T_52867_row4_col3\" class=\"data row4 col3\" >Calcutta</td>\n",
              "    </tr>\n",
              "    <tr>\n",
              "      <td id=\"T_52867_row5_col0\" class=\"data row5 col0\" >865477</td>\n",
              "      <td id=\"T_52867_row5_col1\" class=\"data row5 col1\" >Madhuri</td>\n",
              "      <td id=\"T_52867_row5_col2\" class=\"data row5 col2\" >Sales</td>\n",
              "      <td id=\"T_52867_row5_col3\" class=\"data row5 col3\" >Calcutta</td>\n",
              "    </tr>\n",
              "    <tr>\n",
              "      <td id=\"T_52867_row6_col0\" class=\"data row6 col0\" >223112</td>\n",
              "      <td id=\"T_52867_row6_col1\" class=\"data row6 col1\" >Sania</td>\n",
              "      <td id=\"T_52867_row6_col2\" class=\"data row6 col2\" >Accounts</td>\n",
              "      <td id=\"T_52867_row6_col3\" class=\"data row6 col3\" >Calcutta</td>\n",
              "    </tr>\n",
              "    <tr>\n",
              "      <td id=\"T_52867_row7_col0\" class=\"data row7 col0\" >997445</td>\n",
              "      <td id=\"T_52867_row7_col1\" class=\"data row7 col1\" >Jagmohan</td>\n",
              "      <td id=\"T_52867_row7_col2\" class=\"data row7 col2\" >Accounts</td>\n",
              "      <td id=\"T_52867_row7_col3\" class=\"data row7 col3\" >Calcutta</td>\n",
              "    </tr>\n",
              "    <tr>\n",
              "      <td id=\"T_52867_row8_col0\" class=\"data row8 col0\" >822134</td>\n",
              "      <td id=\"T_52867_row8_col1\" class=\"data row8 col1\" >Rahul</td>\n",
              "      <td id=\"T_52867_row8_col2\" class=\"data row8 col2\" >Accounts</td>\n",
              "      <td id=\"T_52867_row8_col3\" class=\"data row8 col3\" >Calcutta</td>\n",
              "    </tr>\n",
              "    <tr>\n",
              "      <td id=\"T_52867_row9_col0\" class=\"data row9 col0\" >989007</td>\n",
              "      <td id=\"T_52867_row9_col1\" class=\"data row9 col1\" >Sourav</td>\n",
              "      <td id=\"T_52867_row9_col2\" class=\"data row9 col2\" >Production</td>\n",
              "      <td id=\"T_52867_row9_col3\" class=\"data row9 col3\" >Bombay</td>\n",
              "    </tr>\n",
              "    <tr>\n",
              "      <td id=\"T_52867_row10_col0\" class=\"data row10 col0\" >123980</td>\n",
              "      <td id=\"T_52867_row10_col1\" class=\"data row10 col1\" >Mahender</td>\n",
              "      <td id=\"T_52867_row10_col2\" class=\"data row10 col2\" >Production</td>\n",
              "      <td id=\"T_52867_row10_col3\" class=\"data row10 col3\" >Bombay</td>\n",
              "    </tr>\n",
              "    <tr>\n",
              "      <td id=\"T_52867_row11_col0\" class=\"data row11 col0\" >349870</td>\n",
              "      <td id=\"T_52867_row11_col1\" class=\"data row11 col1\" >Rani</td>\n",
              "      <td id=\"T_52867_row11_col2\" class=\"data row11 col2\" >Production</td>\n",
              "      <td id=\"T_52867_row11_col3\" class=\"data row11 col3\" >Bombay</td>\n",
              "    </tr>\n",
              "    <tr>\n",
              "      <td id=\"T_52867_row12_col0\" class=\"data row12 col0\" >None</td>\n",
              "      <td id=\"T_52867_row12_col1\" class=\"data row12 col1\" >None</td>\n",
              "      <td id=\"T_52867_row12_col2\" class=\"data row12 col2\" >Research</td>\n",
              "      <td id=\"T_52867_row12_col3\" class=\"data row12 col3\" >Delhi</td>\n",
              "    </tr>\n",
              "  </tbody>\n",
              "</table>\n"
            ]
          },
          "metadata": {},
          "execution_count": 53
        }
      ]
    },
    {
      "cell_type": "markdown",
      "source": [
        "### Full Outer"
      ],
      "metadata": {
        "id": "RsEyhBBp24zy"
      }
    },
    {
      "cell_type": "code",
      "source": [
        "sql = 'select empid, firstname, deptname, location from empl FULL JOIN dept ON empl.deptid = dept.deptid'\n",
        "runSelect(sql)"
      ],
      "metadata": {
        "colab": {
          "base_uri": "https://localhost:8080/",
          "height": 488
        },
        "id": "Ipt14U9o2qFg",
        "outputId": "c8b1112b-1d74-41ba-f1a5-4f50c2802b0c"
      },
      "execution_count": 54,
      "outputs": [
        {
          "output_type": "execute_result",
          "data": {
            "text/plain": [
              "<pandas.io.formats.style.Styler at 0x79b3724cf290>"
            ],
            "text/html": [
              "<style type=\"text/css\">\n",
              "</style>\n",
              "<table id=\"T_9ff9d\" class=\"dataframe\">\n",
              "  <thead>\n",
              "    <tr>\n",
              "      <th id=\"T_9ff9d_level0_col0\" class=\"col_heading level0 col0\" >empid</th>\n",
              "      <th id=\"T_9ff9d_level0_col1\" class=\"col_heading level0 col1\" >firstname</th>\n",
              "      <th id=\"T_9ff9d_level0_col2\" class=\"col_heading level0 col2\" >deptname</th>\n",
              "      <th id=\"T_9ff9d_level0_col3\" class=\"col_heading level0 col3\" >location</th>\n",
              "    </tr>\n",
              "  </thead>\n",
              "  <tbody>\n",
              "    <tr>\n",
              "      <td id=\"T_9ff9d_row0_col0\" class=\"data row0 col0\" >546223</td>\n",
              "      <td id=\"T_9ff9d_row0_col1\" class=\"data row0 col1\" >Narayan</td>\n",
              "      <td id=\"T_9ff9d_row0_col2\" class=\"data row0 col2\" >Corporate</td>\n",
              "      <td id=\"T_9ff9d_row0_col3\" class=\"data row0 col3\" >Calcutta</td>\n",
              "    </tr>\n",
              "    <tr>\n",
              "      <td id=\"T_9ff9d_row1_col0\" class=\"data row1 col0\" >299034</td>\n",
              "      <td id=\"T_9ff9d_row1_col1\" class=\"data row1 col1\" >Rekha</td>\n",
              "      <td id=\"T_9ff9d_row1_col2\" class=\"data row1 col2\" >Corporate</td>\n",
              "      <td id=\"T_9ff9d_row1_col3\" class=\"data row1 col3\" >Calcutta</td>\n",
              "    </tr>\n",
              "    <tr>\n",
              "      <td id=\"T_9ff9d_row2_col0\" class=\"data row2 col0\" >742866</td>\n",
              "      <td id=\"T_9ff9d_row2_col1\" class=\"data row2 col1\" >Amitabh</td>\n",
              "      <td id=\"T_9ff9d_row2_col2\" class=\"data row2 col2\" >Corporate</td>\n",
              "      <td id=\"T_9ff9d_row2_col3\" class=\"data row2 col3\" >Calcutta</td>\n",
              "    </tr>\n",
              "    <tr>\n",
              "      <td id=\"T_9ff9d_row3_col0\" class=\"data row3 col0\" >897889</td>\n",
              "      <td id=\"T_9ff9d_row3_col1\" class=\"data row3 col1\" >Virender</td>\n",
              "      <td id=\"T_9ff9d_row3_col2\" class=\"data row3 col2\" >Sales</td>\n",
              "      <td id=\"T_9ff9d_row3_col3\" class=\"data row3 col3\" >Calcutta</td>\n",
              "    </tr>\n",
              "    <tr>\n",
              "      <td id=\"T_9ff9d_row4_col0\" class=\"data row4 col0\" >239456</td>\n",
              "      <td id=\"T_9ff9d_row4_col1\" class=\"data row4 col1\" >Shahrukh</td>\n",
              "      <td id=\"T_9ff9d_row4_col2\" class=\"data row4 col2\" >Sales</td>\n",
              "      <td id=\"T_9ff9d_row4_col3\" class=\"data row4 col3\" >Calcutta</td>\n",
              "    </tr>\n",
              "    <tr>\n",
              "      <td id=\"T_9ff9d_row5_col0\" class=\"data row5 col0\" >865477</td>\n",
              "      <td id=\"T_9ff9d_row5_col1\" class=\"data row5 col1\" >Madhuri</td>\n",
              "      <td id=\"T_9ff9d_row5_col2\" class=\"data row5 col2\" >Sales</td>\n",
              "      <td id=\"T_9ff9d_row5_col3\" class=\"data row5 col3\" >Calcutta</td>\n",
              "    </tr>\n",
              "    <tr>\n",
              "      <td id=\"T_9ff9d_row6_col0\" class=\"data row6 col0\" >223112</td>\n",
              "      <td id=\"T_9ff9d_row6_col1\" class=\"data row6 col1\" >Sania</td>\n",
              "      <td id=\"T_9ff9d_row6_col2\" class=\"data row6 col2\" >Accounts</td>\n",
              "      <td id=\"T_9ff9d_row6_col3\" class=\"data row6 col3\" >Calcutta</td>\n",
              "    </tr>\n",
              "    <tr>\n",
              "      <td id=\"T_9ff9d_row7_col0\" class=\"data row7 col0\" >997445</td>\n",
              "      <td id=\"T_9ff9d_row7_col1\" class=\"data row7 col1\" >Jagmohan</td>\n",
              "      <td id=\"T_9ff9d_row7_col2\" class=\"data row7 col2\" >Accounts</td>\n",
              "      <td id=\"T_9ff9d_row7_col3\" class=\"data row7 col3\" >Calcutta</td>\n",
              "    </tr>\n",
              "    <tr>\n",
              "      <td id=\"T_9ff9d_row8_col0\" class=\"data row8 col0\" >822134</td>\n",
              "      <td id=\"T_9ff9d_row8_col1\" class=\"data row8 col1\" >Rahul</td>\n",
              "      <td id=\"T_9ff9d_row8_col2\" class=\"data row8 col2\" >Accounts</td>\n",
              "      <td id=\"T_9ff9d_row8_col3\" class=\"data row8 col3\" >Calcutta</td>\n",
              "    </tr>\n",
              "    <tr>\n",
              "      <td id=\"T_9ff9d_row9_col0\" class=\"data row9 col0\" >989007</td>\n",
              "      <td id=\"T_9ff9d_row9_col1\" class=\"data row9 col1\" >Sourav</td>\n",
              "      <td id=\"T_9ff9d_row9_col2\" class=\"data row9 col2\" >Production</td>\n",
              "      <td id=\"T_9ff9d_row9_col3\" class=\"data row9 col3\" >Bombay</td>\n",
              "    </tr>\n",
              "    <tr>\n",
              "      <td id=\"T_9ff9d_row10_col0\" class=\"data row10 col0\" >123980</td>\n",
              "      <td id=\"T_9ff9d_row10_col1\" class=\"data row10 col1\" >Mahender</td>\n",
              "      <td id=\"T_9ff9d_row10_col2\" class=\"data row10 col2\" >Production</td>\n",
              "      <td id=\"T_9ff9d_row10_col3\" class=\"data row10 col3\" >Bombay</td>\n",
              "    </tr>\n",
              "    <tr>\n",
              "      <td id=\"T_9ff9d_row11_col0\" class=\"data row11 col0\" >349870</td>\n",
              "      <td id=\"T_9ff9d_row11_col1\" class=\"data row11 col1\" >Rani</td>\n",
              "      <td id=\"T_9ff9d_row11_col2\" class=\"data row11 col2\" >Production</td>\n",
              "      <td id=\"T_9ff9d_row11_col3\" class=\"data row11 col3\" >Bombay</td>\n",
              "    </tr>\n",
              "    <tr>\n",
              "      <td id=\"T_9ff9d_row12_col0\" class=\"data row12 col0\" >None</td>\n",
              "      <td id=\"T_9ff9d_row12_col1\" class=\"data row12 col1\" >None</td>\n",
              "      <td id=\"T_9ff9d_row12_col2\" class=\"data row12 col2\" >Research</td>\n",
              "      <td id=\"T_9ff9d_row12_col3\" class=\"data row12 col3\" >Delhi</td>\n",
              "    </tr>\n",
              "    <tr>\n",
              "      <td id=\"T_9ff9d_row13_col0\" class=\"data row13 col0\" >546224</td>\n",
              "      <td id=\"T_9ff9d_row13_col1\" class=\"data row13 col1\" >Chettri</td>\n",
              "      <td id=\"T_9ff9d_row13_col2\" class=\"data row13 col2\" >None</td>\n",
              "      <td id=\"T_9ff9d_row13_col3\" class=\"data row13 col3\" >None</td>\n",
              "    </tr>\n",
              "  </tbody>\n",
              "</table>\n"
            ]
          },
          "metadata": {},
          "execution_count": 54
        }
      ]
    },
    {
      "cell_type": "code",
      "source": [
        "sql = 'select deptname,round(sum(salary),0) payroll from empl FULL JOIN dept ON empl.deptid = dept.deptid \\\n",
        "group by deptname'\n",
        "runSelect(sql)"
      ],
      "metadata": {
        "id": "EAI2kiYP3p9O",
        "outputId": "64a0207a-592a-4702-c441-c4f8e2ec4aa2",
        "colab": {
          "base_uri": "https://localhost:8080/",
          "height": 238
        }
      },
      "execution_count": 55,
      "outputs": [
        {
          "output_type": "execute_result",
          "data": {
            "text/plain": [
              "<pandas.io.formats.style.Styler at 0x79b3724cfcd0>"
            ],
            "text/html": [
              "<style type=\"text/css\">\n",
              "</style>\n",
              "<table id=\"T_a1ce5\" class=\"dataframe\">\n",
              "  <thead>\n",
              "    <tr>\n",
              "      <th id=\"T_a1ce5_level0_col0\" class=\"col_heading level0 col0\" >deptname</th>\n",
              "      <th id=\"T_a1ce5_level0_col1\" class=\"col_heading level0 col1\" >payroll</th>\n",
              "    </tr>\n",
              "  </thead>\n",
              "  <tbody>\n",
              "    <tr>\n",
              "      <td id=\"T_a1ce5_row0_col0\" class=\"data row0 col0\" >None</td>\n",
              "      <td id=\"T_a1ce5_row0_col1\" class=\"data row0 col1\" >40000</td>\n",
              "    </tr>\n",
              "    <tr>\n",
              "      <td id=\"T_a1ce5_row1_col0\" class=\"data row1 col0\" >Research</td>\n",
              "      <td id=\"T_a1ce5_row1_col1\" class=\"data row1 col1\" >None</td>\n",
              "    </tr>\n",
              "    <tr>\n",
              "      <td id=\"T_a1ce5_row2_col0\" class=\"data row2 col0\" >Corporate</td>\n",
              "      <td id=\"T_a1ce5_row2_col1\" class=\"data row2 col1\" >150000</td>\n",
              "    </tr>\n",
              "    <tr>\n",
              "      <td id=\"T_a1ce5_row3_col0\" class=\"data row3 col0\" >Accounts</td>\n",
              "      <td id=\"T_a1ce5_row3_col1\" class=\"data row3 col1\" >77000</td>\n",
              "    </tr>\n",
              "    <tr>\n",
              "      <td id=\"T_a1ce5_row4_col0\" class=\"data row4 col0\" >Sales</td>\n",
              "      <td id=\"T_a1ce5_row4_col1\" class=\"data row4 col1\" >55000</td>\n",
              "    </tr>\n",
              "    <tr>\n",
              "      <td id=\"T_a1ce5_row5_col0\" class=\"data row5 col0\" >Production</td>\n",
              "      <td id=\"T_a1ce5_row5_col1\" class=\"data row5 col1\" >54000</td>\n",
              "    </tr>\n",
              "  </tbody>\n",
              "</table>\n"
            ]
          },
          "metadata": {},
          "execution_count": 55
        }
      ]
    },
    {
      "cell_type": "markdown",
      "source": [
        "## Recursive Joins"
      ],
      "metadata": {
        "id": "6nm2xAfn6pIV"
      }
    },
    {
      "cell_type": "markdown",
      "source": [
        "### Three Tables"
      ],
      "metadata": {
        "id": "A1KCGwwyB02z"
      }
    },
    {
      "cell_type": "code",
      "source": [
        "cmd = \"select w.lastname , w.deptID, '>' linksTo  , d.deptID ,d.managerID,'<' linksTo, m.empID, m.lastname \\\n",
        "        from Empl w, Dept d, Empl m \\\n",
        "        where w.deptID = d.deptID   \\\n",
        "        and d.managerID = m.empID \\\n",
        "    \"\n",
        "runSelect(cmd)"
      ],
      "metadata": {
        "colab": {
          "base_uri": "https://localhost:8080/",
          "height": 426
        },
        "id": "W17nS5R7AL0J",
        "outputId": "97ec7e5f-7e70-428c-cfdf-5d2ffba6a4e9"
      },
      "execution_count": 56,
      "outputs": [
        {
          "output_type": "execute_result",
          "data": {
            "text/plain": [
              "<pandas.io.formats.style.Styler at 0x79b3724d5d10>"
            ],
            "text/html": [
              "<style type=\"text/css\">\n",
              "</style>\n",
              "<table id=\"T_a616a\" class=\"dataframe\">\n",
              "  <thead>\n",
              "    <tr>\n",
              "      <th id=\"T_a616a_level0_col0\" class=\"col_heading level0 col0\" >lastname</th>\n",
              "      <th id=\"T_a616a_level0_col1\" class=\"col_heading level0 col1\" >deptid</th>\n",
              "      <th id=\"T_a616a_level0_col2\" class=\"col_heading level0 col2\" >linksto</th>\n",
              "      <th id=\"T_a616a_level0_col3\" class=\"col_heading level0 col3\" >deptid</th>\n",
              "      <th id=\"T_a616a_level0_col4\" class=\"col_heading level0 col4\" >managerid</th>\n",
              "      <th id=\"T_a616a_level0_col5\" class=\"col_heading level0 col5\" >linksto</th>\n",
              "      <th id=\"T_a616a_level0_col6\" class=\"col_heading level0 col6\" >empid</th>\n",
              "      <th id=\"T_a616a_level0_col7\" class=\"col_heading level0 col7\" >lastname</th>\n",
              "    </tr>\n",
              "  </thead>\n",
              "  <tbody>\n",
              "    <tr>\n",
              "      <td id=\"T_a616a_row0_col0\" class=\"data row0 col0\" >Karthikeyan</td>\n",
              "      <td id=\"T_a616a_row0_col1\" class=\"data row0 col1\" >10</td>\n",
              "      <td id=\"T_a616a_row0_col2\" class=\"data row0 col2\" >></td>\n",
              "      <td id=\"T_a616a_row0_col3\" class=\"data row0 col3\" >10</td>\n",
              "      <td id=\"T_a616a_row0_col4\" class=\"data row0 col4\" >299034</td>\n",
              "      <td id=\"T_a616a_row0_col5\" class=\"data row0 col5\" ><</td>\n",
              "      <td id=\"T_a616a_row0_col6\" class=\"data row0 col6\" >299034</td>\n",
              "      <td id=\"T_a616a_row0_col7\" class=\"data row0 col7\" >Ganesan</td>\n",
              "    </tr>\n",
              "    <tr>\n",
              "      <td id=\"T_a616a_row1_col0\" class=\"data row1 col0\" >Ganesan</td>\n",
              "      <td id=\"T_a616a_row1_col1\" class=\"data row1 col1\" >10</td>\n",
              "      <td id=\"T_a616a_row1_col2\" class=\"data row1 col2\" >></td>\n",
              "      <td id=\"T_a616a_row1_col3\" class=\"data row1 col3\" >10</td>\n",
              "      <td id=\"T_a616a_row1_col4\" class=\"data row1 col4\" >299034</td>\n",
              "      <td id=\"T_a616a_row1_col5\" class=\"data row1 col5\" ><</td>\n",
              "      <td id=\"T_a616a_row1_col6\" class=\"data row1 col6\" >299034</td>\n",
              "      <td id=\"T_a616a_row1_col7\" class=\"data row1 col7\" >Ganesan</td>\n",
              "    </tr>\n",
              "    <tr>\n",
              "      <td id=\"T_a616a_row2_col0\" class=\"data row2 col0\" >Bacchan</td>\n",
              "      <td id=\"T_a616a_row2_col1\" class=\"data row2 col1\" >10</td>\n",
              "      <td id=\"T_a616a_row2_col2\" class=\"data row2 col2\" >></td>\n",
              "      <td id=\"T_a616a_row2_col3\" class=\"data row2 col3\" >10</td>\n",
              "      <td id=\"T_a616a_row2_col4\" class=\"data row2 col4\" >299034</td>\n",
              "      <td id=\"T_a616a_row2_col5\" class=\"data row2 col5\" ><</td>\n",
              "      <td id=\"T_a616a_row2_col6\" class=\"data row2 col6\" >299034</td>\n",
              "      <td id=\"T_a616a_row2_col7\" class=\"data row2 col7\" >Ganesan</td>\n",
              "    </tr>\n",
              "    <tr>\n",
              "      <td id=\"T_a616a_row3_col0\" class=\"data row3 col0\" >Sehwag</td>\n",
              "      <td id=\"T_a616a_row3_col1\" class=\"data row3 col1\" >20</td>\n",
              "      <td id=\"T_a616a_row3_col2\" class=\"data row3 col2\" >></td>\n",
              "      <td id=\"T_a616a_row3_col3\" class=\"data row3 col3\" >20</td>\n",
              "      <td id=\"T_a616a_row3_col4\" class=\"data row3 col4\" >239456</td>\n",
              "      <td id=\"T_a616a_row3_col5\" class=\"data row3 col5\" ><</td>\n",
              "      <td id=\"T_a616a_row3_col6\" class=\"data row3 col6\" >239456</td>\n",
              "      <td id=\"T_a616a_row3_col7\" class=\"data row3 col7\" >Khan</td>\n",
              "    </tr>\n",
              "    <tr>\n",
              "      <td id=\"T_a616a_row4_col0\" class=\"data row4 col0\" >Khan</td>\n",
              "      <td id=\"T_a616a_row4_col1\" class=\"data row4 col1\" >20</td>\n",
              "      <td id=\"T_a616a_row4_col2\" class=\"data row4 col2\" >></td>\n",
              "      <td id=\"T_a616a_row4_col3\" class=\"data row4 col3\" >20</td>\n",
              "      <td id=\"T_a616a_row4_col4\" class=\"data row4 col4\" >239456</td>\n",
              "      <td id=\"T_a616a_row4_col5\" class=\"data row4 col5\" ><</td>\n",
              "      <td id=\"T_a616a_row4_col6\" class=\"data row4 col6\" >239456</td>\n",
              "      <td id=\"T_a616a_row4_col7\" class=\"data row4 col7\" >Khan</td>\n",
              "    </tr>\n",
              "    <tr>\n",
              "      <td id=\"T_a616a_row5_col0\" class=\"data row5 col0\" >Dikshit</td>\n",
              "      <td id=\"T_a616a_row5_col1\" class=\"data row5 col1\" >20</td>\n",
              "      <td id=\"T_a616a_row5_col2\" class=\"data row5 col2\" >></td>\n",
              "      <td id=\"T_a616a_row5_col3\" class=\"data row5 col3\" >20</td>\n",
              "      <td id=\"T_a616a_row5_col4\" class=\"data row5 col4\" >239456</td>\n",
              "      <td id=\"T_a616a_row5_col5\" class=\"data row5 col5\" ><</td>\n",
              "      <td id=\"T_a616a_row5_col6\" class=\"data row5 col6\" >239456</td>\n",
              "      <td id=\"T_a616a_row5_col7\" class=\"data row5 col7\" >Khan</td>\n",
              "    </tr>\n",
              "    <tr>\n",
              "      <td id=\"T_a616a_row6_col0\" class=\"data row6 col0\" >Mirza</td>\n",
              "      <td id=\"T_a616a_row6_col1\" class=\"data row6 col1\" >30</td>\n",
              "      <td id=\"T_a616a_row6_col2\" class=\"data row6 col2\" >></td>\n",
              "      <td id=\"T_a616a_row6_col3\" class=\"data row6 col3\" >30</td>\n",
              "      <td id=\"T_a616a_row6_col4\" class=\"data row6 col4\" >822134</td>\n",
              "      <td id=\"T_a616a_row6_col5\" class=\"data row6 col5\" ><</td>\n",
              "      <td id=\"T_a616a_row6_col6\" class=\"data row6 col6\" >822134</td>\n",
              "      <td id=\"T_a616a_row6_col7\" class=\"data row6 col7\" >Dravid</td>\n",
              "    </tr>\n",
              "    <tr>\n",
              "      <td id=\"T_a616a_row7_col0\" class=\"data row7 col0\" >Dalmia</td>\n",
              "      <td id=\"T_a616a_row7_col1\" class=\"data row7 col1\" >30</td>\n",
              "      <td id=\"T_a616a_row7_col2\" class=\"data row7 col2\" >></td>\n",
              "      <td id=\"T_a616a_row7_col3\" class=\"data row7 col3\" >30</td>\n",
              "      <td id=\"T_a616a_row7_col4\" class=\"data row7 col4\" >822134</td>\n",
              "      <td id=\"T_a616a_row7_col5\" class=\"data row7 col5\" ><</td>\n",
              "      <td id=\"T_a616a_row7_col6\" class=\"data row7 col6\" >822134</td>\n",
              "      <td id=\"T_a616a_row7_col7\" class=\"data row7 col7\" >Dravid</td>\n",
              "    </tr>\n",
              "    <tr>\n",
              "      <td id=\"T_a616a_row8_col0\" class=\"data row8 col0\" >Dravid</td>\n",
              "      <td id=\"T_a616a_row8_col1\" class=\"data row8 col1\" >30</td>\n",
              "      <td id=\"T_a616a_row8_col2\" class=\"data row8 col2\" >></td>\n",
              "      <td id=\"T_a616a_row8_col3\" class=\"data row8 col3\" >30</td>\n",
              "      <td id=\"T_a616a_row8_col4\" class=\"data row8 col4\" >822134</td>\n",
              "      <td id=\"T_a616a_row8_col5\" class=\"data row8 col5\" ><</td>\n",
              "      <td id=\"T_a616a_row8_col6\" class=\"data row8 col6\" >822134</td>\n",
              "      <td id=\"T_a616a_row8_col7\" class=\"data row8 col7\" >Dravid</td>\n",
              "    </tr>\n",
              "    <tr>\n",
              "      <td id=\"T_a616a_row9_col0\" class=\"data row9 col0\" >Ganguly</td>\n",
              "      <td id=\"T_a616a_row9_col1\" class=\"data row9 col1\" >40</td>\n",
              "      <td id=\"T_a616a_row9_col2\" class=\"data row9 col2\" >></td>\n",
              "      <td id=\"T_a616a_row9_col3\" class=\"data row9 col3\" >40</td>\n",
              "      <td id=\"T_a616a_row9_col4\" class=\"data row9 col4\" >349870</td>\n",
              "      <td id=\"T_a616a_row9_col5\" class=\"data row9 col5\" ><</td>\n",
              "      <td id=\"T_a616a_row9_col6\" class=\"data row9 col6\" >349870</td>\n",
              "      <td id=\"T_a616a_row9_col7\" class=\"data row9 col7\" >Mukherjee</td>\n",
              "    </tr>\n",
              "    <tr>\n",
              "      <td id=\"T_a616a_row10_col0\" class=\"data row10 col0\" >Dhoni</td>\n",
              "      <td id=\"T_a616a_row10_col1\" class=\"data row10 col1\" >40</td>\n",
              "      <td id=\"T_a616a_row10_col2\" class=\"data row10 col2\" >></td>\n",
              "      <td id=\"T_a616a_row10_col3\" class=\"data row10 col3\" >40</td>\n",
              "      <td id=\"T_a616a_row10_col4\" class=\"data row10 col4\" >349870</td>\n",
              "      <td id=\"T_a616a_row10_col5\" class=\"data row10 col5\" ><</td>\n",
              "      <td id=\"T_a616a_row10_col6\" class=\"data row10 col6\" >349870</td>\n",
              "      <td id=\"T_a616a_row10_col7\" class=\"data row10 col7\" >Mukherjee</td>\n",
              "    </tr>\n",
              "    <tr>\n",
              "      <td id=\"T_a616a_row11_col0\" class=\"data row11 col0\" >Mukherjee</td>\n",
              "      <td id=\"T_a616a_row11_col1\" class=\"data row11 col1\" >40</td>\n",
              "      <td id=\"T_a616a_row11_col2\" class=\"data row11 col2\" >></td>\n",
              "      <td id=\"T_a616a_row11_col3\" class=\"data row11 col3\" >40</td>\n",
              "      <td id=\"T_a616a_row11_col4\" class=\"data row11 col4\" >349870</td>\n",
              "      <td id=\"T_a616a_row11_col5\" class=\"data row11 col5\" ><</td>\n",
              "      <td id=\"T_a616a_row11_col6\" class=\"data row11 col6\" >349870</td>\n",
              "      <td id=\"T_a616a_row11_col7\" class=\"data row11 col7\" >Mukherjee</td>\n",
              "    </tr>\n",
              "  </tbody>\n",
              "</table>\n"
            ]
          },
          "metadata": {},
          "execution_count": 56
        }
      ]
    },
    {
      "cell_type": "markdown",
      "source": [
        "### Self Join / Single Table"
      ],
      "metadata": {
        "id": "jeknsMbjCA2A"
      }
    },
    {
      "cell_type": "code",
      "source": [
        "cmd = \"Select w.FirstName, w.JobDesc, w.DeptID, \\\n",
        "    ' hired by ' hiredby, \\\n",
        "    m.FirstName,m.JobDesc,m.DeptID \\\n",
        "    from empl w, empl m \\\n",
        "    where w.HiredBy = m.EmpID\"\n",
        "\n",
        "runSelect(cmd)"
      ],
      "metadata": {
        "colab": {
          "base_uri": "https://localhost:8080/",
          "height": 426
        },
        "id": "iDPmUw9-CEBH",
        "outputId": "2077c43a-3b6a-443d-ec76-024e4186c137"
      },
      "execution_count": 57,
      "outputs": [
        {
          "output_type": "execute_result",
          "data": {
            "text/plain": [
              "<pandas.io.formats.style.Styler at 0x79b3724dc850>"
            ],
            "text/html": [
              "<style type=\"text/css\">\n",
              "</style>\n",
              "<table id=\"T_b9d43\" class=\"dataframe\">\n",
              "  <thead>\n",
              "    <tr>\n",
              "      <th id=\"T_b9d43_level0_col0\" class=\"col_heading level0 col0\" >firstname</th>\n",
              "      <th id=\"T_b9d43_level0_col1\" class=\"col_heading level0 col1\" >jobdesc</th>\n",
              "      <th id=\"T_b9d43_level0_col2\" class=\"col_heading level0 col2\" >deptid</th>\n",
              "      <th id=\"T_b9d43_level0_col3\" class=\"col_heading level0 col3\" >hiredby</th>\n",
              "      <th id=\"T_b9d43_level0_col4\" class=\"col_heading level0 col4\" >firstname</th>\n",
              "      <th id=\"T_b9d43_level0_col5\" class=\"col_heading level0 col5\" >jobdesc</th>\n",
              "      <th id=\"T_b9d43_level0_col6\" class=\"col_heading level0 col6\" >deptid</th>\n",
              "    </tr>\n",
              "  </thead>\n",
              "  <tbody>\n",
              "    <tr>\n",
              "      <td id=\"T_b9d43_row0_col0\" class=\"data row0 col0\" >Rani</td>\n",
              "      <td id=\"T_b9d43_row0_col1\" class=\"data row0 col1\" >Manager</td>\n",
              "      <td id=\"T_b9d43_row0_col2\" class=\"data row0 col2\" >40</td>\n",
              "      <td id=\"T_b9d43_row0_col3\" class=\"data row0 col3\" > hired by </td>\n",
              "      <td id=\"T_b9d43_row0_col4\" class=\"data row0 col4\" >Amitabh</td>\n",
              "      <td id=\"T_b9d43_row0_col5\" class=\"data row0 col5\" >Executive</td>\n",
              "      <td id=\"T_b9d43_row0_col6\" class=\"data row0 col6\" >10</td>\n",
              "    </tr>\n",
              "    <tr>\n",
              "      <td id=\"T_b9d43_row1_col0\" class=\"data row1 col0\" >Madhuri</td>\n",
              "      <td id=\"T_b9d43_row1_col1\" class=\"data row1 col1\" >Clerk</td>\n",
              "      <td id=\"T_b9d43_row1_col2\" class=\"data row1 col2\" >20</td>\n",
              "      <td id=\"T_b9d43_row1_col3\" class=\"data row1 col3\" > hired by </td>\n",
              "      <td id=\"T_b9d43_row1_col4\" class=\"data row1 col4\" >Shahrukh</td>\n",
              "      <td id=\"T_b9d43_row1_col5\" class=\"data row1 col5\" >Manager</td>\n",
              "      <td id=\"T_b9d43_row1_col6\" class=\"data row1 col6\" >20</td>\n",
              "    </tr>\n",
              "    <tr>\n",
              "      <td id=\"T_b9d43_row2_col0\" class=\"data row2 col0\" >Shahrukh</td>\n",
              "      <td id=\"T_b9d43_row2_col1\" class=\"data row2 col1\" >Manager</td>\n",
              "      <td id=\"T_b9d43_row2_col2\" class=\"data row2 col2\" >20</td>\n",
              "      <td id=\"T_b9d43_row2_col3\" class=\"data row2 col3\" > hired by </td>\n",
              "      <td id=\"T_b9d43_row2_col4\" class=\"data row2 col4\" >Amitabh</td>\n",
              "      <td id=\"T_b9d43_row2_col5\" class=\"data row2 col5\" >Executive</td>\n",
              "      <td id=\"T_b9d43_row2_col6\" class=\"data row2 col6\" >10</td>\n",
              "    </tr>\n",
              "    <tr>\n",
              "      <td id=\"T_b9d43_row3_col0\" class=\"data row3 col0\" >Virender</td>\n",
              "      <td id=\"T_b9d43_row3_col1\" class=\"data row3 col1\" >Cus_Rep</td>\n",
              "      <td id=\"T_b9d43_row3_col2\" class=\"data row3 col2\" >20</td>\n",
              "      <td id=\"T_b9d43_row3_col3\" class=\"data row3 col3\" > hired by </td>\n",
              "      <td id=\"T_b9d43_row3_col4\" class=\"data row3 col4\" >Shahrukh</td>\n",
              "      <td id=\"T_b9d43_row3_col5\" class=\"data row3 col5\" >Manager</td>\n",
              "      <td id=\"T_b9d43_row3_col6\" class=\"data row3 col6\" >20</td>\n",
              "    </tr>\n",
              "    <tr>\n",
              "      <td id=\"T_b9d43_row4_col0\" class=\"data row4 col0\" >Mahender</td>\n",
              "      <td id=\"T_b9d43_row4_col1\" class=\"data row4 col1\" >Clerk</td>\n",
              "      <td id=\"T_b9d43_row4_col2\" class=\"data row4 col2\" >40</td>\n",
              "      <td id=\"T_b9d43_row4_col3\" class=\"data row4 col3\" > hired by </td>\n",
              "      <td id=\"T_b9d43_row4_col4\" class=\"data row4 col4\" >Rani</td>\n",
              "      <td id=\"T_b9d43_row4_col5\" class=\"data row4 col5\" >Manager</td>\n",
              "      <td id=\"T_b9d43_row4_col6\" class=\"data row4 col6\" >40</td>\n",
              "    </tr>\n",
              "    <tr>\n",
              "      <td id=\"T_b9d43_row5_col0\" class=\"data row5 col0\" >Rahul</td>\n",
              "      <td id=\"T_b9d43_row5_col1\" class=\"data row5 col1\" >Sr Manager</td>\n",
              "      <td id=\"T_b9d43_row5_col2\" class=\"data row5 col2\" >30</td>\n",
              "      <td id=\"T_b9d43_row5_col3\" class=\"data row5 col3\" > hired by </td>\n",
              "      <td id=\"T_b9d43_row5_col4\" class=\"data row5 col4\" >Amitabh</td>\n",
              "      <td id=\"T_b9d43_row5_col5\" class=\"data row5 col5\" >Executive</td>\n",
              "      <td id=\"T_b9d43_row5_col6\" class=\"data row5 col6\" >10</td>\n",
              "    </tr>\n",
              "    <tr>\n",
              "      <td id=\"T_b9d43_row6_col0\" class=\"data row6 col0\" >Jagmohan</td>\n",
              "      <td id=\"T_b9d43_row6_col1\" class=\"data row6 col1\" >Clerk</td>\n",
              "      <td id=\"T_b9d43_row6_col2\" class=\"data row6 col2\" >30</td>\n",
              "      <td id=\"T_b9d43_row6_col3\" class=\"data row6 col3\" > hired by </td>\n",
              "      <td id=\"T_b9d43_row6_col4\" class=\"data row6 col4\" >Rahul</td>\n",
              "      <td id=\"T_b9d43_row6_col5\" class=\"data row6 col5\" >Sr Manager</td>\n",
              "      <td id=\"T_b9d43_row6_col6\" class=\"data row6 col6\" >30</td>\n",
              "    </tr>\n",
              "    <tr>\n",
              "      <td id=\"T_b9d43_row7_col0\" class=\"data row7 col0\" >Sourav</td>\n",
              "      <td id=\"T_b9d43_row7_col1\" class=\"data row7 col1\" >Cus_Rep</td>\n",
              "      <td id=\"T_b9d43_row7_col2\" class=\"data row7 col2\" >40</td>\n",
              "      <td id=\"T_b9d43_row7_col3\" class=\"data row7 col3\" > hired by </td>\n",
              "      <td id=\"T_b9d43_row7_col4\" class=\"data row7 col4\" >Rekha</td>\n",
              "      <td id=\"T_b9d43_row7_col5\" class=\"data row7 col5\" >Director</td>\n",
              "      <td id=\"T_b9d43_row7_col6\" class=\"data row7 col6\" >10</td>\n",
              "    </tr>\n",
              "    <tr>\n",
              "      <td id=\"T_b9d43_row8_col0\" class=\"data row8 col0\" >Rekha</td>\n",
              "      <td id=\"T_b9d43_row8_col1\" class=\"data row8 col1\" >Director</td>\n",
              "      <td id=\"T_b9d43_row8_col2\" class=\"data row8 col2\" >10</td>\n",
              "      <td id=\"T_b9d43_row8_col3\" class=\"data row8 col3\" > hired by </td>\n",
              "      <td id=\"T_b9d43_row8_col4\" class=\"data row8 col4\" >Amitabh</td>\n",
              "      <td id=\"T_b9d43_row8_col5\" class=\"data row8 col5\" >Executive</td>\n",
              "      <td id=\"T_b9d43_row8_col6\" class=\"data row8 col6\" >10</td>\n",
              "    </tr>\n",
              "    <tr>\n",
              "      <td id=\"T_b9d43_row9_col0\" class=\"data row9 col0\" >Narayan</td>\n",
              "      <td id=\"T_b9d43_row9_col1\" class=\"data row9 col1\" >Secretary</td>\n",
              "      <td id=\"T_b9d43_row9_col2\" class=\"data row9 col2\" >10</td>\n",
              "      <td id=\"T_b9d43_row9_col3\" class=\"data row9 col3\" > hired by </td>\n",
              "      <td id=\"T_b9d43_row9_col4\" class=\"data row9 col4\" >Rekha</td>\n",
              "      <td id=\"T_b9d43_row9_col5\" class=\"data row9 col5\" >Director</td>\n",
              "      <td id=\"T_b9d43_row9_col6\" class=\"data row9 col6\" >10</td>\n",
              "    </tr>\n",
              "    <tr>\n",
              "      <td id=\"T_b9d43_row10_col0\" class=\"data row10 col0\" >Chettri</td>\n",
              "      <td id=\"T_b9d43_row10_col1\" class=\"data row10 col1\" >Dy Manager</td>\n",
              "      <td id=\"T_b9d43_row10_col2\" class=\"data row10 col2\" >70</td>\n",
              "      <td id=\"T_b9d43_row10_col3\" class=\"data row10 col3\" > hired by </td>\n",
              "      <td id=\"T_b9d43_row10_col4\" class=\"data row10 col4\" >Sourav</td>\n",
              "      <td id=\"T_b9d43_row10_col5\" class=\"data row10 col5\" >Cus_Rep</td>\n",
              "      <td id=\"T_b9d43_row10_col6\" class=\"data row10 col6\" >40</td>\n",
              "    </tr>\n",
              "    <tr>\n",
              "      <td id=\"T_b9d43_row11_col0\" class=\"data row11 col0\" >Sania</td>\n",
              "      <td id=\"T_b9d43_row11_col1\" class=\"data row11 col1\" >Cus_Rep</td>\n",
              "      <td id=\"T_b9d43_row11_col2\" class=\"data row11 col2\" >30</td>\n",
              "      <td id=\"T_b9d43_row11_col3\" class=\"data row11 col3\" > hired by </td>\n",
              "      <td id=\"T_b9d43_row11_col4\" class=\"data row11 col4\" >Rahul</td>\n",
              "      <td id=\"T_b9d43_row11_col5\" class=\"data row11 col5\" >Sr Manager</td>\n",
              "      <td id=\"T_b9d43_row11_col6\" class=\"data row11 col6\" >30</td>\n",
              "    </tr>\n",
              "  </tbody>\n",
              "</table>\n"
            ]
          },
          "metadata": {},
          "execution_count": 57
        }
      ]
    },
    {
      "cell_type": "markdown",
      "source": [
        "#Subquery"
      ],
      "metadata": {
        "id": "tXDgw1RBzUf-"
      }
    },
    {
      "cell_type": "code",
      "source": [
        "sql = \"select lastname, salary, jobdesc, deptid from empl where \\\n",
        "salary = (select max(salary) from empl where deptid = '20') \\\n",
        "and deptid = '20'\"\n",
        "\n",
        "runSelect(sql)"
      ],
      "metadata": {
        "colab": {
          "base_uri": "https://localhost:8080/",
          "height": 81
        },
        "id": "SxQqgOcHzYTF",
        "outputId": "3b97815c-1fe5-42ac-d5f3-052c89e42dc6"
      },
      "execution_count": 58,
      "outputs": [
        {
          "output_type": "execute_result",
          "data": {
            "text/plain": [
              "<pandas.io.formats.style.Styler at 0x79b3724ce290>"
            ],
            "text/html": [
              "<style type=\"text/css\">\n",
              "</style>\n",
              "<table id=\"T_683af\" class=\"dataframe\">\n",
              "  <thead>\n",
              "    <tr>\n",
              "      <th id=\"T_683af_level0_col0\" class=\"col_heading level0 col0\" >lastname</th>\n",
              "      <th id=\"T_683af_level0_col1\" class=\"col_heading level0 col1\" >salary</th>\n",
              "      <th id=\"T_683af_level0_col2\" class=\"col_heading level0 col2\" >jobdesc</th>\n",
              "      <th id=\"T_683af_level0_col3\" class=\"col_heading level0 col3\" >deptid</th>\n",
              "    </tr>\n",
              "  </thead>\n",
              "  <tbody>\n",
              "    <tr>\n",
              "      <td id=\"T_683af_row0_col0\" class=\"data row0 col0\" >Khan</td>\n",
              "      <td id=\"T_683af_row0_col1\" class=\"data row0 col1\" >30000</td>\n",
              "      <td id=\"T_683af_row0_col2\" class=\"data row0 col2\" >Manager</td>\n",
              "      <td id=\"T_683af_row0_col3\" class=\"data row0 col3\" >20</td>\n",
              "    </tr>\n",
              "  </tbody>\n",
              "</table>\n"
            ]
          },
          "metadata": {},
          "execution_count": 58
        }
      ]
    },
    {
      "cell_type": "code",
      "source": [
        "sql = \"select lastname, salary, jobdesc, deptid from empl where salary < (select avg(salary) from empl where deptid = '20')\\\n",
        "and deptid = '20'\"\n",
        "runSelect(sql)"
      ],
      "metadata": {
        "colab": {
          "base_uri": "https://localhost:8080/",
          "height": 112
        },
        "id": "oEhaMtyLz3Tm",
        "outputId": "59bdebe2-53ad-4280-c336-c9787467ee75"
      },
      "execution_count": 59,
      "outputs": [
        {
          "output_type": "execute_result",
          "data": {
            "text/plain": [
              "<pandas.io.formats.style.Styler at 0x79b3724d4410>"
            ],
            "text/html": [
              "<style type=\"text/css\">\n",
              "</style>\n",
              "<table id=\"T_2fc45\" class=\"dataframe\">\n",
              "  <thead>\n",
              "    <tr>\n",
              "      <th id=\"T_2fc45_level0_col0\" class=\"col_heading level0 col0\" >lastname</th>\n",
              "      <th id=\"T_2fc45_level0_col1\" class=\"col_heading level0 col1\" >salary</th>\n",
              "      <th id=\"T_2fc45_level0_col2\" class=\"col_heading level0 col2\" >jobdesc</th>\n",
              "      <th id=\"T_2fc45_level0_col3\" class=\"col_heading level0 col3\" >deptid</th>\n",
              "    </tr>\n",
              "  </thead>\n",
              "  <tbody>\n",
              "    <tr>\n",
              "      <td id=\"T_2fc45_row0_col0\" class=\"data row0 col0\" >Dikshit</td>\n",
              "      <td id=\"T_2fc45_row0_col1\" class=\"data row0 col1\" >10000</td>\n",
              "      <td id=\"T_2fc45_row0_col2\" class=\"data row0 col2\" >Clerk</td>\n",
              "      <td id=\"T_2fc45_row0_col3\" class=\"data row0 col3\" >20</td>\n",
              "    </tr>\n",
              "    <tr>\n",
              "      <td id=\"T_2fc45_row1_col0\" class=\"data row1 col0\" >Sehwag</td>\n",
              "      <td id=\"T_2fc45_row1_col1\" class=\"data row1 col1\" >15000</td>\n",
              "      <td id=\"T_2fc45_row1_col2\" class=\"data row1 col2\" >Cus_Rep</td>\n",
              "      <td id=\"T_2fc45_row1_col3\" class=\"data row1 col3\" >20</td>\n",
              "    </tr>\n",
              "  </tbody>\n",
              "</table>\n"
            ]
          },
          "metadata": {},
          "execution_count": 59
        }
      ]
    },
    {
      "cell_type": "markdown",
      "source": [
        "## Exists | Not Exists"
      ],
      "metadata": {
        "id": "l3GWzCV24a2x"
      }
    },
    {
      "cell_type": "code",
      "source": [
        "#!psql -h localhost -p 5432 -Uupraxis -ddbpraxis -c \"\\\n",
        "sql = \"\\\n",
        "select firstname, jobdesc, deptid from empl \\\n",
        "where exists \\\n",
        "(select * from dept where empl.deptid = dept.deptid)\\\n",
        "order by deptid \\\n",
        "\"\n",
        "runSelect(sql)"
      ],
      "metadata": {
        "colab": {
          "base_uri": "https://localhost:8080/",
          "height": 426
        },
        "id": "9vlJrd584fWu",
        "outputId": "1ea77593-dcf7-4f89-afde-a1cec3b9095b"
      },
      "execution_count": 60,
      "outputs": [
        {
          "output_type": "execute_result",
          "data": {
            "text/plain": [
              "<pandas.io.formats.style.Styler at 0x79b3724d4650>"
            ],
            "text/html": [
              "<style type=\"text/css\">\n",
              "</style>\n",
              "<table id=\"T_810d4\" class=\"dataframe\">\n",
              "  <thead>\n",
              "    <tr>\n",
              "      <th id=\"T_810d4_level0_col0\" class=\"col_heading level0 col0\" >firstname</th>\n",
              "      <th id=\"T_810d4_level0_col1\" class=\"col_heading level0 col1\" >jobdesc</th>\n",
              "      <th id=\"T_810d4_level0_col2\" class=\"col_heading level0 col2\" >deptid</th>\n",
              "    </tr>\n",
              "  </thead>\n",
              "  <tbody>\n",
              "    <tr>\n",
              "      <td id=\"T_810d4_row0_col0\" class=\"data row0 col0\" >Amitabh</td>\n",
              "      <td id=\"T_810d4_row0_col1\" class=\"data row0 col1\" >Executive</td>\n",
              "      <td id=\"T_810d4_row0_col2\" class=\"data row0 col2\" >10</td>\n",
              "    </tr>\n",
              "    <tr>\n",
              "      <td id=\"T_810d4_row1_col0\" class=\"data row1 col0\" >Rekha</td>\n",
              "      <td id=\"T_810d4_row1_col1\" class=\"data row1 col1\" >Director</td>\n",
              "      <td id=\"T_810d4_row1_col2\" class=\"data row1 col2\" >10</td>\n",
              "    </tr>\n",
              "    <tr>\n",
              "      <td id=\"T_810d4_row2_col0\" class=\"data row2 col0\" >Narayan</td>\n",
              "      <td id=\"T_810d4_row2_col1\" class=\"data row2 col1\" >Secretary</td>\n",
              "      <td id=\"T_810d4_row2_col2\" class=\"data row2 col2\" >10</td>\n",
              "    </tr>\n",
              "    <tr>\n",
              "      <td id=\"T_810d4_row3_col0\" class=\"data row3 col0\" >Madhuri</td>\n",
              "      <td id=\"T_810d4_row3_col1\" class=\"data row3 col1\" >Clerk</td>\n",
              "      <td id=\"T_810d4_row3_col2\" class=\"data row3 col2\" >20</td>\n",
              "    </tr>\n",
              "    <tr>\n",
              "      <td id=\"T_810d4_row4_col0\" class=\"data row4 col0\" >Shahrukh</td>\n",
              "      <td id=\"T_810d4_row4_col1\" class=\"data row4 col1\" >Manager</td>\n",
              "      <td id=\"T_810d4_row4_col2\" class=\"data row4 col2\" >20</td>\n",
              "    </tr>\n",
              "    <tr>\n",
              "      <td id=\"T_810d4_row5_col0\" class=\"data row5 col0\" >Virender</td>\n",
              "      <td id=\"T_810d4_row5_col1\" class=\"data row5 col1\" >Cus_Rep</td>\n",
              "      <td id=\"T_810d4_row5_col2\" class=\"data row5 col2\" >20</td>\n",
              "    </tr>\n",
              "    <tr>\n",
              "      <td id=\"T_810d4_row6_col0\" class=\"data row6 col0\" >Sania</td>\n",
              "      <td id=\"T_810d4_row6_col1\" class=\"data row6 col1\" >Cus_Rep</td>\n",
              "      <td id=\"T_810d4_row6_col2\" class=\"data row6 col2\" >30</td>\n",
              "    </tr>\n",
              "    <tr>\n",
              "      <td id=\"T_810d4_row7_col0\" class=\"data row7 col0\" >Rahul</td>\n",
              "      <td id=\"T_810d4_row7_col1\" class=\"data row7 col1\" >Sr Manager</td>\n",
              "      <td id=\"T_810d4_row7_col2\" class=\"data row7 col2\" >30</td>\n",
              "    </tr>\n",
              "    <tr>\n",
              "      <td id=\"T_810d4_row8_col0\" class=\"data row8 col0\" >Jagmohan</td>\n",
              "      <td id=\"T_810d4_row8_col1\" class=\"data row8 col1\" >Clerk</td>\n",
              "      <td id=\"T_810d4_row8_col2\" class=\"data row8 col2\" >30</td>\n",
              "    </tr>\n",
              "    <tr>\n",
              "      <td id=\"T_810d4_row9_col0\" class=\"data row9 col0\" >Sourav</td>\n",
              "      <td id=\"T_810d4_row9_col1\" class=\"data row9 col1\" >Cus_Rep</td>\n",
              "      <td id=\"T_810d4_row9_col2\" class=\"data row9 col2\" >40</td>\n",
              "    </tr>\n",
              "    <tr>\n",
              "      <td id=\"T_810d4_row10_col0\" class=\"data row10 col0\" >Mahender</td>\n",
              "      <td id=\"T_810d4_row10_col1\" class=\"data row10 col1\" >Clerk</td>\n",
              "      <td id=\"T_810d4_row10_col2\" class=\"data row10 col2\" >40</td>\n",
              "    </tr>\n",
              "    <tr>\n",
              "      <td id=\"T_810d4_row11_col0\" class=\"data row11 col0\" >Rani</td>\n",
              "      <td id=\"T_810d4_row11_col1\" class=\"data row11 col1\" >Manager</td>\n",
              "      <td id=\"T_810d4_row11_col2\" class=\"data row11 col2\" >40</td>\n",
              "    </tr>\n",
              "  </tbody>\n",
              "</table>\n"
            ]
          },
          "metadata": {},
          "execution_count": 60
        }
      ]
    },
    {
      "cell_type": "code",
      "source": [
        "#!psql -h localhost -p 5432 -Uupraxis -ddbpraxis -c \"\\\n",
        "sql = \"\\\n",
        "select firstname, jobdesc, deptid from empl \\\n",
        "where not exists \\\n",
        "(select * from dept where empl.deptid = dept.deptid)\\\n",
        "order by deptid \\\n",
        "\"\n",
        "runSelect(sql)"
      ],
      "metadata": {
        "colab": {
          "base_uri": "https://localhost:8080/",
          "height": 81
        },
        "id": "6ntFTYfv5AyB",
        "outputId": "4edc5bbd-a9f1-4931-978f-1ec5e61b8967"
      },
      "execution_count": 61,
      "outputs": [
        {
          "output_type": "execute_result",
          "data": {
            "text/plain": [
              "<pandas.io.formats.style.Styler at 0x79b3724e8250>"
            ],
            "text/html": [
              "<style type=\"text/css\">\n",
              "</style>\n",
              "<table id=\"T_c0ea0\" class=\"dataframe\">\n",
              "  <thead>\n",
              "    <tr>\n",
              "      <th id=\"T_c0ea0_level0_col0\" class=\"col_heading level0 col0\" >firstname</th>\n",
              "      <th id=\"T_c0ea0_level0_col1\" class=\"col_heading level0 col1\" >jobdesc</th>\n",
              "      <th id=\"T_c0ea0_level0_col2\" class=\"col_heading level0 col2\" >deptid</th>\n",
              "    </tr>\n",
              "  </thead>\n",
              "  <tbody>\n",
              "    <tr>\n",
              "      <td id=\"T_c0ea0_row0_col0\" class=\"data row0 col0\" >Chettri</td>\n",
              "      <td id=\"T_c0ea0_row0_col1\" class=\"data row0 col1\" >Dy Manager</td>\n",
              "      <td id=\"T_c0ea0_row0_col2\" class=\"data row0 col2\" >70</td>\n",
              "    </tr>\n",
              "  </tbody>\n",
              "</table>\n"
            ]
          },
          "metadata": {},
          "execution_count": 61
        }
      ]
    },
    {
      "cell_type": "markdown",
      "source": [
        "## ALL | ANY"
      ],
      "metadata": {
        "id": "Ft9lsq4Uh8-6"
      }
    },
    {
      "cell_type": "code",
      "source": [
        "#!psql -h localhost -p 5432 -Uupraxis -ddbpraxis -c \"\\\n",
        "sql = \"\\\n",
        "select firstname, jobdesc, deptid, salary from empl \\\n",
        "where salary > all \\\n",
        "(select avg(salary) from empl)\\\n",
        "\"\n",
        "runSelect(sql)"
      ],
      "metadata": {
        "id": "ZySW3QRkiBUG",
        "outputId": "834bd1e8-a804-4a2d-a163-35c38b43ef7e",
        "colab": {
          "base_uri": "https://localhost:8080/",
          "height": 238
        }
      },
      "execution_count": 62,
      "outputs": [
        {
          "output_type": "execute_result",
          "data": {
            "text/plain": [
              "<pandas.io.formats.style.Styler at 0x79b3724e9890>"
            ],
            "text/html": [
              "<style type=\"text/css\">\n",
              "</style>\n",
              "<table id=\"T_670d4\" class=\"dataframe\">\n",
              "  <thead>\n",
              "    <tr>\n",
              "      <th id=\"T_670d4_level0_col0\" class=\"col_heading level0 col0\" >firstname</th>\n",
              "      <th id=\"T_670d4_level0_col1\" class=\"col_heading level0 col1\" >jobdesc</th>\n",
              "      <th id=\"T_670d4_level0_col2\" class=\"col_heading level0 col2\" >deptid</th>\n",
              "      <th id=\"T_670d4_level0_col3\" class=\"col_heading level0 col3\" >salary</th>\n",
              "    </tr>\n",
              "  </thead>\n",
              "  <tbody>\n",
              "    <tr>\n",
              "      <td id=\"T_670d4_row0_col0\" class=\"data row0 col0\" >Amitabh</td>\n",
              "      <td id=\"T_670d4_row0_col1\" class=\"data row0 col1\" >Executive</td>\n",
              "      <td id=\"T_670d4_row0_col2\" class=\"data row0 col2\" >10</td>\n",
              "      <td id=\"T_670d4_row0_col3\" class=\"data row0 col3\" >50000</td>\n",
              "    </tr>\n",
              "    <tr>\n",
              "      <td id=\"T_670d4_row1_col0\" class=\"data row1 col0\" >Shahrukh</td>\n",
              "      <td id=\"T_670d4_row1_col1\" class=\"data row1 col1\" >Manager</td>\n",
              "      <td id=\"T_670d4_row1_col2\" class=\"data row1 col2\" >20</td>\n",
              "      <td id=\"T_670d4_row1_col3\" class=\"data row1 col3\" >30000</td>\n",
              "    </tr>\n",
              "    <tr>\n",
              "      <td id=\"T_670d4_row2_col0\" class=\"data row2 col0\" >Rahul</td>\n",
              "      <td id=\"T_670d4_row2_col1\" class=\"data row2 col1\" >Sr Manager</td>\n",
              "      <td id=\"T_670d4_row2_col2\" class=\"data row2 col2\" >30</td>\n",
              "      <td id=\"T_670d4_row2_col3\" class=\"data row2 col3\" >40000</td>\n",
              "    </tr>\n",
              "    <tr>\n",
              "      <td id=\"T_670d4_row3_col0\" class=\"data row3 col0\" >Rekha</td>\n",
              "      <td id=\"T_670d4_row3_col1\" class=\"data row3 col1\" >Director</td>\n",
              "      <td id=\"T_670d4_row3_col2\" class=\"data row3 col2\" >10</td>\n",
              "      <td id=\"T_670d4_row3_col3\" class=\"data row3 col3\" >60000</td>\n",
              "    </tr>\n",
              "    <tr>\n",
              "      <td id=\"T_670d4_row4_col0\" class=\"data row4 col0\" >Narayan</td>\n",
              "      <td id=\"T_670d4_row4_col1\" class=\"data row4 col1\" >Secretary</td>\n",
              "      <td id=\"T_670d4_row4_col2\" class=\"data row4 col2\" >10</td>\n",
              "      <td id=\"T_670d4_row4_col3\" class=\"data row4 col3\" >40000</td>\n",
              "    </tr>\n",
              "    <tr>\n",
              "      <td id=\"T_670d4_row5_col0\" class=\"data row5 col0\" >Chettri</td>\n",
              "      <td id=\"T_670d4_row5_col1\" class=\"data row5 col1\" >Dy Manager</td>\n",
              "      <td id=\"T_670d4_row5_col2\" class=\"data row5 col2\" >70</td>\n",
              "      <td id=\"T_670d4_row5_col3\" class=\"data row5 col3\" >40000</td>\n",
              "    </tr>\n",
              "  </tbody>\n",
              "</table>\n"
            ]
          },
          "metadata": {},
          "execution_count": 62
        }
      ]
    },
    {
      "cell_type": "code",
      "source": [
        "#!psql -h localhost -p 5432 -Uupraxis -ddbpraxis -c \"\\\n",
        "sql = \"\\\n",
        "select firstname, jobdesc, deptid, salary from empl \\\n",
        "where salary <= any \\\n",
        "(select min(salary) from empl)\\\n",
        "\"\n",
        "runSelect(sql)"
      ],
      "metadata": {
        "id": "OrNzFUx2i6n1",
        "outputId": "f1a1d29d-c638-4d46-dc7a-a02fb85cf6db",
        "colab": {
          "base_uri": "https://localhost:8080/",
          "height": 81
        }
      },
      "execution_count": 63,
      "outputs": [
        {
          "output_type": "execute_result",
          "data": {
            "text/plain": [
              "<pandas.io.formats.style.Styler at 0x79b3724e90d0>"
            ],
            "text/html": [
              "<style type=\"text/css\">\n",
              "</style>\n",
              "<table id=\"T_ef4a1\" class=\"dataframe\">\n",
              "  <thead>\n",
              "    <tr>\n",
              "      <th id=\"T_ef4a1_level0_col0\" class=\"col_heading level0 col0\" >firstname</th>\n",
              "      <th id=\"T_ef4a1_level0_col1\" class=\"col_heading level0 col1\" >jobdesc</th>\n",
              "      <th id=\"T_ef4a1_level0_col2\" class=\"col_heading level0 col2\" >deptid</th>\n",
              "      <th id=\"T_ef4a1_level0_col3\" class=\"col_heading level0 col3\" >salary</th>\n",
              "    </tr>\n",
              "  </thead>\n",
              "  <tbody>\n",
              "    <tr>\n",
              "      <td id=\"T_ef4a1_row0_col0\" class=\"data row0 col0\" >Mahender</td>\n",
              "      <td id=\"T_ef4a1_row0_col1\" class=\"data row0 col1\" >Clerk</td>\n",
              "      <td id=\"T_ef4a1_row0_col2\" class=\"data row0 col2\" >40</td>\n",
              "      <td id=\"T_ef4a1_row0_col3\" class=\"data row0 col3\" >9000</td>\n",
              "    </tr>\n",
              "  </tbody>\n",
              "</table>\n"
            ]
          },
          "metadata": {},
          "execution_count": 63
        }
      ]
    },
    {
      "cell_type": "code",
      "source": [
        "#!psql -h localhost -p 5432 -Uupraxis -ddbpraxis -c \"\\\n",
        "sql = \"\\\n",
        "select firstname, jobdesc, deptid, salary from empl \\\n",
        "where salary >= any \\\n",
        "(select max(salary) from empl)\\\n",
        "\"\n",
        "runSelect(sql)"
      ],
      "metadata": {
        "id": "_i2nkl8yvjyr",
        "outputId": "be726a7f-72eb-49d8-cbd8-76717e6988cf",
        "colab": {
          "base_uri": "https://localhost:8080/",
          "height": 81
        }
      },
      "execution_count": 64,
      "outputs": [
        {
          "output_type": "execute_result",
          "data": {
            "text/plain": [
              "<pandas.io.formats.style.Styler at 0x79b3724f2d90>"
            ],
            "text/html": [
              "<style type=\"text/css\">\n",
              "</style>\n",
              "<table id=\"T_9c24c\" class=\"dataframe\">\n",
              "  <thead>\n",
              "    <tr>\n",
              "      <th id=\"T_9c24c_level0_col0\" class=\"col_heading level0 col0\" >firstname</th>\n",
              "      <th id=\"T_9c24c_level0_col1\" class=\"col_heading level0 col1\" >jobdesc</th>\n",
              "      <th id=\"T_9c24c_level0_col2\" class=\"col_heading level0 col2\" >deptid</th>\n",
              "      <th id=\"T_9c24c_level0_col3\" class=\"col_heading level0 col3\" >salary</th>\n",
              "    </tr>\n",
              "  </thead>\n",
              "  <tbody>\n",
              "    <tr>\n",
              "      <td id=\"T_9c24c_row0_col0\" class=\"data row0 col0\" >Rekha</td>\n",
              "      <td id=\"T_9c24c_row0_col1\" class=\"data row0 col1\" >Director</td>\n",
              "      <td id=\"T_9c24c_row0_col2\" class=\"data row0 col2\" >10</td>\n",
              "      <td id=\"T_9c24c_row0_col3\" class=\"data row0 col3\" >60000</td>\n",
              "    </tr>\n",
              "  </tbody>\n",
              "</table>\n"
            ]
          },
          "metadata": {},
          "execution_count": 64
        }
      ]
    },
    {
      "cell_type": "code",
      "source": [
        "!psql -h localhost -p 5432 -Uupraxis -ddbpraxis -c \"\\\n",
        "select firstname, jobdesc, deptid, salary from empl \\\n",
        "where deptid = ALL  \\\n",
        "(select deptid from dept where location = 'Calcutta' )\\\n",
        "\"\n",
        "#runSelect(sql)"
      ],
      "metadata": {
        "id": "DodcUMruPCYv",
        "outputId": "e94f537b-ba68-4562-e90a-50ee82ac07dd",
        "colab": {
          "base_uri": "https://localhost:8080/"
        }
      },
      "execution_count": 65,
      "outputs": [
        {
          "output_type": "stream",
          "name": "stdout",
          "text": [
            " firstname | jobdesc | deptid | salary \n",
            "-----------+---------+--------+--------\n",
            "(0 rows)\n",
            "\n"
          ]
        }
      ]
    },
    {
      "cell_type": "code",
      "source": [
        "!psql -h localhost -p 5432 -Uupraxis -ddbpraxis -c \"\\\n",
        "select firstname, jobdesc, deptid, salary from empl \\\n",
        "where deptid = any  \\\n",
        "(select deptid from dept where location = 'Calcutta' )\\\n",
        "\""
      ],
      "metadata": {
        "id": "e-v3Rp0qv3TJ",
        "outputId": "26bf6917-a9f4-485a-b715-93de2bcc2f78",
        "colab": {
          "base_uri": "https://localhost:8080/"
        }
      },
      "execution_count": 66,
      "outputs": [
        {
          "output_type": "stream",
          "name": "stdout",
          "text": [
            " firstname |  jobdesc   | deptid | salary \n",
            "-----------+------------+--------+--------\n",
            " Amitabh   | Executive  | 10     |  50000\n",
            " Madhuri   | Clerk      | 20     |  10000\n",
            " Shahrukh  | Manager    | 20     |  30000\n",
            " Virender  | Cus_Rep    | 20     |  15000\n",
            " Rahul     | Sr Manager | 30     |  40000\n",
            " Jagmohan  | Clerk      | 30     |  12000\n",
            " Rekha     | Director   | 10     |  60000\n",
            " Narayan   | Secretary  | 10     |  40000\n",
            " Sania     | Cus_Rep    | 30     |  25000\n",
            "(9 rows)\n",
            "\n"
          ]
        }
      ]
    },
    {
      "cell_type": "code",
      "source": [
        "!psql -h localhost -p 5432 -Uupraxis -ddbpraxis -c \"\\\n",
        "select firstname, jobdesc, salary from empl \\\n",
        "where salary > ANY  \\\n",
        "(select salary from empl where jobdesc like '%Manager%' )\\\n",
        "\""
      ],
      "metadata": {
        "id": "9T_Rw43iUs6z",
        "outputId": "7b0c09eb-4674-485f-eda3-2d9d91f253a8",
        "colab": {
          "base_uri": "https://localhost:8080/"
        }
      },
      "execution_count": 67,
      "outputs": [
        {
          "output_type": "stream",
          "name": "stdout",
          "text": [
            " firstname |  jobdesc   | salary \n",
            "-----------+------------+--------\n",
            " Amitabh   | Executive  |  50000\n",
            " Shahrukh  | Manager    |  30000\n",
            " Rahul     | Sr Manager |  40000\n",
            " Rekha     | Director   |  60000\n",
            " Narayan   | Secretary  |  40000\n",
            " Chettri   | Dy Manager |  40000\n",
            "(6 rows)\n",
            "\n"
          ]
        }
      ]
    },
    {
      "cell_type": "code",
      "source": [
        "!psql -h localhost -p 5432 -Uupraxis -ddbpraxis -c \"\\\n",
        "select firstname, jobdesc, salary from empl \\\n",
        "where salary > ALL  \\\n",
        "(select salary from empl where jobdesc like '%Manager%' )\\\n",
        "\""
      ],
      "metadata": {
        "id": "gBMwfFDLkOhd",
        "outputId": "02aaa57e-f23b-4ae1-cc62-c091430a9edf",
        "colab": {
          "base_uri": "https://localhost:8080/"
        }
      },
      "execution_count": 68,
      "outputs": [
        {
          "output_type": "stream",
          "name": "stdout",
          "text": [
            " firstname |  jobdesc  | salary \n",
            "-----------+-----------+--------\n",
            " Amitabh   | Executive |  50000\n",
            " Rekha     | Director  |  60000\n",
            "(2 rows)\n",
            "\n"
          ]
        }
      ]
    },
    {
      "cell_type": "markdown",
      "source": [
        "## Common Table Extensions CTE"
      ],
      "metadata": {
        "id": "2gvg8pwe3ale"
      }
    },
    {
      "cell_type": "code",
      "source": [
        "sql = \"\\\n",
        "select jobdesc, avg(salary) avgsalary from empl group by jobdesc \\\n",
        "\"\n",
        "runSelect(sql)"
      ],
      "metadata": {
        "id": "7mu6mmXA3pVn",
        "outputId": "5d1e6c15-46dc-42c8-9e60-f93c93bbbda7",
        "colab": {
          "base_uri": "https://localhost:8080/",
          "height": 300
        }
      },
      "execution_count": 69,
      "outputs": [
        {
          "output_type": "execute_result",
          "data": {
            "text/plain": [
              "<pandas.io.formats.style.Styler at 0x79b3724f8110>"
            ],
            "text/html": [
              "<style type=\"text/css\">\n",
              "</style>\n",
              "<table id=\"T_1df61\" class=\"dataframe\">\n",
              "  <thead>\n",
              "    <tr>\n",
              "      <th id=\"T_1df61_level0_col0\" class=\"col_heading level0 col0\" >jobdesc</th>\n",
              "      <th id=\"T_1df61_level0_col1\" class=\"col_heading level0 col1\" >avgsalary</th>\n",
              "    </tr>\n",
              "  </thead>\n",
              "  <tbody>\n",
              "    <tr>\n",
              "      <td id=\"T_1df61_row0_col0\" class=\"data row0 col0\" >Director</td>\n",
              "      <td id=\"T_1df61_row0_col1\" class=\"data row0 col1\" >60000.000000000000</td>\n",
              "    </tr>\n",
              "    <tr>\n",
              "      <td id=\"T_1df61_row1_col0\" class=\"data row1 col0\" >Manager</td>\n",
              "      <td id=\"T_1df61_row1_col1\" class=\"data row1 col1\" >27500.000000000000</td>\n",
              "    </tr>\n",
              "    <tr>\n",
              "      <td id=\"T_1df61_row2_col0\" class=\"data row2 col0\" >Dy Manager</td>\n",
              "      <td id=\"T_1df61_row2_col1\" class=\"data row2 col1\" >40000.000000000000</td>\n",
              "    </tr>\n",
              "    <tr>\n",
              "      <td id=\"T_1df61_row3_col0\" class=\"data row3 col0\" >Executive</td>\n",
              "      <td id=\"T_1df61_row3_col1\" class=\"data row3 col1\" >50000.000000000000</td>\n",
              "    </tr>\n",
              "    <tr>\n",
              "      <td id=\"T_1df61_row4_col0\" class=\"data row4 col0\" >Secretary</td>\n",
              "      <td id=\"T_1df61_row4_col1\" class=\"data row4 col1\" >40000.000000000000</td>\n",
              "    </tr>\n",
              "    <tr>\n",
              "      <td id=\"T_1df61_row5_col0\" class=\"data row5 col0\" >Cus_Rep</td>\n",
              "      <td id=\"T_1df61_row5_col1\" class=\"data row5 col1\" >20000.000000000000</td>\n",
              "    </tr>\n",
              "    <tr>\n",
              "      <td id=\"T_1df61_row6_col0\" class=\"data row6 col0\" >Clerk</td>\n",
              "      <td id=\"T_1df61_row6_col1\" class=\"data row6 col1\" >10333.3333333333333333</td>\n",
              "    </tr>\n",
              "    <tr>\n",
              "      <td id=\"T_1df61_row7_col0\" class=\"data row7 col0\" >Sr Manager</td>\n",
              "      <td id=\"T_1df61_row7_col1\" class=\"data row7 col1\" >40000.000000000000</td>\n",
              "    </tr>\n",
              "  </tbody>\n",
              "</table>\n"
            ]
          },
          "metadata": {},
          "execution_count": 69
        }
      ]
    },
    {
      "cell_type": "code",
      "source": [
        "sql = \"\\\n",
        "with MeanSalary as \\\n",
        "    (select jobdesc, round(avg(salary),0) avgsalary from empl group by jobdesc) \\\n",
        "select lastname, empl.jobdesc, salary, avgsalary from empl, meansalary \\\n",
        "where empl.jobdesc = meansalary.jobdesc \\\n",
        "order  by jobdesc \\\n",
        "\"\n",
        "runSelect(sql)"
      ],
      "metadata": {
        "id": "0i-rIGEzDgFy",
        "outputId": "ccac25d1-6728-48ff-e011-d68ace252fc1",
        "colab": {
          "base_uri": "https://localhost:8080/",
          "height": 457
        }
      },
      "execution_count": 70,
      "outputs": [
        {
          "output_type": "execute_result",
          "data": {
            "text/plain": [
              "<pandas.io.formats.style.Styler at 0x79b3724f1c50>"
            ],
            "text/html": [
              "<style type=\"text/css\">\n",
              "</style>\n",
              "<table id=\"T_96733\" class=\"dataframe\">\n",
              "  <thead>\n",
              "    <tr>\n",
              "      <th id=\"T_96733_level0_col0\" class=\"col_heading level0 col0\" >lastname</th>\n",
              "      <th id=\"T_96733_level0_col1\" class=\"col_heading level0 col1\" >jobdesc</th>\n",
              "      <th id=\"T_96733_level0_col2\" class=\"col_heading level0 col2\" >salary</th>\n",
              "      <th id=\"T_96733_level0_col3\" class=\"col_heading level0 col3\" >avgsalary</th>\n",
              "    </tr>\n",
              "  </thead>\n",
              "  <tbody>\n",
              "    <tr>\n",
              "      <td id=\"T_96733_row0_col0\" class=\"data row0 col0\" >Dalmia</td>\n",
              "      <td id=\"T_96733_row0_col1\" class=\"data row0 col1\" >Clerk</td>\n",
              "      <td id=\"T_96733_row0_col2\" class=\"data row0 col2\" >12000</td>\n",
              "      <td id=\"T_96733_row0_col3\" class=\"data row0 col3\" >10333</td>\n",
              "    </tr>\n",
              "    <tr>\n",
              "      <td id=\"T_96733_row1_col0\" class=\"data row1 col0\" >Dikshit</td>\n",
              "      <td id=\"T_96733_row1_col1\" class=\"data row1 col1\" >Clerk</td>\n",
              "      <td id=\"T_96733_row1_col2\" class=\"data row1 col2\" >10000</td>\n",
              "      <td id=\"T_96733_row1_col3\" class=\"data row1 col3\" >10333</td>\n",
              "    </tr>\n",
              "    <tr>\n",
              "      <td id=\"T_96733_row2_col0\" class=\"data row2 col0\" >Dhoni</td>\n",
              "      <td id=\"T_96733_row2_col1\" class=\"data row2 col1\" >Clerk</td>\n",
              "      <td id=\"T_96733_row2_col2\" class=\"data row2 col2\" >9000</td>\n",
              "      <td id=\"T_96733_row2_col3\" class=\"data row2 col3\" >10333</td>\n",
              "    </tr>\n",
              "    <tr>\n",
              "      <td id=\"T_96733_row3_col0\" class=\"data row3 col0\" >Sehwag</td>\n",
              "      <td id=\"T_96733_row3_col1\" class=\"data row3 col1\" >Cus_Rep</td>\n",
              "      <td id=\"T_96733_row3_col2\" class=\"data row3 col2\" >15000</td>\n",
              "      <td id=\"T_96733_row3_col3\" class=\"data row3 col3\" >20000</td>\n",
              "    </tr>\n",
              "    <tr>\n",
              "      <td id=\"T_96733_row4_col0\" class=\"data row4 col0\" >Mirza</td>\n",
              "      <td id=\"T_96733_row4_col1\" class=\"data row4 col1\" >Cus_Rep</td>\n",
              "      <td id=\"T_96733_row4_col2\" class=\"data row4 col2\" >25000</td>\n",
              "      <td id=\"T_96733_row4_col3\" class=\"data row4 col3\" >20000</td>\n",
              "    </tr>\n",
              "    <tr>\n",
              "      <td id=\"T_96733_row5_col0\" class=\"data row5 col0\" >Ganguly</td>\n",
              "      <td id=\"T_96733_row5_col1\" class=\"data row5 col1\" >Cus_Rep</td>\n",
              "      <td id=\"T_96733_row5_col2\" class=\"data row5 col2\" >20000</td>\n",
              "      <td id=\"T_96733_row5_col3\" class=\"data row5 col3\" >20000</td>\n",
              "    </tr>\n",
              "    <tr>\n",
              "      <td id=\"T_96733_row6_col0\" class=\"data row6 col0\" >Ganesan</td>\n",
              "      <td id=\"T_96733_row6_col1\" class=\"data row6 col1\" >Director</td>\n",
              "      <td id=\"T_96733_row6_col2\" class=\"data row6 col2\" >60000</td>\n",
              "      <td id=\"T_96733_row6_col3\" class=\"data row6 col3\" >60000</td>\n",
              "    </tr>\n",
              "    <tr>\n",
              "      <td id=\"T_96733_row7_col0\" class=\"data row7 col0\" >Sunil</td>\n",
              "      <td id=\"T_96733_row7_col1\" class=\"data row7 col1\" >Dy Manager</td>\n",
              "      <td id=\"T_96733_row7_col2\" class=\"data row7 col2\" >40000</td>\n",
              "      <td id=\"T_96733_row7_col3\" class=\"data row7 col3\" >40000</td>\n",
              "    </tr>\n",
              "    <tr>\n",
              "      <td id=\"T_96733_row8_col0\" class=\"data row8 col0\" >Bacchan</td>\n",
              "      <td id=\"T_96733_row8_col1\" class=\"data row8 col1\" >Executive</td>\n",
              "      <td id=\"T_96733_row8_col2\" class=\"data row8 col2\" >50000</td>\n",
              "      <td id=\"T_96733_row8_col3\" class=\"data row8 col3\" >50000</td>\n",
              "    </tr>\n",
              "    <tr>\n",
              "      <td id=\"T_96733_row9_col0\" class=\"data row9 col0\" >Khan</td>\n",
              "      <td id=\"T_96733_row9_col1\" class=\"data row9 col1\" >Manager</td>\n",
              "      <td id=\"T_96733_row9_col2\" class=\"data row9 col2\" >30000</td>\n",
              "      <td id=\"T_96733_row9_col3\" class=\"data row9 col3\" >27500</td>\n",
              "    </tr>\n",
              "    <tr>\n",
              "      <td id=\"T_96733_row10_col0\" class=\"data row10 col0\" >Mukherjee</td>\n",
              "      <td id=\"T_96733_row10_col1\" class=\"data row10 col1\" >Manager</td>\n",
              "      <td id=\"T_96733_row10_col2\" class=\"data row10 col2\" >25000</td>\n",
              "      <td id=\"T_96733_row10_col3\" class=\"data row10 col3\" >27500</td>\n",
              "    </tr>\n",
              "    <tr>\n",
              "      <td id=\"T_96733_row11_col0\" class=\"data row11 col0\" >Karthikeyan</td>\n",
              "      <td id=\"T_96733_row11_col1\" class=\"data row11 col1\" >Secretary</td>\n",
              "      <td id=\"T_96733_row11_col2\" class=\"data row11 col2\" >40000</td>\n",
              "      <td id=\"T_96733_row11_col3\" class=\"data row11 col3\" >40000</td>\n",
              "    </tr>\n",
              "    <tr>\n",
              "      <td id=\"T_96733_row12_col0\" class=\"data row12 col0\" >Dravid</td>\n",
              "      <td id=\"T_96733_row12_col1\" class=\"data row12 col1\" >Sr Manager</td>\n",
              "      <td id=\"T_96733_row12_col2\" class=\"data row12 col2\" >40000</td>\n",
              "      <td id=\"T_96733_row12_col3\" class=\"data row12 col3\" >40000</td>\n",
              "    </tr>\n",
              "  </tbody>\n",
              "</table>\n"
            ]
          },
          "metadata": {},
          "execution_count": 70
        }
      ]
    },
    {
      "cell_type": "code",
      "source": [
        "sql = \"\\\n",
        "select lastname, empl.jobdesc, salary, avgsalary from \\\n",
        "empl, (select jobdesc, round(avg(salary),0) avgsalary from empl group by jobdesc) meansalary \\\n",
        "where empl.jobdesc = meansalary.jobdesc \\\n",
        "order  by jobdesc \\\n",
        "\"\n",
        "runSelect(sql)"
      ],
      "metadata": {
        "id": "nwrLj4xaExye",
        "outputId": "65010fb7-c930-44bb-8d50-e34ca5e6a039",
        "colab": {
          "base_uri": "https://localhost:8080/",
          "height": 457
        }
      },
      "execution_count": 71,
      "outputs": [
        {
          "output_type": "execute_result",
          "data": {
            "text/plain": [
              "<pandas.io.formats.style.Styler at 0x79b3724fbc10>"
            ],
            "text/html": [
              "<style type=\"text/css\">\n",
              "</style>\n",
              "<table id=\"T_2c391\" class=\"dataframe\">\n",
              "  <thead>\n",
              "    <tr>\n",
              "      <th id=\"T_2c391_level0_col0\" class=\"col_heading level0 col0\" >lastname</th>\n",
              "      <th id=\"T_2c391_level0_col1\" class=\"col_heading level0 col1\" >jobdesc</th>\n",
              "      <th id=\"T_2c391_level0_col2\" class=\"col_heading level0 col2\" >salary</th>\n",
              "      <th id=\"T_2c391_level0_col3\" class=\"col_heading level0 col3\" >avgsalary</th>\n",
              "    </tr>\n",
              "  </thead>\n",
              "  <tbody>\n",
              "    <tr>\n",
              "      <td id=\"T_2c391_row0_col0\" class=\"data row0 col0\" >Dalmia</td>\n",
              "      <td id=\"T_2c391_row0_col1\" class=\"data row0 col1\" >Clerk</td>\n",
              "      <td id=\"T_2c391_row0_col2\" class=\"data row0 col2\" >12000</td>\n",
              "      <td id=\"T_2c391_row0_col3\" class=\"data row0 col3\" >10333</td>\n",
              "    </tr>\n",
              "    <tr>\n",
              "      <td id=\"T_2c391_row1_col0\" class=\"data row1 col0\" >Dikshit</td>\n",
              "      <td id=\"T_2c391_row1_col1\" class=\"data row1 col1\" >Clerk</td>\n",
              "      <td id=\"T_2c391_row1_col2\" class=\"data row1 col2\" >10000</td>\n",
              "      <td id=\"T_2c391_row1_col3\" class=\"data row1 col3\" >10333</td>\n",
              "    </tr>\n",
              "    <tr>\n",
              "      <td id=\"T_2c391_row2_col0\" class=\"data row2 col0\" >Dhoni</td>\n",
              "      <td id=\"T_2c391_row2_col1\" class=\"data row2 col1\" >Clerk</td>\n",
              "      <td id=\"T_2c391_row2_col2\" class=\"data row2 col2\" >9000</td>\n",
              "      <td id=\"T_2c391_row2_col3\" class=\"data row2 col3\" >10333</td>\n",
              "    </tr>\n",
              "    <tr>\n",
              "      <td id=\"T_2c391_row3_col0\" class=\"data row3 col0\" >Sehwag</td>\n",
              "      <td id=\"T_2c391_row3_col1\" class=\"data row3 col1\" >Cus_Rep</td>\n",
              "      <td id=\"T_2c391_row3_col2\" class=\"data row3 col2\" >15000</td>\n",
              "      <td id=\"T_2c391_row3_col3\" class=\"data row3 col3\" >20000</td>\n",
              "    </tr>\n",
              "    <tr>\n",
              "      <td id=\"T_2c391_row4_col0\" class=\"data row4 col0\" >Mirza</td>\n",
              "      <td id=\"T_2c391_row4_col1\" class=\"data row4 col1\" >Cus_Rep</td>\n",
              "      <td id=\"T_2c391_row4_col2\" class=\"data row4 col2\" >25000</td>\n",
              "      <td id=\"T_2c391_row4_col3\" class=\"data row4 col3\" >20000</td>\n",
              "    </tr>\n",
              "    <tr>\n",
              "      <td id=\"T_2c391_row5_col0\" class=\"data row5 col0\" >Ganguly</td>\n",
              "      <td id=\"T_2c391_row5_col1\" class=\"data row5 col1\" >Cus_Rep</td>\n",
              "      <td id=\"T_2c391_row5_col2\" class=\"data row5 col2\" >20000</td>\n",
              "      <td id=\"T_2c391_row5_col3\" class=\"data row5 col3\" >20000</td>\n",
              "    </tr>\n",
              "    <tr>\n",
              "      <td id=\"T_2c391_row6_col0\" class=\"data row6 col0\" >Ganesan</td>\n",
              "      <td id=\"T_2c391_row6_col1\" class=\"data row6 col1\" >Director</td>\n",
              "      <td id=\"T_2c391_row6_col2\" class=\"data row6 col2\" >60000</td>\n",
              "      <td id=\"T_2c391_row6_col3\" class=\"data row6 col3\" >60000</td>\n",
              "    </tr>\n",
              "    <tr>\n",
              "      <td id=\"T_2c391_row7_col0\" class=\"data row7 col0\" >Sunil</td>\n",
              "      <td id=\"T_2c391_row7_col1\" class=\"data row7 col1\" >Dy Manager</td>\n",
              "      <td id=\"T_2c391_row7_col2\" class=\"data row7 col2\" >40000</td>\n",
              "      <td id=\"T_2c391_row7_col3\" class=\"data row7 col3\" >40000</td>\n",
              "    </tr>\n",
              "    <tr>\n",
              "      <td id=\"T_2c391_row8_col0\" class=\"data row8 col0\" >Bacchan</td>\n",
              "      <td id=\"T_2c391_row8_col1\" class=\"data row8 col1\" >Executive</td>\n",
              "      <td id=\"T_2c391_row8_col2\" class=\"data row8 col2\" >50000</td>\n",
              "      <td id=\"T_2c391_row8_col3\" class=\"data row8 col3\" >50000</td>\n",
              "    </tr>\n",
              "    <tr>\n",
              "      <td id=\"T_2c391_row9_col0\" class=\"data row9 col0\" >Khan</td>\n",
              "      <td id=\"T_2c391_row9_col1\" class=\"data row9 col1\" >Manager</td>\n",
              "      <td id=\"T_2c391_row9_col2\" class=\"data row9 col2\" >30000</td>\n",
              "      <td id=\"T_2c391_row9_col3\" class=\"data row9 col3\" >27500</td>\n",
              "    </tr>\n",
              "    <tr>\n",
              "      <td id=\"T_2c391_row10_col0\" class=\"data row10 col0\" >Mukherjee</td>\n",
              "      <td id=\"T_2c391_row10_col1\" class=\"data row10 col1\" >Manager</td>\n",
              "      <td id=\"T_2c391_row10_col2\" class=\"data row10 col2\" >25000</td>\n",
              "      <td id=\"T_2c391_row10_col3\" class=\"data row10 col3\" >27500</td>\n",
              "    </tr>\n",
              "    <tr>\n",
              "      <td id=\"T_2c391_row11_col0\" class=\"data row11 col0\" >Karthikeyan</td>\n",
              "      <td id=\"T_2c391_row11_col1\" class=\"data row11 col1\" >Secretary</td>\n",
              "      <td id=\"T_2c391_row11_col2\" class=\"data row11 col2\" >40000</td>\n",
              "      <td id=\"T_2c391_row11_col3\" class=\"data row11 col3\" >40000</td>\n",
              "    </tr>\n",
              "    <tr>\n",
              "      <td id=\"T_2c391_row12_col0\" class=\"data row12 col0\" >Dravid</td>\n",
              "      <td id=\"T_2c391_row12_col1\" class=\"data row12 col1\" >Sr Manager</td>\n",
              "      <td id=\"T_2c391_row12_col2\" class=\"data row12 col2\" >40000</td>\n",
              "      <td id=\"T_2c391_row12_col3\" class=\"data row12 col3\" >40000</td>\n",
              "    </tr>\n",
              "  </tbody>\n",
              "</table>\n"
            ]
          },
          "metadata": {},
          "execution_count": 71
        }
      ]
    },
    {
      "cell_type": "markdown",
      "source": [
        "### CTE Recursion"
      ],
      "metadata": {
        "id": "d3j9PbgaADoB"
      }
    },
    {
      "cell_type": "code",
      "source": [
        "# recursion\n",
        "sql = \"\\\n",
        "with recursive hiring_chain as (\\\n",
        "select empid, lastname, hiredby \\\n",
        "    from empl where lastname = 'Ganesan' \\\n",
        "union all \\\n",
        "select \\\n",
        "e.empid, e.lastname,e.hiredby \\\n",
        "    from empl e \\\n",
        "    inner join hiring_chain hc on hc.empid = e.hiredby \\\n",
        ") \\\n",
        "select * from hiring_chain \\\n",
        "\"\n",
        "\n",
        "runSelect(sql)"
      ],
      "metadata": {
        "id": "HA-RyLoz0D3Z",
        "outputId": "da8a0315-67ac-4f16-cfca-ccaba1a63a6c",
        "colab": {
          "base_uri": "https://localhost:8080/",
          "height": 175
        }
      },
      "execution_count": 72,
      "outputs": [
        {
          "output_type": "execute_result",
          "data": {
            "text/plain": [
              "<pandas.io.formats.style.Styler at 0x79b3725095d0>"
            ],
            "text/html": [
              "<style type=\"text/css\">\n",
              "</style>\n",
              "<table id=\"T_2cd10\" class=\"dataframe\">\n",
              "  <thead>\n",
              "    <tr>\n",
              "      <th id=\"T_2cd10_level0_col0\" class=\"col_heading level0 col0\" >empid</th>\n",
              "      <th id=\"T_2cd10_level0_col1\" class=\"col_heading level0 col1\" >lastname</th>\n",
              "      <th id=\"T_2cd10_level0_col2\" class=\"col_heading level0 col2\" >hiredby</th>\n",
              "    </tr>\n",
              "  </thead>\n",
              "  <tbody>\n",
              "    <tr>\n",
              "      <td id=\"T_2cd10_row0_col0\" class=\"data row0 col0\" >299034</td>\n",
              "      <td id=\"T_2cd10_row0_col1\" class=\"data row0 col1\" >Ganesan</td>\n",
              "      <td id=\"T_2cd10_row0_col2\" class=\"data row0 col2\" >742866</td>\n",
              "    </tr>\n",
              "    <tr>\n",
              "      <td id=\"T_2cd10_row1_col0\" class=\"data row1 col0\" >989007</td>\n",
              "      <td id=\"T_2cd10_row1_col1\" class=\"data row1 col1\" >Ganguly</td>\n",
              "      <td id=\"T_2cd10_row1_col2\" class=\"data row1 col2\" >299034</td>\n",
              "    </tr>\n",
              "    <tr>\n",
              "      <td id=\"T_2cd10_row2_col0\" class=\"data row2 col0\" >546223</td>\n",
              "      <td id=\"T_2cd10_row2_col1\" class=\"data row2 col1\" >Karthikeyan</td>\n",
              "      <td id=\"T_2cd10_row2_col2\" class=\"data row2 col2\" >299034</td>\n",
              "    </tr>\n",
              "    <tr>\n",
              "      <td id=\"T_2cd10_row3_col0\" class=\"data row3 col0\" >546224</td>\n",
              "      <td id=\"T_2cd10_row3_col1\" class=\"data row3 col1\" >Sunil</td>\n",
              "      <td id=\"T_2cd10_row3_col2\" class=\"data row3 col2\" >989007</td>\n",
              "    </tr>\n",
              "  </tbody>\n",
              "</table>\n"
            ]
          },
          "metadata": {},
          "execution_count": 72
        }
      ]
    },
    {
      "cell_type": "code",
      "source": [
        "# recursion - with names\n",
        "sql = \"\\\n",
        "with recursive hiring_chain as (\\\n",
        "select empid, lastname, hiredby \\\n",
        "    from empl where lastname = 'Ganesan' \\\n",
        "union all \\\n",
        "select \\\n",
        "e.empid, e.lastname,e.hiredby \\\n",
        "    from empl e \\\n",
        "    inner join hiring_chain hc on hc.empid = e.hiredby \\\n",
        ") \\\n",
        "select hc.empid, hc.lastname, hc.hiredby, e2.lastname hiredby_lastname from hiring_chain hc, empl e2 \\\n",
        " where hc.hiredby = e2.empid \\\n",
        "\"\n",
        "\n",
        "runSelect(sql)"
      ],
      "metadata": {
        "id": "k5kPy4nZ7fSE",
        "outputId": "73fc1114-0cc5-440f-f16e-4bb713f88733",
        "colab": {
          "base_uri": "https://localhost:8080/",
          "height": 175
        }
      },
      "execution_count": 97,
      "outputs": [
        {
          "output_type": "execute_result",
          "data": {
            "text/plain": [
              "<pandas.io.formats.style.Styler at 0x79b37252eed0>"
            ],
            "text/html": [
              "<style type=\"text/css\">\n",
              "</style>\n",
              "<table id=\"T_0efc6\" class=\"dataframe\">\n",
              "  <thead>\n",
              "    <tr>\n",
              "      <th id=\"T_0efc6_level0_col0\" class=\"col_heading level0 col0\" >empid</th>\n",
              "      <th id=\"T_0efc6_level0_col1\" class=\"col_heading level0 col1\" >lastname</th>\n",
              "      <th id=\"T_0efc6_level0_col2\" class=\"col_heading level0 col2\" >hiredby</th>\n",
              "      <th id=\"T_0efc6_level0_col3\" class=\"col_heading level0 col3\" >hiredby_lastname</th>\n",
              "    </tr>\n",
              "  </thead>\n",
              "  <tbody>\n",
              "    <tr>\n",
              "      <td id=\"T_0efc6_row0_col0\" class=\"data row0 col0\" >299034</td>\n",
              "      <td id=\"T_0efc6_row0_col1\" class=\"data row0 col1\" >Ganesan</td>\n",
              "      <td id=\"T_0efc6_row0_col2\" class=\"data row0 col2\" >742866</td>\n",
              "      <td id=\"T_0efc6_row0_col3\" class=\"data row0 col3\" >Bacchan</td>\n",
              "    </tr>\n",
              "    <tr>\n",
              "      <td id=\"T_0efc6_row1_col0\" class=\"data row1 col0\" >546224</td>\n",
              "      <td id=\"T_0efc6_row1_col1\" class=\"data row1 col1\" >Sunil</td>\n",
              "      <td id=\"T_0efc6_row1_col2\" class=\"data row1 col2\" >989007</td>\n",
              "      <td id=\"T_0efc6_row1_col3\" class=\"data row1 col3\" >Ganguly</td>\n",
              "    </tr>\n",
              "    <tr>\n",
              "      <td id=\"T_0efc6_row2_col0\" class=\"data row2 col0\" >546223</td>\n",
              "      <td id=\"T_0efc6_row2_col1\" class=\"data row2 col1\" >Karthikeyan</td>\n",
              "      <td id=\"T_0efc6_row2_col2\" class=\"data row2 col2\" >299034</td>\n",
              "      <td id=\"T_0efc6_row2_col3\" class=\"data row2 col3\" >Ganesan</td>\n",
              "    </tr>\n",
              "    <tr>\n",
              "      <td id=\"T_0efc6_row3_col0\" class=\"data row3 col0\" >989007</td>\n",
              "      <td id=\"T_0efc6_row3_col1\" class=\"data row3 col1\" >Ganguly</td>\n",
              "      <td id=\"T_0efc6_row3_col2\" class=\"data row3 col2\" >299034</td>\n",
              "      <td id=\"T_0efc6_row3_col3\" class=\"data row3 col3\" >Ganesan</td>\n",
              "    </tr>\n",
              "  </tbody>\n",
              "</table>\n"
            ]
          },
          "metadata": {},
          "execution_count": 97
        }
      ]
    },
    {
      "cell_type": "markdown",
      "source": [
        "### More Sophisticated Recursion\n",
        "note the switch between upward chain and downward chain in the JOIN column <br>\n",
        "\n",
        "\n",
        "*   Downward > e.hiredby = hc.empid\n",
        "*   Upward   > e.empid = hc.hiredby\n",
        "\n",
        "Courtesy [ChatGPT](https://chat.openai.com/share/80e291a6-bbd2-42d8-ba3d-6e01be4eafd7)"
      ],
      "metadata": {
        "id": "a5zh-tdQAxJp"
      }
    },
    {
      "cell_type": "code",
      "source": [
        "# Downward Chain\n",
        "#\n",
        "sql = \"\\\n",
        "with recursive hiring_chain as (\\\n",
        "select empid, lastname, hiredby, 1 as level \\\n",
        "    from empl where hiredby = '299034' \\\n",
        "union all \\\n",
        "select \\\n",
        "e.empid, e.lastname,e.hiredby, hc.level+1 \\\n",
        "    from empl e \\\n",
        "    inner join hiring_chain hc on e.hiredby = hc.empid  \\\n",
        ") \\\n",
        "select * from hiring_chain \\\n",
        "\"\n",
        "\n",
        "runSelect(sql)"
      ],
      "metadata": {
        "id": "wEsTzZbxA9Y9",
        "outputId": "a11e7aa1-51b7-48d2-8f18-3c7780b040d6",
        "colab": {
          "base_uri": "https://localhost:8080/",
          "height": 143
        }
      },
      "execution_count": 73,
      "outputs": [
        {
          "output_type": "execute_result",
          "data": {
            "text/plain": [
              "<pandas.io.formats.style.Styler at 0x79b372508890>"
            ],
            "text/html": [
              "<style type=\"text/css\">\n",
              "</style>\n",
              "<table id=\"T_b1305\" class=\"dataframe\">\n",
              "  <thead>\n",
              "    <tr>\n",
              "      <th id=\"T_b1305_level0_col0\" class=\"col_heading level0 col0\" >empid</th>\n",
              "      <th id=\"T_b1305_level0_col1\" class=\"col_heading level0 col1\" >lastname</th>\n",
              "      <th id=\"T_b1305_level0_col2\" class=\"col_heading level0 col2\" >hiredby</th>\n",
              "      <th id=\"T_b1305_level0_col3\" class=\"col_heading level0 col3\" >level</th>\n",
              "    </tr>\n",
              "  </thead>\n",
              "  <tbody>\n",
              "    <tr>\n",
              "      <td id=\"T_b1305_row0_col0\" class=\"data row0 col0\" >989007</td>\n",
              "      <td id=\"T_b1305_row0_col1\" class=\"data row0 col1\" >Ganguly</td>\n",
              "      <td id=\"T_b1305_row0_col2\" class=\"data row0 col2\" >299034</td>\n",
              "      <td id=\"T_b1305_row0_col3\" class=\"data row0 col3\" >1</td>\n",
              "    </tr>\n",
              "    <tr>\n",
              "      <td id=\"T_b1305_row1_col0\" class=\"data row1 col0\" >546223</td>\n",
              "      <td id=\"T_b1305_row1_col1\" class=\"data row1 col1\" >Karthikeyan</td>\n",
              "      <td id=\"T_b1305_row1_col2\" class=\"data row1 col2\" >299034</td>\n",
              "      <td id=\"T_b1305_row1_col3\" class=\"data row1 col3\" >1</td>\n",
              "    </tr>\n",
              "    <tr>\n",
              "      <td id=\"T_b1305_row2_col0\" class=\"data row2 col0\" >546224</td>\n",
              "      <td id=\"T_b1305_row2_col1\" class=\"data row2 col1\" >Sunil</td>\n",
              "      <td id=\"T_b1305_row2_col2\" class=\"data row2 col2\" >989007</td>\n",
              "      <td id=\"T_b1305_row2_col3\" class=\"data row2 col3\" >2</td>\n",
              "    </tr>\n",
              "  </tbody>\n",
              "</table>\n"
            ]
          },
          "metadata": {},
          "execution_count": 73
        }
      ]
    },
    {
      "cell_type": "code",
      "source": [
        "# Downward Chain - Style 2\n",
        "#\n",
        "sql = \"\\\n",
        "with recursive hiring_chain as (\\\n",
        "select empid, lastname, hiredby, 1 as level \\\n",
        "    from empl where hiredby = (select empid from empl where lastname = 'Ganesan') \\\n",
        "union all \\\n",
        "select \\\n",
        "e.empid, e.lastname,e.hiredby, hc.level+1 \\\n",
        "    from empl e \\\n",
        "    inner join hiring_chain hc on e.hiredby = hc.empid  \\\n",
        ") \\\n",
        "select * from hiring_chain \\\n",
        "\"\n",
        "\n",
        "runSelect(sql)"
      ],
      "metadata": {
        "id": "jKvfW2HiQF5O",
        "outputId": "ac85d54b-f07b-4875-e927-af422308ff75",
        "colab": {
          "base_uri": "https://localhost:8080/",
          "height": 143
        }
      },
      "execution_count": 74,
      "outputs": [
        {
          "output_type": "execute_result",
          "data": {
            "text/plain": [
              "<pandas.io.formats.style.Styler at 0x79b372509610>"
            ],
            "text/html": [
              "<style type=\"text/css\">\n",
              "</style>\n",
              "<table id=\"T_f5347\" class=\"dataframe\">\n",
              "  <thead>\n",
              "    <tr>\n",
              "      <th id=\"T_f5347_level0_col0\" class=\"col_heading level0 col0\" >empid</th>\n",
              "      <th id=\"T_f5347_level0_col1\" class=\"col_heading level0 col1\" >lastname</th>\n",
              "      <th id=\"T_f5347_level0_col2\" class=\"col_heading level0 col2\" >hiredby</th>\n",
              "      <th id=\"T_f5347_level0_col3\" class=\"col_heading level0 col3\" >level</th>\n",
              "    </tr>\n",
              "  </thead>\n",
              "  <tbody>\n",
              "    <tr>\n",
              "      <td id=\"T_f5347_row0_col0\" class=\"data row0 col0\" >989007</td>\n",
              "      <td id=\"T_f5347_row0_col1\" class=\"data row0 col1\" >Ganguly</td>\n",
              "      <td id=\"T_f5347_row0_col2\" class=\"data row0 col2\" >299034</td>\n",
              "      <td id=\"T_f5347_row0_col3\" class=\"data row0 col3\" >1</td>\n",
              "    </tr>\n",
              "    <tr>\n",
              "      <td id=\"T_f5347_row1_col0\" class=\"data row1 col0\" >546223</td>\n",
              "      <td id=\"T_f5347_row1_col1\" class=\"data row1 col1\" >Karthikeyan</td>\n",
              "      <td id=\"T_f5347_row1_col2\" class=\"data row1 col2\" >299034</td>\n",
              "      <td id=\"T_f5347_row1_col3\" class=\"data row1 col3\" >1</td>\n",
              "    </tr>\n",
              "    <tr>\n",
              "      <td id=\"T_f5347_row2_col0\" class=\"data row2 col0\" >546224</td>\n",
              "      <td id=\"T_f5347_row2_col1\" class=\"data row2 col1\" >Sunil</td>\n",
              "      <td id=\"T_f5347_row2_col2\" class=\"data row2 col2\" >989007</td>\n",
              "      <td id=\"T_f5347_row2_col3\" class=\"data row2 col3\" >2</td>\n",
              "    </tr>\n",
              "  </tbody>\n",
              "</table>\n"
            ]
          },
          "metadata": {},
          "execution_count": 74
        }
      ]
    },
    {
      "cell_type": "code",
      "source": [
        "# Upward Chain\n",
        "#\n",
        "sql = \"\\\n",
        "with recursive hiring_chain as (\\\n",
        "select empid, lastname, hiredby, 1 as level \\\n",
        "    from empl where lastname = 'Ganesan' \\\n",
        "union all \\\n",
        "select \\\n",
        "e.empid, e.lastname,e.hiredby, hc.level+1 \\\n",
        "    from empl e \\\n",
        "    inner join hiring_chain hc on e.empid = hc.hiredby  \\\n",
        ") \\\n",
        "select * from hiring_chain \\\n",
        "\"\n",
        "\n",
        "runSelect(sql)"
      ],
      "metadata": {
        "id": "ZtH1410DCaOT",
        "outputId": "950ec2c5-6b47-448f-c672-97b1b2bdcb21",
        "colab": {
          "base_uri": "https://localhost:8080/",
          "height": 112
        }
      },
      "execution_count": 75,
      "outputs": [
        {
          "output_type": "execute_result",
          "data": {
            "text/plain": [
              "<pandas.io.formats.style.Styler at 0x79b3724f9550>"
            ],
            "text/html": [
              "<style type=\"text/css\">\n",
              "</style>\n",
              "<table id=\"T_c4b48\" class=\"dataframe\">\n",
              "  <thead>\n",
              "    <tr>\n",
              "      <th id=\"T_c4b48_level0_col0\" class=\"col_heading level0 col0\" >empid</th>\n",
              "      <th id=\"T_c4b48_level0_col1\" class=\"col_heading level0 col1\" >lastname</th>\n",
              "      <th id=\"T_c4b48_level0_col2\" class=\"col_heading level0 col2\" >hiredby</th>\n",
              "      <th id=\"T_c4b48_level0_col3\" class=\"col_heading level0 col3\" >level</th>\n",
              "    </tr>\n",
              "  </thead>\n",
              "  <tbody>\n",
              "    <tr>\n",
              "      <td id=\"T_c4b48_row0_col0\" class=\"data row0 col0\" >299034</td>\n",
              "      <td id=\"T_c4b48_row0_col1\" class=\"data row0 col1\" >Ganesan</td>\n",
              "      <td id=\"T_c4b48_row0_col2\" class=\"data row0 col2\" >742866</td>\n",
              "      <td id=\"T_c4b48_row0_col3\" class=\"data row0 col3\" >1</td>\n",
              "    </tr>\n",
              "    <tr>\n",
              "      <td id=\"T_c4b48_row1_col0\" class=\"data row1 col0\" >742866</td>\n",
              "      <td id=\"T_c4b48_row1_col1\" class=\"data row1 col1\" >Bacchan</td>\n",
              "      <td id=\"T_c4b48_row1_col2\" class=\"data row1 col2\" >None</td>\n",
              "      <td id=\"T_c4b48_row1_col3\" class=\"data row1 col3\" >2</td>\n",
              "    </tr>\n",
              "  </tbody>\n",
              "</table>\n"
            ]
          },
          "metadata": {},
          "execution_count": 75
        }
      ]
    },
    {
      "cell_type": "code",
      "source": [
        "# Upward Chain\n",
        "#\n",
        "sql = \"\\\n",
        "with recursive hiring_chain as (\\\n",
        "select empid, lastname, hiredby, 1 as level \\\n",
        "    from empl where lastname = 'Sunil' \\\n",
        "union all \\\n",
        "select \\\n",
        "e.empid, e.lastname,e.hiredby, hc.level+1 \\\n",
        "    from empl e \\\n",
        "    inner join hiring_chain hc on e.empid = hc.hiredby  \\\n",
        ") \\\n",
        "select * from hiring_chain \\\n",
        "\"\n",
        "\n",
        "runSelect(sql)"
      ],
      "metadata": {
        "id": "ZmBHyLXbPMQF",
        "outputId": "3fe88174-b300-42b8-8ef8-9e959535aa87",
        "colab": {
          "base_uri": "https://localhost:8080/",
          "height": 175
        }
      },
      "execution_count": 76,
      "outputs": [
        {
          "output_type": "execute_result",
          "data": {
            "text/plain": [
              "<pandas.io.formats.style.Styler at 0x79b372519550>"
            ],
            "text/html": [
              "<style type=\"text/css\">\n",
              "</style>\n",
              "<table id=\"T_c77c9\" class=\"dataframe\">\n",
              "  <thead>\n",
              "    <tr>\n",
              "      <th id=\"T_c77c9_level0_col0\" class=\"col_heading level0 col0\" >empid</th>\n",
              "      <th id=\"T_c77c9_level0_col1\" class=\"col_heading level0 col1\" >lastname</th>\n",
              "      <th id=\"T_c77c9_level0_col2\" class=\"col_heading level0 col2\" >hiredby</th>\n",
              "      <th id=\"T_c77c9_level0_col3\" class=\"col_heading level0 col3\" >level</th>\n",
              "    </tr>\n",
              "  </thead>\n",
              "  <tbody>\n",
              "    <tr>\n",
              "      <td id=\"T_c77c9_row0_col0\" class=\"data row0 col0\" >546224</td>\n",
              "      <td id=\"T_c77c9_row0_col1\" class=\"data row0 col1\" >Sunil</td>\n",
              "      <td id=\"T_c77c9_row0_col2\" class=\"data row0 col2\" >989007</td>\n",
              "      <td id=\"T_c77c9_row0_col3\" class=\"data row0 col3\" >1</td>\n",
              "    </tr>\n",
              "    <tr>\n",
              "      <td id=\"T_c77c9_row1_col0\" class=\"data row1 col0\" >989007</td>\n",
              "      <td id=\"T_c77c9_row1_col1\" class=\"data row1 col1\" >Ganguly</td>\n",
              "      <td id=\"T_c77c9_row1_col2\" class=\"data row1 col2\" >299034</td>\n",
              "      <td id=\"T_c77c9_row1_col3\" class=\"data row1 col3\" >2</td>\n",
              "    </tr>\n",
              "    <tr>\n",
              "      <td id=\"T_c77c9_row2_col0\" class=\"data row2 col0\" >299034</td>\n",
              "      <td id=\"T_c77c9_row2_col1\" class=\"data row2 col1\" >Ganesan</td>\n",
              "      <td id=\"T_c77c9_row2_col2\" class=\"data row2 col2\" >742866</td>\n",
              "      <td id=\"T_c77c9_row2_col3\" class=\"data row2 col3\" >3</td>\n",
              "    </tr>\n",
              "    <tr>\n",
              "      <td id=\"T_c77c9_row3_col0\" class=\"data row3 col0\" >742866</td>\n",
              "      <td id=\"T_c77c9_row3_col1\" class=\"data row3 col1\" >Bacchan</td>\n",
              "      <td id=\"T_c77c9_row3_col2\" class=\"data row3 col2\" >None</td>\n",
              "      <td id=\"T_c77c9_row3_col3\" class=\"data row3 col3\" >4</td>\n",
              "    </tr>\n",
              "  </tbody>\n",
              "</table>\n"
            ]
          },
          "metadata": {},
          "execution_count": 76
        }
      ]
    },
    {
      "cell_type": "code",
      "source": [
        "# Upward Chain\n",
        "#\n",
        "sql = \"\\\n",
        "with recursive hiring_chain as (\\\n",
        "select empid, lastname, hiredby, 1 as level \\\n",
        "    from empl where lastname = 'Sunil' \\\n",
        "union all \\\n",
        "select \\\n",
        "e.empid, e.lastname,e.hiredby, hc.level+1 \\\n",
        "    from empl e \\\n",
        "    inner join hiring_chain hc on e.empid = hc.hiredby  \\\n",
        ") \\\n",
        "select hc.empid, hc.lastname, hc.hiredby,hc.level, e2.lastname from hiring_chain hc, empl e2 \\\n",
        "where hc.hiredby = e2.empid \\\n",
        "order by level \\\n",
        "\"\n",
        "\n",
        "runSelect(sql)"
      ],
      "metadata": {
        "id": "oyl6nFOd9mIr",
        "outputId": "4e2442e6-871c-488c-beca-83f5164eaaaa",
        "colab": {
          "base_uri": "https://localhost:8080/",
          "height": 143
        }
      },
      "execution_count": 106,
      "outputs": [
        {
          "output_type": "execute_result",
          "data": {
            "text/plain": [
              "<pandas.io.formats.style.Styler at 0x79b37254af50>"
            ],
            "text/html": [
              "<style type=\"text/css\">\n",
              "</style>\n",
              "<table id=\"T_85b7d\" class=\"dataframe\">\n",
              "  <thead>\n",
              "    <tr>\n",
              "      <th id=\"T_85b7d_level0_col0\" class=\"col_heading level0 col0\" >empid</th>\n",
              "      <th id=\"T_85b7d_level0_col1\" class=\"col_heading level0 col1\" >lastname</th>\n",
              "      <th id=\"T_85b7d_level0_col2\" class=\"col_heading level0 col2\" >hiredby</th>\n",
              "      <th id=\"T_85b7d_level0_col3\" class=\"col_heading level0 col3\" >level</th>\n",
              "      <th id=\"T_85b7d_level0_col4\" class=\"col_heading level0 col4\" >lastname</th>\n",
              "    </tr>\n",
              "  </thead>\n",
              "  <tbody>\n",
              "    <tr>\n",
              "      <td id=\"T_85b7d_row0_col0\" class=\"data row0 col0\" >546224</td>\n",
              "      <td id=\"T_85b7d_row0_col1\" class=\"data row0 col1\" >Sunil</td>\n",
              "      <td id=\"T_85b7d_row0_col2\" class=\"data row0 col2\" >989007</td>\n",
              "      <td id=\"T_85b7d_row0_col3\" class=\"data row0 col3\" >1</td>\n",
              "      <td id=\"T_85b7d_row0_col4\" class=\"data row0 col4\" >Ganguly</td>\n",
              "    </tr>\n",
              "    <tr>\n",
              "      <td id=\"T_85b7d_row1_col0\" class=\"data row1 col0\" >989007</td>\n",
              "      <td id=\"T_85b7d_row1_col1\" class=\"data row1 col1\" >Ganguly</td>\n",
              "      <td id=\"T_85b7d_row1_col2\" class=\"data row1 col2\" >299034</td>\n",
              "      <td id=\"T_85b7d_row1_col3\" class=\"data row1 col3\" >2</td>\n",
              "      <td id=\"T_85b7d_row1_col4\" class=\"data row1 col4\" >Ganesan</td>\n",
              "    </tr>\n",
              "    <tr>\n",
              "      <td id=\"T_85b7d_row2_col0\" class=\"data row2 col0\" >299034</td>\n",
              "      <td id=\"T_85b7d_row2_col1\" class=\"data row2 col1\" >Ganesan</td>\n",
              "      <td id=\"T_85b7d_row2_col2\" class=\"data row2 col2\" >742866</td>\n",
              "      <td id=\"T_85b7d_row2_col3\" class=\"data row2 col3\" >3</td>\n",
              "      <td id=\"T_85b7d_row2_col4\" class=\"data row2 col4\" >Bacchan</td>\n",
              "    </tr>\n",
              "  </tbody>\n",
              "</table>\n"
            ]
          },
          "metadata": {},
          "execution_count": 106
        }
      ]
    },
    {
      "cell_type": "code",
      "source": [
        "# Upward Chain\n",
        "#\n",
        "sql = \"\\\n",
        "with recursive hiring_chain as (\\\n",
        "select empid, lastname, hiredby, 1 as level \\\n",
        "    from empl where lastname = 'Sunil' \\\n",
        "union all \\\n",
        "select \\\n",
        "e.empid, e.lastname,e.hiredby, hc.level+1 \\\n",
        "    from empl e \\\n",
        "    inner join hiring_chain hc on e.empid = hc.hiredby  \\\n",
        ") \\\n",
        "select hc.empid, hc.lastname, hc.hiredby,hc.level, e2.lastname from hiring_chain hc left join empl e2 \\\n",
        "on hc.hiredby = e2.empid \\\n",
        "order by level \\\n",
        "\"\n",
        "\n",
        "runSelect(sql)"
      ],
      "metadata": {
        "id": "4bvKHitD_kOu",
        "outputId": "063267e8-f70a-4ae2-a0ab-8c78e6c8ce04",
        "colab": {
          "base_uri": "https://localhost:8080/",
          "height": 175
        }
      },
      "execution_count": 108,
      "outputs": [
        {
          "output_type": "execute_result",
          "data": {
            "text/plain": [
              "<pandas.io.formats.style.Styler at 0x79b37254a650>"
            ],
            "text/html": [
              "<style type=\"text/css\">\n",
              "</style>\n",
              "<table id=\"T_5ceaf\" class=\"dataframe\">\n",
              "  <thead>\n",
              "    <tr>\n",
              "      <th id=\"T_5ceaf_level0_col0\" class=\"col_heading level0 col0\" >empid</th>\n",
              "      <th id=\"T_5ceaf_level0_col1\" class=\"col_heading level0 col1\" >lastname</th>\n",
              "      <th id=\"T_5ceaf_level0_col2\" class=\"col_heading level0 col2\" >hiredby</th>\n",
              "      <th id=\"T_5ceaf_level0_col3\" class=\"col_heading level0 col3\" >level</th>\n",
              "      <th id=\"T_5ceaf_level0_col4\" class=\"col_heading level0 col4\" >lastname</th>\n",
              "    </tr>\n",
              "  </thead>\n",
              "  <tbody>\n",
              "    <tr>\n",
              "      <td id=\"T_5ceaf_row0_col0\" class=\"data row0 col0\" >546224</td>\n",
              "      <td id=\"T_5ceaf_row0_col1\" class=\"data row0 col1\" >Sunil</td>\n",
              "      <td id=\"T_5ceaf_row0_col2\" class=\"data row0 col2\" >989007</td>\n",
              "      <td id=\"T_5ceaf_row0_col3\" class=\"data row0 col3\" >1</td>\n",
              "      <td id=\"T_5ceaf_row0_col4\" class=\"data row0 col4\" >Ganguly</td>\n",
              "    </tr>\n",
              "    <tr>\n",
              "      <td id=\"T_5ceaf_row1_col0\" class=\"data row1 col0\" >989007</td>\n",
              "      <td id=\"T_5ceaf_row1_col1\" class=\"data row1 col1\" >Ganguly</td>\n",
              "      <td id=\"T_5ceaf_row1_col2\" class=\"data row1 col2\" >299034</td>\n",
              "      <td id=\"T_5ceaf_row1_col3\" class=\"data row1 col3\" >2</td>\n",
              "      <td id=\"T_5ceaf_row1_col4\" class=\"data row1 col4\" >Ganesan</td>\n",
              "    </tr>\n",
              "    <tr>\n",
              "      <td id=\"T_5ceaf_row2_col0\" class=\"data row2 col0\" >299034</td>\n",
              "      <td id=\"T_5ceaf_row2_col1\" class=\"data row2 col1\" >Ganesan</td>\n",
              "      <td id=\"T_5ceaf_row2_col2\" class=\"data row2 col2\" >742866</td>\n",
              "      <td id=\"T_5ceaf_row2_col3\" class=\"data row2 col3\" >3</td>\n",
              "      <td id=\"T_5ceaf_row2_col4\" class=\"data row2 col4\" >Bacchan</td>\n",
              "    </tr>\n",
              "    <tr>\n",
              "      <td id=\"T_5ceaf_row3_col0\" class=\"data row3 col0\" >742866</td>\n",
              "      <td id=\"T_5ceaf_row3_col1\" class=\"data row3 col1\" >Bacchan</td>\n",
              "      <td id=\"T_5ceaf_row3_col2\" class=\"data row3 col2\" >None</td>\n",
              "      <td id=\"T_5ceaf_row3_col3\" class=\"data row3 col3\" >4</td>\n",
              "      <td id=\"T_5ceaf_row3_col4\" class=\"data row3 col4\" >None</td>\n",
              "    </tr>\n",
              "  </tbody>\n",
              "</table>\n"
            ]
          },
          "metadata": {},
          "execution_count": 108
        }
      ]
    },
    {
      "cell_type": "markdown",
      "source": [
        "#Window Functions"
      ],
      "metadata": {
        "id": "p1v2XtGa1QOq"
      }
    },
    {
      "cell_type": "code",
      "source": [
        "sql = \"select deptid, lastname, salary, \\\n",
        "    avg(salary) over (partition by deptid) \\\n",
        "    from empl\"\n",
        "runSelect(sql)"
      ],
      "metadata": {
        "colab": {
          "base_uri": "https://localhost:8080/",
          "height": 457
        },
        "id": "ffpu5hXo1TfJ",
        "outputId": "de83de90-2286-4e7c-dab3-3dd70e6c644b"
      },
      "execution_count": 77,
      "outputs": [
        {
          "output_type": "execute_result",
          "data": {
            "text/plain": [
              "<pandas.io.formats.style.Styler at 0x79b37251a010>"
            ],
            "text/html": [
              "<style type=\"text/css\">\n",
              "</style>\n",
              "<table id=\"T_4e83b\" class=\"dataframe\">\n",
              "  <thead>\n",
              "    <tr>\n",
              "      <th id=\"T_4e83b_level0_col0\" class=\"col_heading level0 col0\" >deptid</th>\n",
              "      <th id=\"T_4e83b_level0_col1\" class=\"col_heading level0 col1\" >lastname</th>\n",
              "      <th id=\"T_4e83b_level0_col2\" class=\"col_heading level0 col2\" >salary</th>\n",
              "      <th id=\"T_4e83b_level0_col3\" class=\"col_heading level0 col3\" >avg</th>\n",
              "    </tr>\n",
              "  </thead>\n",
              "  <tbody>\n",
              "    <tr>\n",
              "      <td id=\"T_4e83b_row0_col0\" class=\"data row0 col0\" >10</td>\n",
              "      <td id=\"T_4e83b_row0_col1\" class=\"data row0 col1\" >Bacchan</td>\n",
              "      <td id=\"T_4e83b_row0_col2\" class=\"data row0 col2\" >50000</td>\n",
              "      <td id=\"T_4e83b_row0_col3\" class=\"data row0 col3\" >50000.000000000000</td>\n",
              "    </tr>\n",
              "    <tr>\n",
              "      <td id=\"T_4e83b_row1_col0\" class=\"data row1 col0\" >10</td>\n",
              "      <td id=\"T_4e83b_row1_col1\" class=\"data row1 col1\" >Ganesan</td>\n",
              "      <td id=\"T_4e83b_row1_col2\" class=\"data row1 col2\" >60000</td>\n",
              "      <td id=\"T_4e83b_row1_col3\" class=\"data row1 col3\" >50000.000000000000</td>\n",
              "    </tr>\n",
              "    <tr>\n",
              "      <td id=\"T_4e83b_row2_col0\" class=\"data row2 col0\" >10</td>\n",
              "      <td id=\"T_4e83b_row2_col1\" class=\"data row2 col1\" >Karthikeyan</td>\n",
              "      <td id=\"T_4e83b_row2_col2\" class=\"data row2 col2\" >40000</td>\n",
              "      <td id=\"T_4e83b_row2_col3\" class=\"data row2 col3\" >50000.000000000000</td>\n",
              "    </tr>\n",
              "    <tr>\n",
              "      <td id=\"T_4e83b_row3_col0\" class=\"data row3 col0\" >20</td>\n",
              "      <td id=\"T_4e83b_row3_col1\" class=\"data row3 col1\" >Dikshit</td>\n",
              "      <td id=\"T_4e83b_row3_col2\" class=\"data row3 col2\" >10000</td>\n",
              "      <td id=\"T_4e83b_row3_col3\" class=\"data row3 col3\" >18333.333333333333</td>\n",
              "    </tr>\n",
              "    <tr>\n",
              "      <td id=\"T_4e83b_row4_col0\" class=\"data row4 col0\" >20</td>\n",
              "      <td id=\"T_4e83b_row4_col1\" class=\"data row4 col1\" >Khan</td>\n",
              "      <td id=\"T_4e83b_row4_col2\" class=\"data row4 col2\" >30000</td>\n",
              "      <td id=\"T_4e83b_row4_col3\" class=\"data row4 col3\" >18333.333333333333</td>\n",
              "    </tr>\n",
              "    <tr>\n",
              "      <td id=\"T_4e83b_row5_col0\" class=\"data row5 col0\" >20</td>\n",
              "      <td id=\"T_4e83b_row5_col1\" class=\"data row5 col1\" >Sehwag</td>\n",
              "      <td id=\"T_4e83b_row5_col2\" class=\"data row5 col2\" >15000</td>\n",
              "      <td id=\"T_4e83b_row5_col3\" class=\"data row5 col3\" >18333.333333333333</td>\n",
              "    </tr>\n",
              "    <tr>\n",
              "      <td id=\"T_4e83b_row6_col0\" class=\"data row6 col0\" >30</td>\n",
              "      <td id=\"T_4e83b_row6_col1\" class=\"data row6 col1\" >Mirza</td>\n",
              "      <td id=\"T_4e83b_row6_col2\" class=\"data row6 col2\" >25000</td>\n",
              "      <td id=\"T_4e83b_row6_col3\" class=\"data row6 col3\" >25666.666666666667</td>\n",
              "    </tr>\n",
              "    <tr>\n",
              "      <td id=\"T_4e83b_row7_col0\" class=\"data row7 col0\" >30</td>\n",
              "      <td id=\"T_4e83b_row7_col1\" class=\"data row7 col1\" >Dravid</td>\n",
              "      <td id=\"T_4e83b_row7_col2\" class=\"data row7 col2\" >40000</td>\n",
              "      <td id=\"T_4e83b_row7_col3\" class=\"data row7 col3\" >25666.666666666667</td>\n",
              "    </tr>\n",
              "    <tr>\n",
              "      <td id=\"T_4e83b_row8_col0\" class=\"data row8 col0\" >30</td>\n",
              "      <td id=\"T_4e83b_row8_col1\" class=\"data row8 col1\" >Dalmia</td>\n",
              "      <td id=\"T_4e83b_row8_col2\" class=\"data row8 col2\" >12000</td>\n",
              "      <td id=\"T_4e83b_row8_col3\" class=\"data row8 col3\" >25666.666666666667</td>\n",
              "    </tr>\n",
              "    <tr>\n",
              "      <td id=\"T_4e83b_row9_col0\" class=\"data row9 col0\" >40</td>\n",
              "      <td id=\"T_4e83b_row9_col1\" class=\"data row9 col1\" >Ganguly</td>\n",
              "      <td id=\"T_4e83b_row9_col2\" class=\"data row9 col2\" >20000</td>\n",
              "      <td id=\"T_4e83b_row9_col3\" class=\"data row9 col3\" >18000.000000000000</td>\n",
              "    </tr>\n",
              "    <tr>\n",
              "      <td id=\"T_4e83b_row10_col0\" class=\"data row10 col0\" >40</td>\n",
              "      <td id=\"T_4e83b_row10_col1\" class=\"data row10 col1\" >Dhoni</td>\n",
              "      <td id=\"T_4e83b_row10_col2\" class=\"data row10 col2\" >9000</td>\n",
              "      <td id=\"T_4e83b_row10_col3\" class=\"data row10 col3\" >18000.000000000000</td>\n",
              "    </tr>\n",
              "    <tr>\n",
              "      <td id=\"T_4e83b_row11_col0\" class=\"data row11 col0\" >40</td>\n",
              "      <td id=\"T_4e83b_row11_col1\" class=\"data row11 col1\" >Mukherjee</td>\n",
              "      <td id=\"T_4e83b_row11_col2\" class=\"data row11 col2\" >25000</td>\n",
              "      <td id=\"T_4e83b_row11_col3\" class=\"data row11 col3\" >18000.000000000000</td>\n",
              "    </tr>\n",
              "    <tr>\n",
              "      <td id=\"T_4e83b_row12_col0\" class=\"data row12 col0\" >70</td>\n",
              "      <td id=\"T_4e83b_row12_col1\" class=\"data row12 col1\" >Sunil</td>\n",
              "      <td id=\"T_4e83b_row12_col2\" class=\"data row12 col2\" >40000</td>\n",
              "      <td id=\"T_4e83b_row12_col3\" class=\"data row12 col3\" >40000.000000000000</td>\n",
              "    </tr>\n",
              "  </tbody>\n",
              "</table>\n"
            ]
          },
          "metadata": {},
          "execution_count": 77
        }
      ]
    },
    {
      "cell_type": "code",
      "source": [
        "sql = \"select deptid,jobdesc, lastname, salary, \\\n",
        "    round(avg(salary) over (partition by jobdesc),2) as avg_salary \\\n",
        "    from empl\"\n",
        "runSelect(sql)"
      ],
      "metadata": {
        "id": "EwZ68eWL_GMl",
        "outputId": "6a8d8e66-882d-4c31-8c93-87c8af4b5281",
        "colab": {
          "base_uri": "https://localhost:8080/",
          "height": 457
        }
      },
      "execution_count": 78,
      "outputs": [
        {
          "output_type": "execute_result",
          "data": {
            "text/plain": [
              "<pandas.io.formats.style.Styler at 0x79b372519ed0>"
            ],
            "text/html": [
              "<style type=\"text/css\">\n",
              "</style>\n",
              "<table id=\"T_7643a\" class=\"dataframe\">\n",
              "  <thead>\n",
              "    <tr>\n",
              "      <th id=\"T_7643a_level0_col0\" class=\"col_heading level0 col0\" >deptid</th>\n",
              "      <th id=\"T_7643a_level0_col1\" class=\"col_heading level0 col1\" >jobdesc</th>\n",
              "      <th id=\"T_7643a_level0_col2\" class=\"col_heading level0 col2\" >lastname</th>\n",
              "      <th id=\"T_7643a_level0_col3\" class=\"col_heading level0 col3\" >salary</th>\n",
              "      <th id=\"T_7643a_level0_col4\" class=\"col_heading level0 col4\" >avg_salary</th>\n",
              "    </tr>\n",
              "  </thead>\n",
              "  <tbody>\n",
              "    <tr>\n",
              "      <td id=\"T_7643a_row0_col0\" class=\"data row0 col0\" >30</td>\n",
              "      <td id=\"T_7643a_row0_col1\" class=\"data row0 col1\" >Clerk</td>\n",
              "      <td id=\"T_7643a_row0_col2\" class=\"data row0 col2\" >Dalmia</td>\n",
              "      <td id=\"T_7643a_row0_col3\" class=\"data row0 col3\" >12000</td>\n",
              "      <td id=\"T_7643a_row0_col4\" class=\"data row0 col4\" >10333.33</td>\n",
              "    </tr>\n",
              "    <tr>\n",
              "      <td id=\"T_7643a_row1_col0\" class=\"data row1 col0\" >20</td>\n",
              "      <td id=\"T_7643a_row1_col1\" class=\"data row1 col1\" >Clerk</td>\n",
              "      <td id=\"T_7643a_row1_col2\" class=\"data row1 col2\" >Dikshit</td>\n",
              "      <td id=\"T_7643a_row1_col3\" class=\"data row1 col3\" >10000</td>\n",
              "      <td id=\"T_7643a_row1_col4\" class=\"data row1 col4\" >10333.33</td>\n",
              "    </tr>\n",
              "    <tr>\n",
              "      <td id=\"T_7643a_row2_col0\" class=\"data row2 col0\" >40</td>\n",
              "      <td id=\"T_7643a_row2_col1\" class=\"data row2 col1\" >Clerk</td>\n",
              "      <td id=\"T_7643a_row2_col2\" class=\"data row2 col2\" >Dhoni</td>\n",
              "      <td id=\"T_7643a_row2_col3\" class=\"data row2 col3\" >9000</td>\n",
              "      <td id=\"T_7643a_row2_col4\" class=\"data row2 col4\" >10333.33</td>\n",
              "    </tr>\n",
              "    <tr>\n",
              "      <td id=\"T_7643a_row3_col0\" class=\"data row3 col0\" >20</td>\n",
              "      <td id=\"T_7643a_row3_col1\" class=\"data row3 col1\" >Cus_Rep</td>\n",
              "      <td id=\"T_7643a_row3_col2\" class=\"data row3 col2\" >Sehwag</td>\n",
              "      <td id=\"T_7643a_row3_col3\" class=\"data row3 col3\" >15000</td>\n",
              "      <td id=\"T_7643a_row3_col4\" class=\"data row3 col4\" >20000.00</td>\n",
              "    </tr>\n",
              "    <tr>\n",
              "      <td id=\"T_7643a_row4_col0\" class=\"data row4 col0\" >30</td>\n",
              "      <td id=\"T_7643a_row4_col1\" class=\"data row4 col1\" >Cus_Rep</td>\n",
              "      <td id=\"T_7643a_row4_col2\" class=\"data row4 col2\" >Mirza</td>\n",
              "      <td id=\"T_7643a_row4_col3\" class=\"data row4 col3\" >25000</td>\n",
              "      <td id=\"T_7643a_row4_col4\" class=\"data row4 col4\" >20000.00</td>\n",
              "    </tr>\n",
              "    <tr>\n",
              "      <td id=\"T_7643a_row5_col0\" class=\"data row5 col0\" >40</td>\n",
              "      <td id=\"T_7643a_row5_col1\" class=\"data row5 col1\" >Cus_Rep</td>\n",
              "      <td id=\"T_7643a_row5_col2\" class=\"data row5 col2\" >Ganguly</td>\n",
              "      <td id=\"T_7643a_row5_col3\" class=\"data row5 col3\" >20000</td>\n",
              "      <td id=\"T_7643a_row5_col4\" class=\"data row5 col4\" >20000.00</td>\n",
              "    </tr>\n",
              "    <tr>\n",
              "      <td id=\"T_7643a_row6_col0\" class=\"data row6 col0\" >10</td>\n",
              "      <td id=\"T_7643a_row6_col1\" class=\"data row6 col1\" >Director</td>\n",
              "      <td id=\"T_7643a_row6_col2\" class=\"data row6 col2\" >Ganesan</td>\n",
              "      <td id=\"T_7643a_row6_col3\" class=\"data row6 col3\" >60000</td>\n",
              "      <td id=\"T_7643a_row6_col4\" class=\"data row6 col4\" >60000.00</td>\n",
              "    </tr>\n",
              "    <tr>\n",
              "      <td id=\"T_7643a_row7_col0\" class=\"data row7 col0\" >70</td>\n",
              "      <td id=\"T_7643a_row7_col1\" class=\"data row7 col1\" >Dy Manager</td>\n",
              "      <td id=\"T_7643a_row7_col2\" class=\"data row7 col2\" >Sunil</td>\n",
              "      <td id=\"T_7643a_row7_col3\" class=\"data row7 col3\" >40000</td>\n",
              "      <td id=\"T_7643a_row7_col4\" class=\"data row7 col4\" >40000.00</td>\n",
              "    </tr>\n",
              "    <tr>\n",
              "      <td id=\"T_7643a_row8_col0\" class=\"data row8 col0\" >10</td>\n",
              "      <td id=\"T_7643a_row8_col1\" class=\"data row8 col1\" >Executive</td>\n",
              "      <td id=\"T_7643a_row8_col2\" class=\"data row8 col2\" >Bacchan</td>\n",
              "      <td id=\"T_7643a_row8_col3\" class=\"data row8 col3\" >50000</td>\n",
              "      <td id=\"T_7643a_row8_col4\" class=\"data row8 col4\" >50000.00</td>\n",
              "    </tr>\n",
              "    <tr>\n",
              "      <td id=\"T_7643a_row9_col0\" class=\"data row9 col0\" >20</td>\n",
              "      <td id=\"T_7643a_row9_col1\" class=\"data row9 col1\" >Manager</td>\n",
              "      <td id=\"T_7643a_row9_col2\" class=\"data row9 col2\" >Khan</td>\n",
              "      <td id=\"T_7643a_row9_col3\" class=\"data row9 col3\" >30000</td>\n",
              "      <td id=\"T_7643a_row9_col4\" class=\"data row9 col4\" >27500.00</td>\n",
              "    </tr>\n",
              "    <tr>\n",
              "      <td id=\"T_7643a_row10_col0\" class=\"data row10 col0\" >40</td>\n",
              "      <td id=\"T_7643a_row10_col1\" class=\"data row10 col1\" >Manager</td>\n",
              "      <td id=\"T_7643a_row10_col2\" class=\"data row10 col2\" >Mukherjee</td>\n",
              "      <td id=\"T_7643a_row10_col3\" class=\"data row10 col3\" >25000</td>\n",
              "      <td id=\"T_7643a_row10_col4\" class=\"data row10 col4\" >27500.00</td>\n",
              "    </tr>\n",
              "    <tr>\n",
              "      <td id=\"T_7643a_row11_col0\" class=\"data row11 col0\" >10</td>\n",
              "      <td id=\"T_7643a_row11_col1\" class=\"data row11 col1\" >Secretary</td>\n",
              "      <td id=\"T_7643a_row11_col2\" class=\"data row11 col2\" >Karthikeyan</td>\n",
              "      <td id=\"T_7643a_row11_col3\" class=\"data row11 col3\" >40000</td>\n",
              "      <td id=\"T_7643a_row11_col4\" class=\"data row11 col4\" >40000.00</td>\n",
              "    </tr>\n",
              "    <tr>\n",
              "      <td id=\"T_7643a_row12_col0\" class=\"data row12 col0\" >30</td>\n",
              "      <td id=\"T_7643a_row12_col1\" class=\"data row12 col1\" >Sr Manager</td>\n",
              "      <td id=\"T_7643a_row12_col2\" class=\"data row12 col2\" >Dravid</td>\n",
              "      <td id=\"T_7643a_row12_col3\" class=\"data row12 col3\" >40000</td>\n",
              "      <td id=\"T_7643a_row12_col4\" class=\"data row12 col4\" >40000.00</td>\n",
              "    </tr>\n",
              "  </tbody>\n",
              "</table>\n"
            ]
          },
          "metadata": {},
          "execution_count": 78
        }
      ]
    },
    {
      "cell_type": "code",
      "source": [
        "sql = \"select deptname, lastname, salary, round(avg(salary) over (partition by deptname),0) avg_salary from empl  inner join dept using(deptid)\"\n",
        "runSelect(sql)"
      ],
      "metadata": {
        "colab": {
          "base_uri": "https://localhost:8080/",
          "height": 426
        },
        "id": "JZC4y3tg2o8A",
        "outputId": "46e25762-d237-47fc-c520-84a7a35f99d9"
      },
      "execution_count": 79,
      "outputs": [
        {
          "output_type": "execute_result",
          "data": {
            "text/plain": [
              "<pandas.io.formats.style.Styler at 0x79b372524b50>"
            ],
            "text/html": [
              "<style type=\"text/css\">\n",
              "</style>\n",
              "<table id=\"T_9a1e0\" class=\"dataframe\">\n",
              "  <thead>\n",
              "    <tr>\n",
              "      <th id=\"T_9a1e0_level0_col0\" class=\"col_heading level0 col0\" >deptname</th>\n",
              "      <th id=\"T_9a1e0_level0_col1\" class=\"col_heading level0 col1\" >lastname</th>\n",
              "      <th id=\"T_9a1e0_level0_col2\" class=\"col_heading level0 col2\" >salary</th>\n",
              "      <th id=\"T_9a1e0_level0_col3\" class=\"col_heading level0 col3\" >avg_salary</th>\n",
              "    </tr>\n",
              "  </thead>\n",
              "  <tbody>\n",
              "    <tr>\n",
              "      <td id=\"T_9a1e0_row0_col0\" class=\"data row0 col0\" >Accounts</td>\n",
              "      <td id=\"T_9a1e0_row0_col1\" class=\"data row0 col1\" >Dravid</td>\n",
              "      <td id=\"T_9a1e0_row0_col2\" class=\"data row0 col2\" >40000</td>\n",
              "      <td id=\"T_9a1e0_row0_col3\" class=\"data row0 col3\" >25667</td>\n",
              "    </tr>\n",
              "    <tr>\n",
              "      <td id=\"T_9a1e0_row1_col0\" class=\"data row1 col0\" >Accounts</td>\n",
              "      <td id=\"T_9a1e0_row1_col1\" class=\"data row1 col1\" >Dalmia</td>\n",
              "      <td id=\"T_9a1e0_row1_col2\" class=\"data row1 col2\" >12000</td>\n",
              "      <td id=\"T_9a1e0_row1_col3\" class=\"data row1 col3\" >25667</td>\n",
              "    </tr>\n",
              "    <tr>\n",
              "      <td id=\"T_9a1e0_row2_col0\" class=\"data row2 col0\" >Accounts</td>\n",
              "      <td id=\"T_9a1e0_row2_col1\" class=\"data row2 col1\" >Mirza</td>\n",
              "      <td id=\"T_9a1e0_row2_col2\" class=\"data row2 col2\" >25000</td>\n",
              "      <td id=\"T_9a1e0_row2_col3\" class=\"data row2 col3\" >25667</td>\n",
              "    </tr>\n",
              "    <tr>\n",
              "      <td id=\"T_9a1e0_row3_col0\" class=\"data row3 col0\" >Corporate</td>\n",
              "      <td id=\"T_9a1e0_row3_col1\" class=\"data row3 col1\" >Karthikeyan</td>\n",
              "      <td id=\"T_9a1e0_row3_col2\" class=\"data row3 col2\" >40000</td>\n",
              "      <td id=\"T_9a1e0_row3_col3\" class=\"data row3 col3\" >50000</td>\n",
              "    </tr>\n",
              "    <tr>\n",
              "      <td id=\"T_9a1e0_row4_col0\" class=\"data row4 col0\" >Corporate</td>\n",
              "      <td id=\"T_9a1e0_row4_col1\" class=\"data row4 col1\" >Ganesan</td>\n",
              "      <td id=\"T_9a1e0_row4_col2\" class=\"data row4 col2\" >60000</td>\n",
              "      <td id=\"T_9a1e0_row4_col3\" class=\"data row4 col3\" >50000</td>\n",
              "    </tr>\n",
              "    <tr>\n",
              "      <td id=\"T_9a1e0_row5_col0\" class=\"data row5 col0\" >Corporate</td>\n",
              "      <td id=\"T_9a1e0_row5_col1\" class=\"data row5 col1\" >Bacchan</td>\n",
              "      <td id=\"T_9a1e0_row5_col2\" class=\"data row5 col2\" >50000</td>\n",
              "      <td id=\"T_9a1e0_row5_col3\" class=\"data row5 col3\" >50000</td>\n",
              "    </tr>\n",
              "    <tr>\n",
              "      <td id=\"T_9a1e0_row6_col0\" class=\"data row6 col0\" >Production</td>\n",
              "      <td id=\"T_9a1e0_row6_col1\" class=\"data row6 col1\" >Ganguly</td>\n",
              "      <td id=\"T_9a1e0_row6_col2\" class=\"data row6 col2\" >20000</td>\n",
              "      <td id=\"T_9a1e0_row6_col3\" class=\"data row6 col3\" >18000</td>\n",
              "    </tr>\n",
              "    <tr>\n",
              "      <td id=\"T_9a1e0_row7_col0\" class=\"data row7 col0\" >Production</td>\n",
              "      <td id=\"T_9a1e0_row7_col1\" class=\"data row7 col1\" >Dhoni</td>\n",
              "      <td id=\"T_9a1e0_row7_col2\" class=\"data row7 col2\" >9000</td>\n",
              "      <td id=\"T_9a1e0_row7_col3\" class=\"data row7 col3\" >18000</td>\n",
              "    </tr>\n",
              "    <tr>\n",
              "      <td id=\"T_9a1e0_row8_col0\" class=\"data row8 col0\" >Production</td>\n",
              "      <td id=\"T_9a1e0_row8_col1\" class=\"data row8 col1\" >Mukherjee</td>\n",
              "      <td id=\"T_9a1e0_row8_col2\" class=\"data row8 col2\" >25000</td>\n",
              "      <td id=\"T_9a1e0_row8_col3\" class=\"data row8 col3\" >18000</td>\n",
              "    </tr>\n",
              "    <tr>\n",
              "      <td id=\"T_9a1e0_row9_col0\" class=\"data row9 col0\" >Sales</td>\n",
              "      <td id=\"T_9a1e0_row9_col1\" class=\"data row9 col1\" >Dikshit</td>\n",
              "      <td id=\"T_9a1e0_row9_col2\" class=\"data row9 col2\" >10000</td>\n",
              "      <td id=\"T_9a1e0_row9_col3\" class=\"data row9 col3\" >18333</td>\n",
              "    </tr>\n",
              "    <tr>\n",
              "      <td id=\"T_9a1e0_row10_col0\" class=\"data row10 col0\" >Sales</td>\n",
              "      <td id=\"T_9a1e0_row10_col1\" class=\"data row10 col1\" >Khan</td>\n",
              "      <td id=\"T_9a1e0_row10_col2\" class=\"data row10 col2\" >30000</td>\n",
              "      <td id=\"T_9a1e0_row10_col3\" class=\"data row10 col3\" >18333</td>\n",
              "    </tr>\n",
              "    <tr>\n",
              "      <td id=\"T_9a1e0_row11_col0\" class=\"data row11 col0\" >Sales</td>\n",
              "      <td id=\"T_9a1e0_row11_col1\" class=\"data row11 col1\" >Sehwag</td>\n",
              "      <td id=\"T_9a1e0_row11_col2\" class=\"data row11 col2\" >15000</td>\n",
              "      <td id=\"T_9a1e0_row11_col3\" class=\"data row11 col3\" >18333</td>\n",
              "    </tr>\n",
              "  </tbody>\n",
              "</table>\n"
            ]
          },
          "metadata": {},
          "execution_count": 79
        }
      ]
    },
    {
      "cell_type": "code",
      "source": [
        "sql = \"select deptname, lastname, salary, \\\n",
        "    row_number() over (partition by deptname order by salary) \\\n",
        "    from empl  inner join dept using(deptid)\"\n",
        "runSelect(sql)"
      ],
      "metadata": {
        "colab": {
          "base_uri": "https://localhost:8080/",
          "height": 426
        },
        "id": "xgP9VShE4Spl",
        "outputId": "bf83fd4a-87b2-4b8f-cf15-b256f8fdf51a"
      },
      "execution_count": 80,
      "outputs": [
        {
          "output_type": "execute_result",
          "data": {
            "text/plain": [
              "<pandas.io.formats.style.Styler at 0x79b372530d90>"
            ],
            "text/html": [
              "<style type=\"text/css\">\n",
              "</style>\n",
              "<table id=\"T_046da\" class=\"dataframe\">\n",
              "  <thead>\n",
              "    <tr>\n",
              "      <th id=\"T_046da_level0_col0\" class=\"col_heading level0 col0\" >deptname</th>\n",
              "      <th id=\"T_046da_level0_col1\" class=\"col_heading level0 col1\" >lastname</th>\n",
              "      <th id=\"T_046da_level0_col2\" class=\"col_heading level0 col2\" >salary</th>\n",
              "      <th id=\"T_046da_level0_col3\" class=\"col_heading level0 col3\" >row_number</th>\n",
              "    </tr>\n",
              "  </thead>\n",
              "  <tbody>\n",
              "    <tr>\n",
              "      <td id=\"T_046da_row0_col0\" class=\"data row0 col0\" >Accounts</td>\n",
              "      <td id=\"T_046da_row0_col1\" class=\"data row0 col1\" >Dalmia</td>\n",
              "      <td id=\"T_046da_row0_col2\" class=\"data row0 col2\" >12000</td>\n",
              "      <td id=\"T_046da_row0_col3\" class=\"data row0 col3\" >1</td>\n",
              "    </tr>\n",
              "    <tr>\n",
              "      <td id=\"T_046da_row1_col0\" class=\"data row1 col0\" >Accounts</td>\n",
              "      <td id=\"T_046da_row1_col1\" class=\"data row1 col1\" >Mirza</td>\n",
              "      <td id=\"T_046da_row1_col2\" class=\"data row1 col2\" >25000</td>\n",
              "      <td id=\"T_046da_row1_col3\" class=\"data row1 col3\" >2</td>\n",
              "    </tr>\n",
              "    <tr>\n",
              "      <td id=\"T_046da_row2_col0\" class=\"data row2 col0\" >Accounts</td>\n",
              "      <td id=\"T_046da_row2_col1\" class=\"data row2 col1\" >Dravid</td>\n",
              "      <td id=\"T_046da_row2_col2\" class=\"data row2 col2\" >40000</td>\n",
              "      <td id=\"T_046da_row2_col3\" class=\"data row2 col3\" >3</td>\n",
              "    </tr>\n",
              "    <tr>\n",
              "      <td id=\"T_046da_row3_col0\" class=\"data row3 col0\" >Corporate</td>\n",
              "      <td id=\"T_046da_row3_col1\" class=\"data row3 col1\" >Karthikeyan</td>\n",
              "      <td id=\"T_046da_row3_col2\" class=\"data row3 col2\" >40000</td>\n",
              "      <td id=\"T_046da_row3_col3\" class=\"data row3 col3\" >1</td>\n",
              "    </tr>\n",
              "    <tr>\n",
              "      <td id=\"T_046da_row4_col0\" class=\"data row4 col0\" >Corporate</td>\n",
              "      <td id=\"T_046da_row4_col1\" class=\"data row4 col1\" >Bacchan</td>\n",
              "      <td id=\"T_046da_row4_col2\" class=\"data row4 col2\" >50000</td>\n",
              "      <td id=\"T_046da_row4_col3\" class=\"data row4 col3\" >2</td>\n",
              "    </tr>\n",
              "    <tr>\n",
              "      <td id=\"T_046da_row5_col0\" class=\"data row5 col0\" >Corporate</td>\n",
              "      <td id=\"T_046da_row5_col1\" class=\"data row5 col1\" >Ganesan</td>\n",
              "      <td id=\"T_046da_row5_col2\" class=\"data row5 col2\" >60000</td>\n",
              "      <td id=\"T_046da_row5_col3\" class=\"data row5 col3\" >3</td>\n",
              "    </tr>\n",
              "    <tr>\n",
              "      <td id=\"T_046da_row6_col0\" class=\"data row6 col0\" >Production</td>\n",
              "      <td id=\"T_046da_row6_col1\" class=\"data row6 col1\" >Dhoni</td>\n",
              "      <td id=\"T_046da_row6_col2\" class=\"data row6 col2\" >9000</td>\n",
              "      <td id=\"T_046da_row6_col3\" class=\"data row6 col3\" >1</td>\n",
              "    </tr>\n",
              "    <tr>\n",
              "      <td id=\"T_046da_row7_col0\" class=\"data row7 col0\" >Production</td>\n",
              "      <td id=\"T_046da_row7_col1\" class=\"data row7 col1\" >Ganguly</td>\n",
              "      <td id=\"T_046da_row7_col2\" class=\"data row7 col2\" >20000</td>\n",
              "      <td id=\"T_046da_row7_col3\" class=\"data row7 col3\" >2</td>\n",
              "    </tr>\n",
              "    <tr>\n",
              "      <td id=\"T_046da_row8_col0\" class=\"data row8 col0\" >Production</td>\n",
              "      <td id=\"T_046da_row8_col1\" class=\"data row8 col1\" >Mukherjee</td>\n",
              "      <td id=\"T_046da_row8_col2\" class=\"data row8 col2\" >25000</td>\n",
              "      <td id=\"T_046da_row8_col3\" class=\"data row8 col3\" >3</td>\n",
              "    </tr>\n",
              "    <tr>\n",
              "      <td id=\"T_046da_row9_col0\" class=\"data row9 col0\" >Sales</td>\n",
              "      <td id=\"T_046da_row9_col1\" class=\"data row9 col1\" >Dikshit</td>\n",
              "      <td id=\"T_046da_row9_col2\" class=\"data row9 col2\" >10000</td>\n",
              "      <td id=\"T_046da_row9_col3\" class=\"data row9 col3\" >1</td>\n",
              "    </tr>\n",
              "    <tr>\n",
              "      <td id=\"T_046da_row10_col0\" class=\"data row10 col0\" >Sales</td>\n",
              "      <td id=\"T_046da_row10_col1\" class=\"data row10 col1\" >Sehwag</td>\n",
              "      <td id=\"T_046da_row10_col2\" class=\"data row10 col2\" >15000</td>\n",
              "      <td id=\"T_046da_row10_col3\" class=\"data row10 col3\" >2</td>\n",
              "    </tr>\n",
              "    <tr>\n",
              "      <td id=\"T_046da_row11_col0\" class=\"data row11 col0\" >Sales</td>\n",
              "      <td id=\"T_046da_row11_col1\" class=\"data row11 col1\" >Khan</td>\n",
              "      <td id=\"T_046da_row11_col2\" class=\"data row11 col2\" >30000</td>\n",
              "      <td id=\"T_046da_row11_col3\" class=\"data row11 col3\" >3</td>\n",
              "    </tr>\n",
              "  </tbody>\n",
              "</table>\n"
            ]
          },
          "metadata": {},
          "execution_count": 80
        }
      ]
    },
    {
      "cell_type": "code",
      "source": [
        "sql = \"select deptname, lastname, salary, \\\n",
        "        rank() over (partition by deptname order by salary desc) \\\n",
        "        from empl  inner join dept using(deptid)\"\n",
        "runSelect(sql)"
      ],
      "metadata": {
        "colab": {
          "base_uri": "https://localhost:8080/",
          "height": 426
        },
        "id": "rL_1sHBa4ply",
        "outputId": "c830b06d-9e32-4764-f13f-b3cc84a34ce7"
      },
      "execution_count": 81,
      "outputs": [
        {
          "output_type": "execute_result",
          "data": {
            "text/plain": [
              "<pandas.io.formats.style.Styler at 0x79b372526b10>"
            ],
            "text/html": [
              "<style type=\"text/css\">\n",
              "</style>\n",
              "<table id=\"T_1ccf4\" class=\"dataframe\">\n",
              "  <thead>\n",
              "    <tr>\n",
              "      <th id=\"T_1ccf4_level0_col0\" class=\"col_heading level0 col0\" >deptname</th>\n",
              "      <th id=\"T_1ccf4_level0_col1\" class=\"col_heading level0 col1\" >lastname</th>\n",
              "      <th id=\"T_1ccf4_level0_col2\" class=\"col_heading level0 col2\" >salary</th>\n",
              "      <th id=\"T_1ccf4_level0_col3\" class=\"col_heading level0 col3\" >rank</th>\n",
              "    </tr>\n",
              "  </thead>\n",
              "  <tbody>\n",
              "    <tr>\n",
              "      <td id=\"T_1ccf4_row0_col0\" class=\"data row0 col0\" >Accounts</td>\n",
              "      <td id=\"T_1ccf4_row0_col1\" class=\"data row0 col1\" >Dravid</td>\n",
              "      <td id=\"T_1ccf4_row0_col2\" class=\"data row0 col2\" >40000</td>\n",
              "      <td id=\"T_1ccf4_row0_col3\" class=\"data row0 col3\" >1</td>\n",
              "    </tr>\n",
              "    <tr>\n",
              "      <td id=\"T_1ccf4_row1_col0\" class=\"data row1 col0\" >Accounts</td>\n",
              "      <td id=\"T_1ccf4_row1_col1\" class=\"data row1 col1\" >Mirza</td>\n",
              "      <td id=\"T_1ccf4_row1_col2\" class=\"data row1 col2\" >25000</td>\n",
              "      <td id=\"T_1ccf4_row1_col3\" class=\"data row1 col3\" >2</td>\n",
              "    </tr>\n",
              "    <tr>\n",
              "      <td id=\"T_1ccf4_row2_col0\" class=\"data row2 col0\" >Accounts</td>\n",
              "      <td id=\"T_1ccf4_row2_col1\" class=\"data row2 col1\" >Dalmia</td>\n",
              "      <td id=\"T_1ccf4_row2_col2\" class=\"data row2 col2\" >12000</td>\n",
              "      <td id=\"T_1ccf4_row2_col3\" class=\"data row2 col3\" >3</td>\n",
              "    </tr>\n",
              "    <tr>\n",
              "      <td id=\"T_1ccf4_row3_col0\" class=\"data row3 col0\" >Corporate</td>\n",
              "      <td id=\"T_1ccf4_row3_col1\" class=\"data row3 col1\" >Ganesan</td>\n",
              "      <td id=\"T_1ccf4_row3_col2\" class=\"data row3 col2\" >60000</td>\n",
              "      <td id=\"T_1ccf4_row3_col3\" class=\"data row3 col3\" >1</td>\n",
              "    </tr>\n",
              "    <tr>\n",
              "      <td id=\"T_1ccf4_row4_col0\" class=\"data row4 col0\" >Corporate</td>\n",
              "      <td id=\"T_1ccf4_row4_col1\" class=\"data row4 col1\" >Bacchan</td>\n",
              "      <td id=\"T_1ccf4_row4_col2\" class=\"data row4 col2\" >50000</td>\n",
              "      <td id=\"T_1ccf4_row4_col3\" class=\"data row4 col3\" >2</td>\n",
              "    </tr>\n",
              "    <tr>\n",
              "      <td id=\"T_1ccf4_row5_col0\" class=\"data row5 col0\" >Corporate</td>\n",
              "      <td id=\"T_1ccf4_row5_col1\" class=\"data row5 col1\" >Karthikeyan</td>\n",
              "      <td id=\"T_1ccf4_row5_col2\" class=\"data row5 col2\" >40000</td>\n",
              "      <td id=\"T_1ccf4_row5_col3\" class=\"data row5 col3\" >3</td>\n",
              "    </tr>\n",
              "    <tr>\n",
              "      <td id=\"T_1ccf4_row6_col0\" class=\"data row6 col0\" >Production</td>\n",
              "      <td id=\"T_1ccf4_row6_col1\" class=\"data row6 col1\" >Mukherjee</td>\n",
              "      <td id=\"T_1ccf4_row6_col2\" class=\"data row6 col2\" >25000</td>\n",
              "      <td id=\"T_1ccf4_row6_col3\" class=\"data row6 col3\" >1</td>\n",
              "    </tr>\n",
              "    <tr>\n",
              "      <td id=\"T_1ccf4_row7_col0\" class=\"data row7 col0\" >Production</td>\n",
              "      <td id=\"T_1ccf4_row7_col1\" class=\"data row7 col1\" >Ganguly</td>\n",
              "      <td id=\"T_1ccf4_row7_col2\" class=\"data row7 col2\" >20000</td>\n",
              "      <td id=\"T_1ccf4_row7_col3\" class=\"data row7 col3\" >2</td>\n",
              "    </tr>\n",
              "    <tr>\n",
              "      <td id=\"T_1ccf4_row8_col0\" class=\"data row8 col0\" >Production</td>\n",
              "      <td id=\"T_1ccf4_row8_col1\" class=\"data row8 col1\" >Dhoni</td>\n",
              "      <td id=\"T_1ccf4_row8_col2\" class=\"data row8 col2\" >9000</td>\n",
              "      <td id=\"T_1ccf4_row8_col3\" class=\"data row8 col3\" >3</td>\n",
              "    </tr>\n",
              "    <tr>\n",
              "      <td id=\"T_1ccf4_row9_col0\" class=\"data row9 col0\" >Sales</td>\n",
              "      <td id=\"T_1ccf4_row9_col1\" class=\"data row9 col1\" >Khan</td>\n",
              "      <td id=\"T_1ccf4_row9_col2\" class=\"data row9 col2\" >30000</td>\n",
              "      <td id=\"T_1ccf4_row9_col3\" class=\"data row9 col3\" >1</td>\n",
              "    </tr>\n",
              "    <tr>\n",
              "      <td id=\"T_1ccf4_row10_col0\" class=\"data row10 col0\" >Sales</td>\n",
              "      <td id=\"T_1ccf4_row10_col1\" class=\"data row10 col1\" >Sehwag</td>\n",
              "      <td id=\"T_1ccf4_row10_col2\" class=\"data row10 col2\" >15000</td>\n",
              "      <td id=\"T_1ccf4_row10_col3\" class=\"data row10 col3\" >2</td>\n",
              "    </tr>\n",
              "    <tr>\n",
              "      <td id=\"T_1ccf4_row11_col0\" class=\"data row11 col0\" >Sales</td>\n",
              "      <td id=\"T_1ccf4_row11_col1\" class=\"data row11 col1\" >Dikshit</td>\n",
              "      <td id=\"T_1ccf4_row11_col2\" class=\"data row11 col2\" >10000</td>\n",
              "      <td id=\"T_1ccf4_row11_col3\" class=\"data row11 col3\" >3</td>\n",
              "    </tr>\n",
              "  </tbody>\n",
              "</table>\n"
            ]
          },
          "metadata": {},
          "execution_count": 81
        }
      ]
    },
    {
      "cell_type": "code",
      "source": [
        "sql = \"select deptname, lastname, salary, \\\n",
        "first_value(salary) over (partition by deptname order by salary) as deptlow, \\\n",
        "last_value(salary) over (partition by deptname order by salary RANGE BETWEEN UNBOUNDED PRECEDING AND UNBOUNDED FOLLOWING) as depthigh \\\n",
        "from empl  inner join dept using(deptid)\"\n",
        "runSelect(sql)"
      ],
      "metadata": {
        "colab": {
          "base_uri": "https://localhost:8080/",
          "height": 426
        },
        "id": "RO428SVT5T3d",
        "outputId": "5ad0eb64-3f19-44fd-88fe-729fc2df60fd"
      },
      "execution_count": 82,
      "outputs": [
        {
          "output_type": "execute_result",
          "data": {
            "text/plain": [
              "<pandas.io.formats.style.Styler at 0x79b372484d90>"
            ],
            "text/html": [
              "<style type=\"text/css\">\n",
              "</style>\n",
              "<table id=\"T_3994d\" class=\"dataframe\">\n",
              "  <thead>\n",
              "    <tr>\n",
              "      <th id=\"T_3994d_level0_col0\" class=\"col_heading level0 col0\" >deptname</th>\n",
              "      <th id=\"T_3994d_level0_col1\" class=\"col_heading level0 col1\" >lastname</th>\n",
              "      <th id=\"T_3994d_level0_col2\" class=\"col_heading level0 col2\" >salary</th>\n",
              "      <th id=\"T_3994d_level0_col3\" class=\"col_heading level0 col3\" >deptlow</th>\n",
              "      <th id=\"T_3994d_level0_col4\" class=\"col_heading level0 col4\" >depthigh</th>\n",
              "    </tr>\n",
              "  </thead>\n",
              "  <tbody>\n",
              "    <tr>\n",
              "      <td id=\"T_3994d_row0_col0\" class=\"data row0 col0\" >Accounts</td>\n",
              "      <td id=\"T_3994d_row0_col1\" class=\"data row0 col1\" >Dalmia</td>\n",
              "      <td id=\"T_3994d_row0_col2\" class=\"data row0 col2\" >12000</td>\n",
              "      <td id=\"T_3994d_row0_col3\" class=\"data row0 col3\" >12000</td>\n",
              "      <td id=\"T_3994d_row0_col4\" class=\"data row0 col4\" >40000</td>\n",
              "    </tr>\n",
              "    <tr>\n",
              "      <td id=\"T_3994d_row1_col0\" class=\"data row1 col0\" >Accounts</td>\n",
              "      <td id=\"T_3994d_row1_col1\" class=\"data row1 col1\" >Mirza</td>\n",
              "      <td id=\"T_3994d_row1_col2\" class=\"data row1 col2\" >25000</td>\n",
              "      <td id=\"T_3994d_row1_col3\" class=\"data row1 col3\" >12000</td>\n",
              "      <td id=\"T_3994d_row1_col4\" class=\"data row1 col4\" >40000</td>\n",
              "    </tr>\n",
              "    <tr>\n",
              "      <td id=\"T_3994d_row2_col0\" class=\"data row2 col0\" >Accounts</td>\n",
              "      <td id=\"T_3994d_row2_col1\" class=\"data row2 col1\" >Dravid</td>\n",
              "      <td id=\"T_3994d_row2_col2\" class=\"data row2 col2\" >40000</td>\n",
              "      <td id=\"T_3994d_row2_col3\" class=\"data row2 col3\" >12000</td>\n",
              "      <td id=\"T_3994d_row2_col4\" class=\"data row2 col4\" >40000</td>\n",
              "    </tr>\n",
              "    <tr>\n",
              "      <td id=\"T_3994d_row3_col0\" class=\"data row3 col0\" >Corporate</td>\n",
              "      <td id=\"T_3994d_row3_col1\" class=\"data row3 col1\" >Karthikeyan</td>\n",
              "      <td id=\"T_3994d_row3_col2\" class=\"data row3 col2\" >40000</td>\n",
              "      <td id=\"T_3994d_row3_col3\" class=\"data row3 col3\" >40000</td>\n",
              "      <td id=\"T_3994d_row3_col4\" class=\"data row3 col4\" >60000</td>\n",
              "    </tr>\n",
              "    <tr>\n",
              "      <td id=\"T_3994d_row4_col0\" class=\"data row4 col0\" >Corporate</td>\n",
              "      <td id=\"T_3994d_row4_col1\" class=\"data row4 col1\" >Bacchan</td>\n",
              "      <td id=\"T_3994d_row4_col2\" class=\"data row4 col2\" >50000</td>\n",
              "      <td id=\"T_3994d_row4_col3\" class=\"data row4 col3\" >40000</td>\n",
              "      <td id=\"T_3994d_row4_col4\" class=\"data row4 col4\" >60000</td>\n",
              "    </tr>\n",
              "    <tr>\n",
              "      <td id=\"T_3994d_row5_col0\" class=\"data row5 col0\" >Corporate</td>\n",
              "      <td id=\"T_3994d_row5_col1\" class=\"data row5 col1\" >Ganesan</td>\n",
              "      <td id=\"T_3994d_row5_col2\" class=\"data row5 col2\" >60000</td>\n",
              "      <td id=\"T_3994d_row5_col3\" class=\"data row5 col3\" >40000</td>\n",
              "      <td id=\"T_3994d_row5_col4\" class=\"data row5 col4\" >60000</td>\n",
              "    </tr>\n",
              "    <tr>\n",
              "      <td id=\"T_3994d_row6_col0\" class=\"data row6 col0\" >Production</td>\n",
              "      <td id=\"T_3994d_row6_col1\" class=\"data row6 col1\" >Dhoni</td>\n",
              "      <td id=\"T_3994d_row6_col2\" class=\"data row6 col2\" >9000</td>\n",
              "      <td id=\"T_3994d_row6_col3\" class=\"data row6 col3\" >9000</td>\n",
              "      <td id=\"T_3994d_row6_col4\" class=\"data row6 col4\" >25000</td>\n",
              "    </tr>\n",
              "    <tr>\n",
              "      <td id=\"T_3994d_row7_col0\" class=\"data row7 col0\" >Production</td>\n",
              "      <td id=\"T_3994d_row7_col1\" class=\"data row7 col1\" >Ganguly</td>\n",
              "      <td id=\"T_3994d_row7_col2\" class=\"data row7 col2\" >20000</td>\n",
              "      <td id=\"T_3994d_row7_col3\" class=\"data row7 col3\" >9000</td>\n",
              "      <td id=\"T_3994d_row7_col4\" class=\"data row7 col4\" >25000</td>\n",
              "    </tr>\n",
              "    <tr>\n",
              "      <td id=\"T_3994d_row8_col0\" class=\"data row8 col0\" >Production</td>\n",
              "      <td id=\"T_3994d_row8_col1\" class=\"data row8 col1\" >Mukherjee</td>\n",
              "      <td id=\"T_3994d_row8_col2\" class=\"data row8 col2\" >25000</td>\n",
              "      <td id=\"T_3994d_row8_col3\" class=\"data row8 col3\" >9000</td>\n",
              "      <td id=\"T_3994d_row8_col4\" class=\"data row8 col4\" >25000</td>\n",
              "    </tr>\n",
              "    <tr>\n",
              "      <td id=\"T_3994d_row9_col0\" class=\"data row9 col0\" >Sales</td>\n",
              "      <td id=\"T_3994d_row9_col1\" class=\"data row9 col1\" >Dikshit</td>\n",
              "      <td id=\"T_3994d_row9_col2\" class=\"data row9 col2\" >10000</td>\n",
              "      <td id=\"T_3994d_row9_col3\" class=\"data row9 col3\" >10000</td>\n",
              "      <td id=\"T_3994d_row9_col4\" class=\"data row9 col4\" >30000</td>\n",
              "    </tr>\n",
              "    <tr>\n",
              "      <td id=\"T_3994d_row10_col0\" class=\"data row10 col0\" >Sales</td>\n",
              "      <td id=\"T_3994d_row10_col1\" class=\"data row10 col1\" >Sehwag</td>\n",
              "      <td id=\"T_3994d_row10_col2\" class=\"data row10 col2\" >15000</td>\n",
              "      <td id=\"T_3994d_row10_col3\" class=\"data row10 col3\" >10000</td>\n",
              "      <td id=\"T_3994d_row10_col4\" class=\"data row10 col4\" >30000</td>\n",
              "    </tr>\n",
              "    <tr>\n",
              "      <td id=\"T_3994d_row11_col0\" class=\"data row11 col0\" >Sales</td>\n",
              "      <td id=\"T_3994d_row11_col1\" class=\"data row11 col1\" >Khan</td>\n",
              "      <td id=\"T_3994d_row11_col2\" class=\"data row11 col2\" >30000</td>\n",
              "      <td id=\"T_3994d_row11_col3\" class=\"data row11 col3\" >10000</td>\n",
              "      <td id=\"T_3994d_row11_col4\" class=\"data row11 col4\" >30000</td>\n",
              "    </tr>\n",
              "  </tbody>\n",
              "</table>\n"
            ]
          },
          "metadata": {},
          "execution_count": 82
        }
      ]
    },
    {
      "cell_type": "code",
      "source": [
        "sql = \"select deptname, lastname, salary, \\\n",
        "lag(salary,1) over (partition by deptname order by salary) as prev_emp, \\\n",
        "salary - lag(salary,1) over (partition by deptname order by salary) as gap_up \\\n",
        "from empl  inner join dept using(deptid)\"\n",
        "runSelect(sql)"
      ],
      "metadata": {
        "colab": {
          "base_uri": "https://localhost:8080/",
          "height": 426
        },
        "id": "fnG4S0lF8h77",
        "outputId": "4bda84d1-34ef-4236-f612-880589af49c6"
      },
      "execution_count": 83,
      "outputs": [
        {
          "output_type": "execute_result",
          "data": {
            "text/plain": [
              "<pandas.io.formats.style.Styler at 0x79b372525c90>"
            ],
            "text/html": [
              "<style type=\"text/css\">\n",
              "</style>\n",
              "<table id=\"T_68a9f\" class=\"dataframe\">\n",
              "  <thead>\n",
              "    <tr>\n",
              "      <th id=\"T_68a9f_level0_col0\" class=\"col_heading level0 col0\" >deptname</th>\n",
              "      <th id=\"T_68a9f_level0_col1\" class=\"col_heading level0 col1\" >lastname</th>\n",
              "      <th id=\"T_68a9f_level0_col2\" class=\"col_heading level0 col2\" >salary</th>\n",
              "      <th id=\"T_68a9f_level0_col3\" class=\"col_heading level0 col3\" >prev_emp</th>\n",
              "      <th id=\"T_68a9f_level0_col4\" class=\"col_heading level0 col4\" >gap_up</th>\n",
              "    </tr>\n",
              "  </thead>\n",
              "  <tbody>\n",
              "    <tr>\n",
              "      <td id=\"T_68a9f_row0_col0\" class=\"data row0 col0\" >Accounts</td>\n",
              "      <td id=\"T_68a9f_row0_col1\" class=\"data row0 col1\" >Dalmia</td>\n",
              "      <td id=\"T_68a9f_row0_col2\" class=\"data row0 col2\" >12000</td>\n",
              "      <td id=\"T_68a9f_row0_col3\" class=\"data row0 col3\" >nan</td>\n",
              "      <td id=\"T_68a9f_row0_col4\" class=\"data row0 col4\" >nan</td>\n",
              "    </tr>\n",
              "    <tr>\n",
              "      <td id=\"T_68a9f_row1_col0\" class=\"data row1 col0\" >Accounts</td>\n",
              "      <td id=\"T_68a9f_row1_col1\" class=\"data row1 col1\" >Mirza</td>\n",
              "      <td id=\"T_68a9f_row1_col2\" class=\"data row1 col2\" >25000</td>\n",
              "      <td id=\"T_68a9f_row1_col3\" class=\"data row1 col3\" >12000.000000</td>\n",
              "      <td id=\"T_68a9f_row1_col4\" class=\"data row1 col4\" >13000.000000</td>\n",
              "    </tr>\n",
              "    <tr>\n",
              "      <td id=\"T_68a9f_row2_col0\" class=\"data row2 col0\" >Accounts</td>\n",
              "      <td id=\"T_68a9f_row2_col1\" class=\"data row2 col1\" >Dravid</td>\n",
              "      <td id=\"T_68a9f_row2_col2\" class=\"data row2 col2\" >40000</td>\n",
              "      <td id=\"T_68a9f_row2_col3\" class=\"data row2 col3\" >25000.000000</td>\n",
              "      <td id=\"T_68a9f_row2_col4\" class=\"data row2 col4\" >15000.000000</td>\n",
              "    </tr>\n",
              "    <tr>\n",
              "      <td id=\"T_68a9f_row3_col0\" class=\"data row3 col0\" >Corporate</td>\n",
              "      <td id=\"T_68a9f_row3_col1\" class=\"data row3 col1\" >Karthikeyan</td>\n",
              "      <td id=\"T_68a9f_row3_col2\" class=\"data row3 col2\" >40000</td>\n",
              "      <td id=\"T_68a9f_row3_col3\" class=\"data row3 col3\" >nan</td>\n",
              "      <td id=\"T_68a9f_row3_col4\" class=\"data row3 col4\" >nan</td>\n",
              "    </tr>\n",
              "    <tr>\n",
              "      <td id=\"T_68a9f_row4_col0\" class=\"data row4 col0\" >Corporate</td>\n",
              "      <td id=\"T_68a9f_row4_col1\" class=\"data row4 col1\" >Bacchan</td>\n",
              "      <td id=\"T_68a9f_row4_col2\" class=\"data row4 col2\" >50000</td>\n",
              "      <td id=\"T_68a9f_row4_col3\" class=\"data row4 col3\" >40000.000000</td>\n",
              "      <td id=\"T_68a9f_row4_col4\" class=\"data row4 col4\" >10000.000000</td>\n",
              "    </tr>\n",
              "    <tr>\n",
              "      <td id=\"T_68a9f_row5_col0\" class=\"data row5 col0\" >Corporate</td>\n",
              "      <td id=\"T_68a9f_row5_col1\" class=\"data row5 col1\" >Ganesan</td>\n",
              "      <td id=\"T_68a9f_row5_col2\" class=\"data row5 col2\" >60000</td>\n",
              "      <td id=\"T_68a9f_row5_col3\" class=\"data row5 col3\" >50000.000000</td>\n",
              "      <td id=\"T_68a9f_row5_col4\" class=\"data row5 col4\" >10000.000000</td>\n",
              "    </tr>\n",
              "    <tr>\n",
              "      <td id=\"T_68a9f_row6_col0\" class=\"data row6 col0\" >Production</td>\n",
              "      <td id=\"T_68a9f_row6_col1\" class=\"data row6 col1\" >Dhoni</td>\n",
              "      <td id=\"T_68a9f_row6_col2\" class=\"data row6 col2\" >9000</td>\n",
              "      <td id=\"T_68a9f_row6_col3\" class=\"data row6 col3\" >nan</td>\n",
              "      <td id=\"T_68a9f_row6_col4\" class=\"data row6 col4\" >nan</td>\n",
              "    </tr>\n",
              "    <tr>\n",
              "      <td id=\"T_68a9f_row7_col0\" class=\"data row7 col0\" >Production</td>\n",
              "      <td id=\"T_68a9f_row7_col1\" class=\"data row7 col1\" >Ganguly</td>\n",
              "      <td id=\"T_68a9f_row7_col2\" class=\"data row7 col2\" >20000</td>\n",
              "      <td id=\"T_68a9f_row7_col3\" class=\"data row7 col3\" >9000.000000</td>\n",
              "      <td id=\"T_68a9f_row7_col4\" class=\"data row7 col4\" >11000.000000</td>\n",
              "    </tr>\n",
              "    <tr>\n",
              "      <td id=\"T_68a9f_row8_col0\" class=\"data row8 col0\" >Production</td>\n",
              "      <td id=\"T_68a9f_row8_col1\" class=\"data row8 col1\" >Mukherjee</td>\n",
              "      <td id=\"T_68a9f_row8_col2\" class=\"data row8 col2\" >25000</td>\n",
              "      <td id=\"T_68a9f_row8_col3\" class=\"data row8 col3\" >20000.000000</td>\n",
              "      <td id=\"T_68a9f_row8_col4\" class=\"data row8 col4\" >5000.000000</td>\n",
              "    </tr>\n",
              "    <tr>\n",
              "      <td id=\"T_68a9f_row9_col0\" class=\"data row9 col0\" >Sales</td>\n",
              "      <td id=\"T_68a9f_row9_col1\" class=\"data row9 col1\" >Dikshit</td>\n",
              "      <td id=\"T_68a9f_row9_col2\" class=\"data row9 col2\" >10000</td>\n",
              "      <td id=\"T_68a9f_row9_col3\" class=\"data row9 col3\" >nan</td>\n",
              "      <td id=\"T_68a9f_row9_col4\" class=\"data row9 col4\" >nan</td>\n",
              "    </tr>\n",
              "    <tr>\n",
              "      <td id=\"T_68a9f_row10_col0\" class=\"data row10 col0\" >Sales</td>\n",
              "      <td id=\"T_68a9f_row10_col1\" class=\"data row10 col1\" >Sehwag</td>\n",
              "      <td id=\"T_68a9f_row10_col2\" class=\"data row10 col2\" >15000</td>\n",
              "      <td id=\"T_68a9f_row10_col3\" class=\"data row10 col3\" >10000.000000</td>\n",
              "      <td id=\"T_68a9f_row10_col4\" class=\"data row10 col4\" >5000.000000</td>\n",
              "    </tr>\n",
              "    <tr>\n",
              "      <td id=\"T_68a9f_row11_col0\" class=\"data row11 col0\" >Sales</td>\n",
              "      <td id=\"T_68a9f_row11_col1\" class=\"data row11 col1\" >Khan</td>\n",
              "      <td id=\"T_68a9f_row11_col2\" class=\"data row11 col2\" >30000</td>\n",
              "      <td id=\"T_68a9f_row11_col3\" class=\"data row11 col3\" >15000.000000</td>\n",
              "      <td id=\"T_68a9f_row11_col4\" class=\"data row11 col4\" >15000.000000</td>\n",
              "    </tr>\n",
              "  </tbody>\n",
              "</table>\n"
            ]
          },
          "metadata": {},
          "execution_count": 83
        }
      ]
    },
    {
      "cell_type": "markdown",
      "source": [
        "#Transpose / Pivot\n",
        "https://www.sqlshack.com/how-to-use-the-crosstab-function-in-postgresql/"
      ],
      "metadata": {
        "id": "V6Bt-yTXSITF"
      }
    },
    {
      "cell_type": "code",
      "source": [
        "!psql -h localhost -p 5432 -Uupraxis -ddbpraxis -c \"create extension tablefunc;\""
      ],
      "metadata": {
        "colab": {
          "base_uri": "https://localhost:8080/"
        },
        "id": "ZgVgr1DfYs_R",
        "outputId": "d542bda7-a547-4723-ba44-f8fd23dc9456"
      },
      "execution_count": 84,
      "outputs": [
        {
          "output_type": "stream",
          "name": "stdout",
          "text": [
            "CREATE EXTENSION\n"
          ]
        }
      ]
    },
    {
      "cell_type": "code",
      "source": [
        "runSelect('select * from dept')"
      ],
      "metadata": {
        "colab": {
          "base_uri": "https://localhost:8080/",
          "height": 206
        },
        "id": "Sa9IpGXwSKWe",
        "outputId": "4e959dc6-c290-459e-e634-a9ae90fcf2ff"
      },
      "execution_count": 85,
      "outputs": [
        {
          "output_type": "execute_result",
          "data": {
            "text/plain": [
              "<pandas.io.formats.style.Styler at 0x79b3724dcdd0>"
            ],
            "text/html": [
              "<style type=\"text/css\">\n",
              "</style>\n",
              "<table id=\"T_88869\" class=\"dataframe\">\n",
              "  <thead>\n",
              "    <tr>\n",
              "      <th id=\"T_88869_level0_col0\" class=\"col_heading level0 col0\" >deptid</th>\n",
              "      <th id=\"T_88869_level0_col1\" class=\"col_heading level0 col1\" >deptname</th>\n",
              "      <th id=\"T_88869_level0_col2\" class=\"col_heading level0 col2\" >managerid</th>\n",
              "      <th id=\"T_88869_level0_col3\" class=\"col_heading level0 col3\" >location</th>\n",
              "      <th id=\"T_88869_level0_col4\" class=\"col_heading level0 col4\" >locationid</th>\n",
              "    </tr>\n",
              "  </thead>\n",
              "  <tbody>\n",
              "    <tr>\n",
              "      <td id=\"T_88869_row0_col0\" class=\"data row0 col0\" >10</td>\n",
              "      <td id=\"T_88869_row0_col1\" class=\"data row0 col1\" >Corporate</td>\n",
              "      <td id=\"T_88869_row0_col2\" class=\"data row0 col2\" >299034</td>\n",
              "      <td id=\"T_88869_row0_col3\" class=\"data row0 col3\" >Calcutta</td>\n",
              "      <td id=\"T_88869_row0_col4\" class=\"data row0 col4\" >1</td>\n",
              "    </tr>\n",
              "    <tr>\n",
              "      <td id=\"T_88869_row1_col0\" class=\"data row1 col0\" >20</td>\n",
              "      <td id=\"T_88869_row1_col1\" class=\"data row1 col1\" >Sales</td>\n",
              "      <td id=\"T_88869_row1_col2\" class=\"data row1 col2\" >239456</td>\n",
              "      <td id=\"T_88869_row1_col3\" class=\"data row1 col3\" >Calcutta</td>\n",
              "      <td id=\"T_88869_row1_col4\" class=\"data row1 col4\" >1</td>\n",
              "    </tr>\n",
              "    <tr>\n",
              "      <td id=\"T_88869_row2_col0\" class=\"data row2 col0\" >30</td>\n",
              "      <td id=\"T_88869_row2_col1\" class=\"data row2 col1\" >Accounts</td>\n",
              "      <td id=\"T_88869_row2_col2\" class=\"data row2 col2\" >822134</td>\n",
              "      <td id=\"T_88869_row2_col3\" class=\"data row2 col3\" >Calcutta</td>\n",
              "      <td id=\"T_88869_row2_col4\" class=\"data row2 col4\" >1</td>\n",
              "    </tr>\n",
              "    <tr>\n",
              "      <td id=\"T_88869_row3_col0\" class=\"data row3 col0\" >40</td>\n",
              "      <td id=\"T_88869_row3_col1\" class=\"data row3 col1\" >Production</td>\n",
              "      <td id=\"T_88869_row3_col2\" class=\"data row3 col2\" >349870</td>\n",
              "      <td id=\"T_88869_row3_col3\" class=\"data row3 col3\" >Bombay</td>\n",
              "      <td id=\"T_88869_row3_col4\" class=\"data row3 col4\" >2</td>\n",
              "    </tr>\n",
              "    <tr>\n",
              "      <td id=\"T_88869_row4_col0\" class=\"data row4 col0\" >60</td>\n",
              "      <td id=\"T_88869_row4_col1\" class=\"data row4 col1\" >Research</td>\n",
              "      <td id=\"T_88869_row4_col2\" class=\"data row4 col2\" >546224</td>\n",
              "      <td id=\"T_88869_row4_col3\" class=\"data row4 col3\" >Delhi</td>\n",
              "      <td id=\"T_88869_row4_col4\" class=\"data row4 col4\" >3</td>\n",
              "    </tr>\n",
              "  </tbody>\n",
              "</table>\n"
            ]
          },
          "metadata": {},
          "execution_count": 85
        }
      ]
    },
    {
      "cell_type": "code",
      "source": [
        "sql = \"\\\n",
        "select * from \\\n",
        "crosstab('select location::text,locationid::text,deptname::text from dept order by 1,2') as locations \\\n",
        "(location text, dep1 text, dep2 text, dep3 text, dep4 text)\\\n",
        "\"\n",
        "runSelect(sql)"
      ],
      "metadata": {
        "colab": {
          "base_uri": "https://localhost:8080/",
          "height": 143
        },
        "id": "Iukqh6TRVo-9",
        "outputId": "2bf8da26-1d4a-48f9-ac8f-e8de5c7295c8"
      },
      "execution_count": 86,
      "outputs": [
        {
          "output_type": "execute_result",
          "data": {
            "text/plain": [
              "<pandas.io.formats.style.Styler at 0x79b37252c650>"
            ],
            "text/html": [
              "<style type=\"text/css\">\n",
              "</style>\n",
              "<table id=\"T_cabf7\" class=\"dataframe\">\n",
              "  <thead>\n",
              "    <tr>\n",
              "      <th id=\"T_cabf7_level0_col0\" class=\"col_heading level0 col0\" >location</th>\n",
              "      <th id=\"T_cabf7_level0_col1\" class=\"col_heading level0 col1\" >dep1</th>\n",
              "      <th id=\"T_cabf7_level0_col2\" class=\"col_heading level0 col2\" >dep2</th>\n",
              "      <th id=\"T_cabf7_level0_col3\" class=\"col_heading level0 col3\" >dep3</th>\n",
              "      <th id=\"T_cabf7_level0_col4\" class=\"col_heading level0 col4\" >dep4</th>\n",
              "    </tr>\n",
              "  </thead>\n",
              "  <tbody>\n",
              "    <tr>\n",
              "      <td id=\"T_cabf7_row0_col0\" class=\"data row0 col0\" >Bombay</td>\n",
              "      <td id=\"T_cabf7_row0_col1\" class=\"data row0 col1\" >Production</td>\n",
              "      <td id=\"T_cabf7_row0_col2\" class=\"data row0 col2\" >None</td>\n",
              "      <td id=\"T_cabf7_row0_col3\" class=\"data row0 col3\" >None</td>\n",
              "      <td id=\"T_cabf7_row0_col4\" class=\"data row0 col4\" >None</td>\n",
              "    </tr>\n",
              "    <tr>\n",
              "      <td id=\"T_cabf7_row1_col0\" class=\"data row1 col0\" >Calcutta</td>\n",
              "      <td id=\"T_cabf7_row1_col1\" class=\"data row1 col1\" >Corporate</td>\n",
              "      <td id=\"T_cabf7_row1_col2\" class=\"data row1 col2\" >Sales</td>\n",
              "      <td id=\"T_cabf7_row1_col3\" class=\"data row1 col3\" >Accounts</td>\n",
              "      <td id=\"T_cabf7_row1_col4\" class=\"data row1 col4\" >None</td>\n",
              "    </tr>\n",
              "    <tr>\n",
              "      <td id=\"T_cabf7_row2_col0\" class=\"data row2 col0\" >Delhi</td>\n",
              "      <td id=\"T_cabf7_row2_col1\" class=\"data row2 col1\" >Research</td>\n",
              "      <td id=\"T_cabf7_row2_col2\" class=\"data row2 col2\" >None</td>\n",
              "      <td id=\"T_cabf7_row2_col3\" class=\"data row2 col3\" >None</td>\n",
              "      <td id=\"T_cabf7_row2_col4\" class=\"data row2 col4\" >None</td>\n",
              "    </tr>\n",
              "  </tbody>\n",
              "</table>\n"
            ]
          },
          "metadata": {},
          "execution_count": 86
        }
      ]
    },
    {
      "cell_type": "markdown",
      "source": [
        "# Insert | Delete | Update"
      ],
      "metadata": {
        "id": "REcqZ7K0DYqi"
      }
    },
    {
      "cell_type": "code",
      "source": [
        "runSelect(\"select * from dept\")"
      ],
      "metadata": {
        "id": "xGgCH9vGDlsI",
        "outputId": "3c1182c8-d135-4f0e-eb14-6a7577616f4e",
        "colab": {
          "base_uri": "https://localhost:8080/",
          "height": 206
        }
      },
      "execution_count": 87,
      "outputs": [
        {
          "output_type": "execute_result",
          "data": {
            "text/plain": [
              "<pandas.io.formats.style.Styler at 0x79b37252fd10>"
            ],
            "text/html": [
              "<style type=\"text/css\">\n",
              "</style>\n",
              "<table id=\"T_db185\" class=\"dataframe\">\n",
              "  <thead>\n",
              "    <tr>\n",
              "      <th id=\"T_db185_level0_col0\" class=\"col_heading level0 col0\" >deptid</th>\n",
              "      <th id=\"T_db185_level0_col1\" class=\"col_heading level0 col1\" >deptname</th>\n",
              "      <th id=\"T_db185_level0_col2\" class=\"col_heading level0 col2\" >managerid</th>\n",
              "      <th id=\"T_db185_level0_col3\" class=\"col_heading level0 col3\" >location</th>\n",
              "      <th id=\"T_db185_level0_col4\" class=\"col_heading level0 col4\" >locationid</th>\n",
              "    </tr>\n",
              "  </thead>\n",
              "  <tbody>\n",
              "    <tr>\n",
              "      <td id=\"T_db185_row0_col0\" class=\"data row0 col0\" >10</td>\n",
              "      <td id=\"T_db185_row0_col1\" class=\"data row0 col1\" >Corporate</td>\n",
              "      <td id=\"T_db185_row0_col2\" class=\"data row0 col2\" >299034</td>\n",
              "      <td id=\"T_db185_row0_col3\" class=\"data row0 col3\" >Calcutta</td>\n",
              "      <td id=\"T_db185_row0_col4\" class=\"data row0 col4\" >1</td>\n",
              "    </tr>\n",
              "    <tr>\n",
              "      <td id=\"T_db185_row1_col0\" class=\"data row1 col0\" >20</td>\n",
              "      <td id=\"T_db185_row1_col1\" class=\"data row1 col1\" >Sales</td>\n",
              "      <td id=\"T_db185_row1_col2\" class=\"data row1 col2\" >239456</td>\n",
              "      <td id=\"T_db185_row1_col3\" class=\"data row1 col3\" >Calcutta</td>\n",
              "      <td id=\"T_db185_row1_col4\" class=\"data row1 col4\" >1</td>\n",
              "    </tr>\n",
              "    <tr>\n",
              "      <td id=\"T_db185_row2_col0\" class=\"data row2 col0\" >30</td>\n",
              "      <td id=\"T_db185_row2_col1\" class=\"data row2 col1\" >Accounts</td>\n",
              "      <td id=\"T_db185_row2_col2\" class=\"data row2 col2\" >822134</td>\n",
              "      <td id=\"T_db185_row2_col3\" class=\"data row2 col3\" >Calcutta</td>\n",
              "      <td id=\"T_db185_row2_col4\" class=\"data row2 col4\" >1</td>\n",
              "    </tr>\n",
              "    <tr>\n",
              "      <td id=\"T_db185_row3_col0\" class=\"data row3 col0\" >40</td>\n",
              "      <td id=\"T_db185_row3_col1\" class=\"data row3 col1\" >Production</td>\n",
              "      <td id=\"T_db185_row3_col2\" class=\"data row3 col2\" >349870</td>\n",
              "      <td id=\"T_db185_row3_col3\" class=\"data row3 col3\" >Bombay</td>\n",
              "      <td id=\"T_db185_row3_col4\" class=\"data row3 col4\" >2</td>\n",
              "    </tr>\n",
              "    <tr>\n",
              "      <td id=\"T_db185_row4_col0\" class=\"data row4 col0\" >60</td>\n",
              "      <td id=\"T_db185_row4_col1\" class=\"data row4 col1\" >Research</td>\n",
              "      <td id=\"T_db185_row4_col2\" class=\"data row4 col2\" >546224</td>\n",
              "      <td id=\"T_db185_row4_col3\" class=\"data row4 col3\" >Delhi</td>\n",
              "      <td id=\"T_db185_row4_col4\" class=\"data row4 col4\" >3</td>\n",
              "    </tr>\n",
              "  </tbody>\n",
              "</table>\n"
            ]
          },
          "metadata": {},
          "execution_count": 87
        }
      ]
    },
    {
      "cell_type": "code",
      "source": [
        "runCmd(\"insert into Dept (DeptID, DeptName, ManagerID, Location,LocationID) VALUES \\\n",
        "\t('12', 'Corporate2', '29903A', 'Calcutta','1'), \\\n",
        "\t('13', 'Corporate2', '29903A', 'Calcutta','1'), \\\n",
        "\t('14', 'Corporate2', '29903A', 'Calcutta','1') \\\n",
        "\t\")\n",
        "runSelect(\"select * from dept\")"
      ],
      "metadata": {
        "id": "iyW0EobdDuMY",
        "outputId": "8e94a737-e700-448c-ddc8-270f9ac2a565",
        "colab": {
          "base_uri": "https://localhost:8080/",
          "height": 318
        }
      },
      "execution_count": 88,
      "outputs": [
        {
          "output_type": "stream",
          "name": "stdout",
          "text": [
            "Command executed\n"
          ]
        },
        {
          "output_type": "execute_result",
          "data": {
            "text/plain": [
              "<pandas.io.formats.style.Styler at 0x79b372530210>"
            ],
            "text/html": [
              "<style type=\"text/css\">\n",
              "</style>\n",
              "<table id=\"T_c3bee\" class=\"dataframe\">\n",
              "  <thead>\n",
              "    <tr>\n",
              "      <th id=\"T_c3bee_level0_col0\" class=\"col_heading level0 col0\" >deptid</th>\n",
              "      <th id=\"T_c3bee_level0_col1\" class=\"col_heading level0 col1\" >deptname</th>\n",
              "      <th id=\"T_c3bee_level0_col2\" class=\"col_heading level0 col2\" >managerid</th>\n",
              "      <th id=\"T_c3bee_level0_col3\" class=\"col_heading level0 col3\" >location</th>\n",
              "      <th id=\"T_c3bee_level0_col4\" class=\"col_heading level0 col4\" >locationid</th>\n",
              "    </tr>\n",
              "  </thead>\n",
              "  <tbody>\n",
              "    <tr>\n",
              "      <td id=\"T_c3bee_row0_col0\" class=\"data row0 col0\" >10</td>\n",
              "      <td id=\"T_c3bee_row0_col1\" class=\"data row0 col1\" >Corporate</td>\n",
              "      <td id=\"T_c3bee_row0_col2\" class=\"data row0 col2\" >299034</td>\n",
              "      <td id=\"T_c3bee_row0_col3\" class=\"data row0 col3\" >Calcutta</td>\n",
              "      <td id=\"T_c3bee_row0_col4\" class=\"data row0 col4\" >1</td>\n",
              "    </tr>\n",
              "    <tr>\n",
              "      <td id=\"T_c3bee_row1_col0\" class=\"data row1 col0\" >20</td>\n",
              "      <td id=\"T_c3bee_row1_col1\" class=\"data row1 col1\" >Sales</td>\n",
              "      <td id=\"T_c3bee_row1_col2\" class=\"data row1 col2\" >239456</td>\n",
              "      <td id=\"T_c3bee_row1_col3\" class=\"data row1 col3\" >Calcutta</td>\n",
              "      <td id=\"T_c3bee_row1_col4\" class=\"data row1 col4\" >1</td>\n",
              "    </tr>\n",
              "    <tr>\n",
              "      <td id=\"T_c3bee_row2_col0\" class=\"data row2 col0\" >30</td>\n",
              "      <td id=\"T_c3bee_row2_col1\" class=\"data row2 col1\" >Accounts</td>\n",
              "      <td id=\"T_c3bee_row2_col2\" class=\"data row2 col2\" >822134</td>\n",
              "      <td id=\"T_c3bee_row2_col3\" class=\"data row2 col3\" >Calcutta</td>\n",
              "      <td id=\"T_c3bee_row2_col4\" class=\"data row2 col4\" >1</td>\n",
              "    </tr>\n",
              "    <tr>\n",
              "      <td id=\"T_c3bee_row3_col0\" class=\"data row3 col0\" >40</td>\n",
              "      <td id=\"T_c3bee_row3_col1\" class=\"data row3 col1\" >Production</td>\n",
              "      <td id=\"T_c3bee_row3_col2\" class=\"data row3 col2\" >349870</td>\n",
              "      <td id=\"T_c3bee_row3_col3\" class=\"data row3 col3\" >Bombay</td>\n",
              "      <td id=\"T_c3bee_row3_col4\" class=\"data row3 col4\" >2</td>\n",
              "    </tr>\n",
              "    <tr>\n",
              "      <td id=\"T_c3bee_row4_col0\" class=\"data row4 col0\" >60</td>\n",
              "      <td id=\"T_c3bee_row4_col1\" class=\"data row4 col1\" >Research</td>\n",
              "      <td id=\"T_c3bee_row4_col2\" class=\"data row4 col2\" >546224</td>\n",
              "      <td id=\"T_c3bee_row4_col3\" class=\"data row4 col3\" >Delhi</td>\n",
              "      <td id=\"T_c3bee_row4_col4\" class=\"data row4 col4\" >3</td>\n",
              "    </tr>\n",
              "    <tr>\n",
              "      <td id=\"T_c3bee_row5_col0\" class=\"data row5 col0\" >12</td>\n",
              "      <td id=\"T_c3bee_row5_col1\" class=\"data row5 col1\" >Corporate2</td>\n",
              "      <td id=\"T_c3bee_row5_col2\" class=\"data row5 col2\" >29903A</td>\n",
              "      <td id=\"T_c3bee_row5_col3\" class=\"data row5 col3\" >Calcutta</td>\n",
              "      <td id=\"T_c3bee_row5_col4\" class=\"data row5 col4\" >1</td>\n",
              "    </tr>\n",
              "    <tr>\n",
              "      <td id=\"T_c3bee_row6_col0\" class=\"data row6 col0\" >13</td>\n",
              "      <td id=\"T_c3bee_row6_col1\" class=\"data row6 col1\" >Corporate2</td>\n",
              "      <td id=\"T_c3bee_row6_col2\" class=\"data row6 col2\" >29903A</td>\n",
              "      <td id=\"T_c3bee_row6_col3\" class=\"data row6 col3\" >Calcutta</td>\n",
              "      <td id=\"T_c3bee_row6_col4\" class=\"data row6 col4\" >1</td>\n",
              "    </tr>\n",
              "    <tr>\n",
              "      <td id=\"T_c3bee_row7_col0\" class=\"data row7 col0\" >14</td>\n",
              "      <td id=\"T_c3bee_row7_col1\" class=\"data row7 col1\" >Corporate2</td>\n",
              "      <td id=\"T_c3bee_row7_col2\" class=\"data row7 col2\" >29903A</td>\n",
              "      <td id=\"T_c3bee_row7_col3\" class=\"data row7 col3\" >Calcutta</td>\n",
              "      <td id=\"T_c3bee_row7_col4\" class=\"data row7 col4\" >1</td>\n",
              "    </tr>\n",
              "  </tbody>\n",
              "</table>\n"
            ]
          },
          "metadata": {},
          "execution_count": 88
        }
      ]
    },
    {
      "cell_type": "code",
      "source": [
        "runCmd(\"update dept set deptname = 'Marketing' where managerid = '29903A'\")\n",
        "runSelect(\"select * from dept\")"
      ],
      "metadata": {
        "id": "DqdnmD2pEQNq",
        "outputId": "082dc4b0-9645-424e-b80d-ef1dc595fde5",
        "colab": {
          "base_uri": "https://localhost:8080/",
          "height": 318
        }
      },
      "execution_count": 89,
      "outputs": [
        {
          "output_type": "stream",
          "name": "stdout",
          "text": [
            "Command executed\n"
          ]
        },
        {
          "output_type": "execute_result",
          "data": {
            "text/plain": [
              "<pandas.io.formats.style.Styler at 0x79b372540ed0>"
            ],
            "text/html": [
              "<style type=\"text/css\">\n",
              "</style>\n",
              "<table id=\"T_1dc1d\" class=\"dataframe\">\n",
              "  <thead>\n",
              "    <tr>\n",
              "      <th id=\"T_1dc1d_level0_col0\" class=\"col_heading level0 col0\" >deptid</th>\n",
              "      <th id=\"T_1dc1d_level0_col1\" class=\"col_heading level0 col1\" >deptname</th>\n",
              "      <th id=\"T_1dc1d_level0_col2\" class=\"col_heading level0 col2\" >managerid</th>\n",
              "      <th id=\"T_1dc1d_level0_col3\" class=\"col_heading level0 col3\" >location</th>\n",
              "      <th id=\"T_1dc1d_level0_col4\" class=\"col_heading level0 col4\" >locationid</th>\n",
              "    </tr>\n",
              "  </thead>\n",
              "  <tbody>\n",
              "    <tr>\n",
              "      <td id=\"T_1dc1d_row0_col0\" class=\"data row0 col0\" >10</td>\n",
              "      <td id=\"T_1dc1d_row0_col1\" class=\"data row0 col1\" >Corporate</td>\n",
              "      <td id=\"T_1dc1d_row0_col2\" class=\"data row0 col2\" >299034</td>\n",
              "      <td id=\"T_1dc1d_row0_col3\" class=\"data row0 col3\" >Calcutta</td>\n",
              "      <td id=\"T_1dc1d_row0_col4\" class=\"data row0 col4\" >1</td>\n",
              "    </tr>\n",
              "    <tr>\n",
              "      <td id=\"T_1dc1d_row1_col0\" class=\"data row1 col0\" >20</td>\n",
              "      <td id=\"T_1dc1d_row1_col1\" class=\"data row1 col1\" >Sales</td>\n",
              "      <td id=\"T_1dc1d_row1_col2\" class=\"data row1 col2\" >239456</td>\n",
              "      <td id=\"T_1dc1d_row1_col3\" class=\"data row1 col3\" >Calcutta</td>\n",
              "      <td id=\"T_1dc1d_row1_col4\" class=\"data row1 col4\" >1</td>\n",
              "    </tr>\n",
              "    <tr>\n",
              "      <td id=\"T_1dc1d_row2_col0\" class=\"data row2 col0\" >30</td>\n",
              "      <td id=\"T_1dc1d_row2_col1\" class=\"data row2 col1\" >Accounts</td>\n",
              "      <td id=\"T_1dc1d_row2_col2\" class=\"data row2 col2\" >822134</td>\n",
              "      <td id=\"T_1dc1d_row2_col3\" class=\"data row2 col3\" >Calcutta</td>\n",
              "      <td id=\"T_1dc1d_row2_col4\" class=\"data row2 col4\" >1</td>\n",
              "    </tr>\n",
              "    <tr>\n",
              "      <td id=\"T_1dc1d_row3_col0\" class=\"data row3 col0\" >40</td>\n",
              "      <td id=\"T_1dc1d_row3_col1\" class=\"data row3 col1\" >Production</td>\n",
              "      <td id=\"T_1dc1d_row3_col2\" class=\"data row3 col2\" >349870</td>\n",
              "      <td id=\"T_1dc1d_row3_col3\" class=\"data row3 col3\" >Bombay</td>\n",
              "      <td id=\"T_1dc1d_row3_col4\" class=\"data row3 col4\" >2</td>\n",
              "    </tr>\n",
              "    <tr>\n",
              "      <td id=\"T_1dc1d_row4_col0\" class=\"data row4 col0\" >60</td>\n",
              "      <td id=\"T_1dc1d_row4_col1\" class=\"data row4 col1\" >Research</td>\n",
              "      <td id=\"T_1dc1d_row4_col2\" class=\"data row4 col2\" >546224</td>\n",
              "      <td id=\"T_1dc1d_row4_col3\" class=\"data row4 col3\" >Delhi</td>\n",
              "      <td id=\"T_1dc1d_row4_col4\" class=\"data row4 col4\" >3</td>\n",
              "    </tr>\n",
              "    <tr>\n",
              "      <td id=\"T_1dc1d_row5_col0\" class=\"data row5 col0\" >12</td>\n",
              "      <td id=\"T_1dc1d_row5_col1\" class=\"data row5 col1\" >Marketing</td>\n",
              "      <td id=\"T_1dc1d_row5_col2\" class=\"data row5 col2\" >29903A</td>\n",
              "      <td id=\"T_1dc1d_row5_col3\" class=\"data row5 col3\" >Calcutta</td>\n",
              "      <td id=\"T_1dc1d_row5_col4\" class=\"data row5 col4\" >1</td>\n",
              "    </tr>\n",
              "    <tr>\n",
              "      <td id=\"T_1dc1d_row6_col0\" class=\"data row6 col0\" >13</td>\n",
              "      <td id=\"T_1dc1d_row6_col1\" class=\"data row6 col1\" >Marketing</td>\n",
              "      <td id=\"T_1dc1d_row6_col2\" class=\"data row6 col2\" >29903A</td>\n",
              "      <td id=\"T_1dc1d_row6_col3\" class=\"data row6 col3\" >Calcutta</td>\n",
              "      <td id=\"T_1dc1d_row6_col4\" class=\"data row6 col4\" >1</td>\n",
              "    </tr>\n",
              "    <tr>\n",
              "      <td id=\"T_1dc1d_row7_col0\" class=\"data row7 col0\" >14</td>\n",
              "      <td id=\"T_1dc1d_row7_col1\" class=\"data row7 col1\" >Marketing</td>\n",
              "      <td id=\"T_1dc1d_row7_col2\" class=\"data row7 col2\" >29903A</td>\n",
              "      <td id=\"T_1dc1d_row7_col3\" class=\"data row7 col3\" >Calcutta</td>\n",
              "      <td id=\"T_1dc1d_row7_col4\" class=\"data row7 col4\" >1</td>\n",
              "    </tr>\n",
              "  </tbody>\n",
              "</table>\n"
            ]
          },
          "metadata": {},
          "execution_count": 89
        }
      ]
    },
    {
      "cell_type": "code",
      "source": [
        "runCmd(\"delete from dept where managerid = '29903A'\")\n",
        "runSelect(\"select * from dept\")"
      ],
      "metadata": {
        "id": "nsnJnNrEF6iS",
        "outputId": "faddf2e4-8489-41d6-eea1-8bf23db92215",
        "colab": {
          "base_uri": "https://localhost:8080/",
          "height": 224
        }
      },
      "execution_count": 90,
      "outputs": [
        {
          "output_type": "stream",
          "name": "stdout",
          "text": [
            "Command executed\n"
          ]
        },
        {
          "output_type": "execute_result",
          "data": {
            "text/plain": [
              "<pandas.io.formats.style.Styler at 0x79b372543910>"
            ],
            "text/html": [
              "<style type=\"text/css\">\n",
              "</style>\n",
              "<table id=\"T_f230a\" class=\"dataframe\">\n",
              "  <thead>\n",
              "    <tr>\n",
              "      <th id=\"T_f230a_level0_col0\" class=\"col_heading level0 col0\" >deptid</th>\n",
              "      <th id=\"T_f230a_level0_col1\" class=\"col_heading level0 col1\" >deptname</th>\n",
              "      <th id=\"T_f230a_level0_col2\" class=\"col_heading level0 col2\" >managerid</th>\n",
              "      <th id=\"T_f230a_level0_col3\" class=\"col_heading level0 col3\" >location</th>\n",
              "      <th id=\"T_f230a_level0_col4\" class=\"col_heading level0 col4\" >locationid</th>\n",
              "    </tr>\n",
              "  </thead>\n",
              "  <tbody>\n",
              "    <tr>\n",
              "      <td id=\"T_f230a_row0_col0\" class=\"data row0 col0\" >10</td>\n",
              "      <td id=\"T_f230a_row0_col1\" class=\"data row0 col1\" >Corporate</td>\n",
              "      <td id=\"T_f230a_row0_col2\" class=\"data row0 col2\" >299034</td>\n",
              "      <td id=\"T_f230a_row0_col3\" class=\"data row0 col3\" >Calcutta</td>\n",
              "      <td id=\"T_f230a_row0_col4\" class=\"data row0 col4\" >1</td>\n",
              "    </tr>\n",
              "    <tr>\n",
              "      <td id=\"T_f230a_row1_col0\" class=\"data row1 col0\" >20</td>\n",
              "      <td id=\"T_f230a_row1_col1\" class=\"data row1 col1\" >Sales</td>\n",
              "      <td id=\"T_f230a_row1_col2\" class=\"data row1 col2\" >239456</td>\n",
              "      <td id=\"T_f230a_row1_col3\" class=\"data row1 col3\" >Calcutta</td>\n",
              "      <td id=\"T_f230a_row1_col4\" class=\"data row1 col4\" >1</td>\n",
              "    </tr>\n",
              "    <tr>\n",
              "      <td id=\"T_f230a_row2_col0\" class=\"data row2 col0\" >30</td>\n",
              "      <td id=\"T_f230a_row2_col1\" class=\"data row2 col1\" >Accounts</td>\n",
              "      <td id=\"T_f230a_row2_col2\" class=\"data row2 col2\" >822134</td>\n",
              "      <td id=\"T_f230a_row2_col3\" class=\"data row2 col3\" >Calcutta</td>\n",
              "      <td id=\"T_f230a_row2_col4\" class=\"data row2 col4\" >1</td>\n",
              "    </tr>\n",
              "    <tr>\n",
              "      <td id=\"T_f230a_row3_col0\" class=\"data row3 col0\" >40</td>\n",
              "      <td id=\"T_f230a_row3_col1\" class=\"data row3 col1\" >Production</td>\n",
              "      <td id=\"T_f230a_row3_col2\" class=\"data row3 col2\" >349870</td>\n",
              "      <td id=\"T_f230a_row3_col3\" class=\"data row3 col3\" >Bombay</td>\n",
              "      <td id=\"T_f230a_row3_col4\" class=\"data row3 col4\" >2</td>\n",
              "    </tr>\n",
              "    <tr>\n",
              "      <td id=\"T_f230a_row4_col0\" class=\"data row4 col0\" >60</td>\n",
              "      <td id=\"T_f230a_row4_col1\" class=\"data row4 col1\" >Research</td>\n",
              "      <td id=\"T_f230a_row4_col2\" class=\"data row4 col2\" >546224</td>\n",
              "      <td id=\"T_f230a_row4_col3\" class=\"data row4 col3\" >Delhi</td>\n",
              "      <td id=\"T_f230a_row4_col4\" class=\"data row4 col4\" >3</td>\n",
              "    </tr>\n",
              "  </tbody>\n",
              "</table>\n"
            ]
          },
          "metadata": {},
          "execution_count": 90
        }
      ]
    },
    {
      "cell_type": "code",
      "source": [
        "from datetime import datetime\n",
        "import pytz\n",
        "print('Last tested  ',datetime.now(pytz.timezone('Asia/Kolkata')))"
      ],
      "metadata": {
        "colab": {
          "base_uri": "https://localhost:8080/"
        },
        "id": "wjBXJVhM605H",
        "outputId": "bbd4f2dc-01d7-4be4-80a3-1f6560373f17"
      },
      "execution_count": 91,
      "outputs": [
        {
          "output_type": "stream",
          "name": "stdout",
          "text": [
            "Last tested   2025-08-14 05:42:35.621058+05:30\n"
          ]
        }
      ]
    },
    {
      "cell_type": "markdown",
      "source": [
        "#ChronoTYM <br>\n",
        "In Indic phraseology, tantra is knowledge, a yantra is a device to explore this knowledge and a mantra is the code that unlocks both the tantra and its yantra. Chrono/TYM a sci-fi trilogy that recreates this framework where the first novel Chronotantra defines the contours of a tech driven, futuristic society, the second, Chronoyantra, describes a device used to explore the genesis of this society, while the third, Chronomantra finally reveals the code, the key, that unlocks this puzzle.  [More information](http://bit.ly/chronobooks) <br>\n",
        "![alt text](https://blogger.googleusercontent.com/img/b/R29vZ2xl/AVvXsEjdu_ajYwBRzk5iFYlcs59ZoRMMg6rhNm4JERKspvFJoveJsnfwRlzMICiC37UOja_Bd4sbfLA1pyyBbe0mj3tUfDBXoqCzNUDw3Wux7acoJBaLkWjAvJXfa7drRY2GQRAlFxEY9O7a7raY4RKy7cA3Uxgf5QsaZQ99C9GfXxFSex_rke8ROhAn41t8zOqK/s1640/tymBanner01_3.png)"
      ],
      "metadata": {
        "id": "_gNiZpyW3AzJ"
      }
    }
  ]
}